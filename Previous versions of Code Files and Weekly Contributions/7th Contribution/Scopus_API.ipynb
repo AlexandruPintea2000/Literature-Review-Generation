{
  "cells": [
    {
      "cell_type": "code",
      "source": [
        "from google.colab import drive\n",
        "drive.mount('/content/drive', force_remount=True)"
      ],
      "metadata": {
        "colab": {
          "base_uri": "https://localhost:8080/"
        },
        "id": "hrkdjm9jfmpg",
        "outputId": "0370ce62-cd1f-4249-a58f-5656cc715331"
      },
      "execution_count": null,
      "outputs": [
        {
          "output_type": "stream",
          "name": "stdout",
          "text": [
            "Mounted at /content/drive\n"
          ]
        }
      ]
    },
    {
      "cell_type": "code",
      "execution_count": null,
      "metadata": {
        "id": "_pnucRjP4BmQ",
        "colab": {
          "base_uri": "https://localhost:8080/"
        },
        "outputId": "0fbcfb12-5099-4052-e03f-12dac6758fb3"
      },
      "outputs": [
        {
          "output_type": "stream",
          "name": "stdout",
          "text": [
            "Collecting demjson3\n",
            "  Downloading demjson3-3.0.6.tar.gz (131 kB)\n",
            "\u001b[?25l     \u001b[90m━━━━━━━━━━━━━━━━━━━━━━━━━━━━━━━━━━━━━━━━\u001b[0m \u001b[32m0.0/131.5 kB\u001b[0m \u001b[31m?\u001b[0m eta \u001b[36m-:--:--\u001b[0m\r\u001b[2K     \u001b[91m━━━━━━━━━━━━━━━━━━━━━━━━━━━━━━━━━━━━━\u001b[0m\u001b[90m╺\u001b[0m\u001b[90m━━\u001b[0m \u001b[32m122.9/131.5 kB\u001b[0m \u001b[31m4.2 MB/s\u001b[0m eta \u001b[36m0:00:01\u001b[0m\r\u001b[2K     \u001b[90m━━━━━━━━━━━━━━━━━━━━━━━━━━━━━━━━━━━━━━━━\u001b[0m \u001b[32m131.5/131.5 kB\u001b[0m \u001b[31m2.9 MB/s\u001b[0m eta \u001b[36m0:00:00\u001b[0m\n",
            "\u001b[?25h  Preparing metadata (setup.py) ... \u001b[?25l\u001b[?25hdone\n",
            "Building wheels for collected packages: demjson3\n",
            "  Building wheel for demjson3 (setup.py) ... \u001b[?25l\u001b[?25hdone\n",
            "  Created wheel for demjson3: filename=demjson3-3.0.6-py3-none-any.whl size=75281 sha256=cd255409c75b4c04d23cdc0aa3cbb18392819e962bd27420ebe0caeb13d22d79\n",
            "  Stored in directory: /root/.cache/pip/wheels/3b/9d/d5/e8cbb4d529989f6d3f347fe914559ea4f66715bf299763af1c\n",
            "Successfully built demjson3\n",
            "Installing collected packages: demjson3\n",
            "Successfully installed demjson3-3.0.6\n"
          ]
        }
      ],
      "source": [
        "import pandas as pd\n",
        "df = pd.read_csv(\"/content/drive/MyDrive/checkpoint_12_df.csv\")\n",
        "df = df.astype(str)\n",
        "import requests\n",
        "import re\n",
        "import json\n",
        "import time\n",
        "import datetime\n",
        "from IPython.display import clear_output\n",
        "!pip install demjson3\n",
        "from demjson3 import decode"
      ]
    },
    {
      "cell_type": "code",
      "source": [
        "df[\"pmid\"]"
      ],
      "metadata": {
        "colab": {
          "base_uri": "https://localhost:8080/",
          "height": 458
        },
        "id": "gNXL65FRo8qe",
        "outputId": "332526f8-47e9-42b1-89fa-9a4815f99686"
      },
      "execution_count": null,
      "outputs": [
        {
          "output_type": "execute_result",
          "data": {
            "text/plain": [
              "0        22815718\n",
              "1        27286562\n",
              "2        22381459\n",
              "3        21396219\n",
              "4        24167451\n",
              "           ...   \n",
              "26801    16302942\n",
              "26802     9855106\n",
              "26803    22004635\n",
              "26804    17126784\n",
              "26805    21535973\n",
              "Name: pmid, Length: 26806, dtype: object"
            ],
            "text/html": [
              "<div>\n",
              "<style scoped>\n",
              "    .dataframe tbody tr th:only-of-type {\n",
              "        vertical-align: middle;\n",
              "    }\n",
              "\n",
              "    .dataframe tbody tr th {\n",
              "        vertical-align: top;\n",
              "    }\n",
              "\n",
              "    .dataframe thead th {\n",
              "        text-align: right;\n",
              "    }\n",
              "</style>\n",
              "<table border=\"1\" class=\"dataframe\">\n",
              "  <thead>\n",
              "    <tr style=\"text-align: right;\">\n",
              "      <th></th>\n",
              "      <th>pmid</th>\n",
              "    </tr>\n",
              "  </thead>\n",
              "  <tbody>\n",
              "    <tr>\n",
              "      <th>0</th>\n",
              "      <td>22815718</td>\n",
              "    </tr>\n",
              "    <tr>\n",
              "      <th>1</th>\n",
              "      <td>27286562</td>\n",
              "    </tr>\n",
              "    <tr>\n",
              "      <th>2</th>\n",
              "      <td>22381459</td>\n",
              "    </tr>\n",
              "    <tr>\n",
              "      <th>3</th>\n",
              "      <td>21396219</td>\n",
              "    </tr>\n",
              "    <tr>\n",
              "      <th>4</th>\n",
              "      <td>24167451</td>\n",
              "    </tr>\n",
              "    <tr>\n",
              "      <th>...</th>\n",
              "      <td>...</td>\n",
              "    </tr>\n",
              "    <tr>\n",
              "      <th>26801</th>\n",
              "      <td>16302942</td>\n",
              "    </tr>\n",
              "    <tr>\n",
              "      <th>26802</th>\n",
              "      <td>9855106</td>\n",
              "    </tr>\n",
              "    <tr>\n",
              "      <th>26803</th>\n",
              "      <td>22004635</td>\n",
              "    </tr>\n",
              "    <tr>\n",
              "      <th>26804</th>\n",
              "      <td>17126784</td>\n",
              "    </tr>\n",
              "    <tr>\n",
              "      <th>26805</th>\n",
              "      <td>21535973</td>\n",
              "    </tr>\n",
              "  </tbody>\n",
              "</table>\n",
              "<p>26806 rows × 1 columns</p>\n",
              "</div><br><label><b>dtype:</b> object</label>"
            ]
          },
          "metadata": {},
          "execution_count": 12
        }
      ]
    },
    {
      "cell_type": "code",
      "source": [
        "df[\"doi\"].describe()"
      ],
      "metadata": {
        "colab": {
          "base_uri": "https://localhost:8080/",
          "height": 209
        },
        "id": "bqVDz4u26qW4",
        "outputId": "17b136c6-9c97-4e3b-fa6a-fd5df77f0f4c"
      },
      "execution_count": null,
      "outputs": [
        {
          "output_type": "execute_result",
          "data": {
            "text/plain": [
              "count     26806\n",
              "unique    21579\n",
              "top         nan\n",
              "freq       5228\n",
              "Name: doi, dtype: object"
            ],
            "text/html": [
              "<div>\n",
              "<style scoped>\n",
              "    .dataframe tbody tr th:only-of-type {\n",
              "        vertical-align: middle;\n",
              "    }\n",
              "\n",
              "    .dataframe tbody tr th {\n",
              "        vertical-align: top;\n",
              "    }\n",
              "\n",
              "    .dataframe thead th {\n",
              "        text-align: right;\n",
              "    }\n",
              "</style>\n",
              "<table border=\"1\" class=\"dataframe\">\n",
              "  <thead>\n",
              "    <tr style=\"text-align: right;\">\n",
              "      <th></th>\n",
              "      <th>doi</th>\n",
              "    </tr>\n",
              "  </thead>\n",
              "  <tbody>\n",
              "    <tr>\n",
              "      <th>count</th>\n",
              "      <td>26806</td>\n",
              "    </tr>\n",
              "    <tr>\n",
              "      <th>unique</th>\n",
              "      <td>21579</td>\n",
              "    </tr>\n",
              "    <tr>\n",
              "      <th>top</th>\n",
              "      <td>nan</td>\n",
              "    </tr>\n",
              "    <tr>\n",
              "      <th>freq</th>\n",
              "      <td>5228</td>\n",
              "    </tr>\n",
              "  </tbody>\n",
              "</table>\n",
              "</div><br><label><b>dtype:</b> object</label>"
            ]
          },
          "metadata": {},
          "execution_count": 6
        }
      ]
    },
    {
      "cell_type": "code",
      "source": [
        "# https://www.crossref.org/blog/using-the-crossref-rest-api.-part-12-with-europe-pmc/ - this though PMC? anyways, I dont have PMCs for all, and they are not available on OpenAlex for all of em, so might as well use DOI cause those are available on OpenAlex as long as the article is there (and its the largest database, so yeah ... only chance at that)\n",
        "length = len(df.loc[(df[\"doi\"] == \"nan\") & (df[\"references\"] == \"[]\")])\n",
        "iter = 0\n",
        "def get_doi_of_nan(row):\n",
        "  print(\".\", end=\"\")\n",
        "  if ( str(row[\"doi\"]) != \"nan\" ):\n",
        "    return row[\"doi\"]\n",
        "\n",
        "  if ( row[\"references\"] != \"[]\" ):\n",
        "    return row[\"doi\"]\n",
        "\n",
        "  global iter\n",
        "  global length\n",
        "  iter = iter + 1\n",
        "\n",
        "  try:\n",
        "    response = requests.get(f'https://api.openalex.org/works/pmid:{row[\"pmid\"]}')\n",
        "    decoded_json = decode(response.text)\n",
        "    clear_output(wait=True)\n",
        "    print(f'{iter}/{length} DONE PMID = {row[\"pmid\"]},\\tDOI = ', end=\"\")\n",
        "  except:\n",
        "    print(\"nan - (DOI not found on OpenAlex)\")\n",
        "    return \"nan\"\n",
        "\n",
        "  if ( decoded_json[\"doi\"] == None ):\n",
        "    print(\"nan - (DOI not found on OpenAlex)\")\n",
        "    return \"nan\"\n",
        "\n",
        "  result = decoded_json[\"doi\"].replace(\"https://doi.org/\", \"\")\n",
        "  print(result)\n",
        "  return result\n",
        "\n",
        "df[\"doi\"] = df.apply( get_doi_of_nan, axis=1 )"
      ],
      "metadata": {
        "colab": {
          "base_uri": "https://localhost:8080/"
        },
        "id": "xIvw71AeoqNo",
        "outputId": "e5dd2393-63c6-480b-f9d0-04ce1f17f7cb"
      },
      "execution_count": null,
      "outputs": [
        {
          "output_type": "stream",
          "name": "stdout",
          "text": [
            "4220/4220 DONE PMID = 21535973,\tDOI = nan - (DOI not found on OpenAlex)\n"
          ]
        }
      ]
    },
    {
      "cell_type": "code",
      "source": [
        "df[\"doi\"].describe()"
      ],
      "metadata": {
        "colab": {
          "base_uri": "https://localhost:8080/",
          "height": 209
        },
        "id": "ckT7yEQLBVT7",
        "outputId": "7cf9553e-7ef6-4d72-97fd-93b1df3ebdc6"
      },
      "execution_count": null,
      "outputs": [
        {
          "output_type": "execute_result",
          "data": {
            "text/plain": [
              "count                            21319\n",
              "unique                           21319\n",
              "top       10.1371/journal.pone.0039966\n",
              "freq                                 1\n",
              "Name: doi, dtype: object"
            ],
            "text/html": [
              "<div>\n",
              "<style scoped>\n",
              "    .dataframe tbody tr th:only-of-type {\n",
              "        vertical-align: middle;\n",
              "    }\n",
              "\n",
              "    .dataframe tbody tr th {\n",
              "        vertical-align: top;\n",
              "    }\n",
              "\n",
              "    .dataframe thead th {\n",
              "        text-align: right;\n",
              "    }\n",
              "</style>\n",
              "<table border=\"1\" class=\"dataframe\">\n",
              "  <thead>\n",
              "    <tr style=\"text-align: right;\">\n",
              "      <th></th>\n",
              "      <th>doi</th>\n",
              "    </tr>\n",
              "  </thead>\n",
              "  <tbody>\n",
              "    <tr>\n",
              "      <th>count</th>\n",
              "      <td>21319</td>\n",
              "    </tr>\n",
              "    <tr>\n",
              "      <th>unique</th>\n",
              "      <td>21319</td>\n",
              "    </tr>\n",
              "    <tr>\n",
              "      <th>top</th>\n",
              "      <td>10.1371/journal.pone.0039966</td>\n",
              "    </tr>\n",
              "    <tr>\n",
              "      <th>freq</th>\n",
              "      <td>1</td>\n",
              "    </tr>\n",
              "  </tbody>\n",
              "</table>\n",
              "</div><br><label><b>dtype:</b> object</label>"
            ]
          },
          "metadata": {},
          "execution_count": 3
        }
      ]
    },
    {
      "cell_type": "code",
      "source": [
        "# def change_row(row):\n",
        "#   if ( str(row[\"doi\"]) == \"[]\" ):\n",
        "#     return \"nan\"\n",
        "\n",
        "# df[\"doi\"] = df.apply( change_row, axis=1 )"
      ],
      "metadata": {
        "id": "MUFEOaK8_TDb"
      },
      "execution_count": null,
      "outputs": []
    },
    {
      "cell_type": "code",
      "source": [
        "df = df.astype(str)\n",
        "df.to_csv(\"/content/drive/MyDrive/checkpoint_9_df.csv\", encoding='utf-8', index=False)"
      ],
      "metadata": {
        "id": "oSEaIiE_6FJZ"
      },
      "execution_count": null,
      "outputs": []
    },
    {
      "cell_type": "code",
      "source": [
        "df = pd.read_csv(\"/content/drive/MyDrive/checkpoint_9_df.csv\")\n",
        "df = df.astype(str)\n",
        "df[\"doi\"].describe()"
      ],
      "metadata": {
        "colab": {
          "base_uri": "https://localhost:8080/",
          "height": 209
        },
        "id": "-iMHB9Q4-U9h",
        "outputId": "f1caf963-881c-485f-afcb-cf40e7bc4580"
      },
      "execution_count": null,
      "outputs": [
        {
          "output_type": "execute_result",
          "data": {
            "text/plain": [
              "count     26806\n",
              "unique    21579\n",
              "top         nan\n",
              "freq       5228\n",
              "Name: doi, dtype: object"
            ],
            "text/html": [
              "<div>\n",
              "<style scoped>\n",
              "    .dataframe tbody tr th:only-of-type {\n",
              "        vertical-align: middle;\n",
              "    }\n",
              "\n",
              "    .dataframe tbody tr th {\n",
              "        vertical-align: top;\n",
              "    }\n",
              "\n",
              "    .dataframe thead th {\n",
              "        text-align: right;\n",
              "    }\n",
              "</style>\n",
              "<table border=\"1\" class=\"dataframe\">\n",
              "  <thead>\n",
              "    <tr style=\"text-align: right;\">\n",
              "      <th></th>\n",
              "      <th>doi</th>\n",
              "    </tr>\n",
              "  </thead>\n",
              "  <tbody>\n",
              "    <tr>\n",
              "      <th>count</th>\n",
              "      <td>26806</td>\n",
              "    </tr>\n",
              "    <tr>\n",
              "      <th>unique</th>\n",
              "      <td>21579</td>\n",
              "    </tr>\n",
              "    <tr>\n",
              "      <th>top</th>\n",
              "      <td>nan</td>\n",
              "    </tr>\n",
              "    <tr>\n",
              "      <th>freq</th>\n",
              "      <td>5228</td>\n",
              "    </tr>\n",
              "  </tbody>\n",
              "</table>\n",
              "</div><br><label><b>dtype:</b> object</label>"
            ]
          },
          "metadata": {},
          "execution_count": 2
        }
      ]
    },
    {
      "cell_type": "code",
      "execution_count": null,
      "metadata": {
        "id": "1fqOGLfb-f6z"
      },
      "outputs": [],
      "source": [
        "import requests\n",
        "import xml.etree.ElementTree as ET\n",
        "import re\n",
        "import datetime\n",
        "from IPython.display import clear_output\n",
        "\n",
        "# http://journals.plos.org/plosone/article/file?id=10.1371/journal.pone.0039966&type=manuscript\n",
        "# https://api.crossref.org/works/10.1371/journal.pone.0032774.xml\n",
        "\n",
        "def innertext(elt):\n",
        "    return (elt.text or '') +' '.join(innertext(e)+(e.tail or '') for e in elt)\n",
        "\n",
        "length=df.shape[0]\n",
        "iter=0\n",
        "avg_time_taken=0\n",
        "remaining_hours=0\n",
        "remaining_minutes=0\n",
        "remaining_seconds=0\n",
        "def citations(paper_doi):\n",
        "  start = datetime.datetime.now()\n",
        "  global iter\n",
        "  global length\n",
        "  global avg_time_taken\n",
        "  global remaining_hours\n",
        "  global remaining_minutes\n",
        "  global remaining_seconds\n",
        "  iter=iter+1\n",
        "  # response = requests.get(f'http://journals.plos.org/plosone/article/file?id={paper_doi}&type=manuscript') # functions, but PLOS has almost none of the articles we have ...\n",
        "  response = requests.get(f'https://api.crossref.org/works/{paper_doi}.xml')\n",
        "  clear_output(wait=True)\n",
        "  print( f'{iter}/{length}\\t{paper_doi} - status: {response.status_code}' )\n",
        "  if ( response.status_code != 200 ):\n",
        "    return \"[]\"\n",
        "  xml_tree = ET.ElementTree(ET.fromstring(response.text))\n",
        "  refs = xml_tree.findall(\".//{*}citation\")\n",
        "  ref_texts=[]\n",
        "  for ref in refs:\n",
        "    ref_text = ' '.join(innertext(ref).split())\n",
        "    # print( ref.find(\".//comment\") ) # some have DOI of article\n",
        "    if ( ref_text == \"\" ):\n",
        "      continue\n",
        "    ref_texts.append(ref_text)\n",
        "  ref_texts = json.dumps(ref_texts)\n",
        "\n",
        "  # print( ref_texts )\n",
        "  end = datetime.datetime.now()\n",
        "  time_length = end - start\n",
        "  time_length = int(time_length.total_seconds() * 1000) / 1000\n",
        "  avg_time_taken = (avg_time_taken * (iter-1) + time_length) / iter\n",
        "  remaining = ( length - iter ) * avg_time_taken\n",
        "  remaining_hours = int( remaining / 3600 )\n",
        "  remaining_minutes = int( ( remaining % 3600 ) / 60 )\n",
        "  remaining_seconds = int( remaining % 60 )\n",
        "  print( f'Took {time_length} seconds ... {remaining_hours} hours, {remaining_minutes} minutes, {remaining_seconds} seconds remaining ... ' )\n",
        "  if ( \"[\" not in ref_texts ):\n",
        "    return \"[]\"\n",
        "  return ref_texts\n"
      ]
    },
    {
      "cell_type": "code",
      "execution_count": null,
      "metadata": {
        "colab": {
          "base_uri": "https://localhost:8080/"
        },
        "id": "MuhXojGxGfqN",
        "outputId": "38799d73-5e86-46cc-fee3-fc8b212f9505"
      },
      "outputs": [
        {
          "output_type": "stream",
          "name": "stdout",
          "text": [
            "26805/26806 ... "
          ]
        }
      ],
      "source": [
        "import json\n",
        "import time\n",
        "\n",
        "for i in range(0, length):\n",
        "  clear_output(wait=True)\n",
        "  print(f'{i}/{length} ... ', end=\"\")\n",
        "  if ( str(df.iloc[i].at[\"references\"]) != \"[]\" ):\n",
        "    continue\n",
        "\n",
        "  if ( str(df.iloc[i].at[\"doi\"]) == \"nan\" ):\n",
        "    continue\n",
        "\n",
        "  try:\n",
        "    print(f'DOI: {str(df.iloc[i].at[\"doi\"])}')\n",
        "    res = citations(df.iloc[i].at[\"doi\"])\n",
        "    print( f'\\nOld df value:\\t\\t{df.loc[i, \"references\"]}' )\n",
        "    print( f'\\nReturned result:\\t{res}' )\n",
        "    df.loc[i, \"references\"] = res\n",
        "    print( f'\\nNew df value:\\t\\t{df.loc[i, \"references\"]}' )\n",
        "    print( f'\\nUnique references: {df[\"references\"].nunique()}' )\n",
        "    sleep(5)\n",
        "  except:\n",
        "    pass\n",
        "\n",
        "# def get_citations(row):\n",
        "#   res = json.dumps(citations(row[\"doi\"]))\n",
        "#   print( f'\\nReturned result:\\n{res}' )\n",
        "#   return res\n",
        "\n",
        "# df[\"references\"] = df.apply( get_citations, axis=1 )"
      ]
    },
    {
      "cell_type": "code",
      "source": [
        "# citations(\"10.1016/j.yexmp.2012.01.008\")"
      ],
      "metadata": {
        "id": "JhvqOtybAJnB"
      },
      "execution_count": null,
      "outputs": []
    },
    {
      "cell_type": "code",
      "source": [
        "# import json\n",
        "\n",
        "# with open(\"/content/drive/MyDrive/intermediary_citations.csv\", \"w\") as fd:\n",
        "#     fd.write(\"pmid,citations\\n\")\n",
        "# # df_temp = pd.DataFrame( {\"pmid\":[], \"citations\":[]} )\n",
        "# # df_temp.to_csv('/content/drive/MyDrive/intermediary_citations.csv', index=0)\n",
        "\n",
        "# # def get_citations(row):\n",
        "# length = df.shape[0]\n",
        "# for i in range(0, length):\n",
        "#   df_temp = pd.DataFrame( {\"pmid\":[], \"citations\":[]} )\n",
        "\n",
        "#   res = json.dumps(citations(df[\"doi\"].iloc[i]))\n",
        "#   print( f'\\nReturned result:\\n{res}' )\n",
        "\n",
        "#   # df_temp.loc[len(df_temp)] = [df[\"pmid\"].iloc[i], res]\n",
        "#   # df_temp.to_csv('/content/drive/MyDrive/intermediary_citations.csv', mode='a', header=False, index=0)\n",
        "#   with open('/content/drive/MyDrive/intermediary_citations.csv', 'a') as fd:\n",
        "#       fd.write(f'{df[\"pmid\"].iloc[i]},{res}\\n')\n",
        "\n",
        "# # df[\"references\"] = df.apply( get_citations, axis=1 )"
      ],
      "metadata": {
        "id": "ICXRbNl1SvMQ"
      },
      "execution_count": null,
      "outputs": []
    },
    {
      "cell_type": "code",
      "execution_count": null,
      "metadata": {
        "id": "6nJSIvDoRhJo"
      },
      "outputs": [],
      "source": [
        "df = df.astype(str)\n",
        "df.to_csv(\"/content/drive/MyDrive/checkpoint_10_df.csv\", encoding='utf-8', index=False)"
      ]
    },
    {
      "cell_type": "code",
      "source": [
        "df = pd.read_csv(\"/content/drive/MyDrive/checkpoint_10_df.csv\")\n",
        "df = df.astype(str)"
      ],
      "metadata": {
        "id": "RFzEheLxHOSk",
        "colab": {
          "base_uri": "https://localhost:8080/",
          "height": 209
        },
        "outputId": "dbcca936-a38a-43b7-95c2-41f100677ed8"
      },
      "execution_count": null,
      "outputs": [
        {
          "output_type": "execute_result",
          "data": {
            "text/plain": [
              "count     26806\n",
              "unique    21579\n",
              "top         nan\n",
              "freq       5228\n",
              "Name: doi, dtype: object"
            ],
            "text/html": [
              "<div>\n",
              "<style scoped>\n",
              "    .dataframe tbody tr th:only-of-type {\n",
              "        vertical-align: middle;\n",
              "    }\n",
              "\n",
              "    .dataframe tbody tr th {\n",
              "        vertical-align: top;\n",
              "    }\n",
              "\n",
              "    .dataframe thead th {\n",
              "        text-align: right;\n",
              "    }\n",
              "</style>\n",
              "<table border=\"1\" class=\"dataframe\">\n",
              "  <thead>\n",
              "    <tr style=\"text-align: right;\">\n",
              "      <th></th>\n",
              "      <th>doi</th>\n",
              "    </tr>\n",
              "  </thead>\n",
              "  <tbody>\n",
              "    <tr>\n",
              "      <th>count</th>\n",
              "      <td>26806</td>\n",
              "    </tr>\n",
              "    <tr>\n",
              "      <th>unique</th>\n",
              "      <td>21579</td>\n",
              "    </tr>\n",
              "    <tr>\n",
              "      <th>top</th>\n",
              "      <td>nan</td>\n",
              "    </tr>\n",
              "    <tr>\n",
              "      <th>freq</th>\n",
              "      <td>5228</td>\n",
              "    </tr>\n",
              "  </tbody>\n",
              "</table>\n",
              "</div><br><label><b>dtype:</b> object</label>"
            ]
          },
          "metadata": {},
          "execution_count": 3
        }
      ]
    },
    {
      "cell_type": "code",
      "source": [
        "df[\"references\"].describe()"
      ],
      "metadata": {
        "colab": {
          "base_uri": "https://localhost:8080/",
          "height": 209
        },
        "id": "Q8LCyKlJRAKC",
        "outputId": "86fee190-187c-4248-dd36-1de39b9c3942"
      },
      "execution_count": null,
      "outputs": [
        {
          "output_type": "execute_result",
          "data": {
            "text/plain": [
              "count     26806\n",
              "unique    20942\n",
              "top          []\n",
              "freq       5856\n",
              "Name: references, dtype: object"
            ],
            "text/html": [
              "<div>\n",
              "<style scoped>\n",
              "    .dataframe tbody tr th:only-of-type {\n",
              "        vertical-align: middle;\n",
              "    }\n",
              "\n",
              "    .dataframe tbody tr th {\n",
              "        vertical-align: top;\n",
              "    }\n",
              "\n",
              "    .dataframe thead th {\n",
              "        text-align: right;\n",
              "    }\n",
              "</style>\n",
              "<table border=\"1\" class=\"dataframe\">\n",
              "  <thead>\n",
              "    <tr style=\"text-align: right;\">\n",
              "      <th></th>\n",
              "      <th>references</th>\n",
              "    </tr>\n",
              "  </thead>\n",
              "  <tbody>\n",
              "    <tr>\n",
              "      <th>count</th>\n",
              "      <td>26806</td>\n",
              "    </tr>\n",
              "    <tr>\n",
              "      <th>unique</th>\n",
              "      <td>20942</td>\n",
              "    </tr>\n",
              "    <tr>\n",
              "      <th>top</th>\n",
              "      <td>[]</td>\n",
              "    </tr>\n",
              "    <tr>\n",
              "      <th>freq</th>\n",
              "      <td>5856</td>\n",
              "    </tr>\n",
              "  </tbody>\n",
              "</table>\n",
              "</div><br><label><b>dtype:</b> object</label>"
            ]
          },
          "metadata": {},
          "execution_count": 4
        }
      ]
    },
    {
      "cell_type": "code",
      "source": [
        "# !pip install fix-busted-json\n",
        "# from fix_busted_json import repair_json\n",
        "\n",
        "iter = 0\n",
        "length = len(df)\n",
        "count_broken=0\n",
        "remade_json=0\n",
        "def fix_broken_reference_json(row):\n",
        "  global iter\n",
        "  global length\n",
        "  global count_broken\n",
        "  global remade_json\n",
        "  iter=iter+1\n",
        "  clear_output(wait=True)\n",
        "  print( f'{iter}/{length} ... ' )\n",
        "  # ref_json = row[\"references\"]\n",
        "  fixed_json = False\n",
        "  try:\n",
        "    ref_json = decode(row[\"references\"])\n",
        "    return row[\"references\"]\n",
        "  except:\n",
        "    print(\"GETS\")\n",
        "    print(row[\"references\"])\n",
        "    # ref_json = repair_json(row[\"references\"])\n",
        "    new = row[\"references\"].replace(\"null\", \"\\\"null\\\"\")\n",
        "    new = new.replace(\"\\\": \\\"\", \"\\\":\\\"\")\n",
        "    new = new.replace(\"\\\", \\\"\", \"\\\",\\\"\")\n",
        "    new = new.replace(\"\\\" }\", \"\\\"}\")\n",
        "    new = new.replace(\"{ \\\"\", \"{\\\"\")\n",
        "    new = new.replace(\"\\\"}\", \"SPECIAL_REPLACER}\").replace(\"{\\\"\", \"{SPECIAL_REPLACER\").replace(\"\\\":\\\"\", \"SPECIAL_REPLACER2_DOTSSPECIAL_REPLACER\").replace(\"\\\",\\\"\", \"SPECIAL_REPLACER,SPECIAL_REPLACER\")\n",
        "    # new = new.replace(\"\\\"\", \"\\\\\\\"\")\n",
        "    new = new.replace(\"\\\"\", \"\")\n",
        "    new = new.replace(\":\", \"\")\n",
        "    new = \"\".join(new.splitlines())\n",
        "    ref_json = new.replace(\"SPECIAL_REPLACER}\", \"\\\"}\").replace(\"{SPECIAL_REPLACER\", \"{\\\"\").replace(\"SPECIAL_REPLACER2_DOTSSPECIAL_REPLACER\", \"\\\":\\\"\").replace(\"SPECIAL_REPLACER,SPECIAL_REPLACER\", \"\\\",\\\"\")\n",
        "    # time.sleep(1)\n",
        "    remade_json=remade_json+1\n",
        "    fixed_json = True\n",
        "\n",
        "  if ( fixed_json ):\n",
        "    try:\n",
        "      json_result=decode(ref_json)\n",
        "      return json.dumps(json_result)\n",
        "    except:\n",
        "      count_broken=count_broken+1\n",
        "      # clear_output(wait=True)\n",
        "      print( f\"OLD: {row['references']}\" )\n",
        "      print( f\"NEW: {new}\" )\n",
        "      print( f\"NEW: {ref_json}\" )\n",
        "      print(\"Theres an error, check an online json validator ... \")\n",
        "      print( f'remade_json: {remade_json} count_broken: {count_broken}' )\n",
        "      time.sleep(1000000000000000000000);\n",
        "      exit()\n",
        "      print( 1 + \"1\" / 2 )\n",
        "      return \"[]\"\n",
        "\n",
        "  return row[\"references\"]\n",
        "\n",
        "\n",
        "df[\"references\"] = df.apply(fix_broken_reference_json, axis=1)"
      ],
      "metadata": {
        "colab": {
          "base_uri": "https://localhost:8080/"
        },
        "id": "y06R_L2nrI0A",
        "outputId": "791c7097-7265-4d2e-f922-e6081da4d3ed"
      },
      "execution_count": null,
      "outputs": [
        {
          "output_type": "stream",
          "name": "stdout",
          "text": [
            "26806/26806 ... \n"
          ]
        }
      ]
    },
    {
      "cell_type": "code",
      "source": [
        "df[\"references\"].describe()"
      ],
      "metadata": {
        "colab": {
          "base_uri": "https://localhost:8080/",
          "height": 209
        },
        "id": "3n2ZRhV9RDCm",
        "outputId": "e38716d2-bf85-4bad-a049-f1602c4ba0e0"
      },
      "execution_count": null,
      "outputs": [
        {
          "output_type": "execute_result",
          "data": {
            "text/plain": [
              "count     26806\n",
              "unique    20942\n",
              "top          []\n",
              "freq       5856\n",
              "Name: references, dtype: object"
            ],
            "text/html": [
              "<div>\n",
              "<style scoped>\n",
              "    .dataframe tbody tr th:only-of-type {\n",
              "        vertical-align: middle;\n",
              "    }\n",
              "\n",
              "    .dataframe tbody tr th {\n",
              "        vertical-align: top;\n",
              "    }\n",
              "\n",
              "    .dataframe thead th {\n",
              "        text-align: right;\n",
              "    }\n",
              "</style>\n",
              "<table border=\"1\" class=\"dataframe\">\n",
              "  <thead>\n",
              "    <tr style=\"text-align: right;\">\n",
              "      <th></th>\n",
              "      <th>references</th>\n",
              "    </tr>\n",
              "  </thead>\n",
              "  <tbody>\n",
              "    <tr>\n",
              "      <th>count</th>\n",
              "      <td>26806</td>\n",
              "    </tr>\n",
              "    <tr>\n",
              "      <th>unique</th>\n",
              "      <td>20942</td>\n",
              "    </tr>\n",
              "    <tr>\n",
              "      <th>top</th>\n",
              "      <td>[]</td>\n",
              "    </tr>\n",
              "    <tr>\n",
              "      <th>freq</th>\n",
              "      <td>5856</td>\n",
              "    </tr>\n",
              "  </tbody>\n",
              "</table>\n",
              "</div><br><label><b>dtype:</b> object</label>"
            ]
          },
          "metadata": {},
          "execution_count": 6
        }
      ]
    },
    {
      "cell_type": "code",
      "source": [
        "remade_json"
      ],
      "metadata": {
        "colab": {
          "base_uri": "https://localhost:8080/"
        },
        "id": "aCJ04w-wSx_Q",
        "outputId": "0d396aaf-c8b6-4eb4-c953-340e377f3aa3"
      },
      "execution_count": null,
      "outputs": [
        {
          "output_type": "execute_result",
          "data": {
            "text/plain": [
              "144"
            ]
          },
          "metadata": {},
          "execution_count": 15
        }
      ]
    },
    {
      "cell_type": "code",
      "source": [
        "count_broken"
      ],
      "metadata": {
        "colab": {
          "base_uri": "https://localhost:8080/"
        },
        "id": "flpsS5H4QkAj",
        "outputId": "88a710e1-6f84-43d2-abae-cf32d9d549ac"
      },
      "execution_count": null,
      "outputs": [
        {
          "output_type": "execute_result",
          "data": {
            "text/plain": [
              "0"
            ]
          },
          "metadata": {},
          "execution_count": 16
        }
      ]
    },
    {
      "cell_type": "code",
      "source": [
        "df = df.astype(str)\n",
        "df.to_csv(\"/content/drive/MyDrive/checkpoint_11_df.csv\", encoding='utf-8', index=False)"
      ],
      "metadata": {
        "id": "brDeYCbZ0r5L"
      },
      "execution_count": null,
      "outputs": []
    },
    {
      "cell_type": "code",
      "source": [
        "!pip install demjson3\n",
        "from demjson3 import decode\n",
        "\n",
        "# maybe tryna get the DOIs frm online cause most aint there ... use pmid to get doi for those too maybe ...\n",
        "def reformat_pubmed_references(row):\n",
        "  # try:\n",
        "  print(row[\"references\"])\n",
        "  ref_json = decode(row[\"references\"])\n",
        "  if (len(ref_json)==0):\n",
        "    return row[\"references\"]\n",
        "\n",
        "  if 'article_ids' in row[\"references\"]:\n",
        "    clear_output(wait=True)\n",
        "    print(\"OLD: \", end=\"\")\n",
        "    print(row[\"references\"])\n",
        "    new_refs = []\n",
        "    for i in range(0, len(ref_json)):\n",
        "      new_ref = {}\n",
        "      # print(ref_json[i])\n",
        "      if '\"doi\"' in json.dumps(ref_json[i][\"article_ids\"]):\n",
        "        # print(\"THERES ONE\")\n",
        "        new_ref[ \"doi\" ] = ref_json[i][\"article_ids\"][\"doi\"]\n",
        "        # print(new_ref)\n",
        "        # exit()\n",
        "        # time.sleep(1000000000000000000)\n",
        "      else:\n",
        "        new_ref[ \"doi\" ] = \"nan\"\n",
        "\n",
        "      new_ref[ \"citation\" ] = ref_json[i][\"citation\"]\n",
        "      new_refs.append(new_ref)\n",
        "\n",
        "    print(\"NEW: \", end=\"\")\n",
        "    print(new_refs)\n",
        "    return json.dumps(new_refs)\n",
        "  else:\n",
        "    return row[\"references\"]\n",
        "  # except:\n",
        "  #   return row[\"references\"]\n",
        "\n",
        "df[\"references\"] = df.apply(reformat_pubmed_references, axis=1)"
      ],
      "metadata": {
        "colab": {
          "base_uri": "https://localhost:8080/"
        },
        "id": "lrS7QRRsUq19",
        "outputId": "51941482-7e52-4977-c5c4-b91a1da79a75"
      },
      "execution_count": null,
      "outputs": [
        {
          "output_type": "stream",
          "name": "stdout",
          "text": [
            "OLD: [{\"citation\": \"Pediatr Radiol. 1991;21(5):381-3\", \"article_ids\": {\"pubmed\": \"1891272\"}}, {\"citation\": \"Can Assoc Radiol J. 1989 Oct;40(5):277-8\", \"article_ids\": {\"pubmed\": \"2679977\"}}, {\"citation\": \"Skeletal Radiol. 1988;17(5):364-7\", \"article_ids\": {\"pubmed\": \"3175697\"}}, {\"citation\": \"AJR Am J Roentgenol. 1988 Dec;151(6):1255\", \"article_ids\": {\"pubmed\": \"3263788\"}}, {\"citation\": \"Br J Radiol. 1988 Feb;61(722):103-8\", \"article_ids\": {\"pubmed\": \"3349247\"}}, {\"citation\": \"Br J Sports Med. 1990 Dec;24(4):243-4\", \"article_ids\": {\"pubmed\": \"2097021\"}}, {\"citation\": \"Clin Orthop Relat Res. 1988 Feb;227:67-81\", \"article_ids\": {\"pubmed\": \"3338224\"}}, {\"citation\": \"AJR Am J Roentgenol. 1987 May;148(5):1048-52\", \"article_ids\": {\"pubmed\": \"3495109\"}}, {\"citation\": \"AJR Am J Roentgenol. 1986 Sep;147(3):553-6\", \"article_ids\": {\"pubmed\": \"3488657\"}}, {\"citation\": \"J Bone Joint Surg Br. 1963 Aug;45:528-41\", \"article_ids\": {\"pubmed\": \"14058330\"}}, {\"citation\": \"Radiology. 1988 Oct;169(1):217-20\", \"article_ids\": {\"pubmed\": \"3420261\"}}, {\"citation\": \"Pediatr Radiol. 1990;20(6):469-71\", \"article_ids\": {\"pubmed\": \"2392366\"}}, {\"citation\": \"Am J Sports Med. 1991 Sep-Oct;19(5):531-3\", \"article_ids\": {\"pubmed\": \"1741475\"}}, {\"citation\": \"Clin Orthop Relat Res. 1985 Jan-Feb;(192):174-9\", \"article_ids\": {\"pubmed\": \"3967419\"}}, {\"citation\": \"Radiology. 1985 Jul;156(1):15-20\", \"article_ids\": {\"pubmed\": \"4001403\"}}]\n",
            "NEW: [{'doi': 'nan', 'citation': 'Pediatr Radiol. 1991;21(5):381-3'}, {'doi': 'nan', 'citation': 'Can Assoc Radiol J. 1989 Oct;40(5):277-8'}, {'doi': 'nan', 'citation': 'Skeletal Radiol. 1988;17(5):364-7'}, {'doi': 'nan', 'citation': 'AJR Am J Roentgenol. 1988 Dec;151(6):1255'}, {'doi': 'nan', 'citation': 'Br J Radiol. 1988 Feb;61(722):103-8'}, {'doi': 'nan', 'citation': 'Br J Sports Med. 1990 Dec;24(4):243-4'}, {'doi': 'nan', 'citation': 'Clin Orthop Relat Res. 1988 Feb;227:67-81'}, {'doi': 'nan', 'citation': 'AJR Am J Roentgenol. 1987 May;148(5):1048-52'}, {'doi': 'nan', 'citation': 'AJR Am J Roentgenol. 1986 Sep;147(3):553-6'}, {'doi': 'nan', 'citation': 'J Bone Joint Surg Br. 1963 Aug;45:528-41'}, {'doi': 'nan', 'citation': 'Radiology. 1988 Oct;169(1):217-20'}, {'doi': 'nan', 'citation': 'Pediatr Radiol. 1990;20(6):469-71'}, {'doi': 'nan', 'citation': 'Am J Sports Med. 1991 Sep-Oct;19(5):531-3'}, {'doi': 'nan', 'citation': 'Clin Orthop Relat Res. 1985 Jan-Feb;(192):174-9'}, {'doi': 'nan', 'citation': 'Radiology. 1985 Jul;156(1):15-20'}]\n",
            "[{\"doi\": \"10.1249/JSR.0b013e318194f89e\", \"citation\": \"Curr Sports Med Rep Radcliff 8 35 2009 10.1249/JSR.0b013e318194f89e Surgical management of spondylolysis and spondylolisthesis in athletes: indications and return to play.\"}, {\"doi\": \"10.1001/archpedi.1995.02170130017004\", \"citation\": \"Arch Pediatr Adolesc Med Micheli 149 15 1995 10.1001/archpedi.1995.02170130017004 Back pain in young athletes. Significant differences from adults in causes and patterns.\"}, {\"doi\": \"10.2217/phe.09.72\", \"citation\": \"Ped Health Melamed 4 89 2010 10.2217/phe.09.72 Low levels of 25-hydroxyvitamin D in the pediatric populations: prevalence and clinical outcomes.\"}, {\"doi\": \"10.1093/ajcn/88.2.500S\", \"citation\": \"Am J Clin Nutr Prentice 88 500 2008 10.1093/ajcn/88.2.500S Vitamin D across the lifecycle: physiology and biomarkers.\"}, {\"doi\": \"10.1210/jc.2006-2553\", \"citation\": \"J Clin Endocrinol Metab Kalkwarf 92 2087 2007 10.1210/jc.2006-2553 The bone mineral density in childhood study: bone mineral content and density according to age, sex, and race.\"}, {\"doi\": \"10.2106/JBJS.I.01231\", \"citation\": \"J Bone Joint Surg Am Bogunovic 92 2300 2010 10.2106/JBJS.I.01231 Hypovitaminosis D in patients scheduled to undergo orthopaedic surgery: a single center analysis.\"}, {\"doi\": \"10.1177/000992280504400806\", \"citation\": \"Clin Pediatr Rajakumar 44 683 2005 10.1177/000992280504400806 Vitamin D insufficiency in preadolescent African-American children.\"}, {\"doi\": \"10.1001/archpedi.162.6.513\", \"citation\": \"Arch Pediatr Adolesc Med Rovner 6 513 2008 10.1001/archpedi.162.6.513 Hypovitaminosis D among healthy children in the United States. A review of the current evidence.\"}, {\"doi\": \"10.1542/peds.2007-2111\", \"citation\": \"Pediatrics Bowden 121 e1585 2008 10.1542/peds.2007-2111 Prevalence of vitamin D deficiency and insufficiency in children with osteopenia or osteoporosis referred to a pediatric metabolic bone clinic.\"}, {\"doi\": \"10.1001/archpedi.158.6.531\", \"citation\": \"Arch Pediatr Adolesc Med Gordon 158 531 2004 10.1001/archpedi.158.6.531 Prevalence of vitamin D deficiency among healthy adolescents.\"}, {\"doi\": \"10.1097/BPO.0b013e3181d076a3\", \"citation\": \"J Pediatr Orthop Ryan 30 106 2010 10.1097/BPO.0b013e3181d076a3 Prevalence of vitamin D insufficiency in African American children with forearm fractures: a preliminary study.\"}, {\"doi\": \"10.1542/peds.107.5.e79\", \"citation\": \"Pedatrics Taha 107 e79 2001 10.1542/peds.107.5.e79 Reduced spinal bone mineral density in adolescents of an Ultra-Orthodox Jewish community in Brooklyn.\"}, {\"doi\": \"10.1542/peds.107.4.e53\", \"citation\": \"Pediatrics Fuleihan 107 e53 2001 10.1542/peds.107.4.e53 Hypovitaminosis D in healthy school children.\"}, {\"doi\": \"10.1093/jn/135.11.2739S\", \"citation\": \"J Nutr Holick 135 2739 2005 10.1093/jn/135.11.2739S The vitamin D epidemic and its health consequences.\"}, {\"doi\": \"10.1093/ajcn/80.6.1706S\", \"citation\": \"Am J Clin Nutr Heaney 80 1706 2004 10.1093/ajcn/80.6.1706S Functional indices of vitamin D status and ramifications of vitamin D deficiency.\"}, {\"doi\": \"10.1017/S0007114507842826\", \"citation\": \"Br J Nutr Hill 99 1061 2008 10.1017/S0007114507842826 Vitamin D status and its determinants in adolescents from the Northern Ireland Young Hearts 2000 cohort.\"}, {\"doi\": \"10.1542/peds.2005-1404\", \"citation\": \"Pediatrics Clark 117 e291 2006 10.1542/peds.2005-1404 Association between bone density and fractures in children: a systematic review and meta-analysis.\"}, {\"doi\": \"10.1067/mpd.2001.116297\", \"citation\": \"J Pediatr Goulding 139 509 2001 10.1067/mpd.2001.116297 Bone mineral density and body composition in boys with distal forearm fractures: a dual-energy x-ray absorptiometry study.\"}, {\"doi\": \"10.1359/jbmr.1998.13.1.143\", \"citation\": \"J Bone Miner Res Goulding 13 143 1998 10.1359/jbmr.1998.13.1.143 Bone mineral density in girls with forearm fractures.\"}, {\"doi\": \"10.1016/j.jada.2003.11.008\", \"citation\": \"J Am Diet Assoc Goulding 104 250 2004 10.1016/j.jada.2003.11.008 Children who avoid drinking cows mild are at increased risk for prepubertal bone fractures.\"}, {\"doi\": \"10.1359/jbmr.2000.15.11.2206\", \"citation\": \"J Bone Miner Res Fischer 15 2206 2000 10.1359/jbmr.2000.15.11.2206 Vitamin D receptor polymorphisms and nutritional rickets in Nigerian children.\"}, {\"doi\": \"10.1067/mpd.2000.109009\", \"citation\": \"J Pediatr Kreiter 137 153 2000 10.1067/mpd.2000.109009 Nutritional rickets in African American breast-fed infants.\"}]\n",
            "[]\n",
            "[{\"doi\": \"10.1002/ajmg.a\", \"citation\": \"10.1002/ajmg.a.31265\"}, {\"doi\": \"10.1001/archpedi.1975\", \"citation\": \"10.1001/archpedi.1975.02120480062016\"}]\n",
            "[{\"doi\": \"10.1111/j.1651-2227.1967.tb15285\", \"citation\": \"Acta Paediatr Scand Keidan 172 110 1967 10.1111/j.1651-2227.1967.tb15285.x\"}, {\"doi\": \"10.1542/peds.78.3\", \"citation\": \"Pediatrics Lewis 78 438 1986 10.1542/peds.78.3.438\"}, {\"doi\": \"10.1002/mpo\", \"citation\": \"Med Pediatr Oncol Ch'ien 10 455 1982 10.1002/mpo.2950100505\"}, {\"doi\": \"10.1212/WNL.37.1\", \"citation\": \"Neurology Portenoy 37 134 1987 10.1212/WNL.37.1.134\"}, {\"doi\": \"10.1002/ana\", \"citation\": \"Ann Neurol Gilbert 3 40 1978 10.1002/ana.410030107\"}]\n",
            "[{\"doi\": \"10.1136/adc.69\", \"citation\": \"Arch Dis Child Rehan 69 92 1993 10.1136/adc.69.1_Spec_No.92 Spinal cord birth injury. Diagnostic difficulties\"}, {\"doi\": \"10.1159/000120655\", \"citation\": \"Pediatr Neurosurg Rossitch 18 149 1992 10.1159/000120655 Perinatal spinal cord injury: clinical, radiographic and pathologic features\"}, {\"doi\": \"10.1001/archpedi.1970.02100050531015\", \"citation\": \"Am J Dis Child Towbin 119 529 1970 10.1001/archpedi.1970.02100050531015 Central nervous system damage in the human fetus and newborn infant\"}, {\"doi\": \"10.1136/adc.46.247.291\", \"citation\": \"Arch Dis Child Shulman 46 291 1971 10.1136/adc.46.247.291 Transection of spinal cord. A rare obstetrical complication of cephalic delivery\"}, {\"doi\": \"10.1136/adc.49.1.70\", \"citation\": \"Arch Dis Child De Souza 49 70 1974 10.1136/adc.49.1.70 Spinal cord damage in a newborn infant\"}, {\"doi\": \"10.1542/peds.85.5.760\", \"citation\": \"Pediatrics Lanska 85 760 1990 10.1542/peds.85.5.760 Magnetic resonance imaging in cervical cord birth injury\"}, {\"doi\": \"10.2214/ajr.151.4.763\", \"citation\": \"Am J Roentgenol Babyn 151 763 1988 10.2214/ajr.151.4.763 Sonographic evaluation of spinal cord birth trauma with pathologic correlation\"}, {\"doi\": \"10.1002/jcu.1870160614\", \"citation\": \"J Clin Ultrasound Leadman 16 440 1988 10.1002/jcu.1870160614 Ultrasound diagnosis of neonatal spinal epidural hemorrhagic\"}, {\"doi\": \"10.1111/j.1651-2227.1975.tb03878.x\", \"citation\": \"Acta Paediatr Scand Lindberg 64 546 1975 10.1111/j.1651-2227.1975.tb03878.x Injury of the spinal cord at birth. A report of two cases\"}]\n",
            "[]\n",
            "[{\"doi\": \"10.2106/00004623-198567090-00008\", \"citation\": \"J Bone Joint Surg SW Burke 67 1456 1985 10.2106/00004623-198567090-00008 Burke SW, Roberts JM, Johnston II CE, Whitecloud III TS, Edmunds OE Jr (1985) Chronic atlanto-axial instability in Down syndrome. J Bone Joint Surg [Am] 67: 1456?1460\"}, {\"doi\": \"10.1001/jama.1968.03140320158021\", \"citation\": \"JAMA BH Curtis 205 464 1968 10.1001/jama.1968.03140320158021 Curtis BH, Blanks S, Fisher RL (1968) Atlanto-axial dislocation in patients in Down's syndrome. JAMA 205: 464\"}, {\"doi\": \"10.3171/jns.1966.25.4.0458\", \"citation\": \"J Neurosurg AJ Dzenitis 25 458 1966 10.3171/jns.1966.25.4.0458 Dzenitis AJ (1966) Spontaneous atlanto-axial dislocation in a mongoloid child with spinal cord compression. J Neurosurg 25: 458\"}, {\"doi\": \"10.2106/00004623-197658030-00021\", \"citation\": \"J Bone Joint Surg GAM Finerman 58 408 1976 10.2106/00004623-197658030-00021 Finerman GAM, Dennis S, Seth W (1976) Atlanto-axial dislocation with spinal cord compression in a mongoloid child. A case report. J Bone Joint Surg [Am] 58: 408?409\"}, {\"doi\": \"10.1542/peds.69.5.568\", \"citation\": \"Pediatrics S Hreidarsson 69 568 1982 10.1542/peds.69.5.568 Hreidarsson S, Gary M, Harvey S (1982) Symptomatic atlantoaxial dislocation in Down syndrome. Pediatrics 69: 568?571\"}, {\"doi\": \"10.2214/ajr.97.3.630\", \"citation\": \"Am J Roentgenol W Martel 97 630 1966 10.2214/ajr.97.3.630 Martel W, Tishler JM (1966) Observation of the spine in mongoloidism. Am J Roentgenol 97: 630?638\"}, {\"doi\": \"10.1097/00007632-198109000-00003\", \"citation\": \"Spine JC Nordt 6 437 1981 10.1097/00007632-198109000-00003 Nordt JC, Stauffer ES (1981) Sequelae of atlanto-axial stabilization in two patients with Down syndrome. Spine 6: 437?440\"}, {\"doi\": \"10.2106/00004623-197860050-00010\", \"citation\": \"J Bone Joint Surg AA Semine 60 649 1978 10.2106/00004623-197860050-00010 Semine AA, Ertel AN, Goldberg MJ, Bull MJ (1978) Cervical spine instability in children with Down syndrome (Trisomy 21). J Bone Joint Surg [Am] 60: 649?652\"}, {\"doi\": \"10.2106/00004623-196951050-00012\", \"citation\": \"J Bone Joint Surg HH Sherk 51 957 1969 10.2106/00004623-196951050-00012 Sherk HH, Nicholson JT (1969) Rotatory atlanto-axial dislocation associated with ossiculum terminale and mongolism. A case report. J Bone Joint Surg [Am] 51: 957?964\"}, {\"doi\": \"10.2106/00004623-198567090-00018\", \"citation\": \"J Bone Joint Surg J Shikata 67 1414 1985 10.2106/00004623-198567090-00018 Shikata J, Mikawa Y, Ikeda T, Yamamuro T (1985) Atlanto-axial subluxation with spondyloschisis in Down syndrome. A case report. J Bone Joint Surg [Am] 67: 1414?1417\"}, {\"doi\": \"10.1148/84.5.904\", \"citation\": \"Radiology JM Tishler 84 904 1965 10.1148/84.5.904 Tishler JM, Martel W (1965) Dislocation of the atlas in mongolism. Radiology 84: 904?906\"}]\n",
            "[{\"doi\": \"https://doi.org/10.1016/s0030-5898(20)32101-5\", \"citation\": \"Frank J. Frassica, Robert L. Waltrip, Paul D. Sponseller, Loralie D. Ma, Edward F. McCarthy (1996) Clinicopathologic Features and Treatment of Osteoid Osteoma and Osteoblastoma in Children and Adolescents https://doi.org/10.1016/s0030-5898(20)32101-5\"}, {\"doi\": \"https://doi.org/10.1097/00007632-199801010-00010\", \"citation\": \"A. Saifuddin, J. White, Z. Sherazi, M. I. Shaikh, C. Natali, A. O. Ransford (1998) Osteoid Osteoma and Osteoblastoma of the Spine https://doi.org/10.1097/00007632-199801010-00010\"}, {\"doi\": \"https://doi.org/10.1097/00000478-199607000-00007\", \"citation\": \"Carlo Della Rocca, Andrew G. Huvos (1996) Osteoblastoma: Varied Histological Presentations with a Benign Clinical Course https://doi.org/10.1097/00000478-199607000-00007\"}, {\"doi\": null, \"citation\": \"S Gitelis, F Schajowicz (1989) Osteoid osteoma and osteoblastoma. None\"}, {\"doi\": \"https://doi.org/10.1148/122.1.177\", \"citation\": \"Peter F. Winter, Philip M. Johnson, Sadek K. Hilal, Frieda Feldman (1977) Scintigraphic Detection of Osteoid Osteoma https://doi.org/10.1148/122.1.177\"}, {\"doi\": \"https://doi.org/10.1007/bf00340141\", \"citation\": \"B. Houang, N. Grenier, J. F. Gr�selle, J. M. Vital, C. Douws, J. Broussin, J. M. Caill� (1990) Osteoid osteoma of the cervical spine https://doi.org/10.1007/bf00340141\"}, {\"doi\": \"https://doi.org/10.1097/00003086-197710000-00021\", \"citation\": \"J. WILLIAM FIELDING, HUGO A. KEIM, RICHARD J. HAWKINS, JEAN-CHARLES Z. GABRIELIAN (1977) Osteoid Osteoma of the Cervical Spine https://doi.org/10.1097/00003086-197710000-00021\"}, {\"doi\": null, \"citation\": \"T J Zwimpfer, W S Tucker, J F Faulkner (1982) Osteoid osteoma of the cervical spine: case reports and literature review. None\"}, {\"doi\": \"https://doi.org/10.1007/s005860050065\", \"citation\": \"A. Faraj, P. Byrne, S. M. H. Mehdian (1998) Osteoid osteoma of the lateral mass of C5. Should excision be combined with fusion? https://doi.org/10.1007/s005860050065\"}, {\"doi\": \"https://doi.org/10.1097/00003086-198906000-00037\", \"citation\": \"RICHARD S. DAVIDSON, SOROOSH MAHBOUBI, SIDNEY HEYMAN, DENIS S. DRUMMOND (1989) Nondiaphyseal Osteoid Osteomas in the Pediatric Patient https://doi.org/10.1097/00003086-198906000-00037\"}, {\"doi\": \"https://doi.org/10.1097/00003086-197711000-00021\", \"citation\": \"GERALD S. GOLDSTEIN, EDGAR G. DAWSON, ULRICH BATZDORF (1977) Cervical Osteoid Osteoma https://doi.org/10.1097/00003086-197711000-00021\"}, {\"doi\": \"https://doi.org/10.1001/jama.1971.03190070072026\", \"citation\": \"Michael Scott (1971) Cervical Radicular Pain Secondary to Osteoid Osteoma of Spine https://doi.org/10.1001/jama.1971.03190070072026\"}, {\"doi\": \"https://doi.org/10.1007/bf00305322\", \"citation\": \"L. Aulisa, F. Tamburrelli, M. Galli (1993) Osteoblastoma of the atlas https://doi.org/10.1007/bf00305322\"}, {\"doi\": null, \"citation\": \"R. Savini, E. Martucci, P. Prosperi, A. Gusella, M. Di Silvestre (1988) Osteoid osteoma of the spine. None\"}, {\"doi\": \"https://doi.org/10.1136/pgmj.56.660.724\", \"citation\": \"A P Walker (1980) The presentation, diagnosis and treatment of cervical osteoid osteoma https://doi.org/10.1136/pgmj.56.660.724\"}, {\"doi\": \"https://doi.org/10.1016/0899-7071(90)90124-t\", \"citation\": \"Levon N. Nazarian, Antonio F. Govoni, Daniel J. Carter (1990) An 18-year-old man with a 4-month history of progressive neck and right shoulder pain https://doi.org/10.1016/0899-7071(90)90124-t\"}, {\"doi\": \"https://doi.org/10.1159/000028670\", \"citation\": \"Douglas Brockmeyer, Maureen Cogan-Kilgallon, Crystal Darling, David G. McLone, Christof Senger (1998) Nine-Year-Old Female with Neck Pain https://doi.org/10.1159/000028670\"}, {\"doi\": \"https://doi.org/10.3928/0147-7447-19860801-13\", \"citation\": \"Kenneth D Polivy, R Michael Scott, Seymour Zimbler (1986) Osteoid Osteoma of the Cervical Spine https://doi.org/10.3928/0147-7447-19860801-13\"}]\n",
            "[{\"doi\": \"10.2106/00004623-198163090-00007\", \"citation\": \"Bethem J Bone Joint Surg Am 1981 10.2106/00004623-198163090-00007 63 1412\"}, {\"doi\": \"10.1272/jnms.68.186\", \"citation\": \"Gembun J Nippon Med Sch 2001 10.1272/jnms.68.186 68 186\"}, {\"doi\": \"10.1097/00007632-200209150-00007\", \"citation\": \"Mason Spine 2002 10.1097/00007632-200209150-00007 27 1995\"}, {\"doi\": \"10.1097/01241398-198905000-00015\", \"citation\": \"Merrill J Pediatr Orthop 1989 10.1097/01241398-198905000-00015 9 338\"}, {\"doi\": \"10.3109/17453678809149348\", \"citation\": \"Svensson Acta Orthop Scand 1988 10.3109/17453678809149348 59 66\"}, {\"doi\": \"10.1111/j.1399-0004.1977.tb01290.x\", \"citation\": \"Christian Clin Genet 1977 10.1111/j.1399-0004.1977.tb01290.x 11 128\"}, {\"doi\": \"10.2106/00004623-198466030-00013\", \"citation\": \"Koop J Bone Joint Surg Am 1984 10.2106/00004623-198466030-00013 66 403\"}, {\"doi\": \"10.1097/00007632-200201150-00005\", \"citation\": \"Hilibrand Spine 2002 10.1097/00007632-200201150-00005 27 146\"}, {\"doi\": \"10.1097/00024720-200304000-00002\", \"citation\": \"Huang J Spinal Disord Tech 2003 10.1097/00024720-200304000-00002 16 123\"}]\n",
            "[{\"doi\": \"10.1148/radiology.212.1\", \"citation\": \"Cervical spine screening with CT in trauma patients: a cost-effectiveness analysis Radiology 212 117 1999 10.1148/radiology.212.1.r99jl08117\"}, {\"doi\": \"10.1097/01.TA.0000171984.25699\", \"citation\": \"Helical computed tomographic scanning for the evaluation of the cervical spine in the unconscious, intubated trauma patient J Trauma 58 897 2005 10.1097/01.TA.0000171984.25699.35\"}, {\"doi\": \"10.1089/neu.1989.6\", \"citation\": \"Coincidence of head and cervical spine injury J Neurotrauma 6 177 1989 10.1089/neu.1989.6.177\"}, {\"doi\": \"10.1097/01.TA.0000130758.71098\", \"citation\": \"Prospective evaluation of computed tomographic scanning for the spinal clearance of obtunded trauma patients: preliminary results J Trauma 56 1179 2004 10.1097/01.TA.0000130758.71098.78\"}]\n",
            "[]\n",
            "[{\"doi\": \"10.1001/archotol.131.5\", \"citation\": \"Arch Otolaryngol Head Neck Surg Pearson SE 454 131 2005 10.1001/archotol.131.5.454\"}, {\"doi\": \"10.1016/j.avsg.2008.01\", \"citation\": \"Ann Vasc Surg Chaer RA 564 22 2008 10.1016/j.avsg.2008.01.006\"}, {\"doi\": \"10.1016/j.jvs.2007.08\", \"citation\": \"J Vasc Surg Cox MW 1227 46 2007 10.1016/j.jvs.2007.08.021\"}, {\"doi\": \"10.1583/1308R\", \"citation\": \"J Endovasc Ther Gralla J 734 11 2004 10.1583/1308R.1\"}, {\"doi\": \"10.1016/j.otohns.2004.12\", \"citation\": \"Otolaryngol Head Neck Surg Beningfield A 338 134 2006 10.1016/j.otohns.2004.12.005\"}]\n",
            "[]\n",
            "[{\"doi\": \"https://doi.org/10.1148/114.3.611\", \"citation\": \"George J. Aiker, Young S. Oh, Eugene V. Leslie, Judith Lehotay, Victor A. Panaro, Edward G. Eschner (1975) Postmortem Radiology of Head and Neck Injuries in Fatal Traffic Accidents https://doi.org/10.1148/114.3.611\"}, {\"doi\": \"https://doi.org/10.1016/0020-1383(73)90001-6\", \"citation\": \"S. Sevitt (1973) Fatal road accidents in Birmingham: Times to death and their causes https://doi.org/10.1016/0020-1383(73)90001-6\"}, {\"doi\": \"https://doi.org/10.5694/j.1326-5377.1972.tb47231.x\", \"citation\": \"Donald W. Hossack (1972) THE PATTERN OF INJURIES RECEIVED BY 500 DRIVERS AND PASSENGERS KILLED IN ROAD ACCIDENTS https://doi.org/10.5694/j.1326-5377.1972.tb47231.x\"}, {\"doi\": null, \"citation\": \"Tonge Ji, O'Reilly Mj, Davison A, Johnston Ng (1972) Traffic crash fatalities. Injury patterns and other factors. None\"}, {\"doi\": \"https://doi.org/10.5694/j.1326-5377.1971.tb50393.x\", \"citation\": \"F. A. Whitlock, J. L. Armstbong, J. I. Tonge, M. J. J. O'Reilly, A. Davison, N. G. Johnston, R. P. Biltoft (1971) THE DRINKING DRIVER OR THE DRIVING DRINKER? ALCOHOL, ALCOHOLISM AND OTHER FACTORS IN ROAD ACCIDENTS https://doi.org/10.5694/j.1326-5377.1971.tb50393.x\"}, {\"doi\": \"https://doi.org/10.1016/0300-9432(73)90043-5\", \"citation\": \"David A.Ll. Bowen (1973) Deaths of drivers of automobiles due to trauma and ischaemic heart disease: A survey and assessment https://doi.org/10.1016/0300-9432(73)90043-5\"}, {\"doi\": \"https://doi.org/10.5694/j.1326-5377.1975.tb111746.x\", \"citation\": \"DONALD W. HOSSACK (1975) THE PATTERN OF INJURIES IN 470 PEDESTRIANS KILLED IN ROAD ACCIDENTS https://doi.org/10.5694/j.1326-5377.1975.tb111746.x\"}, {\"doi\": null, \"citation\": \"W U Spitz (1970) Essential postmortem findings in the traffic accident victim. None\"}, {\"doi\": \"https://doi.org/10.1093/neurosurgery/19.cn_suppl_1.175\", \"citation\": \"Paul W. Gikas (1972) Mechanisms of Injury in Automobile Crashes https://doi.org/10.1093/neurosurgery/19.cn_suppl_1.175\"}, {\"doi\": null, \"citation\": \"Loh Wp, Williams As (1968) Traffic deaths in Lake County Indiana: a two-year study. None\"}]\n",
            "[{\"doi\": \"10.1038/sj.sc.3100871\", \"citation\": \"Spinal Cord JD Blitvich 37 553 1999 10.1038/sj.sc.3100871 Blitvich JD, McElroy GK, Blanksby BA, Douglas GA . Characteristics of \\u2018low risk\\u2019 and \\u2018high risk\\u2019 dives by young adults: risk reduction in spinal cord injury. Spinal Cord 1999; 37: 553\\u2013559.\"}, {\"doi\": \"10.1038/sj.sc.3100430\", \"citation\": \"Spinal Cord MJ DeVivo 35 509 1997 10.1038/sj.sc.3100430 DeVivo MJ, Sekar P . Prevention of spinal cord injuries that occur in swimming pools. Spinal Cord 1997; 35: 509\\u2013515.\"}, {\"doi\": \"10.1038/sj.sc.3100432\", \"citation\": \"Spinal Cord FM Maynard Jr 35 266 1997 10.1038/sj.sc.3100432 Maynard Jr FM, Bracken MB, Creasey G, Ditunno Jr JF, Donovan WH, Ducker TB et al. International Standards for Neurological and Functional Classification of Spinal Cord Injury. American Spinal Injury Association. Spinal Cord 1997; 35: 266\\u2013274.\"}, {\"doi\": \"10.1080/00913847.1978.11710758\", \"citation\": \"Phys Sports Med CL Shields Jr 6 71 1978 10.1080/00913847.1978.11710758 Shields Jr CL, Fox JM, Stauffer ES . Cervical cord injuries in sports. Phys Sports Med 1978; 6: 71\\u201376.\"}, {\"doi\": \"10.1038/sj.sc.3101695\", \"citation\": \"Spinal Cord S Aito 43 109 2005 10.1038/sj.sc.3101695 Aito S, D\\u2019Andrea M, Werhagen L . Spinal cord injuries due to diving accidents. Spinal Cord 2005; 43: 109\\u2013116.\"}, {\"doi\": \"10.1097/00005373-199403000-00011\", \"citation\": \"J Trauma YK Kluger 36 349 1994 10.1097/00005373-199403000-00011 Kluger YK, Jarosz D, Paul DB, Townsend RN, Diamond DL . Diving injuries: a preventable catastrophe. J Trauma 1994; 36: 349\\u2013351.\"}, {\"doi\": \"10.1097/00042752-200101000-00004\", \"citation\": \"Clin J Sport H Schmitt 11 17 2001 10.1097/00042752-200101000-00004 Schmitt H, Gerner HJ . Paralysis from sport and diving accidents. Clin J Sport 2001; 11: 17\\u201322.\"}, {\"doi\": \"10.1016/j.spinee.2005.06.013\", \"citation\": \"Spine J DS Korres 6 44 2006 10.1016/j.spinee.2005.06.013 Korres DS, Benetos IS, Themistocleous GS, Mavrogenis AF, Nikolakakos L, Liantis PT . Diving injuries of the cervical spine in amateur divers. Spine J 2006; 6: 44\\u201349.\"}, {\"doi\": \"10.1177/036354657600400303\", \"citation\": \"Am J Sports Med OW Albrand 4 107 1976 10.1177/036354657600400303 Albrand OW, Corkhill G . Broken neck from diving accidents: a summer epidemic in young men. Am J Sports Med 1976; 4: 107\\u2013110.\"}, {\"doi\": \"10.1097/01.ta.0000218256.39295.8f\", \"citation\": \"J Trauma SK Chang 60 1041 2006 10.1097/01.ta.0000218256.39295.8f Chang SK, Tominaga GT, Wong JH, Weldon EJ, Kaan KT . Risk factors for water sports-related cervical spine injuries. J Trauma 2006; 60: 1041\\u20131046.\"}, {\"doi\": \"10.1038/sj.sc.3101433\", \"citation\": \"Spinal Cord L Tooth 41 220 2003 10.1038/sj.sc.3101433 Tooth L, McKenna K, Geraghty T . Rehabilitation outcomes in traumatic spinal cord injury in Australia: functional status, length of stay and discharge setting. Spinal Cord 2003; 41: 220\\u2013230.\"}, {\"doi\": \"10.1016/j.annemergmed.2005.07.005\", \"citation\": \"Ann Emerg Med TW Barrett 47 129 2006 10.1016/j.annemergmed.2005.07.005 Barrett TW, Mower WR, Zucker MI, Hoffman JR . Injuries missed by limited computed tomographic imaging of patients with cervical spine injuries. Ann Emerg Med 2006; 47: 129\\u2013133.\"}]\n",
            "[]\n",
            "[]\n",
            "[]\n",
            "[{\"doi\": \"10.7326/0003-4819-94-3-389\", \"citation\": \"Ann Intern Med JL Bernat 94 389 1981 10.7326/0003-4819-94-3-389 Bernat JL, Culver CM, Gert B . On the definition and criterion of death. Ann Intern Med 1981; 94: 389\\u2013394.\"}, {\"doi\": \"10.1212/WNL.58.1.20\", \"citation\": \"Neurology EFM Wijdicks 58 20 2002 10.1212/WNL.58.1.20 Wijdicks EFM . Brain death worldwide: accepted fact but no global consensus in diagnostic criteria. Neurology 2002; 58: 20\\u201325.\"}, {\"doi\": \"10.1503/cmaj.045142\", \"citation\": \"CMAJ SD Shemie 174 S1 2006 10.1503/cmaj.045142 Shemie SD, Doig C, Dickens B, Byrne P, Wheelock B, Rocker G et al. Severe brain injury to neurological determination of death: Canadian forum recommendations. CMAJ 2006; 174: S1\\u2013S12.\"}, {\"doi\": \"10.1001/jama.1981.03320190042025\", \"citation\": \"10.1001/jama.1981.03320190042025 Guidelines for the determination of death. Report of the Medical Consultants on the diagnosis of death to the President's commission for the study of ethical problems in medicine and biomedical and behavioral research. JAMA 1981; 246: 2184\\u20132186.\"}, {\"doi\": \"10.1017/S0317167100009069\", \"citation\": \"Can J Neurol Sci MKS Heran 35 409 2008 10.1017/S0317167100009069 Heran MKS, Heran HS, Shemie SD . A review of ancillary tests in evaluating brain death. Can J Neurol Sci 2008; 35: 409\\u2013419.\"}, {\"doi\": \"10.1212/WNL.45.5.1012\", \"citation\": \"10.1212/WNL.45.5.1012 Report of the Quality Standards Subcommittee of the American Academy of Neurology. Practice parameters for determining brain death in adults (summary statement). Neurology 1995; 45: 1012\\u20131014.\"}, {\"doi\": \"10.1017/S0317167100008544\", \"citation\": \"Can J Neurol Sci SD Shemie 35 140 2008 10.1017/S0317167100008544 Shemie SD, Lee D, Sharpe M, Tampieri D, Young B, on behalf of the participants in the expert consensus meeting on brain blood flow in the neurological determination of death. Brain blood flow in the neurological determination of death: Canadian expert report. Can J Neurol Sci 2008; 35: 140\\u2013145.\"}, {\"doi\": \"10.1212/WNL.45.5.1003\", \"citation\": \"Neurology EFM Wijdicks 45 1003 1995 10.1212/WNL.45.5.1003 Wijdicks EFM . Determining brain death in adults. Neurology 1995; 45: 1003\\u20131011.\"}, {\"doi\": \"10.1007/BF03021855\", \"citation\": \"Can J Anesth GB Young 53 620 2006 10.1007/BF03021855 Young GB, Shemie SD, Doig CJ, Teitelbaum J . Brief review: the role of ancillary tests in the neurological determination of death. Can J Anesth 2006; 53: 620\\u2013627.\"}, {\"doi\": \"10.1001/archneur.1992.00530290161027\", \"citation\": \"Arch Neurol JL Bernat 49 569 1992 10.1001/archneur.1992.00530290161027 Bernat JL . Brain death: occurs only with destruction of the cerebral hemispheres and the brain stem. Arch Neurol 1992; 49: 569\\u2013570.\"}, {\"doi\": \"10.1111/j.1600-0404.2005.00527.x\", \"citation\": \"Acta Neurol Scand CJG Lang 112 358 2005 10.1111/j.1600-0404.2005.00527.x Lang CJG, Heckmann JG . Apnea testing for the diagnosis of brain death: review article. Acta Neurol Scand 2005; 112: 358\\u2013369.\"}, {\"doi\": \"10.1001/jama.1980.03300390046022\", \"citation\": \"JAMA GG Glista 243 1362 1980 10.1001/jama.1980.03300390046022 Glista GG, Sullivan TD, Brumlik J . Spinal cord involvement in acute bacterial meningitis. JAMA 1980; 243: 1362\\u20131363.\"}, {\"doi\": \"10.1136/pgmj.56.659.661\", \"citation\": \"Postgrad Med J SS Swart 56 661 1980 10.1136/pgmj.56.659.661 Swart SS, Pye IF . Spinal cord ischaemia complicating meningococcal meningitis. Postgrad Med J 1980; 56: 661\\u2013662.\"}, {\"doi\": \"10.1111/j.1651-2227.1980.tb07116.x\", \"citation\": \"Acta Paediatr Scand Y Tal 69 471 1980 10.1111/j.1651-2227.1980.tb07116.x Tal Y, Crichton JU, Dunn HG, Dolman CL . Spinal cord damage: a rare complication of purulent meningitis. Acta Paediatr Scand 1980; 69: 471\\u2013474.\"}, {\"doi\": \"10.1017/S0317167100044371\", \"citation\": \"Can J Neurol Sci MG Norman 9 443 1982 10.1017/S0317167100044371 Norman MG . Respiratory arrest and cervical spinal cord infarction following lumbar puncture in meningitis. Can J Neurol Sci 1982; 9: 443\\u2013447.\"}, {\"doi\": \"10.1097/00006454-198509000-00028\", \"citation\": \"Pediatr Infect Dis J M Verghote 4 559 1985 10.1097/00006454-198509000-00028 Verghote M, Rousseau E, Geoffroy G . Quadriplegia after pneumococcal meningitis. Pediatr Infect Dis J 1985; 4: 559.\"}, {\"doi\": \"10.3171/jns.1989.71.4.0620\", \"citation\": \"J Neurosurg EC Raps 71 620 1989 10.3171/jns.1989.71.4.0620 Raps EC, Gutmann DH, Brorson JR, O'Connor M, Hurtig HI . Symptomatic hydrocephalus and reversible spinal cord compression in Listeria monocytogenes meningitis. J Neurosurg 1989; 71: 620\\u2013622.\"}, {\"doi\": \"10.1093/oxfordjournals.bja.a013482\", \"citation\": \"Br J Anaesth R O'Farrell 84 514 2000 10.1093/oxfordjournals.bja.a013482 O'Farrell R, Thornton J, Brennan P, Brett F, Cunningham AJ . Spinal cord infarction and tetraplegia- rare complications of meningococcal meningitis. Br J Anaesth 2000; 84: 514\\u2013517.\"}, {\"doi\": \"10.1054/jocn.1999.0232\", \"citation\": \"J Clin Neurosci AH Ropper 7 330 2000 10.1054/jocn.1999.0232 Ropper AH, Kanis KB . Flaccid quadriplegia from tonsillar herniation in pneumococcal meningitis. J Clin Neurosci 2000; 7: 330\\u2013345.\"}, {\"doi\": \"10.1007/s002340050886\", \"citation\": \"Neuroradiol S Sartoretti-Schefer 42 280 2000 10.1007/s002340050886 Sartoretti-Schefer S, Kollias S, Valavanis A . Transient oedema of the cervical spinal cord. Neuroradiol 2000; 42: 280\\u2013284.\"}, {\"doi\": \"10.3171/spi.2005.3.1.0064\", \"citation\": \"J Neurosurg Spine TLT Siu 3 64 2005 10.3171/spi.2005.3.1.0064 Siu TLT, Banna P, Stokes BAR . Spinal cord infarction complicating acute hydrocephalus secondary to a colloid cyst of the third ventricle. J Neurosurg Spine 2005; 3: 64\\u201367.\"}, {\"doi\": \"10.1002/ana.410070605\", \"citation\": \"Ann Neurol SJ Horwitz 7 524 1980 10.1002/ana.410070605 Horwitz SJ, Boxerbaum B, O'Bell J . Cerebral herniation in bacterial meningitis in childhood. Ann Neurol 1980; 7: 524\\u2013528.\"}, {\"doi\": \"10.1136/bmj.306.6883.953\", \"citation\": \"BMJ G Rennick 306 953 1993 10.1136/bmj.306.6883.953 Rennick G, Shann F, de Campo J . Cerebral herniation during bacterial meningitis in children. BMJ 1993; 306: 953\\u2013955.\"}, {\"doi\": \"10.1001/archneur.1993.00540060015010\", \"citation\": \"Arch Neurol HW Pfister 50 575 1993 10.1001/archneur.1993.00540060015010 Pfister HW, Feiden W, Einhaupl KM . Spectrum of complications during bacterial meningitis in adults: results of a prospective clinical study. Arch Neurol 1993; 50: 575\\u2013581.\"}, {\"doi\": \"10.1227/00006123-199108000-00010\", \"citation\": \"Neurosurgery BT Andrews 29 227 1991 10.1227/00006123-199108000-00010 Andrews BT, Pitts LH . Functional recovery after traumatic transtentorial herniation. Neurosurgery 1991; 29: 227\\u2013231.\"}, {\"doi\": \"10.3171/jns.2006.104.4.469\", \"citation\": \"J Neurosurg B Aarabi 104 469 2006 10.3171/jns.2006.104.4.469 Aarabi B, Hesdorffer DC, Ahn ES, Aresco C, Scalea TM, Eisenberg HM . Outcome following decompressive craniectomy for malignant swelling due to severe head injury. J Neurosurg 2006; 104: 469\\u2013479.\"}, {\"doi\": \"10.3171/JNS/2008/108/01/0074\", \"citation\": \"J Neurosurg C Salvatore 108 74 2008 10.3171/JNS/2008/108/01/0074 Salvatore C, Marco M, Antonio R, Salvatore I, Eugenio B . Combined internal uncusectomy and decompressive craniectomy for the treatment of severe closed head injury: experience with 80 cases. J Neurosurg 2008; 108: 74\\u201379.\"}, {\"doi\": \"10.1097/00005072-197507000-00001\", \"citation\": \"J Neuropathol Exp Neurol AE Walker 34 295 1975 10.1097/00005072-197507000-00001 Walker AE, Diamond EL, Moseley J . The neuropathological findings in irreversible coma: a critique of the \\u2018respirator brain\\u2019. J Neuropathol Exp Neurol 1975; 34: 295\\u2013323.\"}, {\"doi\": \"10.1007/BF00685069\", \"citation\": \"Acta Neuropathol H Schneider 18 234 1971 10.1007/BF00685069 Schneider H, Matakas F . Pathological changes of the spinal cord after brain death. Acta Neuropathol 1971; 18: 234\\u2013247.\"}, {\"doi\": \"10.1007/BF00684915\", \"citation\": \"Acta Neuropathol R Schroder 62 15 1983 10.1007/BF00684915 Schroder R . Later changes in brain death. Signs of partial recirculation. Acta Neuropathol 1983; 62: 15\\u201323.\"}, {\"doi\": \"10.1111/j.1399-6576.1971.tb00668.x\", \"citation\": \"Acta Anaesth Scand Suppl DH Ingvar 45 129 1971 10.1111/j.1399-6576.1971.tb00668.x Ingvar DH . Brain death\\u2014total brain infarction. Acta Anaesth Scand Suppl 1971; 45: 129\\u2013140.\"}, {\"doi\": \"10.1136/jnnp.36.4.497\", \"citation\": \"J Neurol Neurosurg Psychiatr F Matakas 36 497 1973 10.1136/jnnp.36.4.497 Matakas F, Cervos-Navarro J, Schneider H . Experimental brain death: 1. Morphology and fine structure of the brain. J Neurol Neurosurg Psychiatr 1973; 36: 497\\u2013508.\"}, {\"doi\": \"10.1227/00006123-198801000-00012\", \"citation\": \"Neurosurgery M Ishikawa 22 77 1988 10.1227/00006123-198801000-00012 Ishikawa M, Kikuchi H, Fujisawa I, Yonekawa Y . Tonsillar herniation on magnetic resonance imaging. Neurosurgery 1988; 22: 77\\u201381.\"}, {\"doi\": \"10.1002/ana.410330205\", \"citation\": \"Ann Neurol JB Reich 33 159 1993 10.1002/ana.410330205 Reich JB, Sierra H, Camp W, Zanzonico P, Deck MDF, Plum F . Magnetic resonance imaging measurements and clinical changes accompanying transtentorial and foramen magnum brain herniation. Ann Neurol 1993; 33: 159\\u2013170.\"}, {\"doi\": \"10.3171/jns.1981.55.1.0121\", \"citation\": \"J Neurosurg HM Haupt 55 121 1981 10.3171/jns.1981.55.1.0121 Haupt HM, Kurlinski JP, Barnett NK, Epstein M . Infarction of the spinal cord as a complication of pneumococcal meningitis. J Neurosurg 1981; 55: 121\\u2013123.\"}, {\"doi\": \"10.1001/archneur.1984.04050170095024\", \"citation\": \"Arch Neurol AR Seay 41 545 1984 10.1001/archneur.1984.04050170095024 Seay AR . Spinal cord dysfunction complicating bacterial meningitis. Arch Neurol 1984; 41: 545\\u2013546.\"}, {\"doi\": \"10.1007/s002470050137\", \"citation\": \"Pediatr Radiol S Puvabanditsin 27 317 1997 10.1007/s002470050137 Puvabanditsin S, Wojkylo EW, Garrow E, Kalavantavanich K . Group B streptococcal meningitis: a case of transverse meyelitis with spinal cord and posterior fossa cysts. Pediatr Radiol 1997; 27: 317\\u2013318.\"}, {\"doi\": \"10.1086/514534\", \"citation\": \"Clin Infect Dis KS Moffett 25 211 1997 10.1086/514534 Moffett KS, Berkowitz FE . Quadriplegia complicating Escherichia coli meningitis in a newborn infant: case report and review of 22 cases of spinal cord dysfunction in patients with acute bacterial meningitis. Clin Infect Dis 1997; 25: 211\\u2013214.\"}, {\"doi\": \"10.1038/sj.sc.3102107\", \"citation\": \"Spinal Cord KG Karakatsanis 46 396 2008 10.1038/sj.sc.3102107 Karakatsanis KG . Brain death: should it be reconsidered? Spinal Cord 2008; 46: 396\\u2013401.\"}, {\"doi\": \"10.1093/bja/aeh117\", \"citation\": \"Br J Anaesth CE Waters 92 760 2004 10.1093/bja/aeh117 Waters CE, French G, Burt M . Difficulty in brainstem death testing in the presence of high spinal cord injury. Br J Anaesth 2004; 92: 760\\u2013764.\"}, {\"doi\": \"10.1053/j.semnuclmed.2008.03.003\", \"citation\": \"Semin Nucl Med LS Zuckier 38 262 2008 10.1053/j.semnuclmed.2008.03.003 Zuckier LS, Kolano J . Radionuclide studies in the determination of brain death: criteria, concepts, and controversies. Semin Nucl Med 2008; 38: 262\\u2013273.\"}, {\"doi\": \"10.1161/01.STR.0000133397.44528.f8\", \"citation\": \"Stroke GE Sviri 35 1867 2004 10.1161/01.STR.0000133397.44528.f8 Sviri GE, Lewis DH, Correa R, Britz GW, Douville CM, Newell DW . Basilar artery vasospasm and delayed posterior circulation ischemia after aneurysmal subarachnoid hemorrhage. Stroke 2004; 35: 1867\\u20131872.\"}, {\"doi\": \"10.1177/0885066609355388\", \"citation\": \"10.1177/0885066609355388 Joffe AR, Lequier L, Cave D . Specificity of radionuclide brain blood flow testing in brain death: case report and review. J Intensive Care Med 2009 (in press).\"}, {\"doi\": \"10.1148/radiol.2433060536\", \"citation\": \"Radiology TJ Kaufmann 243 812 2007 10.1148/radiol.2433060536 Kaufmann TJ, Huston III J, Mandrekar JN, Schleck CD, Thielen KR, Kallmes DF . Complications of diagnostic cerebral angiography: evaluation of 19 826 consecutive patients. Radiology 2007; 243: 812\\u2013819.\"}, {\"doi\": \"10.1002/ana.410060609\", \"citation\": \"Ann Neurol S Ashwal 6 512 1979 10.1002/ana.410060609 Ashwal S, Schneider S . Failure of electroencephalography to diagnose brain death in comatose children. Ann Neurol 1979; 6: 512\\u2013517.\"}, {\"doi\": \"10.1007/BF01711544\", \"citation\": \"Intensive Care Med A Paolin 21 657 1995 10.1007/BF01711544 Paolin A, Manuali A, DiPaola F, Boccaletto F, Caputo P, Zanata R et al. Reliability in diagnosis of brain death. Intensive Care Med 1995; 21: 657\\u2013662.\"}, {\"doi\": \"10.204\", \"citation\": \"Transplant Proc JC Combes 39 16 2007 10.1016/j.transproceed.2006.10.204 Combes JC, Chomel A, Ricolfi F, d'Athis P, Freysz M . Reliability of computed tomographic angiography in the diagnosis of brain death. Transplant Proc 2007; 39: 16\\u201320.\"}]\n",
            "[{\"doi\": \"10.1097/00007632-199306150-00003\", \"citation\": \"10.1097/00007632-199306150-00003 Mumford J, Weinstein JN, Spratt KF, Goel VK (1993) Thoracolumbar burst fractures: The clinical efficacy and outcome of nonoperative management. Spine (Phila Pa 1976) 18(8):955\\u2013970\"}, {\"doi\": \"10.1097/01.brs.0000139308.65813.70\", \"citation\": \"10.1097/01.brs.0000139308.65813.70 Chen HH, Wang WK, Li KC, Chen TH (2004) Biomechanical effects of the body augmenter for reconstruction of the vertebral body. Spine (Phila Pa 1976) 29(18):E382\\u2013E387\"}, {\"doi\": \"10.1097/00007632-200005010-00018\", \"citation\": \"10.1097/00007632-200005010-00018 Parker JW, Lane JR, Karaikovic EE, Gaines RW (2000) Successful short-segment instrumentation and fusion for thoracolumbar spine fractures: a consecutive 41/2-year series. Spine (Phila Pa 1976) 25(9):1157\\u20131170\"}, {\"doi\": \"10.2106/00004623-199701000-00008\", \"citation\": \"J Bone Joint Surg [Am] K Kaneda 79 1 69 1997 10.2106/00004623-199701000-00008 Kaneda K, Taneichi H, Abumi K, Hashimoto T, Satoh S, Fujiya M (1997) Anterior decompression and stabilization with the Kaneda device for thoracolumbar burst fractures associated with neurological deficits. J Bone Joint Surg [Am] 79(1):69\\u201383\"}, {\"doi\": \"10.1097/00007632-200101150-00017\", \"citation\": \"10.1097/00007632-200101150-00017 Alanay A, Acaroglu E, Yazici M, Oznur A, Surat A (2001) Short segment pedicle instrumentation of thoracolumbar burst fractures: does transpedicular intracorporeal grafting prevent early failure? Spine (Phila Pa 1976) 26(2):213\\u2013217\"}, {\"doi\": \"10.1007/s005860050212\", \"citation\": \"Eur Spine J PL Sanderson 8 6 495 1999 10.1007/s005860050212 Sanderson PL, Fraser RD, Hall DJ, Cain CM, Osti OL, Potter GR (1999) Short segment fixation of thoracolumbar burst fractures without fusion. Eur Spine J 8(6):495\\u2013500\"}, {\"doi\": \"10.1007/s00586-001-0382-6\", \"citation\": \"Eur Spine J C Knop 11 214 2002 10.1007/s00586-001-0382-6 Knop C, Bastian L, Lange U, Oeser M, Zdichavsky M, Blauth M (2002) Complications in surgical treatment of thoracolumbar injuries. Eur Spine J 11:214\\u2013226\"}, {\"doi\": \"10.2106/00004623-199302000-00002\", \"citation\": \"J Bone Joint Surg [Am] RF McLain 75 2 162 1993 10.2106/00004623-199302000-00002 McLain RF, Sparling E, Benson DR (1993) Early failure of short segment pedicle instrumentation for thoracolumbar fractures. A preliminary report. J Bone Joint Surg [Am] 75(2):162\\u2013167\"}, {\"doi\": \"10.2106/00004623-199411000-00005\", \"citation\": \"J Bone Joint Surg [Am] BA Akbarnia 76 11 1629 1994 10.2106/00004623-199411000-00005 Akbarnia BA, Crandall DG, Burkus K, Matthews T (1994) Use of long rods and a short arthrodesis for burst fractures of the thoracolumbar spine. A long-term follow-up study. J Bone Joint Surg [Am] 76(11):1629\\u20131635\"}, {\"doi\": \"10.1177/230949900301100113\", \"citation\": \"J Orthop Surg (Hong Kong) MS Moon 11 1 59 2003 10.1177/230949900301100113 Moon MS, Choi WT, Moon YW, Kim YS, Moon JL (2003) Stabilisation of fractured thoracic and lumbar spine with Cotrel-Dubousset instrument. J Orthop Surg (Hong Kong) 11(1):59\\u201366\"}, {\"doi\": \"10.1097/00007632-198311000-00003\", \"citation\": \"10.1097/00007632-198311000-00003 Denis F (1983) The three column spine and its significance in the classification of acute thoracolumbar spinal injuries. Spine (Phila Pa 1976) 8(8):817\\u2013831\"}, {\"doi\": \"10.1097/00007632-199009000-00022\", \"citation\": \"10.1097/00007632-199009000-00022 Farcy JP, Weidenbaum M, Glassman SD (1990) Sagittal index in management of thoracolumbar burst fractures. Spine (Phila Pa 1976) 15(9):958\\u2013965\"}, {\"doi\": \"10.1038/sc.1969.30\", \"citation\": \"Paraplegia HL Frankel 7 3 179 1969 10.1038/sc.1969.30 Frankel HL, Hancock DO, Hyslop G, Melzak J, Michaelis LS, Ungar GH, Vernon JD, Walsh JJ (1969) The value of postural reduction in the initial management of closed injuries of the spine with paraplegia and tetraplegia. Paraplegia 7(3):179\\u2013192\"}, {\"doi\": \"10.1097/00007632-200011150-00017\", \"citation\": \"Spine JC Fairbank 25 22 2940 2000 10.1097/00007632-200011150-00017 Fairbank JC, Pynsent PB (2000) The oswestry disability index. Spine 25(22):2940\\u20132952\"}, {\"doi\": \"10.1038/sc.1985.38\", \"citation\": \"Paraplegia W Dick 23 4 225 1985 10.1038/sc.1985.38 Dick W, Kluger P, Magerl F, Woersd\\u00f6rfer O, Z\\u00e4ch G (1985) A new device for internal fixation of thoracolumbar and lumbar spine fractures: the \\u2018fixateur interne\\u2019. Paraplegia 23(4):225\\u2013232\"}, {\"doi\": \"10.1097/00007632-199203000-00008\", \"citation\": \"Spine O Shirado 17 3 286 1992 10.1097/00007632-199203000-00008 Shirado O, Kaneda K, Tadano S, Ishikawa H, McAfee PC, Warden KE (1992) Influence of disc degeneration on mechanism of thoracolumbar burst fractures. Spine 17(3):286\\u2013292\"}, {\"doi\": \"10.1097/00007632-199111000-00015\", \"citation\": \"Spine S Soshi 16 11 1335 1991 10.1097/00007632-199111000-00015 Soshi S, Shiba R, Kondo H, Murota K (1991) An experimental study on transpedicular screw fixation in relation to osteoporosis of the lumbar spine. Spine 16(11):1335\\u20131341\"}, {\"doi\": \"10.1097/00007632-199106000-00009\", \"citation\": \"Spine RH Wittenberg 16 6 647 1991 10.1097/00007632-199106000-00009 Wittenberg RH, Shea M, Swartz DE, Lee KS, White AA, Hayes WC (1991) Importance of bone mineral density in instrumented spine fusions. Spine 16(6):647\\u2013652\"}, {\"doi\": \"10.1007/s00590-013-1266-2\", \"citation\": \"10.1007/s00590-013-1266-2 Takami M, Yamada H, Nohda K, Yoshida M (2013) A minimally invasive surgery combining temporary percutaneous pedicle screw fixation without fusion and vertebroplasty with transpedicular intracorporeal hydroxyapatite blocks grafting for fresh thoracolumbar burst fractures: prospective study. Eur J Orthop Surg Traumatol 23. doi: 10.1007/s00590-013-1266-2\"}, {\"doi\": \"10.1097/BRS.0b013e3181c176f8\", \"citation\": \"10.1097/BRS.0b013e3181c176f8 Liao JC, Fan KF, Keorochana G, Chen WJ, Chen LH (2010) Transpedicular grafting after short-segment pedicle instrumentation for thoracolumbar burst fracture: calcium sulfate cement versus autogenous iliac bone graft. Spine (Phila Pa 1976) 35(15):1482\\u20131488\"}, {\"doi\": \"10.1016/j.jbspin.2004.08.006\", \"citation\": \"Joint Bone Spine R Assaker 71 6 459 2004 10.1016/j.jbspin.2004.08.006 Assaker R (2004) Minimal access spinal technologies: state-of-the-art, indications, and techniques. Joint Bone Spine 71(6):459\\u2013469\"}, {\"doi\": \"10.1097/BSD.0b013e3181af20b6\", \"citation\": \"J Spinal Disord Tech D Gelb 23 5 293 2010 10.1097/BSD.0b013e3181af20b6 Gelb D, Ludwig S, Karp JE, Chung EH, Werner C, Kim T, Poelstra K (2010) Successful treatment of thoracolumbar fractures with short-segment pedicle instrumentation. J Spinal Disord Tech 23(5):293\\u2013301\"}, {\"doi\": \"10.1097/BRS.0b013e3181cd59d1\", \"citation\": \"10.1097/BRS.0b013e3181cd59d1 Kim YM, Kim DS, Choi ES, Shon HC, Park KJ, Cho BK, Jeong JJ, Cha YC, Park JK (2011) Nonfusion method in thoracolumbar and lumbar spinal fractures. Spine (Phila Pa 1976) 36(2):170\\u2013176\"}, {\"doi\": \"10.1097/01.brs.0000218250.51148.5b\", \"citation\": \"10.1097/01.brs.0000218250.51148.5b Rampersaud YR, Annand N, Dekutoski MB (2006) Use of minimally invasive surgical techniques in the management of thoracolumbar trauma: current concepts. Spine (Phila Pa 1976) 31(11):S104\"}, {\"doi\": \"10.1016/j.otsr.2011.03.020\", \"citation\": \"Orthop Traumatol Surg Res B Blondel 97 5 527 2011 10.1016/j.otsr.2011.03.020 Blondel B, Fuentes S, Pech-Gourg G, Adetchessi T, Tropiano P, Dufour H (2011) Percutaneous management of thoracolumbar burst fractures: evolution of techniques and strategy. Orthop Traumatol Surg Res 97(5):527\\u2013532\"}, {\"doi\": \"10.1097/00007632-199602010-00006\", \"citation\": \"10.1097/00007632-199602010-00006 Chiba M, McLain RF, Yerby SA, Moseley TA, Smith TS, Benson DR (1996) Short-segment pedicle instrumentation. Biomechanical analysis of supplemental hook fixation. Spine (Phila Pa 1976) 21(3):288\\u2013294\"}, {\"doi\": \"10.1097/01.bsd.0000211240.98963.f6\", \"citation\": \"J Spinal Disord Tech Y Anekstein 20 1 72 2007 10.1097/01.bsd.0000211240.98963.f6 Anekstein Y, Brosh T, Mirovsky Y (2007) Intermediate screws in short segment pedicular fixation for thoracic and lumbar fractures: a biomechanical study. J Spinal Disord Tech 20(1):72\\u201377\"}, {\"doi\": \"10.1097/01.bsd.0000095827.98982.88\", \"citation\": \"J Spinal Disord Tech GF Alvine 17 4 251 2004 10.1097/01.bsd.0000095827.98982.88 Alvine GF, Swain JM, Asher MA, Burton DC (2004) Treatment of thoracolumbar burst fractures with variable screw placement or Isola instrumentation and arthrodesis: case series and literature review. J Spinal Disord Tech 17(4):251\\u2013264\"}, {\"doi\": \"10.1016/j.spinee.2003.07.005\", \"citation\": \"Spine J RA Kaya 4 2 208 2004 10.1016/j.spinee.2003.07.005 Kaya RA, Aydin Y (2004) Modified transpedicular approach for the surgical treatment of severe thoracolumbar or lumbar burst fractures. Spine J 4(2):208\\u2013217\"}, {\"doi\": \"10.1097/01.bsd.0000149874.61397.38\", \"citation\": \"J Spinal Disord Tech G Tezeren 18 6 485 2005 10.1097/01.bsd.0000149874.61397.38 Tezeren G, Kuru I (2005) Posterior fixation of thoracolumbar burst fracture: short-segment pedicle fixation versus long-segment instrumentation. J Spinal Disord Tech 18(6):485\\u2013488\"}]\n",
            "[]\n",
            "[{\"doi\": \"10.1016/j.joms.2009.09.057\", \"citation\": \"J Oral Maxillofac Surg Thor\\u00e9n 68 805 2010 10.1016/j.joms.2009.09.057 Occurrence and types of associated injuries in patients with fractures of the facial bones\"}, {\"doi\": \"10.1001/archotol.1995.01890120026005\", \"citation\": \"Arch Otolryngol Head Neck Surg Iizuka 121 1366 1995 10.1001/archotol.1995.01890120026005 Midfacial fractures in pediatric patients\"}, {\"doi\": \"10.1067/moe.2002.127406\", \"citation\": \"Oral Surg Oral Med Oral Pathol Oral Radiol Endod Qudah 94 310 2002 10.1067/moe.2002.127406 A retrospective study of selected oral and maxillofacial fractures in a group of Jordanian children\"}, {\"doi\": \"10.1097/00001665-200405000-00008\", \"citation\": \"J Craniofac Surg Ferreira 15 384 2004 10.1097/00001665-200405000-00008 Etiology and patterns of pediatric mandibular fractures in Portugal: A retrospective study of 10 years\"}, {\"doi\": \"10.1016/j.bjoms.2004.06.006\", \"citation\": \"Br J Oral Maxillofac Surg Ferreira 42 501 2004 10.1016/j.bjoms.2004.06.006 Midfacial fractures in children and adolescents: A review of 492 cases\"}, {\"doi\": \"10.1097/01.PRS.0000160268.20294.FD\", \"citation\": \"Plast Reconstr Surg Ferreira 115 1500 2005 10.1097/01.PRS.0000160268.20294.FD Retrospective study of 1251 maxillofacial fractures in children and adolescents\"}, {\"doi\": \"10.1111/j.1365-263X.2006.00757.x\", \"citation\": \"Int J Paediatr Dent Ogunlewe 16 358 2006 10.1111/j.1365-263X.2006.00757.x Pattern of paediatric maxillofacial fractures in Lagos, Nigeria\"}, {\"doi\": \"10.1016/j.jamcollsurg.2008.06.333\", \"citation\": \"J Am Coll Surg Imahara 207 710 2008 10.1016/j.jamcollsurg.2008.06.333 Patterns and outcomes of pediatric facial fractures in the United States: A survey of the National Trauma Data Bank\"}, {\"doi\": \"10.1097/SAP.0b013e318194fdab\", \"citation\": \"Ann Plast Surg Eskitascioglu 63 522 2009 10.1097/SAP.0b013e318194fdab Retrospective analysis of two hundred thirty-five pediatric mandibular fracture cases\"}, {\"doi\": \"10.1590/S1678-77572009000300012\", \"citation\": \"J Appl Oral Sci Scariot 17 195 2009 10.1590/S1678-77572009000300012 Maxillofacial injuries in a group of Brazilian subjects under 18 years of age\"}, {\"doi\": \"10.1016/j.joms.2007.04.023\", \"citation\": \"J Oral Maxillofac Surg Eggensperger Wymann 66 58 2008 10.1016/j.joms.2007.04.023 Pediatric craniofacial trauma\"}, {\"doi\": \"10.1016/j.joms.2003.05.013\", \"citation\": \"J Oral Maxillofac Surg Gassner 62 399 2004 10.1016/j.joms.2003.05.013 Craniomaxillofacial trauma in children: A review of 3,385 cases with 6,060 injuries in 10 years\"}, {\"doi\": \"10.11.001\", \"citation\": \"Accid Anal Prev Chen 43 823 2011 10.1016/j.aap.2010.11.001 Incidence rate and risk factors of missed injuries in major trauma patients\"}, {\"doi\": \"10.1097/00005373-200108000-00004\", \"citation\": \"J Trauma Simon 51 231 2001 10.1097/00005373-200108000-00004 Pediatric minor head trauma: Indications for computed tomographic scanning revisited\"}]\n",
            "[{\"doi\": \"10.3171/jns.1982.57.1\", \"citation\": \"10.3171/jns.1982.57.1.0135\"}, {\"doi\": \"10.1148/radiology.164.3\", \"citation\": \"Radiology Kulkarni MV 837 164 1987 10.1148/radiology.164.3.3615885\"}, {\"doi\": \"10.1148/radiology.148.3\", \"citation\": \"Radiology Levitan LH 707 148 1983 10.1148/radiology.148.3.6878690\"}, {\"doi\": \"10.1001/jama.1976\", \"citation\": \"JAMA Scott BB 513 235 1976 10.1001/jama.1976.03260310027016\"}, {\"doi\": \"10.3171/jns.1982.57.2\", \"citation\": \"10.3171/jns.1982.57.2.0274\"}, {\"doi\": \"10.3171/jns.1978.49.2\", \"citation\": \"J Neurosurg U HS 288 49 1978 10.3171/jns.1978.49.2.0288\"}, {\"doi\": \"10.3171/jns.1982.56.1\", \"citation\": \"10.3171/jns.1982.56.1.0135\"}, {\"doi\": \"10.1001/jama.1941\", \"citation\": \"JAMA Wortis SB 1585 117 1941 10.1001/jama.1941.02820450009003\"}]\n",
            "[{\"doi\": \"10.1159/000120893\", \"citation\": \"Pediatr Neurosurg Brockmeyer 22 147 1995 10.1159/000120893 Pediatric cervical spine instrumentation using screw fixation.\"}, {\"doi\": \"10.1097/00007632-199901150-00003\", \"citation\": \"Spine Cinotti 24 114 1999 10.1097/00007632-199901150-00003 Pedicle instrumentation in the thoracic spine. A morphometric and cadaveric study for placement of screws.\"}, {\"doi\": \"10.1016/j.spinee.2006.08.010\", \"citation\": \"Spine J Claybrooks 7 682 2007 10.1016/j.spinee.2006.08.010 Atlantoaxial fusion: A biomechanical analysis of two C1-C2 fusion techniques.\"}, {\"doi\": \"10.1097/00006123-199808000-00056\", \"citation\": \"Neurosurgery Dickman 43 275 1998 10.1097/00006123-199808000-00056 Posterior C1-C2 transarticular screw fixation for atlantoaxial arthrodesis.\"}, {\"doi\": \"10.1097/00003086-199902000-00013\", \"citation\": \"Clin Orthop Relat Res Farey 359 126 1999 10.1097/00003086-199902000-00013 Modified Gallie technique versus transarticular screw fixation in C1-C2 fusion.\"}, {\"doi\": \"10.1097/00005373-199608000-00019\", \"citation\": \"J Trauma Givens 41 310 1996 10.1097/00005373-199608000-00019 Pediatric cervical spine injury: A three-year experience.\"}, {\"doi\": \"10.1097/01.brs.0000167827.84020.49\", \"citation\": \"Spine Gorek 30 1513 2005 10.1097/01.brs.0000167827.84020.49 Constructs incorporating intralaminar C2 screws provide rigid stability for atlantoaxial fixation.\"}, {\"doi\": \"10.1097/00007632-199904010-00008\", \"citation\": \"Spine Heller 24 654 1999 10.1097/00007632-199904010-00008 Pedicle and transverse process screws of the upper thoracic spine. Biomechanical comparison of loads to failure.\"}, {\"doi\": \"10.1016/j.spinee.2007.06.008\", \"citation\": \"Spine J Jea 8 656 2007 10.1016/j.spinee.2007.06.008 Modification of Wrights technique for placement of bilateral crossing C2 translaminar screws: Technical note.\"}, {\"doi\": \"10.1053/jpsu.2001.20022\", \"citation\": \"J Pediatr Surg Kokoska 36 100 2001 10.1053/jpsu.2001.20022 Characteristics of pediatric cervical spine injuries.\"}, {\"doi\": \"10.3171/spi.2006.5.6.527\", \"citation\": \"J Neurosurg Spine Kretzer 5 527 2006 10.3171/spi.2006.5.6.527 Translaminar screw fixation in the upper thoracic spine.\"}, {\"doi\": \"10.1227/01.NEU.0000197222.05299.31\", \"citation\": \"Neurosurgery Lapsiwala 58 516 2006 10.1227/01.NEU.0000197222.05299.31 Biomechanical comparison of four C1 to C2 rigid fixative techniques: Anterior transarticular, posterior transarticular, C1 to C2 pedicle, and C1 to C2 intralaminar screws.\"}, {\"doi\": \"10.3171/jns.1997.87.5.0671\", \"citation\": \"J Neurosurg Lowry 87 671 1997 10.3171/jns.1997.87.5.0671 Upper cervical spine fusion in the pediatric population.\"}, {\"doi\": \"10.3171/jns.1997.86.6.0961\", \"citation\": \"J Neurosurg Madawi 86 961 1997 10.3171/jns.1997.86.6.0961 Radiological and anatomical evaluation of the atlantoaxial transarticular screw fixation technique.\"}, {\"doi\": \"10.3171/SPI-07/10/414\", \"citation\": \"J Neurosurg Spine Reddy 7 414 2007 10.3171/SPI-07/10/414 In vitro biomechanical comparison of transpedicular versus translaminar C-2 screw fixation in C2-3 instrumentation.\"}, {\"doi\": \"10.1097/00007632-200207150-00003\", \"citation\": \"Spine Resnick 27 1494 2002 10.1097/00007632-200207150-00003 Anatomic suitability of the C1-C2 complex for pedicle screw fixation.\"}, {\"doi\": \"10.3171/SPI/2008/8/4/327\", \"citation\": \"J Neurosurg Spine Sciubba 8 327 2008 10.3171/SPI/2008/8/4/327 Laminar screw fixation of the axis.\"}, {\"doi\": \"10.3171/spi.2005.3.4.0283\", \"citation\": \"J Neurosurg Spine Vougioukas 3 283 2005 10.3171/spi.2005.3.4.0283 Clinical and radiological results after parapedicular screw fixation of the thoracic spine.\"}, {\"doi\": \"10.1097/00024720-200404000-00014\", \"citation\": \"J Spinal Disord Tech Wright 17 158 2004 10.1097/00024720-200404000-00014 Posterior C2 fixation using bilateral, crossing C2 laminar screws: Case series and technical note.\"}, {\"doi\": \"10.3171/spi.2005.3.5.0409\", \"citation\": \"J Neurosurg Spine Wright 3 409 2005 10.3171/spi.2005.3.5.0409 Translaminar rigid screw fixation of the axis. Technical note.\"}, {\"doi\": \"10.3171/spi.2006.5.4.336\", \"citation\": \"J Neurosurg Spine Hartl 5 336 2006 10.3171/spi.2006.5.4.336 Biomechanical comparison of two new atlantoaxial fixation techniques with C1-2 transarticular screw-graft fixation.\"}]\n",
            "[]\n",
            "[{\"doi\": \"https://doi.org/10.2106/00004623-199706000-00011\", \"citation\": \"Eugene J. Carragee (1997) Pyogenic Vertebral Osteomyelitis* https://doi.org/10.2106/00004623-199706000-00011\"}, {\"doi\": \"https://doi.org/10.1056/nejm197002052820606\", \"citation\": \"Francis A. Waldvogel, Gerald Medoff, Morton N. Swartz (1970) Osteomyelitis: A Review of Clinical Features, Therapeutic Considerations and Unusual Aspects https://doi.org/10.1056/nejm197002052820606\"}, {\"doi\": \"https://doi.org/10.1056/nejm197001292820507\", \"citation\": \"Francis A. Waldvogel, Gerald Medoff, Morton N. Swartz (1970) Osteomyelitis: A Review of Clinical Features, Therapeutic Considerations and Unusual Aspects https://doi.org/10.1056/nejm197001292820507\"}, {\"doi\": \"https://doi.org/10.2106/00004623-199504000-00004\", \"citation\": \"B S Richards (1995) Delayed infections following posterior spinal instrumentation for the treatment of idiopathic scoliosis. https://doi.org/10.2106/00004623-199504000-00004\"}, {\"doi\": \"https://doi.org/10.1097/00007632-199909150-00008\", \"citation\": \"Cynthia E. Clark, Harry L. Shufflebarger (1999) Late-Developing Infection in Instrumented Idiopathic Scoliosis https://doi.org/10.1097/00007632-199909150-00008\"}, {\"doi\": \"https://doi.org/10.1097/00007632-199710150-00023\", \"citation\": \"Randall W. Viola, Howard A. King, Sarah M. Adler, Christopher B. Wilson (1997) Delayed Infection After Elective Spinal Instrumentation and Fusion https://doi.org/10.1097/00007632-199710150-00023\"}, {\"doi\": \"https://doi.org/10.1001/archderm.1985.01660050114028\", \"citation\": \"Paul Nault (1985) Acne Fulminans With Osteolytic Lesions https://doi.org/10.1001/archderm.1985.01660050114028\"}, {\"doi\": null, \"citation\": \"M H Heggeness, S I Esses, T Errico, H A Yuan (1993) Late infection of spinal instrumentation by hematogenous seeding. None\"}, {\"doi\": \"https://doi.org/10.1128/jcm.25.2.251-254.1987\", \"citation\": \"R C Noble, S B Overman (1987) Propionibacterium acnes osteomyelitis: case report and review of the literature https://doi.org/10.1128/jcm.25.2.251-254.1987\"}, {\"doi\": \"https://doi.org/10.1002/art.1780250314\", \"citation\": \"Majid Serushan, David L. Spencer, William L. S. Yeh, Mary Kaminski, John L. Skosey (1982) Osteomyelitis of cervical spine from <i>propionibacterium acnes</i> https://doi.org/10.1002/art.1780250314\"}, {\"doi\": \"https://doi.org/10.1136/ard.39.4.403\", \"citation\": \"L.Y Hunter, R.N Hensinger (1980) Destructive arthritis associated with acne fulminans: a case report. https://doi.org/10.1136/ard.39.4.403\"}, {\"doi\": \"https://doi.org/10.1111/j.1365-2133.1979.tb08076.x\", \"citation\": \"B.P. O'MALLEY, I. ANDERSON, F.D. ROSENTHAL (1979) Bone lesions in systemic acne (acne fulminans) https://doi.org/10.1111/j.1365-2133.1979.tb08076.x\"}, {\"doi\": \"https://doi.org/10.1093/clinids/21.3.694\", \"citation\": \"I. Z. Abolnik, J. V. Eaton, D. J. Sexton (1995) Propionibacterium acnes Vertebral Osteomyelitis Following Lumbar Puncture: Case Report and Review https://doi.org/10.1093/clinids/21.3.694\"}, {\"doi\": \"https://doi.org/10.3109/17453677508989193\", \"citation\": \"J. H. Newman, R. G. Mitchell (1975) Diphtheroid Infection of the Cervical Spine https://doi.org/10.3109/17453677508989193\"}, {\"doi\": \"https://doi.org/10.1016/s0195-6701(95)90319-4\", \"citation\": \"J Esteban (1995) Surgical wound infections due to Propionibacterium acnes: a study of 10 cases https://doi.org/10.1016/s0195-6701(95)90319-4\"}, {\"doi\": \"https://doi.org/10.1007/bf01967078\", \"citation\": \"F. Suter, M. A. Silanos, G. Tabacchi, F. Maggiolo (1992) A case ofPropionibacterium acnes spinal osteomyelitis https://doi.org/10.1007/bf01967078\"}, {\"doi\": null, \"citation\": \"MJ Sutton (1984) Pyogenic osteomyelitis of the vertebral body. None\"}]\n",
            "[{\"doi\": \"10.1148/radiology.212.1\", \"citation\": \"Radiology Blackmore CC 117 212 1999 10.1148/radiology.212.1.r99jl08117\"}, {\"doi\": \"10.1097/01.TA.0000171984.25699\", \"citation\": \"10.1097/01.TA.0000171984.25699.35\"}, {\"doi\": \"10.1089/neu.1989.6\", \"citation\": \"10.1089/neu.1989.6.177\"}, {\"doi\": \"10.1002/bjs\", \"citation\": \"10.1002/bjs.1800780837\"}, {\"doi\": \"10.1097/01.TA.0000130758.71098\", \"citation\": \"10.1097/01.TA.0000130758.71098.78\"}]\n",
            "[{\"doi\": \"https://doi.org/10.1016/0020-1383(87)90375-5\", \"citation\": \"G.T. Deans, J.N. Magalliard, Malcolm Kerr, W.H. Rutherford (1987) Neck sprain—a major cause of disability following car accidents https://doi.org/10.1016/0020-1383(87)90375-5\"}, {\"doi\": \"https://doi.org/10.1016/0140-6736(93)90204-t\", \"citation\": \"C. Byrn, I. Olsson, L. Falkheden, O. Bunketorp, M. Lindh, U. Hösterey, M. Fogelberg (1993) Subcutaneous sterile water injections for chronic neck and shoulder pain following whiplash injuries https://doi.org/10.1016/0140-6736(93)90204-t\"}, {\"doi\": \"https://doi.org/10.1056/nejm199404143301512\", \"citation\": \"Simon Carette (1994) Whiplash Injury and Chronic Neck Pain https://doi.org/10.1056/nejm199404143301512\"}, {\"doi\": null, \"citation\": \"Stuart A. Hirsch, Paul J. Hirsch, Harlan Hiramoto, Andrew Weiss (1988) Whiplash syndrome. Fact or fiction? None\"}, {\"doi\": \"https://doi.org/10.1136/bmj.298.6679.973\", \"citation\": \"K. M. Porter (1989) Neck sprains after car accidents. https://doi.org/10.1136/bmj.298.6679.973\"}, {\"doi\": null, \"citation\": \"M S Shutty, L Dawdy, M McMahon, S P Buckelew (1991) Behavioral treatment of dizziness secondary to benign positional vertigo following head trauma. None\"}]\n",
            "[{\"doi\": \"10.1302/0301-620X.74B5\", \"citation\": \"10.1302/0301-620X.74B5.1527112\"}, {\"doi\": \"10.1148/radiology.146.1\", \"citation\": \"10.1148/radiology.146.1.6849034\"}, {\"doi\": \"10.1002/ar\", \"citation\": \"10.1002/ar.1090880108\"}, {\"doi\": \"10.1148/radiology.134.1\", \"citation\": \"10.1148/radiology.134.1.7350593\"}]\n",
            "[{\"doi\": \"https://doi.org/10.1016/s0022-5223(19)42515-4\", \"citation\": \"Osier A. Abbott, Kamal A. Mansour, William D. Logan, Charles R. Hatcher, Panagiotis N. Symbas (1970) Atraumatic so-called “spontaneous” rupture of the esophagus https://doi.org/10.1016/s0022-5223(19)42515-4\"}, {\"doi\": \"https://doi.org/10.1136/thx.32.3.241\", \"citation\": \"E Triggiani, R Belsey (1977) Oesophageal trauma: incidence, diagnosis, and management. https://doi.org/10.1136/thx.32.3.241\"}, {\"doi\": \"https://doi.org/10.1016/0002-9610(87)90228-5\", \"citation\": \"John A. Weigelt, Erwin R. Thal, William H. Snyder, Richard E. Fry, Donald E. Meier, William J. Kilman (1987) Diagnosis of penetrating cervical esophageal injuries https://doi.org/10.1016/0002-9610(87)90228-5\"}, {\"doi\": null, \"citation\": \"D B McConnell, D D Trunkey (1994) Management of penetrating trauma to the neck. None\"}, {\"doi\": null, \"citation\": \"J Wood, T C Fabian, E C Mangiante (1989) Penetrating neck injuries: recommendations for selective management. None\"}, {\"doi\": \"https://doi.org/10.1002/bjs.1800770822\", \"citation\": \"H Ngakane, D J J Muckart, F M Luvuno (1990) Penetrating visceral injuries of the neck: Results of a conservative management policy https://doi.org/10.1002/bjs.1800770822\"}, {\"doi\": \"https://doi.org/10.1097/00005373-197510000-00008\", \"citation\": \"CARLTON H. SHEELY, KENNETH L. MATTOX, GEORGE J. REUL, ARTHUR C. BEALL, MICHAEL E. DEBAKEY (1975) CURRENT CONCEPTS IN THE MANAGEMENT OF PENETRATING NECK TRAUMA https://doi.org/10.1097/00005373-197510000-00008\"}, {\"doi\": \"https://doi.org/10.1016/0003-4975(95)00008-9\", \"citation\": \"Darryl S. Weiman, William A. Walker, Kathleen M. Brosnan, James W. Pate, Timothy C. Fabian (1995) Noniatrogenic esophageal trauma https://doi.org/10.1016/0003-4975(95)00008-9\"}, {\"doi\": \"https://doi.org/10.1002/bjs.1800820926\", \"citation\": \"T E Madiba, T R Mokoena (1995) Favourable prognosis after surgical drainage of gunshot, stab or blunt trauma of the pancreas https://doi.org/10.1002/bjs.1800820926\"}, {\"doi\": \"https://doi.org/10.1177/000348949410301107\", \"citation\": \"William B. Armstrong, Thomas R. Detar, Robert B. Stanley (1994) Diagnosis and Management of External Penetrating Cervical Esophageal Injuries https://doi.org/10.1177/000348949410301107\"}, {\"doi\": null, \"citation\": \"B Horwitz, B Krevsky, R F Buckman, R S Fisher, M A Dabezies (1993) Endoscopic evaluation of penetrating esophageal injuries. None\"}, {\"doi\": \"https://doi.org/10.1002/bjs.1800670818\", \"citation\": \"F C Campbell, J V Robbs (1980) Penetrating injuries of the neck: A prospective study of 108 patients https://doi.org/10.1002/bjs.1800670818\"}, {\"doi\": \"https://doi.org/10.1378/chest.80.2.158\", \"citation\": \"P. Keszler, E. Buzna (1981) Surgical and Conservative Management of Esophageal Perforation https://doi.org/10.1378/chest.80.2.158\"}, {\"doi\": \"https://doi.org/10.1097/00005373-199704000-00017\", \"citation\": \"Martin R. Back, Fritz J. Baumgartner, Stanley R. Klein (1997) Detection and Evaluation of Aerodigestive Tract Injuries Caused by Cervical and Transmediastinal Gunshot Wounds https://doi.org/10.1097/00005373-199704000-00017\"}, {\"doi\": \"https://doi.org/10.1002/bjs.1800710721\", \"citation\": \"D M Shama, J Odell (1984) Penetrating neck trauma with tracheal and oesophageal injuries https://doi.org/10.1002/bjs.1800710721\"}, {\"doi\": \"https://doi.org/10.1016/s1072-7515(97)00129-4\", \"citation\": \"V ANIKINFRCSED, K MCMANUSFRCSI, A GRAHAMFRCSED, J MCGUIGANFRCSEDFRCSI (1997) Total Thoracic Esophagectomy for Esophageal Cancer https://doi.org/10.1016/s1072-7515(97)00129-4\"}, {\"doi\": \"https://doi.org/10.1097/00005373-198404000-00010\", \"citation\": \"JULIO POPOVSKY (1984) Perforations of the Esophagus from Gunshot Wounds https://doi.org/10.1097/00005373-198404000-00010\"}, {\"doi\": \"https://doi.org/10.1002/bjs.1800800927\", \"citation\": \"C Hatzitheofilou, C Strahlendorf, S Kakoyiannis, D Charalambides, D Demetriades (1993) Penetrating external injuries of the oesophagus and pharynx https://doi.org/10.1002/bjs.1800800927\"}, {\"doi\": \"https://doi.org/10.1016/s0039-6109(05)70350-9\", \"citation\": \"John S. Bolton, George M. Fuhrman, William S. Richardson (1998) ESOPHAGEAL RESECTION FOR CANCER https://doi.org/10.1016/s0039-6109(05)70350-9\"}, {\"doi\": null, \"citation\": \"D L Clarke, S R Thomson, D J Muckart, P A Neijenhuis (1999) Universal primary colonic repair in the firearm era. None\"}, {\"doi\": \"https://doi.org/10.1016/s0261-5614(03)00156-0\", \"citation\": \"D.B.A Silk (2003) Enteral vs parenteral nutrition https://doi.org/10.1016/s0261-5614(03)00156-0\"}, {\"doi\": \"https://doi.org/10.1007/s002689900167\", \"citation\": \"Darryl S. Weiman, James W. Pate, William A. Walker, Kathleen M. Brosnan, Timothy C. Fabian (1996) Combined Gunshot Injuries of the Trachea and Esophagus https://doi.org/10.1007/s002689900167\"}, {\"doi\": \"https://doi.org/10.1097/00005373-198506000-00026\", \"citation\": \"None Richardson, None Martin, None Borzotta (1985) Unifying concepts in treatment of esophageal leaks https://doi.org/10.1097/00005373-198506000-00026\"}, {\"doi\": null, \"citation\": \"Mohlala Ml, Ramoroko Sp, Ramasodi Kp, Vucinic M, Gunning Aj (1994) A technical approach to tracheal and oesophageal injuries. None\"}, {\"doi\": \"https://doi.org/10.1016/s0736-4679(97)90174-8\", \"citation\": \"William K. Raboff (1997) Flexible endoscopy for diagnosis of esophageal trauma https://doi.org/10.1016/s0736-4679(97)90174-8\"}]\n",
            "[{\"doi\": \"https://doi.org/10.1136/gut.45.2008.ii43\", \"citation\": \"W G Thompson, G F Longstreth, D A Drossman, K W Heaton, E J Irvine, S A Muller-Lissner (1999) Functional bowel disorders and functional abdominal pain https://doi.org/10.1136/gut.45.2008.ii43\"}, {\"doi\": \"https://doi.org/10.1136/gut.10.10.842\", \"citation\": \"J. M. Hinton, J. E. Lennard-Jones, A. C. Young (1969) A new method for studying gut transit times using radioopaque markers https://doi.org/10.1136/gut.10.10.842\"}, {\"doi\": \"https://doi.org/10.1016/0016-5085(78)90246-9\", \"citation\": \"J.C. Debongnie, S.F. Phillips (1978) Capacity of the human colon to absorb fluid https://doi.org/10.1016/0016-5085(78)90246-9\"}, {\"doi\": \"https://doi.org/10.1136/gut.29.9.1173\", \"citation\": \"G Bassotti, M Gaburri, B P Imbimbo, L Rossi, F Farroni, M A Pelli, A Morelli (1988) Colonic mass movements in idiopathic chronic constipation. https://doi.org/10.1136/gut.29.9.1173\"}, {\"doi\": \"https://doi.org/10.1016/s0016-5085(86)80004-x\", \"citation\": \"Benjamin Krevsky, Leon S. Malmud, Francine D'Ercole, Alan H. Maurer, Robert S. Fisher (1986) Colonic Transit Scintigraphy https://doi.org/10.1016/s0016-5085(86)80004-x\"}, {\"doi\": \"https://doi.org/10.1152/ajpgi.1990.258.6.g856\", \"citation\": \"M. Proano, M. Camilleri, S. F. Phillips, M. L. Brown, G. M. Thomforde (1990) Transit of solids through the human colon: regional quantification in the unprepared bowel https://doi.org/10.1152/ajpgi.1990.258.6.g856\"}, {\"doi\": \"https://doi.org/10.3109/00365528809095938\", \"citation\": \"H. Abrahamsson, S. Antov, I. Bosaeus (1988) Gastrointestinal and Colonic Segmental Transit Time Evaluated by a Single Abdominal X-ray in Healthy Subjects and Constipated Patients https://doi.org/10.3109/00365528809095938\"}, {\"doi\": \"https://doi.org/10.1016/s0022-3468(87)80345-7\", \"citation\": \"B. Shandling, R.F. Gilmour (1987) The enema continence catheter in spina bifida: Successful bowel management https://doi.org/10.1016/s0022-3468(87)80345-7\"}, {\"doi\": \"https://doi.org/10.1016/0016-5085(84)90190-2\", \"citation\": \"Juan-R. Malagelada, James S. Robertson, Manuel L. Brown, Margot Remington, Judith A. Duenes, George M. Thomforde, Peter W. Carryer (1984) Intestinal transit of solid and liquid components of a meal in health https://doi.org/10.1016/0016-5085(84)90190-2\"}, {\"doi\": \"https://doi.org/10.1136/gut.41.3.381\", \"citation\": \"F Herbst, M A Kamm, G P Morris, K Britton, J Woloszko, R J Nicholls (1997) Gastrointestinal transit and prolonged ambulatory colonic motility in health and faecal incontinence https://doi.org/10.1136/gut.41.3.381\"}, {\"doi\": \"https://doi.org/10.4065/70.2.113\", \"citation\": \"Francoise Charles, Michael Camilleri, Sidney F. Phillips, George M. Thomforde, Lee A. Forstrom (1995) Scintigraphy of the Whole Gut: Clinical Evaluation of Transit Disorders https://doi.org/10.4065/70.2.113\"}, {\"doi\": \"https://doi.org/10.1097/00006231-198504000-00005\", \"citation\": \"J. G. HARDY, A. C. PERKINS (1985) Validity of the geometric mean correction in the quantification of whole bowel transit https://doi.org/10.1097/00006231-198504000-00005\"}, {\"doi\": \"https://doi.org/10.1136/gut.11.1.41\", \"citation\": \"J. D. Hardcastle, C. V. Mann (1970) Physical factors in the stimulation of calonic peristalsis https://doi.org/10.1136/gut.11.1.41\"}, {\"doi\": \"https://doi.org/10.1038/sj.sc.3100991\", \"citation\": \"P Christensen, B Kvitzau, K Krogh, S Buntzen, S Laurberg (2000) Neurogenic colorectal dysfunction – use of new antegrade and retrograde colonic wash-out methods https://doi.org/10.1038/sj.sc.3100991\"}, {\"doi\": \"https://doi.org/10.1016/s0022-3476(05)80425-1\", \"citation\": \"Gregory S. Liptak, Gall M. Revell (1992) Management of bowel dysfunction in children with spinal cord disease or injury by means of the enema continence catheter https://doi.org/10.1016/s0022-3476(05)80425-1\"}, {\"doi\": \"https://doi.org/10.1007/bf00341204\", \"citation\": \"D. Z. Lubowski, A. P. Meagher, R. C. Smart, S. P. Butler (1995) Scintigraphic assessment of colonic function during defaecation https://doi.org/10.1007/bf00341204\"}, {\"doi\": \"https://doi.org/10.1007/bf02055436\", \"citation\": \"J. W. Briel, W. R. Schouten, E. A. Vlot, S. Smits, I. van Kessel (1997) Clinical value of colonic irrigation in patients with continence disturbances https://doi.org/10.1007/bf02055436\"}, {\"doi\": null, \"citation\": \"J L Madsen, M Jensen (1989) Gastrointestinal transit of technetium-99m-labeled cellulose fiber and indium-111-labeled plastic particles. None\"}, {\"doi\": \"https://doi.org/10.1016/0022-3468(92)90271-8\", \"citation\": \"G.K. Blair, K. Djonlic, G.C. Fraser, W.D. Arnold, J.J. Murphy, B. Irwin (1992) The bowel management tube: An effective means for controlling fecal incontinence https://doi.org/10.1016/0022-3468(92)90271-8\"}, {\"doi\": \"https://doi.org/10.1038/sj.sc.3100694\", \"citation\": \"Pilar Fernandez Eire, Ramiro Varela Cives, Manuel Castro Gago (1998) Faecal incontinence in children with spina bifida: The best conservative treatment https://doi.org/10.1038/sj.sc.3100694\"}, {\"doi\": \"https://doi.org/10.1055/s-2008-1071036\", \"citation\": \"Monika Schöller-Gyüre, Carla Nesselaar, Hester van Wieringen, J. van Gool (1996) Treatment of Defecation Disorders by Colonic Enemas in Children with Spina Bifida https://doi.org/10.1055/s-2008-1071036\"}, {\"doi\": \"https://doi.org/10.1136/gut.31.11.1284\", \"citation\": \"D J Waldron, D Kumar, R I Hallan, D L Wingate, N S Williams (1990) Evidence for motor neuropathy and reduced filling of the rectum in chronic intractable constipation. https://doi.org/10.1136/gut.31.11.1284\"}, {\"doi\": \"https://doi.org/10.1136/gut.35.7.976\", \"citation\": \"A Notghi, R Hutchinson, D Kumar, N B Smith, L K Harding (1994) Simplified method for the measurement of segmental colonic transit time. https://doi.org/10.1136/gut.35.7.976\"}, {\"doi\": \"https://doi.org/10.1002/bjs.1800831043\", \"citation\": \"J M Gattuso, M A Kamm, C Myers, B Saunders, A Roy (1996) Effect of different infusion regimens on colonic motility and efficacy of colostomy irrigation https://doi.org/10.1002/bjs.1800831043\"}, {\"doi\": \"https://doi.org/10.3109/00365529108998623\", \"citation\": \"J. Lysgård Madsen, N. E. Larsen, J. Hilsted, H. Worning (1991) Scintigraphic Determination of Gastrointestinal Transit Times: A Comparison with Breath Hydrogen and Radiologic Methods https://doi.org/10.3109/00365529108998623\"}]\n",
            "[{\"doi\": \"10.1016/j.ptsp.2005.05\", \"citation\": \"10.1016/j.ptsp.2005.05.004\"}, {\"doi\": \"10.1038/sc.1994\", \"citation\": \"10.1038/sc.1994.45\"}, {\"doi\": \"10.1136/bjsm.31.1\", \"citation\": \"10.1136/bjsm.31.1.36\"}, {\"doi\": \"10.1038/sc.1995\", \"citation\": \"10.1038/sc.1995.93\"}, {\"doi\": \"10.1152/jappl.1983.55.2.479\", \"citation\": \"J Appl Physiol Coutts KD 479 55 1983 10.1152/jappl.1983.55.2.479 Maximal exercise responses of tetraplegics and paraplegics\"}, {\"doi\": \"10.1152/jappl.1985.59.1\", \"citation\": \"10.1152/jappl.1985.59.1.237\"}, {\"doi\": \"10.1136/bjsm.22.4\", \"citation\": \"10.1136/bjsm.22.4.153\"}, {\"doi\": \"10.1136/bjsm.2006\", \"citation\": \"10.1136/bjsm.2006.026815\"}, {\"doi\": \"10.1249/01.MSS.0000099106.33943\", \"citation\": \"10.1249/01.MSS.0000099106.33943.8C\"}, {\"doi\": \"10.1249/MSS\", \"citation\": \"10.1249/MSS.0b013e3181b72cbc\"}, {\"doi\": \"10.1152/jappl.1987.62.5.1975\", \"citation\": \"J Appl Physiol Hughson RL 1975 62 1987 10.1152/jappl.1987.62.5.1975 Blood lactate concentration increases as a continuous function in progressive exercise\"}, {\"doi\": \"10.1080/10790268.2008.11753982\", \"citation\": \"J Spinal Cord Med Leicht C 60 31 2008 10.1080/10790268.2008.11753982 Comparison of blood lactate elimination in individuals with paraplegia and able\\u2010bodied individuals during active recovery from exhaustive exercise\"}, {\"doi\": \"10.1016/j.apmr.2007.05\", \"citation\": \"10.1016/j.apmr.2007.05.016\"}, {\"doi\": \"10.1152/jappl.1978.45.1.75\", \"citation\": \"J Appl Physiol Magel JR 75 45 1978 10.1152/jappl.1978.45.1.75 Metabolic and cardiovascular adjustment to arm training\"}, {\"doi\": \"10.1016/j.annrmp.2004.12\", \"citation\": \"10.1016/j.annrmp.2004.12.004\"}, {\"doi\": \"10.1038/sj.sc\", \"citation\": \"10.1038/sj.sc.3101946\"}]\n",
            "[{\"doi\": \"10.1055/s-2001-13876\", \"citation\": \"Neuropediatrics Wolff 32 101 2001 10.1055/s-2001-13876 Late detection of neuroblastoma in a patient with prolonged cerebellar ataxia without opsoclonus\"}, {\"doi\": \"10.1177/088307389000500217\", \"citation\": \"J Child Neurol Mitchell 5 153 1990 10.1177/088307389000500217 Opsoclonus-ataxia due to childhood neural crest tumors\"}, {\"doi\": \"10.1212/WNL.52.4.864\", \"citation\": \"Neurology Bennett 52 864 1999 10.1212/WNL.52.4.864 Neuro-ophthalmologic manifestations of a paraneoplastic syndrome and testicular carcinoma\"}, {\"doi\": \"10.1056/NEJM200009213431204\", \"citation\": \"N Engl J Med Vernino 343 847 2000 10.1056/NEJM200009213431204 Autoantibodies to ganglionic acetylcholine receptors in autoimmune autonomic neuropathies\"}]\n",
            "[{\"doi\":\"https//doi.org/10.1002/0471445428\",\"citation\":\"Joseph L. Fleiss, Bruce Levin, Myunghee Cho Paik (2003) Statistical Methods for Rates and Proportions https//doi.org/10.1002/0471445428\"}, {\"doi\":\"https//doi.org/10.1201/9780429258589\",\"citation\":\"Douglas G. Altman (1990) Practical Statistics for Medical Research https//doi.org/10.1201/9780429258589\"}, {\"doi null, citation\":\"Augustus A White Iii, Manohar M Panjabi (1978) Clinical Biomechanics of the Spine None\"}, {\"doi null, citation\":\"W O Spitzer, M L Skovron, L R Salmi, J D Cassidy, J Duranceau, S Suissa, E Zeiss (1995) Scientific monograph of the Quebec Task Force on Whiplash-Associated Disorders redefining whiplash and its management. None\"}, {\"doi\":\"https//doi.org/10.1136/bmj.304.6840.1491\",\"citation\":\"P. Brennan, A. Silman (1992) Statistical methods for assessing observer variability in clinical measures. https//doi.org/10.1136/bmj.304.6840.1491\"}, {\"doi\":\"https//doi.org/10.2106/00004623-197052010-00001\",\"citation\":\"REGINALD R. COOPER, SINESIO MISOL, Penny Stimmel (1970) Tendon and Ligament Insertion https//doi.org/10.2106/00004623-197052010-00001\"}, {\"doi\":\"https//doi.org/10.1148/radiology.166.3.3340785\",\"citation\":\"J K Lee, L Yao, C T Phelps, C R Wirth, J Czajka, J Lozman (1988) Anterior cruciate ligament tears MR imaging compared with arthroscopy and clinical tests. https//doi.org/10.1148/radiology.166.3.3340785\"}, {\"doi null, citation\":\"S H Liu, R S Yang, R al-Shaikh, J M Lane (1995) Collagen in tendon, ligament, and bone healing. A current review. None\"}, {\"doi\":\"https//doi.org/10.1002/jor.1100060317\",\"citation\":\"Jiri Dvorak, Erich Schneider, Pierre Saldinger, Berton Rahn (1988) Biomechanics of the craniocervical region The alar and transverse ligaments https//doi.org/10.1002/jor.1100060317\"}, {\"doi\":\"https//doi.org/10.1097/00007632-198710000-00002\",\"citation\":\"JIRI DVORAK, JOHN HAYEK, ROLF ZEHNDER (1987) CT - Functional Diagnostics of the Rotatory Instability of the Upper Cervical Spine https//doi.org/10.1097/00007632-198710000-00002\"}, {\"doi\":\"https//doi.org/10.1148/radiology.201.1.8816527\",\"citation\":\"H R Ronnen, P J de Korte, P R Brink, H J van der Bijl, A J Tonino, C L Franke (1996) Acute whiplash injury is there a role for MR imaging?--a prospective study of 100 patients. https//doi.org/10.1148/radiology.201.1.8816527\"}, {\"doi\":\"https//doi.org/10.1148/radiology.205.3.9393511\",\"citation\":\"S J Erickson (1997) High-resolution imaging of the musculoskeletal system. https//doi.org/10.1148/radiology.205.3.9393511\"}, {\"doi\":\"https//doi.org/10.1148/radiology.184.2.1620855\",\"citation\":\"C D Schneck, M Mesgarzadeh, A Bonakdarpour, G J Ross (1992) MR imaging of the most commonly injured ankle ligaments. Part I. Normal anatomy. https//doi.org/10.1148/radiology.184.2.1620855\"}, {\"doi\":\"https//doi.org/10.1148/radiology.218.1.r01ja36133\",\"citation\":\"Christian W. A. Pfirrmann, Christoph A. Binkert, Marco Zanetti, Norbert Boos, Juerg Hodler (2001) MR Morphology of Alar Ligaments and Occipitoatlantoaxial Joints Study in 50 Asymptomatic Subjects https//doi.org/10.1148/radiology.218.1.r01ja36133\"}, {\"doi\":\"https//doi.org/10.1007/s002340100648\",\"citation\":\"J. Krakenes, B. Kaale, J. Rorvik, N. Gilhus (2001) MRI assessment of normal ligamentous structures in the craniovertebral junction https//doi.org/10.1007/s002340100648\"}, {\"doi\":\"https//doi.org/10.1097/00007632-199512000-00006\",\"citation\":\"Wolfgang G. Willauschus, Bernd Kladny, Wolfgang F. Beyer, Klaus Glückert, Richard Scheithauer (1995) Lesions of the Alar Ligaments, In Vivo and In vitro Studies With Magnetic Resonance Imaging https//doi.org/10.1097/00007632-199512000-00006\"}, {\"doi\":\"https//doi.org/10.1097/00007632-199004000-00001\",\"citation\":\"P. SALDINGER, J. DVORAK, B. A. RAHN, S. M. PERREN (1990) Histology of the Alar and Transverse Ligaments https//doi.org/10.1097/00007632-199004000-00001\"}, {\"doi\":\"https//doi.org/10.1148/radiology.160.2.3726127\",\"citation\":\"G W Gallimore, S E Harms (1986) Knee injuries high-resolution MR imaging. https//doi.org/10.1148/radiology.160.2.3726127\"}, {\"doi\":\"https//doi.org/10.1016/s0020-1383(97)00027-2\",\"citation\":\"Grethe Borchgrevink, Olaug Smevik, Irma Haave, Olav Haraldseth, Asbjørn Nordby, Inggard Lereim (1997) MRI of cerebrum and cervical columna within two days after whiplash neck sprain injury https//doi.org/10.1016/s0020-1383(97)00027-2\"}, {\"doi\":\"https//doi.org/10.1080/02841859509173401\",\"citation\":\"Grethe E. Borchgrevink, Olaug Smevik, Asbjön Nordby, Peter A. Rinck, T. C. Stiles, I. Lereim (1995) MR Imaging and Radiography of Patients with Cervical Hyperextension-Flexion Injuries after Car Accidents https//doi.org/10.1080/02841859509173401\"}, {\"doi\":\"https//doi.org/10.1148/radiology.161.1.3763868\",\"citation\":\"J Beltran, A M Noto, J C Mosure, O M Shamam, K L Weiss, W A Zuelzer (1986) Ankle surface coil MR imaging at 1.5 T. https//doi.org/10.1148/radiology.161.1.3763868\"}, {\"doi\":\"https//doi.org/10.1097/00004424-199101000-00015\",\"citation\":\"MARY KER (1991) Issues in the Use of Kappa https//doi.org/10.1097/00004424-199101000-00015\"}, {\"doi\":\"https//doi.org/10.1148/radiology.170.1.2909084\",\"citation\":\"A M Noto, Y Cheung, Z S Rosenberg, A Norman, N E Leeds (1989) MR imaging of the ankle normal variants. https//doi.org/10.1148/radiology.170.1.2909084\"}, {\"doi\":\"https//doi.org/10.1177/014556130108000110\",\"citation\":\"Eckhard Voile, Abbas Montazem (2001) MRI Video Diagnosis and Surgical Therapy of Soft Tissue Trauma to the Craniocervical Junction https//doi.org/10.1177/014556130108000110\"}, {\"doi\":\"https//doi.org/10.1520/jfs13513j\",\"citation\":\"VI Adams (1993) Neck Injuries III. Ligamentous Injuries of the Craniocervical Articulation Without Occipito-atlantal or Atlanto-axial Facet Dislocation. A Pathologic Study of 21 Traffic Fatalities https//doi.org/10.1520/jfs13513j\"}]\n",
            "[]\n",
            "[]\n",
            "[{\"doi\": \"10.1310/G7N8-81XN-E12K-CCM0\", \"citation\": \"Top Spinal Cord Inj Rehabil Fiedler 7 73 2002 10.1310/G7N8-81XN-E12K-CCM0 Perceived barriers to employment in individuals with spinal cord injury\"}, {\"doi\": \"10.1080/10790268.2004.11753726\", \"citation\": \"J Spinal Cord Med Kemp 27 22 2004 10.1080/10790268.2004.11753726 Treatment of major depression in individuals with spinal cord injury\"}, {\"doi\": \"10.2105/AJPH.2005.069146\", \"citation\": \"Am J Public Health Freeman 96 1254 2006 10.2105/AJPH.2005.069146 Driving status and risk of entry into long-term care in older adults\"}, {\"doi\": \"10.1038/sj.sc.3100571\", \"citation\": \"Spinal Cord Dijkers 35 829 1997 10.1038/sj.sc.3100571 Quality of life after spinal cord injury: a meta-analysis of the effects of disablement components\"}, {\"doi\": \"10.1097/00002060-199406000-00006\", \"citation\": \"Am J Phys Med Rehabil Tate 73 175 1994 10.1097/00002060-199406000-00006 Predicting depression and psychological distress in persons with spinal cord injury based on indicators of handicap\"}, {\"doi\": \"10.1038/sj.sc.3100918\", \"citation\": \"Spinal Cord Noreau 37 730 1999 10.1038/sj.sc.3100918 Productivity outcomes of individuals with spinal cord injury\"}, {\"doi\": \"10.1038/sj.sc.3100904\", \"citation\": \"Spinal Cord Conroy 37 624 1999 10.1038/sj.sc.3100904 Vocational outcome following spinal cord injury\"}, {\"doi\": \"10.1038/sj.sc.3101457\", \"citation\": \"Spinal Cord Franceschini 41 280 2003 10.1038/sj.sc.3101457 Longitudinal outcome 6 years after spinal cord injury\"}, {\"doi\": \"10.1038/sj.sc.3100362\", \"citation\": \"Spinal Cord Post 35 109 1997 10.1038/sj.sc.3100362 Services for spinal cord injured: availability and satisfaction\"}, {\"doi\": \"10.1038/sj.sc.3101649\", \"citation\": \"Spinal Cord Biering-S\\u00c3\\u00b8rensen 42 699 2004 10.1038/sj.sc.3101649 Mobility aids and transport possibilities 10-45 years after spinal cord injury\"}, {\"doi\": \"10.1080/11038120410020511\", \"citation\": \"Scand J Occup Ther Henriksson 11 54 2004 10.1080/11038120410020511 Safety and mobility of people with disabilities driving adapted cars\"}, {\"doi\": \"10.1080/09638280701456369\", \"citation\": \"Disabil Rehabil Stucki 30 1063 2008 10.1080/09638280701456369 Developing Swiss paraplegic research: building a research institution from the comprehensive perspective\"}, {\"doi\": \"10.1080/10790268.2006.11753886\", \"citation\": \"J Spinal Cord Med Pflaum 29 377 2006 10.1080/10790268.2006.11753886 Worklife after traumatic spinal cord injury\"}, {\"doi\": \"10.1001/jama.282.18.1737\", \"citation\": \"JAMA Spitzer 282 1737 1999 10.1001/jama.282.18.1737 Validation and utility of a self-report version of PRIME-MD: the PHQ primary care study\"}, {\"doi\": \"10.1097/00005650-199603000-00003\", \"citation\": \"Med Care Ware 34 220 1996 10.1097/00005650-199603000-00003 A 12-item Short-Form Health Survey: construction of scales and preliminary tests of reliability and validity\"}, {\"doi\": \"10.1016/j.apmr.2006.12.005\", \"citation\": \"Arch Phys Med Rehabil Priebe 88 Suppl 1 S84 2007 10.1016/j.apmr.2006.12.005 Spinal cord injury medicine: 6\"}, {\"doi\": \"10.1053/apmr.2001.26089\", \"citation\": \"Arch Phys Med Rehabil Kiyono 82 1389 2001 10.1053/apmr.2001.26089 Car-driving abilities in people with tetraplegia\"}, {\"doi\": \"10.1016/j.apmr.2004.04.031\", \"citation\": \"Arch Phys Med Rehabil Sipski 85 1826 2004 10.1016/j.apmr.2004.04.031 Effects of gender on neurologic and functional recovery after spinal cord injury\"}, {\"doi\": \"10.1016/j.apmr.2004.07.347\", \"citation\": \"Arch Phys Med Rehabil Hunt 85 1859 2004 10.1016/j.apmr.2004.07.347 Demographic and socioeconomic factors associated with disparity in wheelchair customizability among people with traumatic spinal cord injury\"}, {\"doi\": \"10.1016/j.apmr.2004.05.001\", \"citation\": \"Arch Phys Med Rehabil Meade 85 1782 2004 10.1016/j.apmr.2004.05.001 Race, employment, and spinal cord injury\"}, {\"doi\": \"10.3109/09638280902946952\", \"citation\": \"Disabil Rehabil Lidal 31 2174 2009 10.3109/09638280902946952 Employment of persons with spinal cord lesions injured more than 20 years ago\"}, {\"doi\": \"10.025\", \"citation\": \"Arch Phys Med Rehabil Jang 86 681 2005 10.1016/j.apmr.2004.10.025 Return to work after spinal cord injury in Taiwan: the contribution of functional independence\"}, {\"doi\": \"10.1080/10790268.2009.11754553\", \"citation\": \"J Spinal Cord Med Ottomanelli 32 503 2009 10.1080/10790268.2009.11754553 Review of critical factors related to employment after spinal cord injury: implications for research and vocational services\"}, {\"doi\": \"10.1002/oti.228\", \"citation\": \"Occup Ther Int Chan 14 123 2007 10.1002/oti.228 User satisfaction, community participation and quality of life among Chinese wheelchair users with spinal cord injury: a preliminary study\"}, {\"doi\": \"10.1016/j.apmr.2006.12.043\", \"citation\": \"Arch Phys Med Rehabil Carpenter 88 427 2007 10.1016/j.apmr.2006.12.043 Community participation after spinal cord injury\"}, {\"doi\": \"10.1038/sc.1991.3\", \"citation\": \"Paraplegia Davidoff 29 17 1991 10.1038/sc.1991.3 Compressive mononeuropathies of the upper extremity in chronic paraplegia\"}, {\"doi\": \"10.1111/j.1532-5415.2005.00471.x\", \"citation\": \"J Am Geriatr Soc Anstey 54 121 2006 10.1111/j.1532-5415.2005.00471.x Predicting driving cessation over 5 years in older adults: psychological well-being and cognitive competence are stronger predictors than physical health\"}]\n"
          ]
        }
      ]
    },
    {
      "cell_type": "code",
      "source": [
        "df = df.astype(str)\n",
        "df.to_csv(\"/content/drive/MyDrive/checkpoint_12_df.csv\", encoding='utf-8', index=False)"
      ],
      "metadata": {
        "id": "txDA70jVUsXz"
      },
      "execution_count": null,
      "outputs": []
    },
    {
      "cell_type": "code",
      "source": [
        "df = pd.read_csv(\"/content/drive/MyDrive/checkpoint_11_df.csv\")"
      ],
      "metadata": {
        "id": "c-xjtXXAll_K"
      },
      "execution_count": null,
      "outputs": []
    },
    {
      "cell_type": "code",
      "source": [
        "def see_old_pubmed(row):\n",
        "  clear_output(wait=True)\n",
        "  if ( \"article_id\" in row[\"references\"] ):\n",
        "    print(row[\"references\"])\n",
        "  # else:\n",
        "  #   print(\"no article_id\")\n",
        "\n",
        "df.apply(see_old_pubmed, axis=1)"
      ],
      "metadata": {
        "id": "s51M6C8Glp4N",
        "colab": {
          "base_uri": "https://localhost:8080/"
        },
        "outputId": "4ef389fc-895b-4888-bdf7-7a8d86eaabb8"
      },
      "execution_count": null,
      "outputs": [
        {
          "output_type": "stream",
          "name": "stdout",
          "text": [
            "[{\"citation\": \"Bertoglio K, Hendren RL. New developments in autism. The Psychiatric clinics of North America. 2009;32(1):1\\u201314.\", \"article_ids\": {\"pubmed\": \"19248913\"}}, {\"citation\": \"Ashwood P, Wills S, Van de Water J. The immune response in autism: a new frontier for autism research. Journal of leukocyte biology. 2006;80(1):1\\u201315.\", \"article_ids\": {\"pubmed\": \"16698940\"}}, {\"citation\": \"Vargas DL, Nascimbene C, Krishnan C, Zimmerman AW, Pardo CA. Neuroglial activation and neuroinflammation in the brain of patients with autism. Annals of neurology. 2005;57(1):67\\u201381.\", \"article_ids\": {\"pubmed\": \"15546155\"}}, {\"citation\": \"Cohly HH, Panja A. Immunological findings in autism. International review of neurobiology. 2005;71:317\\u201341.\", \"article_ids\": {\"pubmed\": \"16512356\"}}, {\"citation\": \"Gomes FC, Sousa Vde O, Romao L. Emerging roles for TGF-beta1 in nervous system development. International journal of developmental neuroscience : the official journal of the International Society for Developmental Neuroscience. 2005;23(5):413\\u201324.\", \"article_ids\": {\"pubmed\": \"15936920\"}}, {\"citation\": \"Zablocka A. [Cooperation between the immune and nervous systems] Postepy higieny i medycyny doswiadczalnej. 2001;55(1):3\\u201315.\", \"article_ids\": {\"pubmed\": \"11355532\"}}, {\"citation\": \"Ziemssen T, Kern S. Psychoneuroimmunology--cross-talk between the immune and nervous systems. Journal of neurology. 2007;254(Suppl 2):Ii8\\u201311.\", \"article_ids\": {\"pubmed\": \"17503136\"}}, {\"citation\": \"Wachs FP, Winner B, Couillard-Despres S, Schiller T, Aigner R, Winkler J, et al. Transforming growth factor-beta1 is a negative modulator of adult neurogenesis. Journal of neuropathology and experimental neurology. 2006;65(4):358\\u201370.\", \"article_ids\": {\"pubmed\": \"16691117\"}}, {\"citation\": \"Brionne TC, Tesseur I, Masliah E, Wyss-Coray T. Loss of TGF-beta 1 leads to increased neuronal cell death and microgliosis in mouse brain. Neuron. 2003;40(6):1133\\u201345.\", \"article_ids\": {\"pubmed\": \"14687548\"}}, {\"citation\": \"Ashwood P, Enstrom A, Krakowiak P, Hertz-Picciotto I, Hansen RL, Croen LA, et al. Decreased transforming growth factor beta1 in autism: a potential link between immune dysregulation and impairment in clinical behavioral outcomes. Journal of neuroimmunology. 2008;204(1-2):149\\u201353.\", \"article_ids\": {\"pmc\": \"PMC2615583\", \"pubmed\": \"18762342\"}}, {\"citation\": \"Okada K, Hashimoto K, Iwata Y, Nakamura K, Tsujii M, Tsuchiya KJ, et al. Decreased serum levels of transforming growth factor-beta1 in patients with autism. Progress in neuro-psychopharmacology & biological psychiatry. 2007;31(1):187\\u201390.\", \"article_ids\": {\"pubmed\": \"17030376\"}}, {\"citation\": \"Fujii D, Brissenden JE, Derynck R, Francke U. Transforming growth factor beta gene maps to human chromosome 19 long arm and to mouse chromosome 7. Somatic cell and molecular genetics. 1986;12(3):281\\u20138.\", \"article_ids\": {\"pubmed\": \"3459257\"}}, {\"citation\": \"Awad MR, El-Gamel A, Hasleton P, Turner DM, Sinnott PJ, Hutchinson IV. Genotypic variation in the transforming growth factor-beta1 gene: association with transforming growth factor-beta1 production, fibrotic lung disease, and graft fibrosis after lung transplantation. Transplantation. 1998;66(8):1014\\u201320.\", \"article_ids\": {\"pubmed\": \"9808485\"}}, {\"citation\": \"Hutchinson IV, Turner D, Sankaran D, Awad M, Pravica V, Sinnott P. Cytokine genotypes in allograft rejection: guidelines for immunosuppression. Transplantation proceedings. 1998;30(8):3991\\u20132.\", \"article_ids\": {\"pubmed\": \"9865272\"}}, {\"citation\": \"Suthanthiran M, Li B, Song JO, Ding R, Sharma VK, Schwartz JE, et al. Transforming growth factor-beta 1 hyperexpression in African-American hypertensives: A novel mediator of hypertension and/or target organ damage. Proceedings of the National Academy of Sciences of the United States of America. 2000;97(7):3479\\u201384.\", \"article_ids\": {\"pmc\": \"PMC16265\", \"pubmed\": \"10725360\"}}, {\"citation\": \"Yamada Y, Miyauchi A, Goto J, Takagi Y, Okuizumi H, Kanematsu M, et al. Association of a polymorphism of the transforming growth factor-beta1 gene with genetic susceptibility to osteoporosis in postmenopausal Japanese women. Journal of bone and mineral research : the official journal of the American Society for Bone and Mineral Research. 1998;13(10):1569\\u201376.\", \"article_ids\": {\"pubmed\": \"9783545\"}}, {\"citation\": \"Lindholm D, Castren E, Kiefer R, Zafra F, Thoenen H. Transforming growth factor-beta 1 in the rat brain: increase after injury and inhibition of astrocyte proliferation. The Journal of cell biology. 1992;117(2):395\\u2013400.\", \"article_ids\": {\"pmc\": \"PMC2289420\", \"pubmed\": \"1560032\"}}, {\"citation\": \"Logan A, Frautschy SA, Gonzalez AM, Sporn MB, Baird A. Enhanced expression of transforming growth factor beta 1 in the rat brain after a localized cerebral injury. Brain research. 1992;587(2):216\\u201325.\", \"article_ids\": {\"pmc\": \"PMC4310563\", \"pubmed\": \"1525658\"}}, {\"citation\": \"Prehn JH, Backhauss C, Krieglstein J. Transforming growth factor-beta 1 prevents glutamate neurotoxicity in rat neocortical cultures and protects mouse neocortex from ischemic injury in vivo. Journal of cerebral blood flow and metabolism : official journal of the International Society of Cerebral Blood Flow and Metabolism. 1993;13(3):521\\u20135.\", \"article_ids\": {\"pubmed\": \"8097519\"}}, {\"citation\": \"Schopler E, Reichler RJ, DeVellis RF, Daly K. Toward objective classification of childhood autism: Childhood Autism Rating Scale (CARS) Journal of autism and developmental disorders. 1980;10(1):91\\u2013103.\", \"article_ids\": {\"pubmed\": \"6927682\"}}, {\"citation\": \"Miller SA, Dykes DD, Polesky HF. A simple salting out procedure for extracting DNA from human nucleated cells. Nucleic acids research. 1988;16(3)\", \"article_ids\": {\"pmc\": \"PMC334765\", \"pubmed\": \"3344216\"}}, {\"citation\": \"Croonenberghs J, Bosmans E, Deboutte D, Kenis G, Maes M. Activation of the inflammatory response system in autism. Neuropsychobiology. 2002;45(1):1\\u20136.\", \"article_ids\": {\"pubmed\": \"11803234\"}}, {\"citation\": \"Jyonouchi H, Sun S, Le H. Proinflammatory and regulatory cytokine production associated with innate and adaptive immune responses in children with autism spectrum disorders and developmental regression. Journal of neuroimmunology. 2001;120(1-2):170\\u20139.\", \"article_ids\": {\"pubmed\": \"11694332\"}}, {\"citation\": \"Zimmerman AW, Jyonouchi H, Comi AM, Connors SL, Milstien S, Varsou A, et al. Cerebrospinal fluid and serum markers of inflammation in autism. Pediatric neurology. 2005;33(3):195\\u2013201.\", \"article_ids\": {\"pubmed\": \"16139734\"}}, {\"citation\": \"Khakzad MR, Javanbakht M, Shayegan MR, Kianoush S, Omid F, Hojati M, et al. The complementary role of high sensitivity C-reactive protein in the diagnosis and severity assessment of autism. Research in Autism Spectrum Disorders. 2012;6(3):1032\\u20137.\", \"article_ids\": {}}, {\"citation\": \"van Gent T, Heijnen CJ, Treffers PD. Autism and the immune system. Journal of child psychology and psychiatry, and allied disciplines. 1997;38(3):337\\u201349.\", \"article_ids\": {\"pubmed\": \"9232480\"}}, {\"citation\": \"Singer HS, Morris CM, Williams PN, Yoon DY, Hong JJ, Zimmerman AW. Antibrain antibodies in children with autism and their unaffected siblings. Journal of neuroimmunology. 2006;178(1-2):149\\u201355.\", \"article_ids\": {\"pubmed\": \"16842863\"}}, {\"citation\": \"Singh VK, Warren RP, Odell JD, Warren WL, Cole P. Antibodies to myelin basic protein in children with autistic behavior. Brain, behavior, and immunity. 1993;7(1):97\\u2013103.\", \"article_ids\": {\"pubmed\": \"7682457\"}}, {\"citation\": \"Heuer L, Ashwood P, Schauer J, Goines P, Krakowiak P, Hertz-Picciotto I, et al. Reduced levels of immunoglobulin in children with autism correlates with behavioral symptoms. Autism research: official Journal of the International Society for Autism Research. 2008;1(5):275\\u201383.\", \"article_ids\": {\"pmc\": \"PMC2663897\", \"pubmed\": \"19343198\"}}, {\"citation\": \"den Haan JM, Kraal G, Bevan MJ. Cutting edge: Lipopolysaccharide induces IL-10-producing regulatory CD4+ T cells that suppress the CD8+ T cell response. J Immunol. 2007;178(9):5429\\u201333.\", \"article_ids\": {\"pmc\": \"PMC2776046\", \"pubmed\": \"17442923\"}}, {\"citation\": \"Sonoda KH, Faunce DE, Taniguchi M, Exley M, Balk S, Stein-Streilein J. NK T cell-derived IL-10 is essential for the differentiation of antigen-specific T regulatory cells in systemic tolerance. J Immunol. 2001;166(1):42\\u201350.\", \"article_ids\": {\"pubmed\": \"11123275\"}}, {\"citation\": \"Marra LE, Zhang ZX, Joe B, Campbell J, Levy GA, Penninger J, et al. IL-10 induces regulatory T cell apoptosis by up-regulation of the membrane form of TNF-alpha. J Immunol. 2004;172(2):1028\\u201335.\", \"article_ids\": {\"pubmed\": \"14707076\"}}, {\"citation\": \"de Sampaio e Spohr TC, Martinez R, da Silva EF, Neto VM, Gomes FC. Neuro-glia interaction effects on GFAP gene: a novel role for transforming growth factor-beta1. The European journal of neuroscience. 2002;16(11):2059\\u201369.\", \"article_ids\": {\"pubmed\": \"12473073\"}}, {\"citation\": \"Sousa Vde O, Romao L, Neto VM, Gomes FC. Glial fibrillary acidic protein gene promoter is differently modulated by transforming growth factor-beta 1 in astrocytes from distinct brain regions. The European journal of neuroscience. 2004;19(7):1721\\u201330.\", \"article_ids\": {\"pubmed\": \"15078546\"}}, {\"citation\": \"Feng Z, Ko CP. Schwann cells promote synaptogenesis at the neuromuscular junction via transforming growth factor-beta1. The Journal of neuroscience : the official journal of the Society for Neuroscience. 2008;28(39):9599\\u2013609.\", \"article_ids\": {\"pmc\": \"PMC3844879\", \"pubmed\": \"18815246\"}}, {\"citation\": \"Siegenthaler JA, Miller MW. Transforming growth factor beta1 modulates cell migration in rat cortex: effects of ethanol. Cereb Cortex. 2004;14(7):791\\u2013802.\", \"article_ids\": {\"pubmed\": \"15084492\"}}, {\"citation\": \"Unsicker K, Krieglstein K. TGF-betas and their roles in the regulation of neuron survival. Advances in experimental medicine and biology. 2002;513:353\\u201374.\", \"article_ids\": {\"pubmed\": \"12575828\"}}, {\"citation\": \"Roussa E, Farkas LM, Krieglstein K. TGF-beta promotes survival on mesencephalic dopaminergic neurons in cooperation with Shh and FGF-8. Neurobiology of disease. 2004;16(2):300\\u201310.\", \"article_ids\": {\"pubmed\": \"15193287\"}}, {\"citation\": \"Pratt BM, McPherson JM. TGF-beta in the central nervous system: potential roles in ischemic injury and neurodegenerative diseases. Cytokine & growth factor reviews. 1997;8(4):267\\u201392.\", \"article_ids\": {\"pubmed\": \"9620642\"}}, {\"citation\": \"Atladottir HO, Pedersen MG, Thorsen P, Mortensen PB, Deleuran B, Eaton WW, et al. Association of family history of autoimmune diseases and autism spectrum disorders. Pediatrics. 2009;124(2):687\\u201394.\", \"article_ids\": {\"pubmed\": \"19581261\"}}]\n"
          ]
        }
      ]
    },
    {
      "cell_type": "code",
      "source": [
        "df[\"references\"].describe()"
      ],
      "metadata": {
        "id": "lkVvNlGdsUlU"
      },
      "execution_count": null,
      "outputs": []
    },
    {
      "cell_type": "code",
      "source": [
        "from google.colab import drive\n",
        "drive.mount('/content/drive', force_remount=True)\n",
        "import pandas as pd\n",
        "df = pd.read_csv(\"/content/drive/MyDrive/checkpoint_4_df.csv\")"
      ],
      "metadata": {
        "colab": {
          "base_uri": "https://localhost:8080/"
        },
        "id": "3Qhanfppf2RV",
        "outputId": "10f225ca-aec8-412e-9f74-5883a37a4c0f"
      },
      "execution_count": null,
      "outputs": [
        {
          "output_type": "stream",
          "name": "stdout",
          "text": [
            "Mounted at /content/drive\n"
          ]
        }
      ]
    },
    {
      "cell_type": "code",
      "source": [
        "import re\n",
        "import json\n",
        "from IPython.display import clear_output\n",
        "\n",
        "def get_doi( row ):\n",
        "  clear_output(wait=True)\n",
        "  try:\n",
        "    print( row[\"references\"] )\n",
        "    citations = json.loads(row[\"references\"])\n",
        "    # citations = ['Cheney Anesthesiology 2006 10.1097/00000542-200612000-00007 105 1081', 'Peterson Anesthesiology 2005 10.1097/00000542-200507000-00009 103 33', 'Mallampati Can Anaesth Soc J 1985 10.1007/BF03011357 32 429', 'Samsoon Anaesthesia 1987 10.1111/j.1365-2044.1987.tb04039.x 42 487', 'Wilson Br J Anaesth 1988 10.1093/bja/61.2.211 61 211', 'Shiga Anesthesiology 2005 10.1097/00000542-200508000-00027 103 429', 'Cormack Anaesthesia 1984 10.1111/j.1365-2044.1984.tb08932.x 39 1105', 'Adnet Anesthesiology 1997 10.1097/00000542-199712000-00005 87 1290']\n",
        "    citations_res = []\n",
        "    for citation in citations:\n",
        "      doi = re.search(\"^.*(10\\.[A-Za-z0-9.\\/-]+)(?<!\\.)(?=[ ]|\\.).*$\", citation)\n",
        "      if ( doi == None ):\n",
        "        continue\n",
        "      doi = doi.group(1)\n",
        "      citations_doi = {}\n",
        "      if ( doi != \"\" ):\n",
        "        citations_doi[\"doi\"]=doi\n",
        "      else:\n",
        "        citations_doi[\"doi\"]=\"no_doi\"\n",
        "\n",
        "      citations_doi[\"citation\"]=citation\n",
        "      citations_res.append( citations_doi )\n",
        "\n",
        "    # print(json.dumps(citations_res, indent=4))\n",
        "    citations_res = json.dumps(citations_res) # convert to string ...\n",
        "    print( citations_res )\n",
        "    return citations_res\n",
        "  except:\n",
        "    return \"[]\"\n",
        "\n",
        "df[\"references\"] = df.apply( get_doi, axis=1 )"
      ],
      "metadata": {
        "id": "5RkXPV7lGvjX",
        "colab": {
          "base_uri": "https://localhost:8080/"
        },
        "outputId": "90c08ae5-154a-43de-a3c4-fef97734fce6"
      },
      "execution_count": null,
      "outputs": [
        {
          "output_type": "stream",
          "name": "stdout",
          "text": [
            "nan\n"
          ]
        }
      ]
    },
    {
      "cell_type": "code",
      "source": [
        "df = df.astype(str)\n",
        "df.to_csv(\"/content/drive/MyDrive/checkpoint_5_df.csv\", encoding='utf-8', index=False)"
      ],
      "metadata": {
        "id": "Sd0N6TghTGSz"
      },
      "execution_count": null,
      "outputs": []
    },
    {
      "cell_type": "code",
      "source": [
        "df = pd.read_csv(\"/content/drive/MyDrive/checkpoint_5_df.csv\")"
      ],
      "metadata": {
        "id": "UJCidCRBh_iO"
      },
      "execution_count": null,
      "outputs": []
    },
    {
      "cell_type": "code",
      "source": [
        "df[\"references\"].describe()"
      ],
      "metadata": {
        "colab": {
          "base_uri": "https://localhost:8080/",
          "height": 209
        },
        "id": "Ra7H6OMPfeAb",
        "outputId": "3cdfbe4b-558d-482e-d0b2-08eb7d84988d"
      },
      "execution_count": null,
      "outputs": [
        {
          "output_type": "execute_result",
          "data": {
            "text/plain": [
              "count     26806\n",
              "unique    16745\n",
              "top          []\n",
              "freq      10055\n",
              "Name: references, dtype: object"
            ],
            "text/html": [
              "<div>\n",
              "<style scoped>\n",
              "    .dataframe tbody tr th:only-of-type {\n",
              "        vertical-align: middle;\n",
              "    }\n",
              "\n",
              "    .dataframe tbody tr th {\n",
              "        vertical-align: top;\n",
              "    }\n",
              "\n",
              "    .dataframe thead th {\n",
              "        text-align: right;\n",
              "    }\n",
              "</style>\n",
              "<table border=\"1\" class=\"dataframe\">\n",
              "  <thead>\n",
              "    <tr style=\"text-align: right;\">\n",
              "      <th></th>\n",
              "      <th>references</th>\n",
              "    </tr>\n",
              "  </thead>\n",
              "  <tbody>\n",
              "    <tr>\n",
              "      <th>count</th>\n",
              "      <td>26806</td>\n",
              "    </tr>\n",
              "    <tr>\n",
              "      <th>unique</th>\n",
              "      <td>16745</td>\n",
              "    </tr>\n",
              "    <tr>\n",
              "      <th>top</th>\n",
              "      <td>[]</td>\n",
              "    </tr>\n",
              "    <tr>\n",
              "      <th>freq</th>\n",
              "      <td>10055</td>\n",
              "    </tr>\n",
              "  </tbody>\n",
              "</table>\n",
              "</div><br><label><b>dtype:</b> object</label>"
            ]
          },
          "metadata": {},
          "execution_count": 5
        }
      ]
    },
    {
      "cell_type": "code",
      "source": [
        "df_1 = pd.read_csv(\"/content/drive/MyDrive/checkpoint_3_df.csv\")"
      ],
      "metadata": {
        "id": "rCWLQHn8gytE"
      },
      "execution_count": null,
      "outputs": []
    },
    {
      "cell_type": "code",
      "source": [
        "df_1[\"references\"].describe()"
      ],
      "metadata": {
        "colab": {
          "base_uri": "https://localhost:8080/",
          "height": 209
        },
        "id": "Rt8A5yiVg50y",
        "outputId": "9f3d798b-70af-4c38-a4f7-33fed123fdc2"
      },
      "execution_count": null,
      "outputs": [
        {
          "output_type": "execute_result",
          "data": {
            "text/plain": [
              "count     26806\n",
              "unique     6252\n",
              "top          []\n",
              "freq      20554\n",
              "Name: references, dtype: object"
            ],
            "text/html": [
              "<div>\n",
              "<style scoped>\n",
              "    .dataframe tbody tr th:only-of-type {\n",
              "        vertical-align: middle;\n",
              "    }\n",
              "\n",
              "    .dataframe tbody tr th {\n",
              "        vertical-align: top;\n",
              "    }\n",
              "\n",
              "    .dataframe thead th {\n",
              "        text-align: right;\n",
              "    }\n",
              "</style>\n",
              "<table border=\"1\" class=\"dataframe\">\n",
              "  <thead>\n",
              "    <tr style=\"text-align: right;\">\n",
              "      <th></th>\n",
              "      <th>references</th>\n",
              "    </tr>\n",
              "  </thead>\n",
              "  <tbody>\n",
              "    <tr>\n",
              "      <th>count</th>\n",
              "      <td>26806</td>\n",
              "    </tr>\n",
              "    <tr>\n",
              "      <th>unique</th>\n",
              "      <td>6252</td>\n",
              "    </tr>\n",
              "    <tr>\n",
              "      <th>top</th>\n",
              "      <td>[]</td>\n",
              "    </tr>\n",
              "    <tr>\n",
              "      <th>freq</th>\n",
              "      <td>20554</td>\n",
              "    </tr>\n",
              "  </tbody>\n",
              "</table>\n",
              "</div><br><label><b>dtype:</b> object</label>"
            ]
          },
          "metadata": {},
          "execution_count": 7
        }
      ]
    },
    {
      "cell_type": "code",
      "source": [
        "def change_empty(row):\n",
        "  if ( row[\"references\"] == \"[]\" ):\n",
        "    pmid=row[\"pmid\"]\n",
        "    row_iter = df_1.index[df_1['pmid'] == pmid].tolist()[0]\n",
        "    # print( df_1[\"references\"].iloc[[row_iter]].tolist()[0] )\n",
        "    return df_1[\"references\"].iloc[[row_iter]].tolist()[0]\n",
        "  return row[\"references\"]\n",
        "\n",
        "df[\"references\"] = df.apply( change_empty, axis=1 )"
      ],
      "metadata": {
        "id": "x32aXlXchA0p"
      },
      "execution_count": null,
      "outputs": []
    },
    {
      "cell_type": "code",
      "source": [
        "df[\"references\"].describe()"
      ],
      "metadata": {
        "colab": {
          "base_uri": "https://localhost:8080/",
          "height": 209
        },
        "id": "aMNZdJvIh5-V",
        "outputId": "92a20cd6-c5fb-4194-e961-f344edb1f652"
      },
      "execution_count": null,
      "outputs": [
        {
          "output_type": "execute_result",
          "data": {
            "text/plain": [
              "count     26806\n",
              "unique    17980\n",
              "top          []\n",
              "freq       8820\n",
              "Name: references, dtype: object"
            ],
            "text/html": [
              "<div>\n",
              "<style scoped>\n",
              "    .dataframe tbody tr th:only-of-type {\n",
              "        vertical-align: middle;\n",
              "    }\n",
              "\n",
              "    .dataframe tbody tr th {\n",
              "        vertical-align: top;\n",
              "    }\n",
              "\n",
              "    .dataframe thead th {\n",
              "        text-align: right;\n",
              "    }\n",
              "</style>\n",
              "<table border=\"1\" class=\"dataframe\">\n",
              "  <thead>\n",
              "    <tr style=\"text-align: right;\">\n",
              "      <th></th>\n",
              "      <th>references</th>\n",
              "    </tr>\n",
              "  </thead>\n",
              "  <tbody>\n",
              "    <tr>\n",
              "      <th>count</th>\n",
              "      <td>26806</td>\n",
              "    </tr>\n",
              "    <tr>\n",
              "      <th>unique</th>\n",
              "      <td>17980</td>\n",
              "    </tr>\n",
              "    <tr>\n",
              "      <th>top</th>\n",
              "      <td>[]</td>\n",
              "    </tr>\n",
              "    <tr>\n",
              "      <th>freq</th>\n",
              "      <td>8820</td>\n",
              "    </tr>\n",
              "  </tbody>\n",
              "</table>\n",
              "</div><br><label><b>dtype:</b> object</label>"
            ]
          },
          "metadata": {},
          "execution_count": 32
        }
      ]
    },
    {
      "cell_type": "code",
      "source": [
        "df[\"references\"].describe()\n",
        "df.to_csv(\"/content/drive/MyDrive/checkpoint_6_df.csv\", encoding='utf-8', index=False)"
      ],
      "metadata": {
        "id": "vqfHoCdmj4FO"
      },
      "execution_count": null,
      "outputs": []
    },
    {
      "cell_type": "code",
      "source": [
        "from google.colab import drive\n",
        "drive.mount('/content/drive', force_remount=True)\n",
        "import pandas as pd\n",
        "df = pd.read_csv(\"/content/drive/MyDrive/checkpoint_7_df.csv\")"
      ],
      "metadata": {
        "colab": {
          "base_uri": "https://localhost:8080/"
        },
        "id": "d5qgSkLi4sIQ",
        "outputId": "30cce1eb-c643-4a09-a621-ebaca72c05d7"
      },
      "execution_count": null,
      "outputs": [
        {
          "output_type": "stream",
          "name": "stdout",
          "text": [
            "Mounted at /content/drive\n"
          ]
        }
      ]
    },
    {
      "cell_type": "code",
      "source": [
        "import requests\n",
        "import re\n",
        "import json\n",
        "import time\n",
        "import datetime\n",
        "from IPython.display import clear_output\n",
        "!pip install demjson3\n",
        "from demjson3 import decode\n",
        "\n",
        "# https://github.com/eschares/OpenAlex-CitedReferences/blob/main/notebooks/1-Pull_the_data_OpenAlex-citedreferences.ipynb\n",
        "# https://groups.google.com/g/openalex-users/c/O4kidbDVFtI?pli=1\n",
        "\n",
        "# http://journals.plos.org/plosone/article/file?id=10.1371/journal.pone.0039966&type=manuscript\n",
        "# https://api.crossref.org/works/10.1371/journal.pone.0032774.xml\n",
        "\n",
        "def innertext(elt):\n",
        "    return (elt.text or '') +' '.join(innertext(e)+(e.tail or '') for e in elt)\n",
        "\n",
        "def alex_citation(paper_pmid):\n",
        "  # https://api.openalex.org/works/pmid:22815718&doi:10.1371/journal.pone.0039966\n",
        "  response = requests.get(f'https://api.openalex.org/works/pmid:{paper_pmid}')\n",
        "  # response = requests.get(f'https://api.openalex.org/works/mailto=apaluza3@gmail.com/https://doi.org/{paper_doi}')\n",
        "  # response = requests.get(f'https://api.openalex.org/works/mailto=apaluza3@gmail.com/doi:{paper_doi}')\n",
        "  print( f'Computing PMID: {paper_pmid} ... (status: {response.status_code})' )\n",
        "  decoded_json = decode(response.text)\n",
        "  # print(type(decoded_json))\n",
        "  # print(decoded_json)\n",
        "  # citations = response.json()[\"results\"][0][\"referenced_works\"]\n",
        "  citations = decoded_json[\"referenced_works\"]\n",
        "\n",
        "  citation_list = \"\"\n",
        "  if ( len(citations) == 0 ):\n",
        "    return \"[]\"\n",
        "\n",
        "  citation_iter = 0\n",
        "  for citation in citations:\n",
        "    citation_iter = citation_iter + 1\n",
        "    if ( citation_iter == 100 ):\n",
        "      break # maximum request limit ...\n",
        "    citation = citation.replace(\"https://openalex.org/\", \"\")\n",
        "    citation_list = citation_list + citation + '|'\n",
        "  citation_list = citation_list[: -1]\n",
        "\n",
        "  url = \"https://api.openalex.org/works?filter=openalex:\"+citation_list\n",
        "  print(url)\n",
        "  cit_json = decode(requests.get(url).text)\n",
        "\n",
        "  full_jsons = []\n",
        "  # print( len(cit_json[\"results\"]) )\n",
        "  for citation in cit_json[\"results\"]:\n",
        "    title = citation[\"title\"]\n",
        "    authors=\"\"\n",
        "    for author in citation[\"authorships\"]:\n",
        "      # print(author[\"raw_author_name\"])\n",
        "      authors = authors + author[\"raw_author_name\"] + \", \"\n",
        "    authors = authors[: -2]\n",
        "    year = citation[\"publication_year\"]\n",
        "    doi = citation[\"doi\"]\n",
        "    full_json = { \"doi\": doi, \"citation\": f'{authors} ({year}) {title} {doi}' }\n",
        "    full_jsons.append(full_json)\n",
        "  return json.dumps(full_jsons)\n",
        "\n",
        "# result_to_convert = alex_citation(\"10.1038/jhh.2011.8\")\n",
        "# final_result = str.encode(result_to_convert).decode(\"unicode_escape\")\n",
        "\n",
        "length=len(df[ df[\"references\"] == \"[]\" ])\n",
        "iter=0\n",
        "avg_time_taken=0\n",
        "remaining_hours=0\n",
        "remaining_minutes=0\n",
        "remaining_seconds=0\n",
        "def alex_citations(row):\n",
        "  if ( row[\"references\"] != \"[]\" ):\n",
        "    return row[\"references\"]\n",
        "\n",
        "  # if ( str(row[\"doi\"]) == \"nan\" ):\n",
        "  #   return row[\"references\"]\n",
        "\n",
        "  start = datetime.datetime.now()\n",
        "  global iter\n",
        "  global length\n",
        "  global avg_time_taken\n",
        "  global remaining_hours\n",
        "  global remaining_minutes\n",
        "  global remaining_seconds\n",
        "  iter=iter+1\n",
        "  try:\n",
        "    result_to_convert = alex_citation(row[\"pmid\"])\n",
        "    final_result = str.encode(result_to_convert).decode(\"unicode_escape\")\n",
        "  except:\n",
        "    clear_output(wait=True)\n",
        "    print( \"Some exception happened with the previous DOI ... \" )\n",
        "    return \"[]\"\n",
        "  clear_output(wait=True)\n",
        "\n",
        "  end = datetime.datetime.now()\n",
        "  time_length = end - start\n",
        "  time_length = int(time_length.total_seconds() * 1000) / 1000\n",
        "  avg_time_taken = (avg_time_taken * (iter-1) + time_length) / iter\n",
        "  remaining = ( length - iter ) * avg_time_taken\n",
        "  remaining_hours = int( remaining / 3600 )\n",
        "  remaining_minutes = int( ( remaining % 3600 ) / 60 )\n",
        "  remaining_seconds = int( remaining % 60 )\n",
        "  print( f'{iter}/{length} - DONE' )\n",
        "  print( f'Took {time_length} seconds ... {remaining_hours} hours, {remaining_minutes} minutes, {remaining_seconds} seconds remaining ... ' )\n",
        "  print( f'OLD: {row[\"references\"]}' )\n",
        "  print( f'NEW: {final_result}' )\n",
        "  print( f'\\n{iter+1}/{length} - now computing ...' )\n",
        "  time.sleep(0.1)\n",
        "  return final_result\n",
        "\n",
        "df[\"references\"] = df.apply( alex_citations, axis=1 )"
      ],
      "metadata": {
        "colab": {
          "base_uri": "https://localhost:8080/"
        },
        "id": "NB3kCTvrofzI",
        "outputId": "0808ec7d-efb3-4afd-b9ed-a518ee12b68d"
      },
      "execution_count": null,
      "outputs": [
        {
          "output_type": "stream",
          "name": "stdout",
          "text": [
            "6921/6921 - DONE\n",
            "Took 0.246 seconds ... 0 hours, 0 minutes, 0 seconds remaining ... \n",
            "OLD: []\n",
            "NEW: []\n",
            "\n",
            "6922/6921 - now computing ...\n"
          ]
        }
      ]
    },
    {
      "cell_type": "code",
      "source": [
        "df.to_csv(\"/content/drive/MyDrive/checkpoint_8_df.csv\", encoding='utf-8', index=False)"
      ],
      "metadata": {
        "id": "F2E6o1_rMopY"
      },
      "execution_count": null,
      "outputs": []
    },
    {
      "cell_type": "code",
      "source": [
        "df[\"references\"].describe()"
      ],
      "metadata": {
        "colab": {
          "base_uri": "https://localhost:8080/",
          "height": 209
        },
        "id": "z4kGhZQtg20f",
        "outputId": "919b22b4-911c-42d0-c379-efb35c3d7c93"
      },
      "execution_count": null,
      "outputs": [
        {
          "output_type": "execute_result",
          "data": {
            "text/plain": [
              "count     26806\n",
              "unique    20942\n",
              "top          []\n",
              "freq       5856\n",
              "Name: references, dtype: object"
            ],
            "text/html": [
              "<div>\n",
              "<style scoped>\n",
              "    .dataframe tbody tr th:only-of-type {\n",
              "        vertical-align: middle;\n",
              "    }\n",
              "\n",
              "    .dataframe tbody tr th {\n",
              "        vertical-align: top;\n",
              "    }\n",
              "\n",
              "    .dataframe thead th {\n",
              "        text-align: right;\n",
              "    }\n",
              "</style>\n",
              "<table border=\"1\" class=\"dataframe\">\n",
              "  <thead>\n",
              "    <tr style=\"text-align: right;\">\n",
              "      <th></th>\n",
              "      <th>references</th>\n",
              "    </tr>\n",
              "  </thead>\n",
              "  <tbody>\n",
              "    <tr>\n",
              "      <th>count</th>\n",
              "      <td>26806</td>\n",
              "    </tr>\n",
              "    <tr>\n",
              "      <th>unique</th>\n",
              "      <td>20942</td>\n",
              "    </tr>\n",
              "    <tr>\n",
              "      <th>top</th>\n",
              "      <td>[]</td>\n",
              "    </tr>\n",
              "    <tr>\n",
              "      <th>freq</th>\n",
              "      <td>5856</td>\n",
              "    </tr>\n",
              "  </tbody>\n",
              "</table>\n",
              "</div><br><label><b>dtype:</b> object</label>"
            ]
          },
          "metadata": {},
          "execution_count": 4
        }
      ]
    },
    {
      "cell_type": "code",
      "source": [
        "df[\"pmid\"]"
      ],
      "metadata": {
        "colab": {
          "base_uri": "https://localhost:8080/",
          "height": 458
        },
        "id": "M79oilUkiCwK",
        "outputId": "f699e777-1c9e-40b3-fdd2-2646a9e6e1fb"
      },
      "execution_count": null,
      "outputs": [
        {
          "output_type": "execute_result",
          "data": {
            "text/plain": [
              "0        22815718\n",
              "1        27286562\n",
              "2        22381459\n",
              "3        21396219\n",
              "4        24167451\n",
              "           ...   \n",
              "26801    16302942\n",
              "26802     9855106\n",
              "26803    22004635\n",
              "26804    17126784\n",
              "26805    21535973\n",
              "Name: pmid, Length: 26806, dtype: int64"
            ],
            "text/html": [
              "<div>\n",
              "<style scoped>\n",
              "    .dataframe tbody tr th:only-of-type {\n",
              "        vertical-align: middle;\n",
              "    }\n",
              "\n",
              "    .dataframe tbody tr th {\n",
              "        vertical-align: top;\n",
              "    }\n",
              "\n",
              "    .dataframe thead th {\n",
              "        text-align: right;\n",
              "    }\n",
              "</style>\n",
              "<table border=\"1\" class=\"dataframe\">\n",
              "  <thead>\n",
              "    <tr style=\"text-align: right;\">\n",
              "      <th></th>\n",
              "      <th>pmid</th>\n",
              "    </tr>\n",
              "  </thead>\n",
              "  <tbody>\n",
              "    <tr>\n",
              "      <th>0</th>\n",
              "      <td>22815718</td>\n",
              "    </tr>\n",
              "    <tr>\n",
              "      <th>1</th>\n",
              "      <td>27286562</td>\n",
              "    </tr>\n",
              "    <tr>\n",
              "      <th>2</th>\n",
              "      <td>22381459</td>\n",
              "    </tr>\n",
              "    <tr>\n",
              "      <th>3</th>\n",
              "      <td>21396219</td>\n",
              "    </tr>\n",
              "    <tr>\n",
              "      <th>4</th>\n",
              "      <td>24167451</td>\n",
              "    </tr>\n",
              "    <tr>\n",
              "      <th>...</th>\n",
              "      <td>...</td>\n",
              "    </tr>\n",
              "    <tr>\n",
              "      <th>26801</th>\n",
              "      <td>16302942</td>\n",
              "    </tr>\n",
              "    <tr>\n",
              "      <th>26802</th>\n",
              "      <td>9855106</td>\n",
              "    </tr>\n",
              "    <tr>\n",
              "      <th>26803</th>\n",
              "      <td>22004635</td>\n",
              "    </tr>\n",
              "    <tr>\n",
              "      <th>26804</th>\n",
              "      <td>17126784</td>\n",
              "    </tr>\n",
              "    <tr>\n",
              "      <th>26805</th>\n",
              "      <td>21535973</td>\n",
              "    </tr>\n",
              "  </tbody>\n",
              "</table>\n",
              "<p>26806 rows × 1 columns</p>\n",
              "</div><br><label><b>dtype:</b> int64</label>"
            ]
          },
          "metadata": {},
          "execution_count": 3
        }
      ]
    },
    {
      "cell_type": "code",
      "execution_count": null,
      "metadata": {
        "id": "kzgUBGSMLcl_",
        "colab": {
          "base_uri": "https://localhost:8080/",
          "height": 373
        },
        "outputId": "c01f3382-67bc-489a-fcac-61358017fe5a"
      },
      "outputs": [
        {
          "output_type": "stream",
          "name": "stdout",
          "text": [
            "Requirement already satisfied: pyscopus==1.0.3a2 in /usr/local/lib/python3.11/dist-packages (1.0.3a2)\n"
          ]
        },
        {
          "output_type": "error",
          "ename": "KeyError",
          "evalue": "'search-results'",
          "traceback": [
            "\u001b[0;31m---------------------------------------------------------------------------\u001b[0m",
            "\u001b[0;31mKeyError\u001b[0m                                  Traceback (most recent call last)",
            "\u001b[0;32m<ipython-input-10-6ccc2452c224>\u001b[0m in \u001b[0;36m<cell line: 0>\u001b[0;34m()\u001b[0m\n\u001b[1;32m      4\u001b[0m \u001b[0;32mimport\u001b[0m \u001b[0mpyscopus\u001b[0m\u001b[0;34m\u001b[0m\u001b[0;34m\u001b[0m\u001b[0m\n\u001b[1;32m      5\u001b[0m \u001b[0mscopus\u001b[0m \u001b[0;34m=\u001b[0m \u001b[0mpyscopus\u001b[0m\u001b[0;34m.\u001b[0m\u001b[0mScopus\u001b[0m\u001b[0;34m(\u001b[0m\u001b[0mkey\u001b[0m\u001b[0;34m)\u001b[0m\u001b[0;34m\u001b[0m\u001b[0;34m\u001b[0m\u001b[0m\n\u001b[0;32m----> 6\u001b[0;31m \u001b[0mresponse_json\u001b[0m \u001b[0;34m=\u001b[0m \u001b[0mjson\u001b[0m\u001b[0;34m.\u001b[0m\u001b[0mloads\u001b[0m\u001b[0;34m(\u001b[0m\u001b[0mscopus\u001b[0m\u001b[0;34m.\u001b[0m\u001b[0msearch\u001b[0m\u001b[0;34m(\u001b[0m\u001b[0;34mf'doi({doi})'\u001b[0m\u001b[0;34m,\u001b[0m \u001b[0mview\u001b[0m\u001b[0;34m=\u001b[0m\u001b[0;34m'COMPLETE'\u001b[0m\u001b[0;34m)\u001b[0m\u001b[0;34m)\u001b[0m\u001b[0;34m\u001b[0m\u001b[0;34m\u001b[0m\u001b[0m\n\u001b[0m\u001b[1;32m      7\u001b[0m \u001b[0mprint\u001b[0m\u001b[0;34m(\u001b[0m\u001b[0mresponse_json\u001b[0m\u001b[0;34m)\u001b[0m\u001b[0;34m\u001b[0m\u001b[0;34m\u001b[0m\u001b[0m\n\u001b[1;32m      8\u001b[0m \u001b[0;32mimport\u001b[0m \u001b[0mjson\u001b[0m\u001b[0;34m\u001b[0m\u001b[0;34m\u001b[0m\u001b[0m\n",
            "\u001b[0;32m/usr/local/lib/python3.11/dist-packages/pyscopus/scopus.py\u001b[0m in \u001b[0;36msearch\u001b[0;34m(self, query, count, type_, view)\u001b[0m\n\u001b[1;32m     54\u001b[0m             \u001b[0;32mraise\u001b[0m \u001b[0mValueError\u001b[0m\u001b[0;34m(\u001b[0m\u001b[0;34m\"%s is not a valid input for the number of entries to return.\"\u001b[0m \u001b[0;34m%\u001b[0m\u001b[0mnumber\u001b[0m\u001b[0;34m)\u001b[0m\u001b[0;34m\u001b[0m\u001b[0;34m\u001b[0m\u001b[0m\n\u001b[1;32m     55\u001b[0m \u001b[0;34m\u001b[0m\u001b[0m\n\u001b[0;32m---> 56\u001b[0;31m         \u001b[0mresult_df\u001b[0m\u001b[0;34m,\u001b[0m \u001b[0mtotal_count\u001b[0m \u001b[0;34m=\u001b[0m \u001b[0m_search_scopus\u001b[0m\u001b[0;34m(\u001b[0m\u001b[0mself\u001b[0m\u001b[0;34m.\u001b[0m\u001b[0mapikey\u001b[0m\u001b[0;34m,\u001b[0m \u001b[0mquery\u001b[0m\u001b[0;34m,\u001b[0m \u001b[0mtype_\u001b[0m\u001b[0;34m,\u001b[0m \u001b[0mview\u001b[0m\u001b[0;34m=\u001b[0m\u001b[0mview\u001b[0m\u001b[0;34m)\u001b[0m\u001b[0;34m\u001b[0m\u001b[0;34m\u001b[0m\u001b[0m\n\u001b[0m\u001b[1;32m     57\u001b[0m \u001b[0;34m\u001b[0m\u001b[0m\n\u001b[1;32m     58\u001b[0m         \u001b[0;32mif\u001b[0m \u001b[0mtotal_count\u001b[0m \u001b[0;34m<=\u001b[0m \u001b[0mcount\u001b[0m\u001b[0;34m:\u001b[0m\u001b[0;34m\u001b[0m\u001b[0;34m\u001b[0m\u001b[0m\n",
            "\u001b[0;32m/usr/local/lib/python3.11/dist-packages/pyscopus/utils.py\u001b[0m in \u001b[0;36m_search_scopus\u001b[0;34m(key, query, type_, view, index)\u001b[0m\n\u001b[1;32m    386\u001b[0m     \u001b[0mjs\u001b[0m \u001b[0;34m=\u001b[0m \u001b[0mr\u001b[0m\u001b[0;34m.\u001b[0m\u001b[0mjson\u001b[0m\u001b[0;34m(\u001b[0m\u001b[0;34m)\u001b[0m\u001b[0;34m\u001b[0m\u001b[0;34m\u001b[0m\u001b[0m\n\u001b[1;32m    387\u001b[0m     \u001b[0;31m#print(r.url)\u001b[0m\u001b[0;34m\u001b[0m\u001b[0;34m\u001b[0m\u001b[0m\n\u001b[0;32m--> 388\u001b[0;31m     \u001b[0mtotal_count\u001b[0m \u001b[0;34m=\u001b[0m \u001b[0mint\u001b[0m\u001b[0;34m(\u001b[0m\u001b[0mjs\u001b[0m\u001b[0;34m[\u001b[0m\u001b[0;34m'search-results'\u001b[0m\u001b[0;34m]\u001b[0m\u001b[0;34m[\u001b[0m\u001b[0;34m'opensearch:totalResults'\u001b[0m\u001b[0;34m]\u001b[0m\u001b[0;34m)\u001b[0m\u001b[0;34m\u001b[0m\u001b[0;34m\u001b[0m\u001b[0m\n\u001b[0m\u001b[1;32m    389\u001b[0m     \u001b[0mentries\u001b[0m \u001b[0;34m=\u001b[0m \u001b[0mjs\u001b[0m\u001b[0;34m[\u001b[0m\u001b[0;34m'search-results'\u001b[0m\u001b[0;34m]\u001b[0m\u001b[0;34m[\u001b[0m\u001b[0;34m'entry'\u001b[0m\u001b[0;34m]\u001b[0m\u001b[0;34m\u001b[0m\u001b[0;34m\u001b[0m\u001b[0m\n\u001b[1;32m    390\u001b[0m \u001b[0;34m\u001b[0m\u001b[0m\n",
            "\u001b[0;31mKeyError\u001b[0m: 'search-results'"
          ]
        }
      ],
      "source": [
        "# Here is code for SCOPUS ... it does NOT let me get citations by default, but I could email the API Support Team to let me get citations for free, but there's still a weekly quota ... so best not to use it ...\n",
        "\n",
        "# !pip install pyscopus==1.0.3a2\n",
        "# import pyscopus\n",
        "# scopus = pyscopus.Scopus(key)\n",
        "# response_json = json.loads(scopus.search(f'doi({doi})', view='STANDARD').to_json(orient=\"records\"))\n",
        "# response_json\n",
        "# import json\n",
        "# import httpx\n",
        "# import time\n",
        "# !pip install demjson3\n",
        "# from demjson3 import decode\n",
        "\n",
        "# key = 'aa8e9c8989580dd7fb3f805ea5d42d65' # for scopus api\n",
        "# doi = '10.1371/journal.pone.0039966'"
      ]
    },
    {
      "cell_type": "code",
      "execution_count": null,
      "metadata": {
        "id": "HtZOhslhaPUk",
        "colab": {
          "base_uri": "https://localhost:8080/"
        },
        "outputId": "2f47ee36-9f22-4a28-ff25-a46c853fccdd"
      },
      "outputs": [
        {
          "output_type": "stream",
          "name": "stdout",
          "text": [
            "2-s2.0-84863614148\n",
            "https://api.elsevier.com/content/abstract/EID:2-s2.0-84863614148?apiKey=aa8e9c8989580dd7fb3f805ea5d42d65&view=FULL\n",
            "{'service-error': {'status': {'statusCode': 'AUTHORIZATION_ERROR', 'statusText': 'The requestor is not authorized to access the requested view or fields of the resource'}}}\n"
          ]
        }
      ],
      "source": [
        "# def get_eid(paper_doi, apikey):\n",
        "#     apikey=apikey\n",
        "#     headers={\n",
        "#         \"X-ELS-APIKey\":apikey,\n",
        "#         \"Accept\":'application/json'\n",
        "#          }\n",
        "#     timeout = httpx.Timeout(10.0, connect=60.0)\n",
        "#     client = httpx.Client(timeout=timeout,headers=headers)\n",
        "#     query=\"&view=FULL\"\n",
        "#     url=f'https://api.elsevier.com/content/search/scopus?query=doi({paper_doi})'\n",
        "#     r=client.get(url)\n",
        "#     return r\n",
        "\n",
        "# def get_citations(paper_eid, apikey):\n",
        "#     apikey=apikey\n",
        "#     headers={\n",
        "#         \"X-ELS-APIKey\":apikey,\n",
        "#         \"Accept\":'application/json'\n",
        "#          }\n",
        "#     timeout = httpx.Timeout(10.0, connect=60.0)\n",
        "#     client = httpx.Client(timeout=timeout,headers=headers)\n",
        "#     query=\"&view=FULL\"\n",
        "#     # url='https://api.elsevier.com/content/search/scopus?query=refeid('+paper_eid+')'\n",
        "#     # https://api.elsevier.com/content/abstract/citations?doi=10.1016%2FS0014-5793(01)03313-0&apiKey=7f59af901d2d86f78a1fd60c1bf9426a&httpAccept=application%2Fjson\n",
        "#     # url = \"https://api.elsevier.com/content/abstract/citations?doi=\"+paper_doi+\"&apiKey=\"+apikey+\"&httpAccept=application%2Fjson\"\n",
        "\n",
        "\n",
        "#     url = f'https://api.elsevier.com/content/abstract/EID:{paper_eid}?apiKey={apikey}&view=REF'\n",
        "#     r=client.get(url)\n",
        "#     print(url)\n",
        "#     return r\n",
        "\n",
        "\n",
        "# def get_full_text(paper_doi, apikey):\n",
        "#     apikey=apikey\n",
        "#     headers={\n",
        "#         \"X-ELS-APIKey\":apikey,\n",
        "#         \"Accept\":'application/json'\n",
        "#          }\n",
        "#     timeout = httpx.Timeout(10.0, connect=60.0)\n",
        "#     client = httpx.Client(timeout=timeout,headers=headers)\n",
        "#     query=\"&view=FULL\"\n",
        "#     url=\"https://api.elsevier.com/content/article/doi/\"+paper_doi\n",
        "#     r=client.get(url)\n",
        "#     return r\n",
        "\n",
        "\n",
        "# # Get document\n",
        "# eid_response = get_eid(doi, key)\n",
        "# eid = decode(eid_response.text)[\"search-results\"][\"entry\"][0][\"eid\"]\n",
        "\n",
        "# print(eid)\n",
        "# citations = get_citations( eid, key )\n",
        "# # Parse document\n",
        "# json_acceptable_string = citations.text\n",
        "# d = decode(json_acceptable_string)\n",
        "# # Print document\n",
        "# print(d)"
      ]
    },
    {
      "cell_type": "code",
      "execution_count": null,
      "metadata": {
        "id": "NRYVdzb_n_ol",
        "colab": {
          "base_uri": "https://localhost:8080/",
          "height": 602
        },
        "outputId": "64eabeed-c192-4eef-a8bb-8517a19bb49a"
      },
      "outputs": [
        {
          "output_type": "stream",
          "name": "stdout",
          "text": [
            "Collecting pybliometrics\n",
            "  Downloading pybliometrics-4.2-py3-none-any.whl.metadata (5.4 kB)\n",
            "Requirement already satisfied: requests in /usr/local/lib/python3.11/dist-packages (from pybliometrics) (2.32.3)\n",
            "Requirement already satisfied: tqdm in /usr/local/lib/python3.11/dist-packages (from pybliometrics) (4.67.1)\n",
            "Requirement already satisfied: urllib3 in /usr/local/lib/python3.11/dist-packages (from pybliometrics) (2.3.0)\n",
            "Requirement already satisfied: charset-normalizer<4,>=2 in /usr/local/lib/python3.11/dist-packages (from requests->pybliometrics) (3.4.1)\n",
            "Requirement already satisfied: idna<4,>=2.5 in /usr/local/lib/python3.11/dist-packages (from requests->pybliometrics) (3.10)\n",
            "Requirement already satisfied: certifi>=2017.4.17 in /usr/local/lib/python3.11/dist-packages (from requests->pybliometrics) (2025.1.31)\n",
            "Downloading pybliometrics-4.2-py3-none-any.whl (104 kB)\n",
            "\u001b[2K   \u001b[90m━━━━━━━━━━━━━━━━━━━━━━━━━━━━━━━━━━━━━━━━\u001b[0m \u001b[32m104.6/104.6 kB\u001b[0m \u001b[31m1.9 MB/s\u001b[0m eta \u001b[36m0:00:00\u001b[0m\n",
            "\u001b[?25hInstalling collected packages: pybliometrics\n",
            "Successfully installed pybliometrics-4.2\n"
          ]
        },
        {
          "output_type": "stream",
          "name": "stderr",
          "text": [
            "<ipython-input-5-6d2e3ce8ead7>:6: DeprecationWarning: The 'config_dir' parameter is deprecated and will be removed in a future version. Please use 'config_path' instead.\n",
            "  pybliometrics.scopus.init(config_dir=\"/content/drive/MyDrive/config.txt\")\n"
          ]
        },
        {
          "output_type": "error",
          "ename": "Scopus401Error",
          "evalue": "The requestor is not authorized to access the requested view or fields of the resource",
          "traceback": [
            "\u001b[0;31m---------------------------------------------------------------------------\u001b[0m",
            "\u001b[0;31mScopus401Error\u001b[0m                            Traceback (most recent call last)",
            "\u001b[0;32m<ipython-input-5-6d2e3ce8ead7>\u001b[0m in \u001b[0;36m<cell line: 0>\u001b[0;34m()\u001b[0m\n\u001b[1;32m      5\u001b[0m \u001b[0;32mfrom\u001b[0m \u001b[0mpybliometrics\u001b[0m\u001b[0;34m.\u001b[0m\u001b[0mscopus\u001b[0m \u001b[0;32mimport\u001b[0m \u001b[0mAbstractRetrieval\u001b[0m\u001b[0;34m,\u001b[0m \u001b[0mCitationOverview\u001b[0m\u001b[0;34m\u001b[0m\u001b[0;34m\u001b[0m\u001b[0m\n\u001b[1;32m      6\u001b[0m \u001b[0mpybliometrics\u001b[0m\u001b[0;34m.\u001b[0m\u001b[0mscopus\u001b[0m\u001b[0;34m.\u001b[0m\u001b[0minit\u001b[0m\u001b[0;34m(\u001b[0m\u001b[0mconfig_dir\u001b[0m\u001b[0;34m=\u001b[0m\u001b[0;34m\"/content/drive/MyDrive/config.txt\"\u001b[0m\u001b[0;34m)\u001b[0m\u001b[0;34m\u001b[0m\u001b[0;34m\u001b[0m\u001b[0m\n\u001b[0;32m----> 7\u001b[0;31m \u001b[0mab\u001b[0m \u001b[0;34m=\u001b[0m \u001b[0mCitationOverview\u001b[0m\u001b[0;34m(\u001b[0m\u001b[0;34m[\u001b[0m\u001b[0mdoi\u001b[0m\u001b[0;34m]\u001b[0m\u001b[0;34m)\u001b[0m\u001b[0;34m\u001b[0m\u001b[0;34m\u001b[0m\u001b[0m\n\u001b[0m\u001b[1;32m      8\u001b[0m \u001b[0mab\u001b[0m\u001b[0;34m\u001b[0m\u001b[0;34m\u001b[0m\u001b[0m\n",
            "\u001b[0;32m/usr/local/lib/python3.11/dist-packages/pybliometrics/scopus/abstract_citation.py\u001b[0m in \u001b[0;36m__init__\u001b[0;34m(self, identifier, date, start, end, id_type, refresh, citation, **kwds)\u001b[0m\n\u001b[1;32m    275\u001b[0m         \u001b[0mkwds\u001b[0m\u001b[0;34m.\u001b[0m\u001b[0mupdate\u001b[0m\u001b[0;34m(\u001b[0m\u001b[0;34m{\u001b[0m\u001b[0mid_type\u001b[0m\u001b[0;34m:\u001b[0m \u001b[0midentifier\u001b[0m\u001b[0;34m}\u001b[0m\u001b[0;34m)\u001b[0m\u001b[0;34m\u001b[0m\u001b[0;34m\u001b[0m\u001b[0m\n\u001b[1;32m    276\u001b[0m         \u001b[0mstem\u001b[0m \u001b[0;34m=\u001b[0m \u001b[0mmd5\u001b[0m\u001b[0;34m(\u001b[0m\u001b[0;34m\"_\"\u001b[0m\u001b[0;34m.\u001b[0m\u001b[0mjoin\u001b[0m\u001b[0;34m(\u001b[0m\u001b[0midentifier\u001b[0m\u001b[0;34m)\u001b[0m\u001b[0;34m.\u001b[0m\u001b[0mencode\u001b[0m\u001b[0;34m(\u001b[0m\u001b[0;34m'utf8'\u001b[0m\u001b[0;34m)\u001b[0m\u001b[0;34m)\u001b[0m\u001b[0;34m.\u001b[0m\u001b[0mhexdigest\u001b[0m\u001b[0;34m(\u001b[0m\u001b[0;34m)\u001b[0m\u001b[0;34m\u001b[0m\u001b[0;34m\u001b[0m\u001b[0m\n\u001b[0;32m--> 277\u001b[0;31m         \u001b[0mRetrieval\u001b[0m\u001b[0;34m.\u001b[0m\u001b[0m__init__\u001b[0m\u001b[0;34m(\u001b[0m\u001b[0mself\u001b[0m\u001b[0;34m,\u001b[0m \u001b[0mstem\u001b[0m\u001b[0;34m,\u001b[0m \u001b[0mdate\u001b[0m\u001b[0;34m=\u001b[0m\u001b[0mdate\u001b[0m\u001b[0;34m,\u001b[0m \u001b[0mcitation\u001b[0m\u001b[0;34m=\u001b[0m\u001b[0mcitation\u001b[0m\u001b[0;34m,\u001b[0m \u001b[0;34m**\u001b[0m\u001b[0mkwds\u001b[0m\u001b[0;34m)\u001b[0m\u001b[0;34m\u001b[0m\u001b[0;34m\u001b[0m\u001b[0m\n\u001b[0m\u001b[1;32m    278\u001b[0m         \u001b[0mself\u001b[0m\u001b[0;34m.\u001b[0m\u001b[0m_data\u001b[0m \u001b[0;34m=\u001b[0m \u001b[0mself\u001b[0m\u001b[0;34m.\u001b[0m\u001b[0m_json\u001b[0m\u001b[0;34m[\u001b[0m\u001b[0;34m'abstract-citations-response'\u001b[0m\u001b[0;34m]\u001b[0m\u001b[0;34m\u001b[0m\u001b[0;34m\u001b[0m\u001b[0m\n\u001b[1;32m    279\u001b[0m \u001b[0;34m\u001b[0m\u001b[0m\n",
            "\u001b[0;32m/usr/local/lib/python3.11/dist-packages/pybliometrics/superclasses/retrieval.py\u001b[0m in \u001b[0;36m__init__\u001b[0;34m(self, identifier, id_type, **kwds)\u001b[0m\n\u001b[1;32m     49\u001b[0m         \u001b[0;31m# Parse file contents\u001b[0m\u001b[0;34m\u001b[0m\u001b[0;34m\u001b[0m\u001b[0m\n\u001b[1;32m     50\u001b[0m         \u001b[0mparams\u001b[0m \u001b[0;34m=\u001b[0m \u001b[0;34m{\u001b[0m\u001b[0;34m'view'\u001b[0m\u001b[0;34m:\u001b[0m \u001b[0mself\u001b[0m\u001b[0;34m.\u001b[0m\u001b[0m_view\u001b[0m\u001b[0;34m,\u001b[0m \u001b[0;34m**\u001b[0m\u001b[0mkwds\u001b[0m\u001b[0;34m}\u001b[0m\u001b[0;34m\u001b[0m\u001b[0;34m\u001b[0m\u001b[0m\n\u001b[0;32m---> 51\u001b[0;31m         \u001b[0mBase\u001b[0m\u001b[0;34m.\u001b[0m\u001b[0m__init__\u001b[0m\u001b[0;34m(\u001b[0m\u001b[0mself\u001b[0m\u001b[0;34m,\u001b[0m \u001b[0mparams\u001b[0m\u001b[0;34m=\u001b[0m\u001b[0mparams\u001b[0m\u001b[0;34m,\u001b[0m \u001b[0murl\u001b[0m\u001b[0;34m=\u001b[0m\u001b[0murl\u001b[0m\u001b[0;34m)\u001b[0m\u001b[0;34m\u001b[0m\u001b[0;34m\u001b[0m\u001b[0m\n\u001b[0m",
            "\u001b[0;32m/usr/local/lib/python3.11/dist-packages/pybliometrics/superclasses/base.py\u001b[0m in \u001b[0;36m__init__\u001b[0;34m(self, params, url, download, verbose, **kwds)\u001b[0m\n\u001b[1;32m     67\u001b[0m                 \u001b[0mself\u001b[0m\u001b[0;34m.\u001b[0m\u001b[0m_json\u001b[0m \u001b[0;34m=\u001b[0m \u001b[0mloads\u001b[0m\u001b[0;34m(\u001b[0m\u001b[0mfname\u001b[0m\u001b[0;34m.\u001b[0m\u001b[0mread_text\u001b[0m\u001b[0;34m(\u001b[0m\u001b[0;34m)\u001b[0m\u001b[0;34m)\u001b[0m\u001b[0;34m\u001b[0m\u001b[0;34m\u001b[0m\u001b[0m\n\u001b[1;32m     68\u001b[0m         \u001b[0;32melse\u001b[0m\u001b[0;34m:\u001b[0m\u001b[0;34m\u001b[0m\u001b[0;34m\u001b[0m\u001b[0m\n\u001b[0;32m---> 69\u001b[0;31m             \u001b[0mresp\u001b[0m \u001b[0;34m=\u001b[0m \u001b[0mget_content\u001b[0m\u001b[0;34m(\u001b[0m\u001b[0murl\u001b[0m\u001b[0;34m,\u001b[0m \u001b[0mapi\u001b[0m\u001b[0;34m,\u001b[0m \u001b[0mparams\u001b[0m\u001b[0;34m,\u001b[0m \u001b[0;34m**\u001b[0m\u001b[0mkwds\u001b[0m\u001b[0;34m)\u001b[0m\u001b[0;34m\u001b[0m\u001b[0;34m\u001b[0m\u001b[0m\n\u001b[0m\u001b[1;32m     70\u001b[0m             \u001b[0mheader\u001b[0m \u001b[0;34m=\u001b[0m \u001b[0mresp\u001b[0m\u001b[0;34m.\u001b[0m\u001b[0mheaders\u001b[0m\u001b[0;34m\u001b[0m\u001b[0;34m\u001b[0m\u001b[0m\n\u001b[1;32m     71\u001b[0m \u001b[0;34m\u001b[0m\u001b[0m\n",
            "\u001b[0;32m/usr/local/lib/python3.11/dist-packages/pybliometrics/utils/get_content.py\u001b[0m in \u001b[0;36mget_content\u001b[0;34m(url, api, params, **kwds)\u001b[0m\n\u001b[1;32m    154\u001b[0m             \u001b[0;32mexcept\u001b[0m\u001b[0;34m:\u001b[0m\u001b[0;34m\u001b[0m\u001b[0;34m\u001b[0m\u001b[0m\n\u001b[1;32m    155\u001b[0m                 \u001b[0mreason\u001b[0m \u001b[0;34m=\u001b[0m \u001b[0;34m\"\"\u001b[0m\u001b[0;34m\u001b[0m\u001b[0;34m\u001b[0m\u001b[0m\n\u001b[0;32m--> 156\u001b[0;31m         \u001b[0;32mraise\u001b[0m \u001b[0merror_type\u001b[0m\u001b[0;34m(\u001b[0m\u001b[0mreason\u001b[0m\u001b[0;34m)\u001b[0m\u001b[0;34m\u001b[0m\u001b[0;34m\u001b[0m\u001b[0m\n\u001b[0m\u001b[1;32m    157\u001b[0m     \u001b[0;32mexcept\u001b[0m \u001b[0;34m(\u001b[0m\u001b[0mJSONDecodeError\u001b[0m\u001b[0;34m,\u001b[0m \u001b[0mKeyError\u001b[0m\u001b[0;34m)\u001b[0m\u001b[0;34m:\u001b[0m\u001b[0;34m\u001b[0m\u001b[0;34m\u001b[0m\u001b[0m\n\u001b[1;32m    158\u001b[0m         \u001b[0mresp\u001b[0m\u001b[0;34m.\u001b[0m\u001b[0mraise_for_status\u001b[0m\u001b[0;34m(\u001b[0m\u001b[0;34m)\u001b[0m\u001b[0;34m\u001b[0m\u001b[0;34m\u001b[0m\u001b[0m\n",
            "\u001b[0;31mScopus401Error\u001b[0m: The requestor is not authorized to access the requested view or fields of the resource"
          ]
        }
      ],
      "source": [
        "# !pip install pybliometrics\n",
        "# import pybliometrics\n",
        "# # Document-specific information\n",
        "# from pybliometrics.scopus import AbstractRetrieval, CitationOverview\n",
        "# pybliometrics.scopus.init(config_dir=\"/content/drive/MyDrive/config.txt\")\n",
        "# ab = CitationOverview([doi])\n",
        "# ab"
      ]
    },
    {
      "cell_type": "code",
      "execution_count": null,
      "metadata": {
        "colab": {
          "base_uri": "https://localhost:8080/",
          "height": 205
        },
        "id": "2TNl4UWS2Gu5",
        "outputId": "fc23d9a1-2e76-41df-e0d8-614d26a690a9"
      },
      "outputs": [
        {
          "name": "stdout",
          "output_type": "stream",
          "text": [
            "Requirement already satisfied: pyscopus in /usr/local/lib/python3.11/dist-packages (1.0.3)\n"
          ]
        },
        {
          "data": {
            "application/vnd.google.colaboratory.intrinsic+json": {
              "repr_error": "Out of range float values are not JSON compliant: nan",
              "type": "dataframe",
              "variable_name": "response_json"
            },
            "text/html": [
              "\n",
              "  <div id=\"df-c99c8ab5-a958-4af1-b2d1-0352341f111f\" class=\"colab-df-container\">\n",
              "    <div>\n",
              "<style scoped>\n",
              "    .dataframe tbody tr th:only-of-type {\n",
              "        vertical-align: middle;\n",
              "    }\n",
              "\n",
              "    .dataframe tbody tr th {\n",
              "        vertical-align: top;\n",
              "    }\n",
              "\n",
              "    .dataframe thead th {\n",
              "        text-align: right;\n",
              "    }\n",
              "</style>\n",
              "<table border=\"1\" class=\"dataframe\">\n",
              "  <thead>\n",
              "    <tr style=\"text-align: right;\">\n",
              "      <th></th>\n",
              "      <th>scopus_id</th>\n",
              "      <th>title</th>\n",
              "      <th>publication_name</th>\n",
              "      <th>issn</th>\n",
              "      <th>isbn</th>\n",
              "      <th>eissn</th>\n",
              "      <th>volume</th>\n",
              "      <th>page_range</th>\n",
              "      <th>cover_date</th>\n",
              "      <th>doi</th>\n",
              "      <th>citation_count</th>\n",
              "      <th>affiliation</th>\n",
              "      <th>aggregation_type</th>\n",
              "      <th>subtype_description</th>\n",
              "      <th>authors</th>\n",
              "      <th>full_text</th>\n",
              "    </tr>\n",
              "  </thead>\n",
              "  <tbody>\n",
              "    <tr>\n",
              "      <th>0</th>\n",
              "      <td>84863614148</td>\n",
              "      <td>The diagnostic accuracy of urine-based Xpert M...</td>\n",
              "      <td>PLoS ONE</td>\n",
              "      <td>None</td>\n",
              "      <td>None</td>\n",
              "      <td>19326203</td>\n",
              "      <td>7</td>\n",
              "      <td>None</td>\n",
              "      <td>2012-07-09</td>\n",
              "      <td>10.1371/journal.pone.0039966</td>\n",
              "      <td>74</td>\n",
              "      <td>[{'name': 'University of Cape Town Lung Instit...</td>\n",
              "      <td>Journal</td>\n",
              "      <td>Article</td>\n",
              "      <td>[]</td>\n",
              "      <td>None</td>\n",
              "    </tr>\n",
              "  </tbody>\n",
              "</table>\n",
              "</div>\n",
              "    <div class=\"colab-df-buttons\">\n",
              "\n",
              "  <div class=\"colab-df-container\">\n",
              "    <button class=\"colab-df-convert\" onclick=\"convertToInteractive('df-c99c8ab5-a958-4af1-b2d1-0352341f111f')\"\n",
              "            title=\"Convert this dataframe to an interactive table.\"\n",
              "            style=\"display:none;\">\n",
              "\n",
              "  <svg xmlns=\"http://www.w3.org/2000/svg\" height=\"24px\" viewBox=\"0 -960 960 960\">\n",
              "    <path d=\"M120-120v-720h720v720H120Zm60-500h600v-160H180v160Zm220 220h160v-160H400v160Zm0 220h160v-160H400v160ZM180-400h160v-160H180v160Zm440 0h160v-160H620v160ZM180-180h160v-160H180v160Zm440 0h160v-160H620v160Z\"/>\n",
              "  </svg>\n",
              "    </button>\n",
              "\n",
              "  <style>\n",
              "    .colab-df-container {\n",
              "      display:flex;\n",
              "      gap: 12px;\n",
              "    }\n",
              "\n",
              "    .colab-df-convert {\n",
              "      background-color: #E8F0FE;\n",
              "      border: none;\n",
              "      border-radius: 50%;\n",
              "      cursor: pointer;\n",
              "      display: none;\n",
              "      fill: #1967D2;\n",
              "      height: 32px;\n",
              "      padding: 0 0 0 0;\n",
              "      width: 32px;\n",
              "    }\n",
              "\n",
              "    .colab-df-convert:hover {\n",
              "      background-color: #E2EBFA;\n",
              "      box-shadow: 0px 1px 2px rgba(60, 64, 67, 0.3), 0px 1px 3px 1px rgba(60, 64, 67, 0.15);\n",
              "      fill: #174EA6;\n",
              "    }\n",
              "\n",
              "    .colab-df-buttons div {\n",
              "      margin-bottom: 4px;\n",
              "    }\n",
              "\n",
              "    [theme=dark] .colab-df-convert {\n",
              "      background-color: #3B4455;\n",
              "      fill: #D2E3FC;\n",
              "    }\n",
              "\n",
              "    [theme=dark] .colab-df-convert:hover {\n",
              "      background-color: #434B5C;\n",
              "      box-shadow: 0px 1px 3px 1px rgba(0, 0, 0, 0.15);\n",
              "      filter: drop-shadow(0px 1px 2px rgba(0, 0, 0, 0.3));\n",
              "      fill: #FFFFFF;\n",
              "    }\n",
              "  </style>\n",
              "\n",
              "    <script>\n",
              "      const buttonEl =\n",
              "        document.querySelector('#df-c99c8ab5-a958-4af1-b2d1-0352341f111f button.colab-df-convert');\n",
              "      buttonEl.style.display =\n",
              "        google.colab.kernel.accessAllowed ? 'block' : 'none';\n",
              "\n",
              "      async function convertToInteractive(key) {\n",
              "        const element = document.querySelector('#df-c99c8ab5-a958-4af1-b2d1-0352341f111f');\n",
              "        const dataTable =\n",
              "          await google.colab.kernel.invokeFunction('convertToInteractive',\n",
              "                                                    [key], {});\n",
              "        if (!dataTable) return;\n",
              "\n",
              "        const docLinkHtml = 'Like what you see? Visit the ' +\n",
              "          '<a target=\"_blank\" href=https://colab.research.google.com/notebooks/data_table.ipynb>data table notebook</a>'\n",
              "          + ' to learn more about interactive tables.';\n",
              "        element.innerHTML = '';\n",
              "        dataTable['output_type'] = 'display_data';\n",
              "        await google.colab.output.renderOutput(dataTable, element);\n",
              "        const docLink = document.createElement('div');\n",
              "        docLink.innerHTML = docLinkHtml;\n",
              "        element.appendChild(docLink);\n",
              "      }\n",
              "    </script>\n",
              "  </div>\n",
              "\n",
              "\n",
              "  <div id=\"id_e9b8d036-ed3d-476b-848a-6692bd27c0ad\">\n",
              "    <style>\n",
              "      .colab-df-generate {\n",
              "        background-color: #E8F0FE;\n",
              "        border: none;\n",
              "        border-radius: 50%;\n",
              "        cursor: pointer;\n",
              "        display: none;\n",
              "        fill: #1967D2;\n",
              "        height: 32px;\n",
              "        padding: 0 0 0 0;\n",
              "        width: 32px;\n",
              "      }\n",
              "\n",
              "      .colab-df-generate:hover {\n",
              "        background-color: #E2EBFA;\n",
              "        box-shadow: 0px 1px 2px rgba(60, 64, 67, 0.3), 0px 1px 3px 1px rgba(60, 64, 67, 0.15);\n",
              "        fill: #174EA6;\n",
              "      }\n",
              "\n",
              "      [theme=dark] .colab-df-generate {\n",
              "        background-color: #3B4455;\n",
              "        fill: #D2E3FC;\n",
              "      }\n",
              "\n",
              "      [theme=dark] .colab-df-generate:hover {\n",
              "        background-color: #434B5C;\n",
              "        box-shadow: 0px 1px 3px 1px rgba(0, 0, 0, 0.15);\n",
              "        filter: drop-shadow(0px 1px 2px rgba(0, 0, 0, 0.3));\n",
              "        fill: #FFFFFF;\n",
              "      }\n",
              "    </style>\n",
              "    <button class=\"colab-df-generate\" onclick=\"generateWithVariable('response_json')\"\n",
              "            title=\"Generate code using this dataframe.\"\n",
              "            style=\"display:none;\">\n",
              "\n",
              "  <svg xmlns=\"http://www.w3.org/2000/svg\" height=\"24px\"viewBox=\"0 0 24 24\"\n",
              "       width=\"24px\">\n",
              "    <path d=\"M7,19H8.4L18.45,9,17,7.55,7,17.6ZM5,21V16.75L18.45,3.32a2,2,0,0,1,2.83,0l1.4,1.43a1.91,1.91,0,0,1,.58,1.4,1.91,1.91,0,0,1-.58,1.4L9.25,21ZM18.45,9,17,7.55Zm-12,3A5.31,5.31,0,0,0,4.9,8.1,5.31,5.31,0,0,0,1,6.5,5.31,5.31,0,0,0,4.9,4.9,5.31,5.31,0,0,0,6.5,1,5.31,5.31,0,0,0,8.1,4.9,5.31,5.31,0,0,0,12,6.5,5.46,5.46,0,0,0,6.5,12Z\"/>\n",
              "  </svg>\n",
              "    </button>\n",
              "    <script>\n",
              "      (() => {\n",
              "      const buttonEl =\n",
              "        document.querySelector('#id_e9b8d036-ed3d-476b-848a-6692bd27c0ad button.colab-df-generate');\n",
              "      buttonEl.style.display =\n",
              "        google.colab.kernel.accessAllowed ? 'block' : 'none';\n",
              "\n",
              "      buttonEl.onclick = () => {\n",
              "        google.colab.notebook.generateWithVariable('response_json');\n",
              "      }\n",
              "      })();\n",
              "    </script>\n",
              "  </div>\n",
              "\n",
              "    </div>\n",
              "  </div>\n"
            ],
            "text/plain": [
              "     scopus_id                                              title  \\\n",
              "0  84863614148  The diagnostic accuracy of urine-based Xpert M...   \n",
              "\n",
              "  publication_name  issn  isbn     eissn volume page_range  cover_date  \\\n",
              "0         PLoS ONE  None  None  19326203      7       None  2012-07-09   \n",
              "\n",
              "                            doi  citation_count  \\\n",
              "0  10.1371/journal.pone.0039966              74   \n",
              "\n",
              "                                         affiliation aggregation_type  \\\n",
              "0  [{'name': 'University of Cape Town Lung Instit...          Journal   \n",
              "\n",
              "  subtype_description authors full_text  \n",
              "0             Article      []      None  "
            ]
          },
          "execution_count": 8,
          "metadata": {},
          "output_type": "execute_result"
        }
      ],
      "source": [
        "# !pip install pyscopus\n",
        "# import pyscopus\n",
        "# scopus = pyscopus.Scopus(key)\n",
        "# response_json = scopus.search(f'doi({doi})', view='STANDARD')\n",
        "# response_json"
      ]
    },
    {
      "cell_type": "code",
      "source": [
        "cit_dfs = []\n",
        "\n",
        "from google.colab import drive\n",
        "drive.mount('/content/drive', force_remount=True)\n",
        "from pathlib import Path\n",
        "import os\n",
        "import glob\n",
        "csv_df = pd.DataFrame(columns=[])\n",
        "for file in glob.glob(\"/content/drive/MyDrive/Citation_dataframes/*.csv\"):\n",
        "  filename = os.path.basename(file)\n",
        "  temp_df = pd.read_csv(file, index_col=0)\n",
        "  # temp_df = temp_df.astype(str)\n",
        "  cit_dfs.append(temp_df)"
      ],
      "metadata": {
        "colab": {
          "base_uri": "https://localhost:8080/"
        },
        "id": "oCop07nzH7Cv",
        "outputId": "d196f33b-b089-410c-cd0a-48a5656a8043"
      },
      "execution_count": null,
      "outputs": [
        {
          "output_type": "stream",
          "name": "stdout",
          "text": [
            "Mounted at /content/drive\n"
          ]
        }
      ]
    },
    {
      "cell_type": "code",
      "source": [
        "df = cit_dfs[0]\n",
        "\n",
        "df"
      ],
      "metadata": {
        "colab": {
          "base_uri": "https://localhost:8080/",
          "height": 455
        },
        "id": "wdDqc33NH96R",
        "outputId": "0cd85c2b-3b37-4453-c8cf-28573b9b8bb0"
      },
      "execution_count": null,
      "outputs": [
        {
          "output_type": "execute_result",
          "data": {
            "text/plain": [
              "                                                   citation  \\\n",
              "PMID                                                          \n",
              "22815718  Peter JG, et al. The diagnostic accuracy of ur...   \n",
              "25888462  Giang do C, et al. Prospective evaluation of G...   \n",
              "28292091  Diallo AB, et al. [Performance of GeneXpert MT...   \n",
              "21504402  Chegou NN, et al. Tuberculosis assays: past, p...   \n",
              "26240094  Gamell A, et al. Disseminated tuberculosis in ...   \n",
              "...                                                     ...   \n",
              "24349151  Biadglegne F, et al. Tuberculous lymphadenitis...   \n",
              "27622628  Peñata A, et al. Molecular diagnosis of extrap...   \n",
              "26469691  Raizada N, et al. Piloting Upfront Xpert MTB/R...   \n",
              "25056328  Patel VB, et al. Comparison of amplicor and Ge...   \n",
              "24166585  Ablanedo-Terrazas Y, et al. Xpert MTB/RIF for ...   \n",
              "\n",
              "                                            reference_array  Status  \n",
              "PMID                                                                 \n",
              "22815718  [{'citation': 'The American review of respirat...       0  \n",
              "25888462  [{'citation': 'Pediatrics GE Salazar 108 448 2...       0  \n",
              "28292091  [{'citation': 'Tortoli E, Russo C, Piersimoni ...       0  \n",
              "21504402  [{'citation': 'Chest Hara 893 124 2003 10.1378...       0  \n",
              "26240094  [{'citation': 'Noor Alsaad, Bob Wilffert, Rich...       0  \n",
              "...                                                     ...     ...  \n",
              "24349151  [{'citation': 'BMC Public Health M Legesse 9 1...       1  \n",
              "27622628  [{'citation': '10.1001/jama.282.7.677 7. Dye C...       1  \n",
              "26469691  [{'citation': 'JOURNAL OF CLINICAL MICROBIOLOG...       1  \n",
              "25056328  [{'citation': 'A. Karstaedt (1998) Tuberculous...       1  \n",
              "24166585  [{'citation': '10.2807/ese.18.12.20431-en Sand...       1  \n",
              "\n",
              "[106 rows x 3 columns]"
            ],
            "text/html": [
              "\n",
              "  <div id=\"df-0c5c8f97-2d76-4eff-9fbb-f732165abc47\" class=\"colab-df-container\">\n",
              "    <div>\n",
              "<style scoped>\n",
              "    .dataframe tbody tr th:only-of-type {\n",
              "        vertical-align: middle;\n",
              "    }\n",
              "\n",
              "    .dataframe tbody tr th {\n",
              "        vertical-align: top;\n",
              "    }\n",
              "\n",
              "    .dataframe thead th {\n",
              "        text-align: right;\n",
              "    }\n",
              "</style>\n",
              "<table border=\"1\" class=\"dataframe\">\n",
              "  <thead>\n",
              "    <tr style=\"text-align: right;\">\n",
              "      <th></th>\n",
              "      <th>citation</th>\n",
              "      <th>reference_array</th>\n",
              "      <th>Status</th>\n",
              "    </tr>\n",
              "    <tr>\n",
              "      <th>PMID</th>\n",
              "      <th></th>\n",
              "      <th></th>\n",
              "      <th></th>\n",
              "    </tr>\n",
              "  </thead>\n",
              "  <tbody>\n",
              "    <tr>\n",
              "      <th>22815718</th>\n",
              "      <td>Peter JG, et al. The diagnostic accuracy of ur...</td>\n",
              "      <td>[{'citation': 'The American review of respirat...</td>\n",
              "      <td>0</td>\n",
              "    </tr>\n",
              "    <tr>\n",
              "      <th>25888462</th>\n",
              "      <td>Giang do C, et al. Prospective evaluation of G...</td>\n",
              "      <td>[{'citation': 'Pediatrics GE Salazar 108 448 2...</td>\n",
              "      <td>0</td>\n",
              "    </tr>\n",
              "    <tr>\n",
              "      <th>28292091</th>\n",
              "      <td>Diallo AB, et al. [Performance of GeneXpert MT...</td>\n",
              "      <td>[{'citation': 'Tortoli E, Russo C, Piersimoni ...</td>\n",
              "      <td>0</td>\n",
              "    </tr>\n",
              "    <tr>\n",
              "      <th>21504402</th>\n",
              "      <td>Chegou NN, et al. Tuberculosis assays: past, p...</td>\n",
              "      <td>[{'citation': 'Chest Hara 893 124 2003 10.1378...</td>\n",
              "      <td>0</td>\n",
              "    </tr>\n",
              "    <tr>\n",
              "      <th>26240094</th>\n",
              "      <td>Gamell A, et al. Disseminated tuberculosis in ...</td>\n",
              "      <td>[{'citation': 'Noor Alsaad, Bob Wilffert, Rich...</td>\n",
              "      <td>0</td>\n",
              "    </tr>\n",
              "    <tr>\n",
              "      <th>...</th>\n",
              "      <td>...</td>\n",
              "      <td>...</td>\n",
              "      <td>...</td>\n",
              "    </tr>\n",
              "    <tr>\n",
              "      <th>24349151</th>\n",
              "      <td>Biadglegne F, et al. Tuberculous lymphadenitis...</td>\n",
              "      <td>[{'citation': 'BMC Public Health M Legesse 9 1...</td>\n",
              "      <td>1</td>\n",
              "    </tr>\n",
              "    <tr>\n",
              "      <th>27622628</th>\n",
              "      <td>Peñata A, et al. Molecular diagnosis of extrap...</td>\n",
              "      <td>[{'citation': '10.1001/jama.282.7.677 7. Dye C...</td>\n",
              "      <td>1</td>\n",
              "    </tr>\n",
              "    <tr>\n",
              "      <th>26469691</th>\n",
              "      <td>Raizada N, et al. Piloting Upfront Xpert MTB/R...</td>\n",
              "      <td>[{'citation': 'JOURNAL OF CLINICAL MICROBIOLOG...</td>\n",
              "      <td>1</td>\n",
              "    </tr>\n",
              "    <tr>\n",
              "      <th>25056328</th>\n",
              "      <td>Patel VB, et al. Comparison of amplicor and Ge...</td>\n",
              "      <td>[{'citation': 'A. Karstaedt (1998) Tuberculous...</td>\n",
              "      <td>1</td>\n",
              "    </tr>\n",
              "    <tr>\n",
              "      <th>24166585</th>\n",
              "      <td>Ablanedo-Terrazas Y, et al. Xpert MTB/RIF for ...</td>\n",
              "      <td>[{'citation': '10.2807/ese.18.12.20431-en Sand...</td>\n",
              "      <td>1</td>\n",
              "    </tr>\n",
              "  </tbody>\n",
              "</table>\n",
              "<p>106 rows × 3 columns</p>\n",
              "</div>\n",
              "    <div class=\"colab-df-buttons\">\n",
              "\n",
              "  <div class=\"colab-df-container\">\n",
              "    <button class=\"colab-df-convert\" onclick=\"convertToInteractive('df-0c5c8f97-2d76-4eff-9fbb-f732165abc47')\"\n",
              "            title=\"Convert this dataframe to an interactive table.\"\n",
              "            style=\"display:none;\">\n",
              "\n",
              "  <svg xmlns=\"http://www.w3.org/2000/svg\" height=\"24px\" viewBox=\"0 -960 960 960\">\n",
              "    <path d=\"M120-120v-720h720v720H120Zm60-500h600v-160H180v160Zm220 220h160v-160H400v160Zm0 220h160v-160H400v160ZM180-400h160v-160H180v160Zm440 0h160v-160H620v160ZM180-180h160v-160H180v160Zm440 0h160v-160H620v160Z\"/>\n",
              "  </svg>\n",
              "    </button>\n",
              "\n",
              "  <style>\n",
              "    .colab-df-container {\n",
              "      display:flex;\n",
              "      gap: 12px;\n",
              "    }\n",
              "\n",
              "    .colab-df-convert {\n",
              "      background-color: #E8F0FE;\n",
              "      border: none;\n",
              "      border-radius: 50%;\n",
              "      cursor: pointer;\n",
              "      display: none;\n",
              "      fill: #1967D2;\n",
              "      height: 32px;\n",
              "      padding: 0 0 0 0;\n",
              "      width: 32px;\n",
              "    }\n",
              "\n",
              "    .colab-df-convert:hover {\n",
              "      background-color: #E2EBFA;\n",
              "      box-shadow: 0px 1px 2px rgba(60, 64, 67, 0.3), 0px 1px 3px 1px rgba(60, 64, 67, 0.15);\n",
              "      fill: #174EA6;\n",
              "    }\n",
              "\n",
              "    .colab-df-buttons div {\n",
              "      margin-bottom: 4px;\n",
              "    }\n",
              "\n",
              "    [theme=dark] .colab-df-convert {\n",
              "      background-color: #3B4455;\n",
              "      fill: #D2E3FC;\n",
              "    }\n",
              "\n",
              "    [theme=dark] .colab-df-convert:hover {\n",
              "      background-color: #434B5C;\n",
              "      box-shadow: 0px 1px 3px 1px rgba(0, 0, 0, 0.15);\n",
              "      filter: drop-shadow(0px 1px 2px rgba(0, 0, 0, 0.3));\n",
              "      fill: #FFFFFF;\n",
              "    }\n",
              "  </style>\n",
              "\n",
              "    <script>\n",
              "      const buttonEl =\n",
              "        document.querySelector('#df-0c5c8f97-2d76-4eff-9fbb-f732165abc47 button.colab-df-convert');\n",
              "      buttonEl.style.display =\n",
              "        google.colab.kernel.accessAllowed ? 'block' : 'none';\n",
              "\n",
              "      async function convertToInteractive(key) {\n",
              "        const element = document.querySelector('#df-0c5c8f97-2d76-4eff-9fbb-f732165abc47');\n",
              "        const dataTable =\n",
              "          await google.colab.kernel.invokeFunction('convertToInteractive',\n",
              "                                                    [key], {});\n",
              "        if (!dataTable) return;\n",
              "\n",
              "        const docLinkHtml = 'Like what you see? Visit the ' +\n",
              "          '<a target=\"_blank\" href=https://colab.research.google.com/notebooks/data_table.ipynb>data table notebook</a>'\n",
              "          + ' to learn more about interactive tables.';\n",
              "        element.innerHTML = '';\n",
              "        dataTable['output_type'] = 'display_data';\n",
              "        await google.colab.output.renderOutput(dataTable, element);\n",
              "        const docLink = document.createElement('div');\n",
              "        docLink.innerHTML = docLinkHtml;\n",
              "        element.appendChild(docLink);\n",
              "      }\n",
              "    </script>\n",
              "  </div>\n",
              "\n",
              "\n",
              "<div id=\"df-beced73f-78f6-49bc-9074-3298eadcfba6\">\n",
              "  <button class=\"colab-df-quickchart\" onclick=\"quickchart('df-beced73f-78f6-49bc-9074-3298eadcfba6')\"\n",
              "            title=\"Suggest charts\"\n",
              "            style=\"display:none;\">\n",
              "\n",
              "<svg xmlns=\"http://www.w3.org/2000/svg\" height=\"24px\"viewBox=\"0 0 24 24\"\n",
              "     width=\"24px\">\n",
              "    <g>\n",
              "        <path d=\"M19 3H5c-1.1 0-2 .9-2 2v14c0 1.1.9 2 2 2h14c1.1 0 2-.9 2-2V5c0-1.1-.9-2-2-2zM9 17H7v-7h2v7zm4 0h-2V7h2v10zm4 0h-2v-4h2v4z\"/>\n",
              "    </g>\n",
              "</svg>\n",
              "  </button>\n",
              "\n",
              "<style>\n",
              "  .colab-df-quickchart {\n",
              "      --bg-color: #E8F0FE;\n",
              "      --fill-color: #1967D2;\n",
              "      --hover-bg-color: #E2EBFA;\n",
              "      --hover-fill-color: #174EA6;\n",
              "      --disabled-fill-color: #AAA;\n",
              "      --disabled-bg-color: #DDD;\n",
              "  }\n",
              "\n",
              "  [theme=dark] .colab-df-quickchart {\n",
              "      --bg-color: #3B4455;\n",
              "      --fill-color: #D2E3FC;\n",
              "      --hover-bg-color: #434B5C;\n",
              "      --hover-fill-color: #FFFFFF;\n",
              "      --disabled-bg-color: #3B4455;\n",
              "      --disabled-fill-color: #666;\n",
              "  }\n",
              "\n",
              "  .colab-df-quickchart {\n",
              "    background-color: var(--bg-color);\n",
              "    border: none;\n",
              "    border-radius: 50%;\n",
              "    cursor: pointer;\n",
              "    display: none;\n",
              "    fill: var(--fill-color);\n",
              "    height: 32px;\n",
              "    padding: 0;\n",
              "    width: 32px;\n",
              "  }\n",
              "\n",
              "  .colab-df-quickchart:hover {\n",
              "    background-color: var(--hover-bg-color);\n",
              "    box-shadow: 0 1px 2px rgba(60, 64, 67, 0.3), 0 1px 3px 1px rgba(60, 64, 67, 0.15);\n",
              "    fill: var(--button-hover-fill-color);\n",
              "  }\n",
              "\n",
              "  .colab-df-quickchart-complete:disabled,\n",
              "  .colab-df-quickchart-complete:disabled:hover {\n",
              "    background-color: var(--disabled-bg-color);\n",
              "    fill: var(--disabled-fill-color);\n",
              "    box-shadow: none;\n",
              "  }\n",
              "\n",
              "  .colab-df-spinner {\n",
              "    border: 2px solid var(--fill-color);\n",
              "    border-color: transparent;\n",
              "    border-bottom-color: var(--fill-color);\n",
              "    animation:\n",
              "      spin 1s steps(1) infinite;\n",
              "  }\n",
              "\n",
              "  @keyframes spin {\n",
              "    0% {\n",
              "      border-color: transparent;\n",
              "      border-bottom-color: var(--fill-color);\n",
              "      border-left-color: var(--fill-color);\n",
              "    }\n",
              "    20% {\n",
              "      border-color: transparent;\n",
              "      border-left-color: var(--fill-color);\n",
              "      border-top-color: var(--fill-color);\n",
              "    }\n",
              "    30% {\n",
              "      border-color: transparent;\n",
              "      border-left-color: var(--fill-color);\n",
              "      border-top-color: var(--fill-color);\n",
              "      border-right-color: var(--fill-color);\n",
              "    }\n",
              "    40% {\n",
              "      border-color: transparent;\n",
              "      border-right-color: var(--fill-color);\n",
              "      border-top-color: var(--fill-color);\n",
              "    }\n",
              "    60% {\n",
              "      border-color: transparent;\n",
              "      border-right-color: var(--fill-color);\n",
              "    }\n",
              "    80% {\n",
              "      border-color: transparent;\n",
              "      border-right-color: var(--fill-color);\n",
              "      border-bottom-color: var(--fill-color);\n",
              "    }\n",
              "    90% {\n",
              "      border-color: transparent;\n",
              "      border-bottom-color: var(--fill-color);\n",
              "    }\n",
              "  }\n",
              "</style>\n",
              "\n",
              "  <script>\n",
              "    async function quickchart(key) {\n",
              "      const quickchartButtonEl =\n",
              "        document.querySelector('#' + key + ' button');\n",
              "      quickchartButtonEl.disabled = true;  // To prevent multiple clicks.\n",
              "      quickchartButtonEl.classList.add('colab-df-spinner');\n",
              "      try {\n",
              "        const charts = await google.colab.kernel.invokeFunction(\n",
              "            'suggestCharts', [key], {});\n",
              "      } catch (error) {\n",
              "        console.error('Error during call to suggestCharts:', error);\n",
              "      }\n",
              "      quickchartButtonEl.classList.remove('colab-df-spinner');\n",
              "      quickchartButtonEl.classList.add('colab-df-quickchart-complete');\n",
              "    }\n",
              "    (() => {\n",
              "      let quickchartButtonEl =\n",
              "        document.querySelector('#df-beced73f-78f6-49bc-9074-3298eadcfba6 button');\n",
              "      quickchartButtonEl.style.display =\n",
              "        google.colab.kernel.accessAllowed ? 'block' : 'none';\n",
              "    })();\n",
              "  </script>\n",
              "</div>\n",
              "\n",
              "  <div id=\"id_826ac3f7-5ac1-4497-a8c0-456e19e80d16\">\n",
              "    <style>\n",
              "      .colab-df-generate {\n",
              "        background-color: #E8F0FE;\n",
              "        border: none;\n",
              "        border-radius: 50%;\n",
              "        cursor: pointer;\n",
              "        display: none;\n",
              "        fill: #1967D2;\n",
              "        height: 32px;\n",
              "        padding: 0 0 0 0;\n",
              "        width: 32px;\n",
              "      }\n",
              "\n",
              "      .colab-df-generate:hover {\n",
              "        background-color: #E2EBFA;\n",
              "        box-shadow: 0px 1px 2px rgba(60, 64, 67, 0.3), 0px 1px 3px 1px rgba(60, 64, 67, 0.15);\n",
              "        fill: #174EA6;\n",
              "      }\n",
              "\n",
              "      [theme=dark] .colab-df-generate {\n",
              "        background-color: #3B4455;\n",
              "        fill: #D2E3FC;\n",
              "      }\n",
              "\n",
              "      [theme=dark] .colab-df-generate:hover {\n",
              "        background-color: #434B5C;\n",
              "        box-shadow: 0px 1px 3px 1px rgba(0, 0, 0, 0.15);\n",
              "        filter: drop-shadow(0px 1px 2px rgba(0, 0, 0, 0.3));\n",
              "        fill: #FFFFFF;\n",
              "      }\n",
              "    </style>\n",
              "    <button class=\"colab-df-generate\" onclick=\"generateWithVariable('df')\"\n",
              "            title=\"Generate code using this dataframe.\"\n",
              "            style=\"display:none;\">\n",
              "\n",
              "  <svg xmlns=\"http://www.w3.org/2000/svg\" height=\"24px\"viewBox=\"0 0 24 24\"\n",
              "       width=\"24px\">\n",
              "    <path d=\"M7,19H8.4L18.45,9,17,7.55,7,17.6ZM5,21V16.75L18.45,3.32a2,2,0,0,1,2.83,0l1.4,1.43a1.91,1.91,0,0,1,.58,1.4,1.91,1.91,0,0,1-.58,1.4L9.25,21ZM18.45,9,17,7.55Zm-12,3A5.31,5.31,0,0,0,4.9,8.1,5.31,5.31,0,0,0,1,6.5,5.31,5.31,0,0,0,4.9,4.9,5.31,5.31,0,0,0,6.5,1,5.31,5.31,0,0,0,8.1,4.9,5.31,5.31,0,0,0,12,6.5,5.46,5.46,0,0,0,6.5,12Z\"/>\n",
              "  </svg>\n",
              "    </button>\n",
              "    <script>\n",
              "      (() => {\n",
              "      const buttonEl =\n",
              "        document.querySelector('#id_826ac3f7-5ac1-4497-a8c0-456e19e80d16 button.colab-df-generate');\n",
              "      buttonEl.style.display =\n",
              "        google.colab.kernel.accessAllowed ? 'block' : 'none';\n",
              "\n",
              "      buttonEl.onclick = () => {\n",
              "        google.colab.notebook.generateWithVariable('df');\n",
              "      }\n",
              "      })();\n",
              "    </script>\n",
              "  </div>\n",
              "\n",
              "    </div>\n",
              "  </div>\n"
            ],
            "application/vnd.google.colaboratory.intrinsic+json": {
              "type": "dataframe",
              "variable_name": "df",
              "summary": "{\n  \"name\": \"df\",\n  \"rows\": 106,\n  \"fields\": [\n    {\n      \"column\": \"PMID\",\n      \"properties\": {\n        \"dtype\": \"number\",\n        \"std\": 2040776,\n        \"min\": 18818267,\n        \"max\": 28516818,\n        \"num_unique_values\": 106,\n        \"samples\": [\n          26775391,\n          24167452,\n          26240094\n        ],\n        \"semantic_type\": \"\",\n        \"description\": \"\"\n      }\n    },\n    {\n      \"column\": \"citation\",\n      \"properties\": {\n        \"dtype\": \"string\",\n        \"num_unique_values\": 106,\n        \"samples\": [\n          \"Celik C, et al. Applicability of Xpert MTB/RIF assay for routine diagnosis of tuberculosis: a four-year single-center experience. Applicability of Xpert MTB/RIF assay for routine diagnosis of tuberculosis: a four-year single-center experience. 2015; 45:1329-34.\",\n          \"Boulware DR. Utility of the Xpert MTB/RIF assay for diagnosis of tuberculous meningitis. Utility of the Xpert MTB/RIF assay for diagnosis of tuberculous meningitis. 2013; 10:e1001537. doi: 10.1371/journal.pmed.1001537\",\n          \"Gamell A, et al. Disseminated tuberculosis in an HIV-infected child: rifampicin resistance detected by GeneXpert in a lymph node aspirate but not in cerebrospinal fluid. Disseminated tuberculosis in an HIV-infected child: rifampicin resistance detected by GeneXpert in a lymph node aspirate but not in cerebrospinal fluid. 2015; 2015:(unknown pages). doi: 10.1136/bcr-2014-207997\"\n        ],\n        \"semantic_type\": \"\",\n        \"description\": \"\"\n      }\n    },\n    {\n      \"column\": \"reference_array\",\n      \"properties\": {\n        \"dtype\": \"string\",\n        \"num_unique_values\": 104,\n        \"samples\": [\n          \"[{'citation': 'N Engl J Med Boehme 363 1005 2010 10.1056/NEJMoa0907847 Rapid molecular detection of tuberculosis and rifampin resistance', 'cosine': [{'citation': 'N Engl J Med Boehme 363 1005 2011 10.1056/NEJMoa0907847 Rapid molecular detection of tuberculosis and rifampin resistance', 'cosine': 0.8763511049989043, 'id': 251}, {'citation': 'N Engl J Med Tahaoglu 345 170 2001 10.1056/NEJM200107193450303 The treatment of multidrug-resistant tuberculosis in Turkey', 'cosine': 0.2203402578610447, 'id': 255}], 'id': 246}, {'citation': 'BMC Infect Dis Yoon 12 172 2012 10.1186/1471-2334-12-172 Impact of sputum gross appearance and volume on smear positivity of pulmonary tuberculosis: a prospective cohort study', 'cosine': [{'citation': 'BMC infectious diseases CT Sreeramareddy 8 1 8 2008 10.1186/1471-2334-8-8 Comparison of pulmonary and extrapulmonary tuberculosis in Nepal-a hospital-based retrospective study', 'cosine': 0.1123427789154278, 'id': 803}], 'id': 796}, {'citation': 'Int J Tuberc Lung Dis Lee 17 917 2013 10.5588/ijtld.12.0885 Diagnostic accuracy of Xpert\\u00ae MTB/RIF on bronchoscopy specimens in patients with suspected pulmonary tuberculosis', 'cosine': [{'citation': 'J Clin Microbiol Banada 48 3551 2010 10.1128/JCM.01053-10 Containment of bioaerosol infection risk by the Xpert MTB/RIF assay and its applicability to point-of-care settings', 'cosine': 0.0562971575750714, 'id': 773}, {'citation': 'Eur Respir J CM Denkinger 44 2 435 2014 10.1183/09031936.00007814 Xpert MTB/RIF assay for the diagnosis of extrapulmonary tuberculosis: a systematic review and meta-analysis', 'cosine': 0.08431875054119922, 'id': 778}], 'id': 768}, {'citation': 'Eur Respir J Sester 37 100 2011 10.1183/09031936.00114810 Interferon-gamma release assays for the diagnosis of active tuberculosis: a systematic review and meta-analysis', 'cosine': [{'citation': 'J Infect K Chang 64 580 2012 10.1016/j.jinf.2012.02.012 Rapid and effective diagnosis of tuberculosis and rifampicin resistance with Xpert MTB/RIF assay: a meta-analysis', 'cosine': 0.16849074370599476, 'id': 703}, {'citation': 'J Infect Chang 2013 580 2012 10.1016/j.jinf.2012.02.012 Rapid and effective diagnosis of tuberculosis and rifampicin resistance with Xpert MTB/RIF assay: a meta-analysis', 'cosine': 0.17419183498777666, 'id': 712}, {'citation': 'Int J Tuberc Lung Dis Mitarai 15 1211 2011 10.5588/ijtld.10.0629 Evaluation of a simple loop-mediated isothermal amplification test kit for the diagnosis of tuberculosis', 'cosine': 0.12661049602721647, 'id': 718}, {'citation': 'Int J Tuberc Lung Dis Bowles 15 988 2011 10.5588/ijtld.10.0574 Xpert MTB/RIF(R), a novel automated polymerase chain reaction-based tool for the diagnosis of tuberculosis', 'cosine': 0.12304829965489734, 'id': 720}], 'id': 711}, {'citation': 'Am J Respir Crit Care Med Hassan 183 136 2011 10.1164/ajrccm.183.1.136 EBUS-TBNA performs well in the diagnosis of isolated thoracic tuberculous lymphadenopathy', 'cosine': [{'citation': 'Am J Respir Crit Care Med Sester 190 10 1168 2014 10.1164/rccm.201405-0967OC TBNET. Risk assessment of tuberculosis in immunocompromised patients. A TBNET study', 'cosine': 0.15425058744996142, 'id': 605}], 'id': 606}, {'citation': 'Ann Am Thorac Soc Dhasmana 11 392 2014 10.1513/AnnalsATS.201308-250OC Performance of Xpert MTB/RIF in the diagnosis of tuberculous mediastinal lymphadenopathy by endobronchial ultrasound', 'cosine': [{'citation': 'Ped Infect Dis J Walters 31 1316 2012 10.1097/INF.0b013e318266c21c Rapid diagnosis of pediatric intrathoracic tuberculosis from stool samples using the Xpert MTB/RIF assay: a pilot study', 'cosine': 0.0851094421849754, 'id': 910}, {'citation': 'Journal of clinical microbiology LJ Ligthelm 49 3967 2011 10.1128/JCM.01310-11 Xpert MTB/RIF for rapid diagnosis of tuberculous lymphadenitis from fine-needle-aspiration biopsy specimens', 'cosine': 0.13050112952634113, 'id': 914}], 'id': 903}, {'citation': 'Am J Respir Crit Care Med Querol 152 1977 1995 10.1164/ajrccm.152.6.8520765 Rapid diagnosis of pleural tuberculosis by polymerase chain reaction', 'cosine': [{'citation': 'Eur Respir J Tortoli 40 442 2012 10.1183/09031936.00176311 Clinical validation of Xpert MTB/RIF for the diagnosis of extrapulmonary tuberculosis', 'cosine': 0.1447519753539112, 'id': 426}, {'citation': 'Eur Respir J Tortoli 40 442 2012 10.1183/09031936.00176311 Clinical validation of Xpert MTBRIF for the diagnosis of extrapulmonary tuberculosis.', 'cosine': 0.1447519753539112, 'id': 429}, {'citation': 'Am J Respir Crit Care Med 161 1376 2000 10.1164/ajrccm.161.4.16141 Diagnostic standards and classification of tuberculosis in adults and children', 'cosine': 0.23366802686951402, 'id': 431}], 'id': 425}, {'citation': 'Eur Respir J Denkinger 44 435 2014 10.1183/09031936.00007814 Xpert MTB/RIF assay for the diagnosis of extrapulmonary tuberculosis: a systematic review and meta-analysis', 'cosine': [{'citation': 'J Infect Reither 70 392 2015 10.1016/j.jinf.2014.10.003 Xpert MTB/RIF assay for diagnosis of pulmonary tuberculosis in children: a prospective, multi-centre evaluation.', 'cosine': 0.2163826642241318, 'id': 701}, {'citation': 'Eur Respir J Denkinger 44 435 2014 10.1183/09031936.00007814 Xpert MTBRIF assay for the diagnosis of extrapulmonary tuberculosis: a systematic review and meta-analysis.', 'cosine': 1.0, 'id': 702}, {'citation': 'J Infect K Chang 64 580 2012 10.1016/j.jinf.2012.02.012 Rapid and effective diagnosis of tuberculosis and rifampicin resistance with Xpert MTB/RIF assay: a meta-analysis', 'cosine': 0.2524942809197491, 'id': 703}], 'id': 697}, {'citation': 'J Clin Microbiol Lin 47 3630 2009 10.1128/JCM.00803-09 Multicenter evaluation of Bactec MGIT 960 system for second-line drug susceptibility testing of Mycobacterium tuberculosis complex', 'cosine': [{'citation': 'Jeong Hyun Kim, Young Jae Kim, Chang-Seok Ki, Ji-Youn Kim, Nam Yong Lee (2010) Evaluation of Cobas TaqMan MTB PCR for Detection of <i>Mycobacterium tuberculosis</i> 10.1128/JCM.00694-10', 'cosine': 0.021468566099967317, 'id': 898}, {'citation': 'J Clin Microbiol Reischl 36 2853 1998 10.1128/JCM.36.10.2853-2860.1998 Clinical evaluation of the automated Cobas Amplicor MTB assay for testing respiratory and nonrespiratory specimens', 'cosine': 0.14868643505006923, 'id': 899}, {'citation': '10.1128/JCM.02319-10 24. Vadwai V, Boehme CC, Nabeta P. A new pillar in diagnosis of extrapulmonary tuberculosis? Clin Microbiol. 2011;49:2540-5. http://dx.doi.org/10.1128/JCM.02319-10.', 'cosine': 0.08958749235553916, 'id': 901}, {'citation': 'Hillemann D, Rusch-Gerdes S, Boehme C, Richter E. Rapid molecular detection of extrapulmonary tuberculosis by the automated GeneXpert MTB/RIF system. J Clin Microbiol. 2011;49:1202\\u20131205.', 'cosine': 0.11234277891542784, 'id': 902}], 'id': 897}, {'citation': 'Antimicrob Agents Chemother Chang 55 4499 2011 10.1128/AAC.00630-11 Pyrazinamide susceptibility testing in Mycobacterium tuberculosis: a systematic review with meta-analyses', 'cosine': [{'citation': 'Eur Respir J CM Denkinger 44 2 435 2014 10.1183/09031936.00007814 Xpert MTB/RIF assay for the diagnosis of extrapulmonary tuberculosis: a systematic review and meta-analysis', 'cosine': 0.09522817068558634, 'id': 778}], 'id': 769}, {'citation': 'J Clin Microbiol Ignatyeva 50 1593 2012 10.1128/JCM.00039-12 Detection of resistance to second-line antituberculosis drugs by use of the genotype MTBDRsl assay: a multicenter evaluation and feasibility study', 'cosine': [{'citation': 'J Clin Microbiol Ignatyeva 50 1593 2012 10.1128/JCM.00039-12 Detection of resistance to second-line antituberculosis drugs by use of the Genotype MTBDRsl assay: a multicenter evaluation and feasibility study', 'cosine': 1.0000000000000004, 'id': 1165}], 'id': 1163}, {'citation': 'N Engl J Med Diacon 371 723 2014 10.1056/NEJMoa1313865 Multidrug-resistant tuberculosis and culture conversion with bedaquiline', 'cosine': [{'citation': 'N Engl J Med Anderson 370 1712 2014 10.1056/NEJMoa1303657 Diagnosis of childhood tuberculosis and host RNA expression in Africa', 'cosine': 0.25320944951617447, 'id': 286}], 'id': 287}]\",\n          \"[{'citation': 'J Clin Microbiol C Cavusoglu 40 12 4435 2002 10.1128/JCM.40.12.4435-4438.2002 Characterization of <italic>rpoB</italic> Mutations in Rifampin-Resistant Clinical Isolates of <italic>Mycobacterium tuberculosis</italic> from Turkey by DNA Sequencing and Line Probe Assay', 'cosine': [{'citation': 'Armand S, Vanhuls P, Delcroix G, Courcol R, Lemaitre N. Comparison of the Xpert MTB/RIF test with an IS6110-TaqMan real-time PCR assay for direct detection of Mycobacterium tuberculosis in respiratory and nonrespiratory specimens. J Clin Microbiol. 2011;49:1772\\u20131776.', 'cosine': 0.08300026450694464, 'id': 1650}, {'citation': 'J Clin Microbiol R Moure 50 2 513 2012 10.1128/JCM.06467-11 Effectiveness of an integrated real-time PCR method for detection of the <italic>Mycobacterium tuberculosis</italic> complex in smear-negative extrapulmonary samples in an area of low tuberculosis prevalence', 'cosine': 0.11245359121148896, 'id': 1651}, {'citation': 'J Clin Microbiol L Dinic 50 9 2905 2012 10.1128/JCM.00982-12 Dinic L, Akande P, Idigbe EO, Ani A, Onwujekwe D, Agbaji O, Akanbi M, Nwosu R. Genetic determinants of drug-resistant tuberculosis among HIV infected patients in Nigeria. J Clin Microbiol. 2012;50(9):2905\\u20139.', 'cosine': 0.09987360927787324, 'id': 1654}, {'citation': 'J. Clin.Microbiol D Van Soolingen 29 2578 1991 10.1128/JCM.29.11.2578-2586.1991 The occurrence and stability of insertion sequences in Mycobacteinum tuberculosis complex strains; evaluation of IS-dependent DNA polymorphism as a tool in the epidemiology of tuberculosis', 'cosine': 0.06463386848497799, 'id': 1659}], 'id': 1649}, {'citation': 'J. Clin. Microbiol C Mani 39 8 2987 2001 10.1128/JCM.39.8.2987-2990.2001 Mutations in the <italic>rpoB</italic> gene of multidrug-resistant <italic>Mycobacterium tuberculosis</italic> clinical isolates from India', 'cosine': [{'citation': 'J Clin Microbiol Zeka 49 4138 2011 10.1128/JCM.05434-11 Evaluation of the GeneXpert MTB/RIF assay for rapid diagnosis of tuberculosis and detection of rifampin resistance in pulmonary and extrapulmonary specimens', 'cosine': 0.08213040892575962, 'id': 1217}], 'id': 1218}, {'citation': 'J. Cin Microbiol R Blakemore 48 7 2495 2010 10.1128/JCM.00128-10 Evaluation of the analytical performance of the Xpert MTB/RIF assay', 'cosine': [{'citation': 'J Clin Microbiol V Vadwai 49 2540 2011 10.1128/JCM.02319-10 Xpert MTB/RIF: a new pillar in diagnosis of extrapulmonary tuberculosis?', 'cosine': 0.14438355527738675, 'id': 334}, {'citation': 'J Clin Microbiol Vadwai 2013 2540 2011 10.1128/JCM.02319-10 Xpert MTB/RIF: a new pillar in diagnosis of extrapulmonary tuberculosis?', 'cosine': 0.14982363486245817, 'id': 337}, {'citation': 'J Clin Microbiol Vadwai 49 7 2540 2011 10.1128/JCM.02319-10 Xpert MTB/RIF: a new pillar in diagnosis of extrapulmonary tuberculosis?', 'cosine': 0.18706516325487862, 'id': 340}, {'citation': 'J. Clin. Microbiol R Blakemore 48 2495 2010 10.1128/JCM.00128-10 Evaluation of the analytical performance of the Xpert MTB/RIF assay', 'cosine': 0.8267283375553849, 'id': 343}], 'id': 342}, {'citation': 'J Clin Microbiol V Vadwai 49 7 2540 2011 10.1128/JCM.02319-10 Xpert MTB/RIF: a new pillar in diagnosis of extrapulmonary tuberculosis?', 'cosine': [{'citation': 'Int J Tuberc Lung Dis JM Porcel 17 1217 2013 10.5588/ijtld.13.0178 Xpert(R) MTB/RIF in pleural fluid for the diagnosis of tuberculosis', 'cosine': 0.13477398542330465, 'id': 356}, {'citation': 'Clin Infect Dis G Theron 55 472 2012 10.1093/cid/cis465 Characteristics of Xpert MTB/RIF-negative patients with pulmonary tuberculosis', 'cosine': 0.1048540053567576, 'id': 360}], 'id': 361}]\",\n          \"[{'citation': 'Clin Microbiol Rev RB Rock 21 243 2008 10.1128/CMR.00042-07 Central nervous system tuberculosis: pathogenesis and clinical aspects', 'cosine': [{'citation': 'J Clin Microbiol. Vadwai 49 2540 2011 10.1128/JCM.02319-10 Xpert MTB/RIF: a new pillar in diagnosis of extrapulmonary tuberculosis', 'cosine': 0.1123427789154278, 'id': 316}, {'citation': 'J Clin Microbiol Vadwai 49 2540 2011 10.1128/JCM.02319-10 Xpert MTB/RIF: a new pillar in diagnosis of extrapulmonary tuberculosis?', 'cosine': 0.1123427789154278, 'id': 319}], 'id': 321}, {'citation': 'Int J Tuberc Lung Dis EC Bowles 15 988 2011 10.5588/ijtld.10.0574 Xpert MTB/RIF\\u00ae, a novel automated polymerase chain reaction-based tool for the diagnosis of tuberculosis', 'cosine': [{'citation': 'Int J Tuberc Lung Dis Sun 17 552 2013 10.5588/ijtld.12.0627 Cost utility of lateral-flow urine lipoarabinomannan for tuberculosis diagnosis in HIV-infected African adults', 'cosine': 0.20800835788724237, 'id': 722}, {'citation': 'J Clin Microbiol LJ Ligthelm 49 3967 2011 10.1128/JCM.01310-11 Xpert MTB/RIF for rapid diagnosis of tuberculous lymphadenitis from fine-needle-aspiration biopsy specimens', 'cosine': 0.11597359103300467, 'id': 723}, {'citation': 'Clin Infect Dis F Osores 43 855 2006 10.1086/507536 Clinical evaluation of a 16S ribosomal RNA polymerase chain reaction test for the diagnosis of lymph node tuberculosis', 'cosine': 0.1330494792607256, 'id': 731}, {'citation': 'Chochrane Database Syst Rev KR Steingart 2013 10.1002/14651858.CD009593.pub2 Xpert \\u00ae MTB/RIF assay for pulmonary tuberculosis and rifampicin resistance in adults (Review)', 'cosine': 0.05487258276218214, 'id': 732}], 'id': 729}, {'citation': 'Am J Respir Crit Care Med G Theron 184 132 2011 10.1164/rccm.201101-0056OC Evaluation of the Xpert MTB/RIF assay for the diagnosis of pulmonary tuberculosis in a high HIV prevalence setting', 'cosine': [{'citation': 'Open Forum Infect Dis Mupfumi 1 1 1 2014 10.1093/ofid/ofu038 Impact of Xpert MTB/RIF on antiretroviral therapy-associated tuberculosis and mortality: a pragmatic randomized controlled trial', 'cosine': 0.06637068726226432, 'id': 946}, {'citation': 'Am J Respir Crit Care Med Yee 167 1472 2003 10.1164/rccm.200206-626OC Incidence of serious side effects from first-line antituberculosis drugs among patients treated for active tuberculosis', 'cosine': 0.1686568927747246, 'id': 947}, {'citation': 'Hillemann D, Rusch-Gerdes S, Boehme C, Richter E. Rapid molecular detection of extrapulmonary tuberculosis by the automated GeneXpert MTB/RIF system. J Clin Microbiol. 2011;49(4):1202\\u20131205.', 'cosine': 0.0779112616555752, 'id': 951}, {'citation': 'PLoS One Rachow 6 2011 10.1371/journal.pone.0020458 Rapid and accurate detection of Mycobacterium tuberculosis in sputum samples by cepheid Xpert MTB/RIF assay \\u2013 a clinical validation study', 'cosine': 0.1367915010859626, 'id': 954}, {'citation': 'Hillemann D, R\\u00fcsch-Gerdes S, Boehme C, Richter E. Rapid molecular detection of extra pulmonary tuberculosis by the automated GeneXpert MTB/RIF system. J Clin Microbio. 2011;49(4):1202\\u20131205.', 'cosine': 0.10374610396688069, 'id': 955}], 'id': 953}, {'citation': 'Future Microbiol SD Lawn 6 1067 2011 10.2217/fmb.11.84 Xpert\\u00ae MTB/RIF assay: development, evaluation and implementation of a new rapid molecular diagnostic for tuberculosis and rifampicin resistance', 'cosine': [{'citation': 'PLoS Med Lawn 8 2011 10.1371/journal.pmed.1001067 Screening for HIV-associated tuberculosis and rifampicin resistance before antiretroviral therapy using the Xpert MTB/RIF assay: a prospective study', 'cosine': 0.20800835788724248, 'id': 1068}], 'id': 1067}, {'citation': 'Future Microbiol M Pai 3 1 2008 10.2217/17460913.3.1.1 Rapid diagnosis of extrapulmonary tuberculosis using nucleic acid amplification tests: what is the evidence?', 'cosine': [{'citation': 'BMC Infect Dis Pai 4 6 2004 10.1186/1471-2334-4-6 Nucleic acid amplification tests in the diagnosis of tuberculous pleuritis: a systematic review and meta-analysis', 'cosine': 0.2019930924979184, 'id': 645}], 'id': 649}, {'citation': 'J Clin Microbiol D Helb 48 229 2010 10.1128/JCM.01463-09 Rapid detection of Mycobacterium tuberculosis and rifampin resistance by use of on-demand, near-patient technology', 'cosine': [{'citation': 'J Clin Microbiol D Helb 48 229 2010 10.1128/JCM.01463-09 Rapid Detection of Mycobacterium tuberculosis and Rifampin Resistance by Use of On-Demand, Near-Patient Technology', 'cosine': 0.9999999999999993, 'id': 739}, {'citation': 'J Clin Microbiol Helb 2013 229 2010 10.1128/JCM.01463-09 Rapid detection of Mycobacterium tuberculosis and rifampin resistance by use of on-demand, near-patient technology', 'cosine': 0.8526196321932898, 'id': 740}, {'citation': 'J Clin Microbiol Gitti 44 2244 2006 10.1128/JCM.02088-05 Use of the GenoType Mycobacterium CM and AS assays to analyze 76 nontuberculous mycobacterial isolates from Greece', 'cosine': 0.15311754808520736, 'id': 741}, {'citation': 'J Clin Microbiol MD Perry 52 5 1708 2014 10.1128/JCM.03585-13 Potential for use of the Seegene Anyplex MTB/NTM real-time detection assay in a regional reference laboratory', 'cosine': 0.14461901945292335, 'id': 743}, {'citation': 'J Clin Microbiol F Alcaide 41 2867 2003 10.1128/JCM.41.7.2867-2871.2003 Usefulness of a new mycobacteriophage-based technique for rapid diagnosis of pulmonary tuberculosis', 'cosine': 0.20244121907722926, 'id': 744}], 'id': 733}, {'citation': 'Am J Respir Crit Care Med VB Patel 182 569 2010 10.1164/rccm.200912-1931OC Cerebrospinal T-cell responses aid in the diagnosis of tuberculous meningitis in a human immunodeficiency virus- and tuberculosis-endemic population', 'cosine': [{'citation': 'American journal of respiratory and critical care medicine G Theron 184 132 2011 10.1164/rccm.201101-0056OC Evaluation of the Xpert MTB/RIF assay for the diagnosis of pulmonary tuberculosis in a high HIV prevalence setting.', 'cosine': 0.045996070180263846, 'id': 1309}, {'citation': 'Am J Respir Crit Care Med M Barnard 186 1298 2012 10.1164/rccm.201205-0960OC Genotype MTBDRsl line probe assay shortens time to diagnosis of extensively drug-resistant tuberculosis in a high-throughput diagnostic laboratory', 'cosine': 0.14454694987862884, 'id': 1312}, {'citation': 'Eur. Respir. J. DJ Christopher 42 1427 2013 10.1183/09031936.00103213 Christopher, D. J. et al. Performance of Xpert MTB/RIF on pleural tissue for the diagnosis of pleural tuberculosis. Eur. Respir. J. 42, 1427\\u20131429 (2013).', 'cosine': 0.10473318191044848, 'id': 1316}], 'id': 1314}, {'citation': 'BMC Infect Dis JN Jarvis 10 67 2010 10.1186/1471-2334-10-67 Adult meningitis in a setting of high HIV and TB prevalence: findings from 4961 suspected cases', 'cosine': [{'citation': 'Int J Infect Dis Djoba Siawaya 11 4 289 2007 10.1016/j.ijid.2007.02.001 Correlates for disease progression and prognosis during concurrent HIV/TB infection', 'cosine': 0.08312702965049953, 'id': 540}], 'id': 545}, {'citation': 'Am J Respir Crit Care Med R Blakemore 184 1076 2011 10.1164/rccm.201103-0536OC A multisite assessment of the quantitative capabilities of the Xpert MTB/RIF assay', 'cosine': [{'citation': 'J Clin Microbiol Hillemann 2013 1202 2011 10.1128/JCM.02268-10 Rapid molecular detection of extrapulmonary tuberculosis by the automated GeneXpert MTB/RIF system', 'cosine': 0.09806824934046246, 'id': 622}, {'citation': 'J Clin Microbiol D Hillemann 49 1202 2011 10.1128/JCM.02268-10 Rapid molecular detection of extrapulmonary tuberculosis by the automated GeneXpert MTB/RIF system', 'cosine': 0.09485596580009677, 'id': 624}, {'citation': 'Tortoli E, Russo C, Piersimoni C, et al. Clinical validation of Xpert MTB/RIF for the diagnosis of extrapulmonary tuberculosis. Eur Respir J. 2012;40(2):442\\u2013447.', 'cosine': 0.11597359103300468, 'id': 626}, {'citation': 'Int J Tuberc Lung Dis Trebucq 15 1567 2011 10.5588/ijtld.11.0392 Xpert MTB/RIF for national tuberculosis programmes in low-income countries: when, where and how?', 'cosine': 0.13050112952634113, 'id': 628}, {'citation': 'Eur Respir J Denkinger 2014 10.1183/09031936.00007814 Xpert MTB/RIF assay for the diagnosis of extrapulmonary tuberculosis: a systematic review and meta-analysis', 'cosine': 0.18143890210273306, 'id': 631}, {'citation': 'J Clin Microbiol D Hillemann 49 1202 2011 10.1128/JCM.02268-10 Rapid molecular detection of extrapulmonary tuberculosis by the automated GeneXpert MTB/RIF system.', 'cosine': 0.09485596580009677, 'id': 632}], 'id': 630}, {'citation': 'J Clin Microbiol SO Friedrich 49 4341 2011 10.1128/JCM.05454-11 Xpert MTB/RIF assay for the diagnosis of pleural tuberculosis', 'cosine': [{'citation': 'J Clin Microbiol Nhu 52 226 2014 10.1128/JCM.01834-13 Evaluation of GeneXpert MTB/RIF for diagnosis of tuberculous meningitis', 'cosine': 0.21951015444968833, 'id': 273}, {'citation': 'J Clin Microbiol Tapley 51 1774 2013 10.1128/JCM.03432-12 Mobile digital fluorescence microscopy for diagnosis of tuberculosis', 'cosine': 0.21951015444968833, 'id': 277}], 'id': 274}, {'citation': 'J Infect K Chang 64 580 2012 10.1016/j.jinf.2012.02.012 Rapid and effective diagnosis of tuberculosis and rifampicin resistance with Xpert MTB/RIF assay: a meta-analysis', 'cosine': [{'citation': 'Tuberculosis (Edinb) Ou 94 428 2014 10.1016/j.tube.2014.04.006 A multicenter study of cross-priming amplification for tuberculosis diagnosis at peripheral level in China', 'cosine': 0.0934317361935698, 'id': 705}, {'citation': 'Vadwai V, Boehme C, Nabeta P, Shetty A, Alland D, Rodrigues C. Xpert MTB/RIF: A new pillar in diagnosis of extrapulmonary tuberculosis? J Clin Microbiol. 2011;49:2540\\u20135.', 'cosine': 0.1384180626028147, 'id': 709}, {'citation': 'Porcel JM, Palma R, Vald\\u00e9s L, Bielsa S, San-Jos\\u00e9 E, Esquerda A. Xpert\\u00ae MTB/RIF in pleural fluid for the diagnosis of tuberculosis. Int J Tuberc Lung Dis. 2013;17:1217\\u20139.', 'cosine': 0.11031978563063617, 'id': 710}, {'citation': 'Eur Respir J Sester 37 100 2011 10.1183/09031936.00114810 Interferon-gamma release assays for the diagnosis of active tuberculosis: a systematic review and meta-analysis', 'cosine': 0.16849074370599473, 'id': 711}, {'citation': 'J Infect Chang 2013 580 2012 10.1016/j.jinf.2012.02.012 Rapid and effective diagnosis of tuberculosis and rifampicin resistance with Xpert MTB/RIF assay: a meta-analysis', 'cosine': 0.8448951934138228, 'id': 712}, {'citation': '10.1016/j.it.2004.06.005 Rook GA Hernandez-Pando R Dheda K Teng Seah G. 2004. IL-4 in tuberculosis: implications for vaccine design. Trends Immunol 25: 483\\u2013488. [PubMed]', 'cosine': 0.05487258276218214, 'id': 716}, {'citation': 'J Clin Microbiol Helb 48 229 2010 10.1128/JCM.01463-09 Rapid detection of Mycobacterium tuberculosis and rifampin resistance by use of on-demand, near-patient technology', 'cosine': 0.1263637396650437, 'id': 719}, {'citation': 'Int J Tuberc Lung Dis Bowles 15 988 2011 10.5588/ijtld.10.0574 Xpert MTB/RIF(R), a novel automated polymerase chain reaction-based tool for the diagnosis of tuberculosis', 'cosine': 0.11914719328677735, 'id': 720}], 'id': 703}, {'citation': 'J Clin Microbiol D Hillemann 49 1202 2011 10.1128/JCM.02268-10 Rapid molecular detection of extrapulmonary tuberculosis by the automated GeneXpert MTB/RIF system', 'cosine': [{'citation': 'J Clin Microbiol Hillemann 2013 1202 2011 10.1128/JCM.02268-10 Rapid molecular detection of extrapulmonary tuberculosis by the automated GeneXpert MTB/RIF system', 'cosine': 0.8363150240554544, 'id': 622}, {'citation': 'Future Microbiol Pai 3 1 2008 10.2217/17460913.3.1.1 Rapid diagnosis of extrapulmonary tuberculosis using nucleic acid amplification tests: what is the evidence?', 'cosine': 0.13477398542330465, 'id': 625}, {'citation': 'Tortoli E, Russo C, Piersimoni C, et al. Clinical validation of Xpert MTB/RIF for the diagnosis of extrapulmonary tuberculosis. Eur Respir J. 2012;40(2):442\\u2013447.', 'cosine': 0.11977078761004573, 'id': 626}, {'citation': 'Int J Tuberc Lung Dis Trebucq 15 1567 2011 10.5588/ijtld.11.0392 Xpert MTB/RIF for national tuberculosis programmes in low-income countries: when, where and how?', 'cosine': 0.13477398542330465, 'id': 628}, {'citation': 'J Clin Microbiol KM Tatti 49 4059 2011 10.1128/JCM.00601-11 Novel multitarget real-time PCR assay for rapid detection of Bordetella species in clinical specimens', 'cosine': 0.23674057083268135, 'id': 629}, {'citation': 'Am J Respir Crit Care Med R Blakemore 184 1076 2011 10.1164/rccm.201103-0536OC A multisite assessment of the quantitative capabilities of the Xpert MTB/RIF assay', 'cosine': 0.09485596580009677, 'id': 630}, {'citation': 'Eur Respir J Denkinger 2014 10.1183/09031936.00007814 Xpert MTB/RIF assay for the diagnosis of extrapulmonary tuberculosis: a systematic review and meta-analysis', 'cosine': 0.1447519753539112, 'id': 631}, {'citation': 'J Clin Microbiol D Hillemann 49 1202 2011 10.1128/JCM.02268-10 Rapid molecular detection of extrapulmonary tuberculosis by the automated GeneXpert MTB/RIF system.', 'cosine': 1.0, 'id': 632}], 'id': 624}, {'citation': 'J Clin Microbiol P Ioannidis 49 3068 2011 10.1128/JCM.00718-11 Cepheid GeneXpert MTB/RIF Assay for Mycobacterium tuberculosis detection and rifampin resistance identification in patients with high clinical suspicion of TB and smear negative microscopy', 'cosine': [{'citation': 'J Infect Dev Ctries. PW Ndung\\u2019u 6 1 33 2012 10.3855/jidc.2281 Ndung\\u2019u PW, Kariuki S, Ng\\u2019ang\\u2019 Z, Revathi G. Resistance patterns of Mycobacterium tuberculosis isolates from pulmonary tuberculosis patients in Nairobi. J Infect Dev Ctries. 2012;6(1):33\\u20139.', 'cosine': 0.09045234318920288, 'id': 1520}, {'citation': 'J Clin Microbiol D Hillemann 49 1202 2011 10.1128/JCM.02268-10 Hillemann D, Rusch-Gerdes S, Boehme C, Richter E: Rapid molecular detection of extrapulmonary tuberculosis by the automated GeneXpert MTB/RIF system. J Clin Microbiol. 2011, 49: 1202-1205.', 'cosine': 0.25918756006094756, 'id': 1523}, {'citation': 'T. Hanscheid, C. Monteiro, J. Melo Cristino, L. Marques Lito, M. J. Salgado (2005) Growth of <i>Mycobacterium tuberculosis</i> in Conventional BacT/ALERT FA Blood Culture Bottles Allows Reliable Diagnosis of Mycobacteremia 10.1128/JCM.43.2.890-891.2005', 'cosine': 0.03714865888102167, 'id': 1527}, {'citation': 'A Telenti, N Honor\\u00e9, C Bernasconi, J March, A Ortega, B Heym, H E Takiff, S T Cole (1997) Genotypic assessment of isoniazid and rifampin resistance in Mycobacterium tuberculosis: a blind study at reference laboratory level 10.1128/jcm.35.3.719-723.1997', 'cosine': 0.09739968853177648, 'id': 1531}], 'id': 1522}, {'citation': 'J Clin Microbiol V Vadwai 49 2540 2011 10.1128/JCM.02319-10 Xpert MTB/RIF: a new pillar in diagnosis of extrapulmonary tuberculosis?', 'cosine': [{'citation': 'J Clin Microbiol Vadwai 2013 2540 2011 10.1128/JCM.02319-10 Xpert MTB/RIF: a new pillar in diagnosis of extrapulmonary tuberculosis?', 'cosine': 0.8267283375553849, 'id': 337}, {'citation': 'J Clin Microbiol Vadwai 49 7 2540 2011 10.1128/JCM.02319-10 Xpert MTB/RIF: a new pillar in diagnosis of extrapulmonary tuberculosis?', 'cosine': 0.8836351388995085, 'id': 340}, {'citation': 'J. Cin Microbiol R Blakemore 48 7 2495 2010 10.1128/JCM.00128-10 Evaluation of the analytical performance of the Xpert MTB/RIF assay', 'cosine': 0.14438355527738675, 'id': 342}, {'citation': 'J. Clin. Microbiol R Blakemore 48 2495 2010 10.1128/JCM.00128-10 Evaluation of the analytical performance of the Xpert MTB/RIF assay', 'cosine': 0.19438588123750372, 'id': 343}], 'id': 334}, {'citation': 'J Clin Microbiol M Causse 49 3065 2011 10.1128/JCM.00491-11 Comparison of two molecular methods for rapid diagnosis of extrapulmonary tuberculosis', 'cosine': [{'citation': 'Eur Respir J E Tortoli 40 442 2012 10.1183/09031936.00176311 Clinical validation of Xpert MTB/RIF for the diagnosis of extrapulmonary tuberculosis', 'cosine': 0.14438355527738675, 'id': 442}, {'citation': 'Eur Respir J Tortoli 2013 442 2012 10.1183/09031936.00176311 Clinical validation of Xpert MTB/RIF for the diagnosis of extrapulmonary tuberculosis', 'cosine': 0.14982363486245817, 'id': 447}, {'citation': 'J Clin Microbiol Causse 2013 3065 2011 10.1128/JCM.00491-11 Comparison of two molecular methods for rapid diagnosis of extrapulmonary tuberculosis', 'cosine': 0.8267283375553849, 'id': 448}, {'citation': 'J Clin Microbiol Causse 49 8 3065 2011 10.1128/JCM.00491-11 Comparison of two molecular methods for rapid diagnosis of extrapulmonary tuberculosis', 'cosine': 0.8836351388995085, 'id': 449}, {'citation': 'Eur Respir J Tortoli 40 2 442 2012 10.1183/09031936.00176311 Clinical validation of Xpert MTB/RIF for the diagnosis of extrapulmonary tuberculosis', 'cosine': 0.14438355527738675, 'id': 451}], 'id': 452}, {'citation': 'J Clin Microbiol BR Eing 36 2023 1998 10.1128/JCM.36.7.2023-2029.1998 Comparison of Roche Cobas Amplicor Mycobacterium tuberculosis assay with in-house PCR and culture for detection of M. tuberculosis', 'cosine': [{'citation': 'J. Clin. Microbiol R Jou 43 1390 2005 10.1128/JCM.43.3.1390-1394.2005 Genetic diversity of multidrug-resistant Mycobacterium tuberculosis isolates and identification of 11 novel rpoB alleles in Taiwan', 'cosine': 0.15758048885669618, 'id': 1095}], 'id': 1093}, {'citation': 'Scand J Infect Dis B Jonsson 35 372 2003 10.1080/00365540310012244 The Cobas Amplicor MTB test for detection of Mycobacterium tuberculosis complex from respiratory and non-respiratory clinical specimens', 'cosine': [{'citation': 'Siddiqi K, Lambert ML, Walley J. Clinical diagnosis of smear-negative pulmonary tuberculosis in low-income countries: the current evidence. Lancet Infect Dis 2003;3:288-96. 10.1016/S1473-3099(03)00609-1', 'cosine': 0.13679150108596264, 'id': 1113}], 'id': 1111}, {'citation': 'Clin Infect Dis G Theron 55 472 2012 10.1093/cid/cis465 Characteristics of Xpert MTB/RIF-negative patients with pulmonary tuberculosis', 'cosine': [{'citation': 'Int J Tuberc Lung Dis JM Porcel 17 1217 2013 10.5588/ijtld.13.0178 Xpert(R) MTB/RIF in pleural fluid for the diagnosis of tuberculosis', 'cosine': 0.06759317166168628, 'id': 356}, {'citation': 'J Clin Microbiol V Vadwai 49 7 2540 2011 10.1128/JCM.02319-10 Xpert MTB/RIF: a new pillar in diagnosis of extrapulmonary tuberculosis?', 'cosine': 0.10485400535675762, 'id': 361}], 'id': 360}, {'citation': 'Clin Microbiol Infect C Welinder-Olsson 13 879 2007 10.1111/j.1469-0691.2007.01756.x Comparison of broad-range bacterial PCR and culture of cerebrospinal fluid for diagnosis of community-acquired bacterial meningitis', 'cosine': [{'citation': 'J Clin Microbiol Takahashi 46 5 1698 2008 10.1128/JCM.02214-07 Novel wide-range quantitative nested real-time PCR assay for Mycobacterium tuberculosis DNA: clinical application for diagnosis of tuberculous meningitis', 'cosine': 0.12343288094490147, 'id': 1248}, {'citation': 'Eur J Clin Microbiol Infect Dis JJ Palacios 18 265 1999 10.1007/s100960050275 Fully automated liquid culture system compared withL\\u00f6wenstein-Jensen solid medium for rapid recovery of mycobacteria from clinical samples', 'cosine': 0.09430490064560207, 'id': 1254}, {'citation': 'Eur J Clin Microbiol Infect Dis H Adler 24 499 2005 10.1007/s10096-005-1362-2 Comparison of BacT/ALERT 3D, Lowenstein-Jensen mediumand Middlebrook 7H10/7H11 biplate for recovering mycobacteria from clinical specimens', 'cosine': 0.09642199947477412, 'id': 1255}], 'id': 1252}]\"\n        ],\n        \"semantic_type\": \"\",\n        \"description\": \"\"\n      }\n    },\n    {\n      \"column\": \"Status\",\n      \"properties\": {\n        \"dtype\": \"number\",\n        \"std\": 0,\n        \"min\": 0,\n        \"max\": 1,\n        \"num_unique_values\": 2,\n        \"samples\": [\n          1,\n          0\n        ],\n        \"semantic_type\": \"\",\n        \"description\": \"\"\n      }\n    }\n  ]\n}"
            }
          },
          "metadata": {},
          "execution_count": 5
        }
      ]
    }
  ],
  "metadata": {
    "colab": {
      "provenance": []
    },
    "kernelspec": {
      "display_name": "Python 3",
      "name": "python3"
    },
    "language_info": {
      "name": "python"
    }
  },
  "nbformat": 4,
  "nbformat_minor": 0
}
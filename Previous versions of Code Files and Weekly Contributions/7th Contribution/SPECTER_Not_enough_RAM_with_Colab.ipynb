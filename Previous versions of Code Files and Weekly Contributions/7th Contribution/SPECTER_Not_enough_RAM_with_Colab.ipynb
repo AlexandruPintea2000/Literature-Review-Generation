{
  "nbformat": 4,
  "nbformat_minor": 0,
  "metadata": {
    "colab": {
      "provenance": []
    },
    "kernelspec": {
      "name": "python3",
      "display_name": "Python 3"
    },
    "language_info": {
      "name": "python"
    }
  },
  "cells": [
    {
      "cell_type": "code",
      "source": [
        "%%capture\n",
        "from google.colab import drive\n",
        "drive.mount('/content/drive', force_remount=True)\n",
        "import pandas as pd\n",
        "import json\n",
        "!pip install demjson3\n",
        "from demjson3 import decode\n",
        "!pip install --upgrade transformers==4.2\n",
        "from transformers import AutoTokenizer, AutoModel"
      ],
      "metadata": {
        "id": "DTblk2bbgtnq"
      },
      "execution_count": null,
      "outputs": []
    },
    {
      "cell_type": "code",
      "source": [
        "cit_dfs0 = pd.read_csv(\"/content/drive/MyDrive/Citation_dataframes/cit_dfs_0_finished_new_prompt_CD012768_hard.csv\", index_col=0)\n",
        "cit_dfs0 = cit_dfs0.astype(str)\n",
        "\n",
        "papers = []\n",
        "def extract_citation(row):\n",
        "  global papers\n",
        "  temp_papers = decode(row[\"reference_array\"])\n",
        "  for temp_paper in temp_papers:\n",
        "    papers.append( temp_paper[\"citation\"] )\n",
        "  papers.append( row[\"citation\"] )\n",
        "\n",
        "useless_output = cit_dfs0.apply(extract_citation, axis=1)"
      ],
      "metadata": {
        "id": "DcSu7-25fL2r"
      },
      "execution_count": null,
      "outputs": []
    },
    {
      "cell_type": "code",
      "execution_count": null,
      "metadata": {
        "colab": {
          "base_uri": "https://localhost:8080/"
        },
        "id": "sA0IIf7Jc0Qm",
        "outputId": "3ec94d86-7fc2-4336-d115-09cd77ac95cd"
      },
      "outputs": [
        {
          "output_type": "stream",
          "name": "stderr",
          "text": [
            "/usr/local/lib/python3.11/dist-packages/huggingface_hub/utils/_auth.py:94: UserWarning: \n",
            "The secret `HF_TOKEN` does not exist in your Colab secrets.\n",
            "To authenticate with the Hugging Face Hub, create a token in your settings tab (https://huggingface.co/settings/tokens), set it as secret in your Google Colab and restart your session.\n",
            "You will be able to reuse this secret in all of your notebooks.\n",
            "Please note that authentication is recommended but still optional to access public models or datasets.\n",
            "  warnings.warn(\n"
          ]
        }
      ],
      "source": [
        "# crashes here: \"Ran out of available RAM\" ...\n",
        "\n",
        "embeddings = []\n",
        "batch = []\n",
        "batch_size = 10\n",
        "for i in range(0, len(papers)):\n",
        "  if ( i % batch_size == 0 and i > 0 ):\n",
        "    tokenizer = AutoTokenizer.from_pretrained('allenai/specter')\n",
        "    model = AutoModel.from_pretrained('allenai/specter')\n",
        "\n",
        "    inputs = tokenizer(batch, padding=True, truncation=True, return_tensors=\"pt\", max_length=512)\n",
        "    result = model(**inputs)\n",
        "    temp_embeddings = result.last_hidden_state[:, 0, :]\n",
        "    embeddings.extend(list(temp_embeddings))\n",
        "    batch = []\n",
        "    del tokenizer\n",
        "    del model\n",
        "  batch.append( papers[i] )\n",
        "\n",
        "embeddings"
      ]
    }
  ]
}
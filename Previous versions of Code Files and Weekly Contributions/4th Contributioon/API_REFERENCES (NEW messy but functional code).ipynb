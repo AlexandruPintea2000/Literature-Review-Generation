{
  "cells": [
    {
      "cell_type": "code",
      "execution_count": null,
      "metadata": {
        "id": "_pnucRjP4BmQ",
        "colab": {
          "base_uri": "https://localhost:8080/"
        },
        "outputId": "b004cfa9-67e1-446f-a135-14da7ed997e3"
      },
      "outputs": [
        {
          "output_type": "stream",
          "name": "stdout",
          "text": [
            "Mounted at /content/drive\n",
            "Requirement already satisfied: demjson3 in /usr/local/lib/python3.11/dist-packages (3.0.6)\n"
          ]
        }
      ],
      "source": [
        "from google.colab import drive\n",
        "drive.mount('/content/drive', force_remount=True)\n",
        "import pandas as pd\n",
        "df = pd.read_csv(\"/content/drive/MyDrive/checkpoint_11_df.csv\")\n",
        "df = df.astype(str)\n",
        "import requests\n",
        "import re\n",
        "import json\n",
        "import time\n",
        "import datetime\n",
        "from IPython.display import clear_output\n",
        "!pip install demjson3\n",
        "from demjson3 import decode"
      ]
    },
    {
      "cell_type": "code",
      "source": [
        "df[\"doi\"].describe()"
      ],
      "metadata": {
        "colab": {
          "base_uri": "https://localhost:8080/",
          "height": 209
        },
        "id": "bqVDz4u26qW4",
        "outputId": "17b136c6-9c97-4e3b-fa6a-fd5df77f0f4c"
      },
      "execution_count": null,
      "outputs": [
        {
          "output_type": "execute_result",
          "data": {
            "text/plain": [
              "count     26806\n",
              "unique    21579\n",
              "top         nan\n",
              "freq       5228\n",
              "Name: doi, dtype: object"
            ],
            "text/html": [
              "<div>\n",
              "<style scoped>\n",
              "    .dataframe tbody tr th:only-of-type {\n",
              "        vertical-align: middle;\n",
              "    }\n",
              "\n",
              "    .dataframe tbody tr th {\n",
              "        vertical-align: top;\n",
              "    }\n",
              "\n",
              "    .dataframe thead th {\n",
              "        text-align: right;\n",
              "    }\n",
              "</style>\n",
              "<table border=\"1\" class=\"dataframe\">\n",
              "  <thead>\n",
              "    <tr style=\"text-align: right;\">\n",
              "      <th></th>\n",
              "      <th>doi</th>\n",
              "    </tr>\n",
              "  </thead>\n",
              "  <tbody>\n",
              "    <tr>\n",
              "      <th>count</th>\n",
              "      <td>26806</td>\n",
              "    </tr>\n",
              "    <tr>\n",
              "      <th>unique</th>\n",
              "      <td>21579</td>\n",
              "    </tr>\n",
              "    <tr>\n",
              "      <th>top</th>\n",
              "      <td>nan</td>\n",
              "    </tr>\n",
              "    <tr>\n",
              "      <th>freq</th>\n",
              "      <td>5228</td>\n",
              "    </tr>\n",
              "  </tbody>\n",
              "</table>\n",
              "</div><br><label><b>dtype:</b> object</label>"
            ]
          },
          "metadata": {},
          "execution_count": 6
        }
      ]
    },
    {
      "cell_type": "code",
      "source": [
        "# https://www.crossref.org/blog/using-the-crossref-rest-api.-part-12-with-europe-pmc/ - this though PMC? anyways, I dont have PMCs for all, and they are not available on OpenAlex for all of em, so might as well use DOI cause those are available on OpenAlex as long as the article is there (and its the largest database, so yeah ... only chance at that)\n",
        "length = len(df.loc[(df[\"doi\"] == \"nan\") & (df[\"references\"] == \"[]\")])\n",
        "iter = 0\n",
        "def get_doi_of_nan(row):\n",
        "  print(\".\", end=\"\")\n",
        "  if ( str(row[\"doi\"]) != \"nan\" ):\n",
        "    return row[\"doi\"]\n",
        "\n",
        "  if ( row[\"references\"] != \"[]\" ):\n",
        "    return row[\"doi\"]\n",
        "\n",
        "  global iter\n",
        "  global length\n",
        "  iter = iter + 1\n",
        "\n",
        "  try:\n",
        "    response = requests.get(f'https://api.openalex.org/works/pmid:{row[\"pmid\"]}')\n",
        "    decoded_json = decode(response.text)\n",
        "    clear_output(wait=True)\n",
        "    print(f'{iter}/{length} DONE PMID = {row[\"pmid\"]},\\tDOI = ', end=\"\")\n",
        "  except:\n",
        "    print(\"nan - (DOI not found on OpenAlex)\")\n",
        "    return \"nan\"\n",
        "\n",
        "  if ( decoded_json[\"doi\"] == None ):\n",
        "    print(\"nan - (DOI not found on OpenAlex)\")\n",
        "    return \"nan\"\n",
        "\n",
        "  result = decoded_json[\"doi\"].replace(\"https://doi.org/\", \"\")\n",
        "  print(result)\n",
        "  return result\n",
        "\n",
        "df[\"doi\"] = df.apply( get_doi_of_nan, axis=1 )"
      ],
      "metadata": {
        "colab": {
          "base_uri": "https://localhost:8080/"
        },
        "id": "xIvw71AeoqNo",
        "outputId": "e5dd2393-63c6-480b-f9d0-04ce1f17f7cb"
      },
      "execution_count": null,
      "outputs": [
        {
          "output_type": "stream",
          "name": "stdout",
          "text": [
            "4220/4220 DONE PMID = 21535973,\tDOI = nan - (DOI not found on OpenAlex)\n"
          ]
        }
      ]
    },
    {
      "cell_type": "code",
      "source": [
        "df[\"doi\"].describe()"
      ],
      "metadata": {
        "colab": {
          "base_uri": "https://localhost:8080/",
          "height": 209
        },
        "id": "ckT7yEQLBVT7",
        "outputId": "7cf9553e-7ef6-4d72-97fd-93b1df3ebdc6"
      },
      "execution_count": null,
      "outputs": [
        {
          "output_type": "execute_result",
          "data": {
            "text/plain": [
              "count                            21319\n",
              "unique                           21319\n",
              "top       10.1371/journal.pone.0039966\n",
              "freq                                 1\n",
              "Name: doi, dtype: object"
            ],
            "text/html": [
              "<div>\n",
              "<style scoped>\n",
              "    .dataframe tbody tr th:only-of-type {\n",
              "        vertical-align: middle;\n",
              "    }\n",
              "\n",
              "    .dataframe tbody tr th {\n",
              "        vertical-align: top;\n",
              "    }\n",
              "\n",
              "    .dataframe thead th {\n",
              "        text-align: right;\n",
              "    }\n",
              "</style>\n",
              "<table border=\"1\" class=\"dataframe\">\n",
              "  <thead>\n",
              "    <tr style=\"text-align: right;\">\n",
              "      <th></th>\n",
              "      <th>doi</th>\n",
              "    </tr>\n",
              "  </thead>\n",
              "  <tbody>\n",
              "    <tr>\n",
              "      <th>count</th>\n",
              "      <td>21319</td>\n",
              "    </tr>\n",
              "    <tr>\n",
              "      <th>unique</th>\n",
              "      <td>21319</td>\n",
              "    </tr>\n",
              "    <tr>\n",
              "      <th>top</th>\n",
              "      <td>10.1371/journal.pone.0039966</td>\n",
              "    </tr>\n",
              "    <tr>\n",
              "      <th>freq</th>\n",
              "      <td>1</td>\n",
              "    </tr>\n",
              "  </tbody>\n",
              "</table>\n",
              "</div><br><label><b>dtype:</b> object</label>"
            ]
          },
          "metadata": {},
          "execution_count": 3
        }
      ]
    },
    {
      "cell_type": "code",
      "source": [
        "# def change_row(row):\n",
        "#   if ( str(row[\"doi\"]) == \"[]\" ):\n",
        "#     return \"nan\"\n",
        "\n",
        "# df[\"doi\"] = df.apply( change_row, axis=1 )"
      ],
      "metadata": {
        "id": "MUFEOaK8_TDb"
      },
      "execution_count": null,
      "outputs": []
    },
    {
      "cell_type": "code",
      "source": [
        "df = df.astype(str)\n",
        "df.to_csv(\"/content/drive/MyDrive/checkpoint_9_df.csv\", encoding='utf-8', index=False)"
      ],
      "metadata": {
        "id": "oSEaIiE_6FJZ"
      },
      "execution_count": null,
      "outputs": []
    },
    {
      "cell_type": "code",
      "source": [
        "df = pd.read_csv(\"/content/drive/MyDrive/checkpoint_9_df.csv\")\n",
        "df = df.astype(str)\n",
        "df[\"doi\"].describe()"
      ],
      "metadata": {
        "colab": {
          "base_uri": "https://localhost:8080/",
          "height": 209
        },
        "id": "-iMHB9Q4-U9h",
        "outputId": "f1caf963-881c-485f-afcb-cf40e7bc4580"
      },
      "execution_count": null,
      "outputs": [
        {
          "output_type": "execute_result",
          "data": {
            "text/plain": [
              "count     26806\n",
              "unique    21579\n",
              "top         nan\n",
              "freq       5228\n",
              "Name: doi, dtype: object"
            ],
            "text/html": [
              "<div>\n",
              "<style scoped>\n",
              "    .dataframe tbody tr th:only-of-type {\n",
              "        vertical-align: middle;\n",
              "    }\n",
              "\n",
              "    .dataframe tbody tr th {\n",
              "        vertical-align: top;\n",
              "    }\n",
              "\n",
              "    .dataframe thead th {\n",
              "        text-align: right;\n",
              "    }\n",
              "</style>\n",
              "<table border=\"1\" class=\"dataframe\">\n",
              "  <thead>\n",
              "    <tr style=\"text-align: right;\">\n",
              "      <th></th>\n",
              "      <th>doi</th>\n",
              "    </tr>\n",
              "  </thead>\n",
              "  <tbody>\n",
              "    <tr>\n",
              "      <th>count</th>\n",
              "      <td>26806</td>\n",
              "    </tr>\n",
              "    <tr>\n",
              "      <th>unique</th>\n",
              "      <td>21579</td>\n",
              "    </tr>\n",
              "    <tr>\n",
              "      <th>top</th>\n",
              "      <td>nan</td>\n",
              "    </tr>\n",
              "    <tr>\n",
              "      <th>freq</th>\n",
              "      <td>5228</td>\n",
              "    </tr>\n",
              "  </tbody>\n",
              "</table>\n",
              "</div><br><label><b>dtype:</b> object</label>"
            ]
          },
          "metadata": {},
          "execution_count": 2
        }
      ]
    },
    {
      "cell_type": "code",
      "execution_count": null,
      "metadata": {
        "id": "1fqOGLfb-f6z"
      },
      "outputs": [],
      "source": [
        "import requests\n",
        "import xml.etree.ElementTree as ET\n",
        "import re\n",
        "import datetime\n",
        "from IPython.display import clear_output\n",
        "\n",
        "# http://journals.plos.org/plosone/article/file?id=10.1371/journal.pone.0039966&type=manuscript\n",
        "# https://api.crossref.org/works/10.1371/journal.pone.0032774.xml\n",
        "\n",
        "def innertext(elt):\n",
        "    return (elt.text or '') +' '.join(innertext(e)+(e.tail or '') for e in elt)\n",
        "\n",
        "length=df.shape[0]\n",
        "iter=0\n",
        "avg_time_taken=0\n",
        "remaining_hours=0\n",
        "remaining_minutes=0\n",
        "remaining_seconds=0\n",
        "def citations(paper_doi):\n",
        "  start = datetime.datetime.now()\n",
        "  global iter\n",
        "  global length\n",
        "  global avg_time_taken\n",
        "  global remaining_hours\n",
        "  global remaining_minutes\n",
        "  global remaining_seconds\n",
        "  iter=iter+1\n",
        "  # response = requests.get(f'http://journals.plos.org/plosone/article/file?id={paper_doi}&type=manuscript') # functions, but PLOS has almost none of the articles we have ...\n",
        "  response = requests.get(f'https://api.crossref.org/works/{paper_doi}.xml')\n",
        "  clear_output(wait=True)\n",
        "  print( f'{iter}/{length}\\t{paper_doi} - status: {response.status_code}' )\n",
        "  if ( response.status_code != 200 ):\n",
        "    return \"[]\"\n",
        "  xml_tree = ET.ElementTree(ET.fromstring(response.text))\n",
        "  refs = xml_tree.findall(\".//{*}citation\")\n",
        "  ref_texts=[]\n",
        "  for ref in refs:\n",
        "    ref_text = ' '.join(innertext(ref).split())\n",
        "    # print( ref.find(\".//comment\") ) # some have DOI of article\n",
        "    if ( ref_text == \"\" ):\n",
        "      continue\n",
        "    ref_texts.append(ref_text)\n",
        "  ref_texts = json.dumps(ref_texts)\n",
        "\n",
        "  # print( ref_texts )\n",
        "  end = datetime.datetime.now()\n",
        "  time_length = end - start\n",
        "  time_length = int(time_length.total_seconds() * 1000) / 1000\n",
        "  avg_time_taken = (avg_time_taken * (iter-1) + time_length) / iter\n",
        "  remaining = ( length - iter ) * avg_time_taken\n",
        "  remaining_hours = int( remaining / 3600 )\n",
        "  remaining_minutes = int( ( remaining % 3600 ) / 60 )\n",
        "  remaining_seconds = int( remaining % 60 )\n",
        "  print( f'Took {time_length} seconds ... {remaining_hours} hours, {remaining_minutes} minutes, {remaining_seconds} seconds remaining ... ' )\n",
        "  if ( \"[\" not in ref_texts ):\n",
        "    return \"[]\"\n",
        "  return ref_texts\n"
      ]
    },
    {
      "cell_type": "code",
      "execution_count": null,
      "metadata": {
        "colab": {
          "base_uri": "https://localhost:8080/"
        },
        "id": "MuhXojGxGfqN",
        "outputId": "38799d73-5e86-46cc-fee3-fc8b212f9505"
      },
      "outputs": [
        {
          "output_type": "stream",
          "name": "stdout",
          "text": [
            "26805/26806 ... "
          ]
        }
      ],
      "source": [
        "import json\n",
        "import time\n",
        "\n",
        "for i in range(0, length):\n",
        "  clear_output(wait=True)\n",
        "  print(f'{i}/{length} ... ', end=\"\")\n",
        "  if ( str(df.iloc[i].at[\"references\"]) != \"[]\" ):\n",
        "    continue\n",
        "\n",
        "  if ( str(df.iloc[i].at[\"doi\"]) == \"nan\" ):\n",
        "    continue\n",
        "\n",
        "  try:\n",
        "    print(f'DOI: {str(df.iloc[i].at[\"doi\"])}')\n",
        "    res = citations(df.iloc[i].at[\"doi\"])\n",
        "    print( f'\\nOld df value:\\t\\t{df.loc[i, \"references\"]}' )\n",
        "    print( f'\\nReturned result:\\t{res}' )\n",
        "    df.loc[i, \"references\"] = res\n",
        "    print( f'\\nNew df value:\\t\\t{df.loc[i, \"references\"]}' )\n",
        "    print( f'\\nUnique references: {df[\"references\"].nunique()}' )\n",
        "    sleep(5)\n",
        "  except:\n",
        "    pass\n",
        "\n",
        "# def get_citations(row):\n",
        "#   res = json.dumps(citations(row[\"doi\"]))\n",
        "#   print( f'\\nReturned result:\\n{res}' )\n",
        "#   return res\n",
        "\n",
        "# df[\"references\"] = df.apply( get_citations, axis=1 )\n"
      ]
    },
    {
      "cell_type": "code",
      "source": [
        "# citations(\"10.1016/j.yexmp.2012.01.008\")"
      ],
      "metadata": {
        "id": "JhvqOtybAJnB"
      },
      "execution_count": null,
      "outputs": []
    },
    {
      "cell_type": "code",
      "source": [
        "# import json\n",
        "\n",
        "# with open(\"/content/drive/MyDrive/intermediary_citations.csv\", \"w\") as fd:\n",
        "#     fd.write(\"pmid,citations\\n\")\n",
        "# # df_temp = pd.DataFrame( {\"pmid\":[], \"citations\":[]} )\n",
        "# # df_temp.to_csv('/content/drive/MyDrive/intermediary_citations.csv', index=0)\n",
        "\n",
        "# # def get_citations(row):\n",
        "# length = df.shape[0]\n",
        "# for i in range(0, length):\n",
        "#   df_temp = pd.DataFrame( {\"pmid\":[], \"citations\":[]} )\n",
        "\n",
        "#   res = json.dumps(citations(df[\"doi\"].iloc[i]))\n",
        "#   print( f'\\nReturned result:\\n{res}' )\n",
        "\n",
        "#   # df_temp.loc[len(df_temp)] = [df[\"pmid\"].iloc[i], res]\n",
        "#   # df_temp.to_csv('/content/drive/MyDrive/intermediary_citations.csv', mode='a', header=False, index=0)\n",
        "#   with open('/content/drive/MyDrive/intermediary_citations.csv', 'a') as fd:\n",
        "#       fd.write(f'{df[\"pmid\"].iloc[i]},{res}\\n')\n",
        "\n",
        "# # df[\"references\"] = df.apply( get_citations, axis=1 )"
      ],
      "metadata": {
        "id": "ICXRbNl1SvMQ"
      },
      "execution_count": null,
      "outputs": []
    },
    {
      "cell_type": "code",
      "execution_count": null,
      "metadata": {
        "id": "6nJSIvDoRhJo"
      },
      "outputs": [],
      "source": [
        "df = df.astype(str)\n",
        "df.to_csv(\"/content/drive/MyDrive/checkpoint_10_df.csv\", encoding='utf-8', index=False)"
      ]
    },
    {
      "cell_type": "code",
      "source": [
        "df = pd.read_csv(\"/content/drive/MyDrive/checkpoint_10_df.csv\")\n",
        "df = df.astype(str)\n",
        "df[\"doi\"].describe()"
      ],
      "metadata": {
        "id": "RFzEheLxHOSk",
        "colab": {
          "base_uri": "https://localhost:8080/",
          "height": 209
        },
        "outputId": "16ac856a-90e6-43e3-f723-cafacd0f8b04"
      },
      "execution_count": null,
      "outputs": [
        {
          "output_type": "execute_result",
          "data": {
            "text/plain": [
              "count     26806\n",
              "unique    21579\n",
              "top         nan\n",
              "freq       5228\n",
              "Name: doi, dtype: object"
            ],
            "text/html": [
              "<div>\n",
              "<style scoped>\n",
              "    .dataframe tbody tr th:only-of-type {\n",
              "        vertical-align: middle;\n",
              "    }\n",
              "\n",
              "    .dataframe tbody tr th {\n",
              "        vertical-align: top;\n",
              "    }\n",
              "\n",
              "    .dataframe thead th {\n",
              "        text-align: right;\n",
              "    }\n",
              "</style>\n",
              "<table border=\"1\" class=\"dataframe\">\n",
              "  <thead>\n",
              "    <tr style=\"text-align: right;\">\n",
              "      <th></th>\n",
              "      <th>doi</th>\n",
              "    </tr>\n",
              "  </thead>\n",
              "  <tbody>\n",
              "    <tr>\n",
              "      <th>count</th>\n",
              "      <td>26806</td>\n",
              "    </tr>\n",
              "    <tr>\n",
              "      <th>unique</th>\n",
              "      <td>21579</td>\n",
              "    </tr>\n",
              "    <tr>\n",
              "      <th>top</th>\n",
              "      <td>nan</td>\n",
              "    </tr>\n",
              "    <tr>\n",
              "      <th>freq</th>\n",
              "      <td>5228</td>\n",
              "    </tr>\n",
              "  </tbody>\n",
              "</table>\n",
              "</div><br><label><b>dtype:</b> object</label>"
            ]
          },
          "metadata": {},
          "execution_count": 3
        }
      ]
    },
    {
      "cell_type": "code",
      "source": [
        "iter = 0\n",
        "length = len(df)\n",
        "def fix_broken_reference_json(row):\n",
        "  global iter\n",
        "  global length\n",
        "  iter=iter+1\n",
        "  clear_output(wait=True)\n",
        "  print( f'{iter}/{length} ... ' )\n",
        "  new = row[\"references\"]\n",
        "  try:\n",
        "    ref_json = decode(row[\"references\"])\n",
        "  except:\n",
        "    print(\"GETS\")\n",
        "    new = new.replace(\"\\\": \\\"\", \"\\\":\\\"\")\n",
        "    new = new.replace(\"\\\", \\\"\", \"\\\",\\\"\")\n",
        "    new = new.replace(\"\\\"}\", \"SPECIAL_REPLACER}\").replace(\"{\\\"\", \"{SPECIAL_REPLACER\").replace(\"\\\":\\\"\", \"SPECIAL_REPLACER2_DOTSSPECIAL_REPLACER\").replace(\"\\\",\\\"\", \"SPECIAL_REPLACER,SPECIAL_REPLACER\")\n",
        "    # new = new.replace(\"\\\"\", \"\\\\\\\"\")\n",
        "    new = new.replace(\"\\\"\", \"\")\n",
        "    new = new.replace(\":\", \"\")\n",
        "    new = \"\".join(new.splitlines())\n",
        "    new = new.replace(\"SPECIAL_REPLACER}\", \"\\\"}\").replace(\"{SPECIAL_REPLACER\", \"{\\\"\").replace(\"SPECIAL_REPLACER2_DOTSSPECIAL_REPLACER\", \"\\\":\\\"\").replace(\"SPECIAL_REPLACER,SPECIAL_REPLACER\", \"\\\",\\\"\")\n",
        "    time.sleep(1)\n",
        "    try:\n",
        "      json=decode(new)\n",
        "    except:\n",
        "      # clear_output(wait=True)\n",
        "      print( f\"OLD: {row['references']}\" )\n",
        "      print( f\"NEW: {new}\" )\n",
        "      print (\"Theres an error, check an online json validator ... \")\n",
        "      time.sleep(1000000000000000000000);\n",
        "      exit()\n",
        "  return new\n",
        "\n",
        "df[\"references\"] = df.apply(fix_broken_reference_json, axis=1)"
      ],
      "metadata": {
        "colab": {
          "base_uri": "https://localhost:8080/"
        },
        "id": "y06R_L2nrI0A",
        "outputId": "3059457a-b87c-4dd9-f55c-1330522ef35d"
      },
      "execution_count": null,
      "outputs": [
        {
          "output_type": "stream",
          "name": "stdout",
          "text": [
            "26806/26806 ... \n"
          ]
        }
      ]
    },
    {
      "cell_type": "code",
      "source": [
        "df = df.astype(str)\n",
        "df.to_csv(\"/content/drive/MyDrive/checkpoint_11_df.csv\", encoding='utf-8', index=False)"
      ],
      "metadata": {
        "id": "brDeYCbZ0r5L"
      },
      "execution_count": null,
      "outputs": []
    },
    {
      "cell_type": "code",
      "source": [
        "!pip install demjson3\n",
        "from demjson3 import decode\n",
        "\n",
        "# maybe tryna get the DOIs frm online cause most aint there ... use pmid to get doi for those too maybe ...\n",
        "def reformat_pubmed_references(row):\n",
        "  # try:\n",
        "  print(row[\"references\"])\n",
        "  ref_json = decode(row[\"references\"])\n",
        "  if (len(ref_json)==0):\n",
        "    return row[\"references\"]\n",
        "\n",
        "  if 'article_ids' in row[\"references\"]:\n",
        "    clear_output(wait=True)\n",
        "    print(\"OLD: \", end=\"\")\n",
        "    print(row[\"references\"])\n",
        "    new_refs = []\n",
        "    for i in range(0, len(ref_json)):\n",
        "      new_ref = {}\n",
        "      # print(ref_json[i])\n",
        "      if '\"doi\"' in json.dumps(ref_json[i][\"article_ids\"]):\n",
        "        # print(\"THERES ONE\")\n",
        "        new_ref[ \"doi\" ] = ref_json[i][\"article_ids\"][\"doi\"]\n",
        "        # print(new_ref)\n",
        "        # exit()\n",
        "        # time.sleep(1000000000000000000)\n",
        "      else:\n",
        "        new_ref[ \"doi\" ] = \"nan\"\n",
        "\n",
        "      new_ref[ \"citation\" ] = ref_json[i][\"citation\"]\n",
        "      new_refs.append(new_ref)\n",
        "\n",
        "    print(\"NEW: \", end=\"\")\n",
        "    print(new_refs)\n",
        "    return json.dumps(new_refs)\n",
        "  else:\n",
        "    return row[\"references\"]\n",
        "  # except:\n",
        "  #   return row[\"references\"]\n",
        "\n",
        "df[\"references\"] = df.apply(reformat_pubmed_references, axis=1)"
      ],
      "metadata": {
        "colab": {
          "base_uri": "https://localhost:8080/"
        },
        "id": "lrS7QRRsUq19",
        "outputId": "a8613654-c46e-4f87-d921-705fa5119b7e"
      },
      "execution_count": null,
      "outputs": [
        {
          "output_type": "stream",
          "name": "stdout",
          "text": [
            "OLD: [{\"citation\": \"Vardulaki KA, Prevost TC, Walker NM, et al. Incidence among men of asymptomatic abdominal aortic aneurysms: estimates from 500 screen detected cases. J Med Screen 1999;6:50\\u20134.\", \"article_ids\": {\"pubmed\": \"10321373\"}}, {\"citation\": \"Assar AN, Zarins CK. Ruptured abdominal aortic aneurysm: a surgical emergency with many clinical presentations. Postgrad Med J 2009;85:268\\u201373.\", \"article_ids\": {\"pubmed\": \"19520879\"}}, {\"citation\": \"Ghilardi G, Scorza R, Bortolani E, et al. Rupture of abdominal aortic aneurysms into the major abdominal veins. J Cardiovasc Surg (Torino) 1993;34:39\\u201347.\", \"article_ids\": {\"pubmed\": \"8482703\"}}, {\"citation\": \"Cinara IS, Davidovic LB, Kostic DM, et al. Aorto-caval fistulas: a review of eighteen years experience. Acta Chir Belg 2005;105:616\\u201320.\", \"article_ids\": {\"pubmed\": \"16438071\"}}, {\"citation\": \"Combe J, Besancenot J, Milleret P, et al. Iliocaval venous compression due to aneurysm of the abdominal aorta: report of ten cases. Ann Vasc Surg 1990;4:20\\u20135.\", \"article_ids\": {\"pubmed\": \"2297469\"}}, {\"citation\": \"http://aaa.screening.nhs.uk/professionals\\nWebsite of the NHS Abdominal Aortic Aneurysm Screening Programme (accessed 23 March 2012).\", \"article_ids\": {}}]\n",
            "NEW: [{'doi': 'nan', 'citation': 'Vardulaki KA, Prevost TC, Walker NM, et al. Incidence among men of asymptomatic abdominal aortic aneurysms: estimates from 500 screen detected cases. J Med Screen 1999;6:50–4.'}, {'doi': 'nan', 'citation': 'Assar AN, Zarins CK. Ruptured abdominal aortic aneurysm: a surgical emergency with many clinical presentations. Postgrad Med J 2009;85:268–73.'}, {'doi': 'nan', 'citation': 'Ghilardi G, Scorza R, Bortolani E, et al. Rupture of abdominal aortic aneurysms into the major abdominal veins. J Cardiovasc Surg (Torino) 1993;34:39–47.'}, {'doi': 'nan', 'citation': 'Cinara IS, Davidovic LB, Kostic DM, et al. Aorto-caval fistulas: a review of eighteen years experience. Acta Chir Belg 2005;105:616–20.'}, {'doi': 'nan', 'citation': 'Combe J, Besancenot J, Milleret P, et al. Iliocaval venous compression due to aneurysm of the abdominal aorta: report of ten cases. Ann Vasc Surg 1990;4:20–5.'}, {'doi': 'nan', 'citation': 'http://aaa.screening.nhs.uk/professionals\\nWebsite of the NHS Abdominal Aortic Aneurysm Screening Programme (accessed 23 March 2012).'}]\n",
            "[{\"doi\": \"10.2106/JBJS.D.02100\", \"citation\": \"J Bone Joint Surg Am Iannotti 87 1305 2005 10.2106/JBJS.D.02100 Accuracy of office-based ultrasonography of the shoulder for the diagnosis of rotator cuff tears\"}, {\"doi\": \"10.1016/j.crad.2011.05.007\", \"citation\": \"Clin Radiol Smith 66 1036 2011 10.1016/j.crad.2011.05.007 Diagnostic accuracy of ultrasound for rotator cuff tears in adults: a systematic review and meta-analysis\"}, {\"doi\": \"10.1016/j.ejrad.2011.03.012\", \"citation\": \"Eur J Radiol Tagliafico 81 1207 2012 10.1016/j.ejrad.2011.03.012 Ultrasound demonstration of distal triceps tendon tears\"}, {\"doi\": \"10.2214/AJR.11.7302\", \"citation\": \"AJR Am J Roentgenol Lobo Lda 2000 158 2013 10.2214/AJR.11.7302 The role of sonography in differentiating full versus partial distal biceps tendon tears: correlation with surgical findings\"}, {\"doi\": \"10.1016/j.jus.2007.09.007\", \"citation\": \"J Ultrasound Flecca 10 194 2007 10.1016/j.jus.2007.09.007 US Evaluation and diagnosis of rupture of the medial head of the gastrocnemius (tennis leg)\"}, {\"doi\": \"10.7863/jum.1998.17.3.157\", \"citation\": \"J Ultrasound Med Bianchi 17 157 1998 10.7863/jum.1998.17.3.157 Sonographic evaluation of tears of the gastrocnemius medial head (\\u201ctennis leg\\u201d)\"}, {\"doi\": \"10.2214/ajr.183.4.1830975\", \"citation\": \"AJR Am J Roentgenol Connell 183 975 2004 10.2214/ajr.183.4.1830975 Longitudinal study comparing sonographic and MRI assessments of acute and healing hamstring injuries\"}, {\"doi\": \"10.2214/AJR.04.1929\", \"citation\": \"AJR Am J Roentgenol Connell 187 1457 2006 10.2214/AJR.04.1929 Sonography and MRI of rectus abdominis muscle strain in elite tennis players\"}, {\"doi\": \"10.3348/kjr.2006.7.3.193\", \"citation\": \"Korean J Radiol Kwak 7 193 2006 10.3348/kjr.2006.7.3.193 Diagnosis and follow-up US evaluation of ruptures of the medial head of the gastrocnemius (\\u201ctennis leg\\u201d)\"}, {\"doi\": \"10.4103/0971-3026.73542\", \"citation\": \"Indian J Radiol Imaging Shah 20 269 2010 10.4103/0971-3026.73542 Pictorial essay: ultrasonography in \\u2018tennis leg\\u2019\"}, {\"doi\": \"10.1007/s00330-013-2848-4\", \"citation\": \"Eur Radiol Lehtim\\u00e4ki 23 2538 2013 10.1007/s00330-013-2848-4 Impact of routine contrast-enchanced CT onc costs and use of hospital resources in patients with acute abdomen. Results of a randomized clinical trial\"}, {\"doi\": \"10.1007/s10140-014-1241-1\", \"citation\": \"Emerg Radiol Srinivasan 22 31 2015 10.1007/s10140-014-1241-1 Utility of CT after sonography for suspected appendicitis in children: integration of a clinical scoring system with a staged imaging protocol\"}, {\"doi\": \"10.1148/radiol.10100984\", \"citation\": \"Radiology Krishnamoorthi 259 231 2011 10.1148/radiol.10100984 Effectiveness of a staged US and CT protocol for the diagnosis of pediatric appendicitis: reducing radiation exposure in the age of ALARA\"}, {\"doi\": \"10.1111/j.1553-2712.2009.00511.x\", \"citation\": \"Acad Emerg Med Ramarajan 16 1258 2009 10.1111/j.1553-2712.2009.00511.x An interdisciplinary initiative to reduce radiation exposure: evaluation of appendicitis in a pediatric emergency department with clinical assessment supported by a staged ultrasound and computed tomography pathway\"}]\n",
            "[{\"doi\": \"10.1097/01.CCM.0000260241.80346.1B\", \"citation\": \"Crit Care Med Taylor 35 1390 2007 10.1097/01.CCM.0000260241.80346.1B Central venous catheterization\"}, {\"doi\": \"10.1097/00003246-200202000-00031\", \"citation\": \"Crit Care Med Ruesch 30 454 2002 10.1097/00003246-200202000-00031 Complications of central venous catheters: Internal jugular versus subclavian access\\u2013A systematic review\"}, {\"doi\": \"10.1056/NEJM199412293312602\", \"citation\": \"N Engl J Med Mansfield 331 1735 1994 10.1056/NEJM199412293312602 Complications and failures of subclavian-vein catheterization\"}, {\"doi\": \"10.1056/NEJMra011883\", \"citation\": \"N Engl J Med McGee 348 1123 2003 10.1056/NEJMra011883 Preventing complications of central venous catheterization\"}, {\"doi\": \"10.1177/088506669601100107\", \"citation\": \"J Intensive Care Med Ng 11 49 1996 10.1177/088506669601100107 Peripherally inserted central catheters in the intensive care unit\"}, {\"doi\": \"10.1136/bmj.327.7411.361\", \"citation\": \"BMJ Hind 327 361 2003 10.1136/bmj.327.7411.361 Ultrasonic locating devices for central venous cannulation: Meta-analysis\"}, {\"doi\": \"10.1097/NAN.0b013e3181a1a98f\", \"citation\": \"J Infus Nurs Stokowski 32 145 2009 10.1097/NAN.0b013e3181a1a98f The use of ultrasound to improve practice and reduce complication rates in peripherally inserted central catheter insertions: Final report of investigation\"}, {\"doi\": \"10.1177/0310057X0803600106\", \"citation\": \"Anaesth Intensive Care Pikwer 36 30 2008 10.1177/0310057X0803600106 The incidence and risk of central venous catheter malpositioning: A prospective cohort study in 1619 patients\"}, {\"doi\": \"10.1053/j.jvca.2008.12.003\", \"citation\": \"J Cardiothorac Vasc Anesth Ender 23 457 2009 10.1053/j.jvca.2008.12.003 Transesophageal echocardiography for verification of the position of the electrocardiographically-placed central venous catheter\"}, {\"doi\": \"10.1093/bja/aep021\", \"citation\": \"Br J Anaesth Rath 102 499 2009 10.1093/bja/aep021 Saline flush test for bedside detection of misplaced subclavian vein catheter into ipsilateral internal jugular vein\"}, {\"doi\": \"10.1093/bja/ael339\", \"citation\": \"Br J Anaesth Ryu 98 225 2007 10.1093/bja/ael339 Bedside prediction of the central venous catheter insertion depth\"}, {\"doi\": \"10.1097/00000542-200112000-00016\", \"citation\": \"Anesthesiology Ambesh 95 1377 2001 10.1097/00000542-200112000-00016 Internal jugular vein occlusion test for rapid diagnosis of misplaced subclavian vein catheter into the internal jugular vein\"}, {\"doi\": \"10.1097/00003246-200001000-00023\", \"citation\": \"Crit Care Med Andrews 28 138 2000 10.1097/00003246-200001000-00023 How much guidewire is too much? Direct measurement of the distance from subclavian and internal jugular vein access sites to the superior vena cava-atrial junction during central venous catheter placement\"}, {\"doi\": \"10.1378/chest.07-2687\", \"citation\": \"Chest Wirsing 134 527 2008 10.1378/chest.07-2687 Is traditional reading of the bedside chest radiograph appropriate to detect intra-atrial central venous catheter position?\"}, {\"doi\": \"10.1097/01.CCM.0000260673.66681.AF\", \"citation\": \"Crit Care Med Beaulieu 35 5 Suppl S235 2007 10.1097/01.CCM.0000260673.66681.AF Bedside echocardiography in the assessment of the critically ill\"}, {\"doi\": \"10.1378/chest.128.2.881\", \"citation\": \"Chest Beaulieu 128 881 2005 10.1378/chest.128.2.881 Bedside ultrasonography in the ICU: Part 1\"}, {\"doi\": \"10.1378/chest.08-2440\", \"citation\": \"Chest Melamed 135 1416 2009 10.1378/chest.08-2440 Assessment of left ventricular function by intensivists using hand-held echocardiography\"}, {\"doi\": \"10.1097/TA.0b013e3181825bc5\", \"citation\": \"J Trauma Gunst 65 509 2008 10.1097/TA.0b013e3181825bc5 Accuracy of cardiac function and volume status estimates using the bedside echocardiographic assessment in trauma/critical care\"}, {\"doi\": \"10.1378/chest.108.5.1345\", \"citation\": \"Chest Lichtenstein 108 1345 1995 10.1378/chest.108.5.1345 A bedside ultrasound sign ruling out pneumothorax in the critically ill. Lung sliding\"}, {\"doi\": \"10.1016/j.jamcollsurg.2009.02.062\", \"citation\": \"J Am Coll Surg Stawicki 209 55 2009 10.1016/j.jamcollsurg.2009.02.062 Intensivist use of hand-carried ultrasonography to measure IVC collapsibility in estimating intravascular volume status: Correlations with CVP\"}, {\"doi\": \"10.1002/clc.4960280804\", \"citation\": \"Clin Cardiol Khouzam 28 362 2005 10.1002/clc.4960280804 Echocardiography of the superior vena cava\"}, {\"doi\": \"10.1111/j.1399-6576.2006.01025.x\", \"citation\": \"Acta Anaesthesiol Scand Hsu 50 731 2006 10.1111/j.1399-6576.2006.01025.x Comparison of radiographic landmarks and the echocardiographic SVC/RA junction in the positioning of long-term central venous catheters\"}, {\"doi\": \"10.1164/ajrccm.164.3.2009042\", \"citation\": \"Am J Respir Crit Care Med Maury 164 403 2001 10.1164/ajrccm.164.3.2009042 Ultrasonic examination: An alternative to chest radiography after central venous catheter insertion?\"}, {\"doi\": \"10.1097/CCM.0b013e3181c0328f\", \"citation\": \"Crit Care Med Vezzani 38 533 2010 10.1097/CCM.0b013e3181c0328f Ultrasound localization of central vein catheter and detection of postprocedural pneumothorax: An alternative to chest radiography\"}, {\"doi\": \"10.1097/CCM.0b013e31819cee7f\", \"citation\": \"Crit Care Med Schweickert 37 1217 2009 10.1097/CCM.0b013e31819cee7f A randomized, controlled trial evaluating postinsertion neck ultrasound in peripherally inserted central catheter procedures\"}, {\"doi\": \"10.1097/00003246-199705000-00015\", \"citation\": \"Crit Care Med Brainsky 25 801 1997 10.1097/00003246-199705000-00015 Routine portable chest radiographs in the medical intensive care unit: Effects and costs\"}, {\"doi\": \"10.1097/00003246-199504000-00018\", \"citation\": \"Crit Care Med Gualtieri 23 692 1995 10.1097/00003246-199504000-00018 Subclavian venous catheterization: Greater success rate for less experienced operators using ultrasound guidance\"}]\n",
            "[{\"doi\": \"10.1097/00005373-199302000-00016\", \"citation\": \"F??rster J Trauma 1992 10.1097/00005373-199302000-00016 34 264\"}, {\"doi\": \"10.1097/00005373-199703000-00004\", \"citation\": \"Thomas J Trauma 1997 10.1097/00005373-199703000-00004 42 384\"}, {\"doi\": \"10.1097/00005373-199904000-00003\", \"citation\": \"Shackford J Trauma 1999 10.1097/00005373-199904000-00003 46 553\"}, {\"doi\": \"10.1007/s003300050861\", \"citation\": \"Paajanen Eur Radiol 1999 10.1007/s003300050861 9 1423\"}, {\"doi\": \"10.1007/s101400050030\", \"citation\": \"Mutze Emerg Radiol 1999 10.1007/s101400050030 6 77\"}, {\"doi\": \"10.1097/00005373-198912000-00013\", \"citation\": \"Moore J Trauma 1989 10.1097/00005373-198912000-00013 29 1664\"}, {\"doi\": \"10.1001/jama.1994.03510290071040\", \"citation\": \"Jaeschke JAMA 1994 10.1001/jama.1994.03510290071040 271 389\"}, {\"doi\": \"10.1001/jama.1994.03510330081039\", \"citation\": \"Jaeschke JAMA 1994 10.1001/jama.1994.03510330081039 271 703\"}, {\"doi\": \"10.1007/PL00002521\", \"citation\": \"Hermanek Chirurg 1996 10.1007/PL00002521 67 769\"}, {\"doi\": \"10.1097/00005373-199204000-00008\", \"citation\": \"Hoffmann J Trauma 1992 10.1097/00005373-199204000-00008 32 452\"}, {\"doi\": \"10.1097/00005373-199304000-00008\", \"citation\": \"Rozycki J Trauma 1993 10.1097/00005373-199304000-00008 34 516\"}, {\"doi\": \"10.1097/00005373-199402000-00004\", \"citation\": \"Goletti J Trauma 1994 10.1097/00005373-199402000-00004 36 178\"}, {\"doi\": \"10.1097/00005373-199506000-00009\", \"citation\": \"Ma J Trauma 1995 10.1097/00005373-199506000-00009 38 879\"}, {\"doi\": \"10.1097/00005373-199606000-00003\", \"citation\": \"Boulanger J Trauma 1996 10.1097/00005373-199606000-00003 40 867\"}, {\"doi\": \"10.653\", \"citation\": \"McGahan J Ultrasound Med 1997 10.7863/jum.1997.16.10.653 16 653\"}, {\"doi\": \"10.1097/00000658-199810000-00012\", \"citation\": \"Rozycki Ann Surg 1998 10.1097/00000658-199810000-00012 228 557\"}, {\"doi\": \"10.1097/00000658-199704000-00010\", \"citation\": \"Krupnick Ann Surg 1997 10.1097/00000658-199704000-00010 225 408\"}, {\"doi\": \"10.1097/00005373-199807000-00009\", \"citation\": \"Yoshii J Trauma 1998 10.1097/00005373-199807000-00009 45 45\"}, {\"doi\": \"10.1097/00005373-199807000-00012\", \"citation\": \"Partrick J Trauma 1998 10.1097/00005373-199807000-00012 45 57\"}, {\"doi\": \"10.1097/00005373-199509000-00016\", \"citation\": \"Rozycki J Trauma 1995 10.1097/00005373-199509000-00016 39 492\"}, {\"doi\": \"10.2214/ajr.143.5.1110\", \"citation\": \"Nakanishi AJR Am J Roentgenol 1984 10.2214/ajr.143.5.1110 143 1110\"}, {\"doi\": \"10.1148/radiology.197.3.7480745\", \"citation\": \"Murray Radiology 1995 10.1148/radiology.197.3.7480745 197 723\"}]\n",
            "[{\"doi\": \"10.1148/rg.313105138\", \"citation\": \"Radiographics Modica 31 811 2011 10.1148/rg.313105138 The obese emergency patient: imaging challenges and solutions\"}, {\"doi\": \"10.1111/j.1742-6723.2004.00614.x\", \"citation\": \"Emerg Med Australas Grant 16 309 2004 10.1111/j.1742-6723.2004.00614.x Emergency management of the morbidly obese\"}, {\"doi\": \"10.1001/jama.2009.2014\", \"citation\": \"JAMA Flegal 303 235 2010 10.1001/jama.2009.2014 Prevalence and trends in obesity among US adults, 1999\\u20132008\"}, {\"doi\": \"10.1148/radiol.2402051110\", \"citation\": \"Radiology Uppot 240 435 2006 10.1148/radiol.2402051110 Effect of obesity on image quality: fifteen-year longitudinal study for evaluation of dictated radiology reports\"}, {\"doi\": \"10.1111/j.1553-2712.2002.tb01166.x\", \"citation\": \"Acad Emerg Med Blaivas 9 48 2002 10.1111/j.1553-2712.2002.tb01166.x Tissue harmonic imaging improves organ visualization in trauma ultrasound when compared with standard ultrasound mode\"}, {\"doi\": \"10.1067/mem.2001.118224\", \"citation\": \"Ann Emerg Med Mandavia 38 377 2001 10.1067/mem.2001.118224 Bedside echocardiography by emergency physicians\"}, {\"doi\": \"10.1111/j.1553-2712.2002.tb00242.x\", \"citation\": \"Acad Emerg Med Moore 9 186 2002 10.1111/j.1553-2712.2002.tb00242.x Determination of left ventricular function by emergency physician echocardiography of hypotensive patients\"}, {\"doi\": \"10.1111/j.1553-2712.2003.tb00654.x\", \"citation\": \"Acad Emerg Med Randazzo 10 973 2003 10.1111/j.1553-2712.2003.tb00654.x Accuracy of emergency physician assessment of left ventricular ejection fraction and central venous pressure using echocardiography\"}, {\"doi\": \"10.1016/j.ajem.2007.01.023\", \"citation\": \"Am J Emerg Med Mark 25 894 2007 10.1016/j.ajem.2007.01.023 Directed bedside transthoracic echocardiography: preferred cardiac window for left ventricular ejection fraction estimation in critically ill patients\"}, {\"doi\": \"10.7863/jum.2009.28.8.1025\", \"citation\": \"J Ultrasound Med Dashe 28 1025 2009 10.7863/jum.2009.28.8.1025 Maternal obesity limits the ultrasound evaluation of fetal anatomy\"}, {\"doi\": \"10.1038/sj.ijo.0802759\", \"citation\": \"Int J Obes Relat Metab Disord Hendler 28 1607 2004 10.1038/sj.ijo.0802759 The impact of maternal obesity on midtrimester sonographic visualization of fetal cardiac and craniospinal structures\"}, {\"doi\": \"10.1197/j.aem.2003.05.012\", \"citation\": \"Acad Emerg Med Blaivas 11 103 2004 10.1197/j.aem.2003.05.012 Frequency of incomplete abdominal aorta visualization by emergency department bedside ultrasound\"}, {\"doi\": \"10.1007/BF01889095\", \"citation\": \"Gastrointest Radiol Silidker 13 345 1988 10.1007/BF01889095 Ultrasound evaluation of cholelithiasis in the morbidly obese\"}, {\"doi\": \"10.1111/j.1553-2712.2004.tb01929.x\", \"citation\": \"Acad Emerg Med Brannam 11 1361 2004 10.1111/j.1553-2712.2004.tb01929.x Emergency nurses' utilization of ultrasound guidance for placement of peripheral intravenous lines in difficult-access patients\"}, {\"doi\": \"10.1341\", \"citation\": \"J Ultrasound Med Nomura 26 1341 2007 10.7863/jum.2007.26.10.1341 A randomized controlled trial of ultrasound-assisted lumbar puncture\"}, {\"doi\": \"10.052\", \"citation\": \"Am J Cardiol Finkelhor 97 1082 2006 10.1016/j.amjcard.2005.10.052 Characteristics and impact of obesity on the outpatient echocardiography laboratory\"}]\n",
            "[{\"doi\": \"10.04\", \"citation\": \"10.1016/j.jss.2010.04.020\"}, {\"doi\": \"10.1164/ajrccm.164.3\", \"citation\": \"10.1164/ajrccm.164.3.2009042\"}, {\"doi\": \"10.1111/j.1553-2712.2009.00628\", \"citation\": \"10.1111/j.1553-2712.2009.00628.x\"}, {\"doi\": \"10.1097/EJA\", \"citation\": \"10.1097/EJA.0000000000000042\"}, {\"doi\": \"10.1097/CCM\", \"citation\": \"10.1097/CCM.0b013e3181c0328f\"}, {\"doi\": \"10.1016/j.annemergmed.2013.12\", \"citation\": \"10.1016/j.annemergmed.2013.12.020\"}, {\"doi\": \"10.1111/acem\", \"citation\": \"10.1111/acem.12283\"}]\n",
            "[{\"doi\": \"10.1097/00005373-196912000-00014\", \"citation\": \"Shaftan J Trauma 1969 10.1097/00005373-196912000-00014 9 1026\"}, {\"doi\": \"10.1097/00000658-198702000-00005\", \"citation\": \"Demetriades Ann Surg 1987 10.1097/00000658-198702000-00005 205 129\"}, {\"doi\": \"10.1002/bjs.1800750313\", \"citation\": \"de Lacy Br J Surg 1988 10.1002/bjs.1800750313 75 231\"}, {\"doi\": \"10.1097/00005373-199910000-00002\", \"citation\": \"Nagy J Trauma 1999 10.1097/00005373-199910000-00002 47 622\"}, {\"doi\": \"10.1097/00005373-198812000-00009\", \"citation\": \"Zubowski J Trauma 1988 10.1097/00005373-198812000-00009 28 1665\"}, {\"doi\": \"10.1097/00005373-198912000-00018\", \"citation\": \"Robin J Trauma 1989 10.1097/00005373-198912000-00018 29 1684\"}, {\"doi\": \"10.1080/110241598750004904\", \"citation\": \"Taviloglu Eur J Surg 1998 10.1080/110241598750004904 164 17\"}, {\"doi\": \"10.1177/145749690209100109\", \"citation\": \"Taviloglu Scand J Surg 2002 10.1177/145749690209100109 91 58\"}, {\"doi\": \"10.1097/00005373-197708000-00012\", \"citation\": \"Thal J Trauma 1977 10.1097/00005373-197708000-00012 17 642\"}, {\"doi\": \"10.1097/00005373-200111000-00019\", \"citation\": \"Gonzales J Trauma 2001 10.1097/00005373-200111000-00019 51 939\"}, {\"doi\": \"10.1097/00007611-198910000-00008\", \"citation\": \"Miller South Med J 1989 10.1097/00007611-198910000-00008 82 1231\"}, {\"doi\": \"10.1097/00005373-200103000-00011\", \"citation\": \"Udobi J Trauma 2001 10.1097/00005373-200103000-00011 50 475\"}, {\"doi\": \"10.1046/j.1365-2168.1999.00968.x\", \"citation\": \"Leppaniemi Br J Surg 1999 10.1046/j.1365-2168.1999.00968.x 86 76\"}, {\"doi\": \"10.1177/000313489906500715\", \"citation\": \"Albrecht Am Surg 1999 10.1177/000313489906500715 65 683\"}, {\"doi\": \"10.1097/00005373-200111000-00007\", \"citation\": \"Chiu J Trauma 2001 10.1097/00005373-200111000-00007 51 860\"}, {\"doi\": \"10.1097/00005373-199207000-00019\", \"citation\": \"Ivatury J Trauma 1992 10.1097/00005373-199207000-00019 33 101\"}, {\"doi\": \"10.1007/s004640002090\", \"citation\": \"Martinez Surg Endosc 2001 10.1007/s004640002090 15 28\"}, {\"doi\": \"10.131\", \"citation\": \"De Maria J Laparoendosc Adv Surg Tech A 2000 10.1089/lap.2000.10.131 10 131\"}, {\"doi\": \"10.1097/00019509-199802000-00007\", \"citation\": \"Ertekin Surg Laparosc Endosc 1998 10.1097/00019509-199802000-00007 205 26\"}, {\"doi\": \"10.1007/BF01655391\", \"citation\": \"Jones World J Surg 1985 10.1007/BF01655391 9 868\"}, {\"doi\": \"10.1131\", \"citation\": \"Morales Arch Surg 2001 10.1001/archsurg.136.10.1131 136 1131\"}]\n",
            "[{\"doi\": \"10.1016/j.ultrasmedbio.2008.09.028\", \"citation\": \"Ultrasound Med Biol Tang 35 566 2009 10.1016/j.ultrasmedbio.2008.09.028 Comparison of gray-scale contrast-enhanced ultrasonography with contrast-enhanced computed tomography in different grading of blunt hepatic and splenic trauma: an animal experiment\"}, {\"doi\": \"10.1148/radiol.2463070652\", \"citation\": \"Radiology Valentino 246 903 2008 10.1148/radiol.2463070652 Blunt abdominal trauma: diagnostic performance of contrast-enhanced US in children\\u2014initial experience\"}, {\"doi\": \"10.1055/s-2007-963785\", \"citation\": \"Ultraschall Med Claudon 29 28 2008 10.1055/s-2007-963785 Guidelines and good clinical practice recommendations for contrast enhanced ultrasound (CEUS)\\u2014update 2008\"}, {\"doi\": \"10.1097/00005373-199503000-00001\", \"citation\": \"J Trauma Moore 38 323 1995 10.1097/00005373-199503000-00001 Organ injury scaling: spleen and liver (1994 revision)\"}, {\"doi\": \"10.1097/00004424-200103000-00008\", \"citation\": \"Invest Radiol Seo 36 186 2001 10.1097/00004424-200103000-00008 Radiologic anatomy of the rabbit liver on hepatic venography, arteriography, portography, and cholangiography\"}, {\"doi\": \"10.1016/j.ajem.2009.07.028\", \"citation\": \"Am J Emerg Med Yekuo 28 828 2010 10.1016/j.ajem.2009.07.028 Contrast-enhanced ultrasound for blunt hepatic trauma: an animal experiment\"}, {\"doi\": \"10.1080/00029238.1971.11080840\", \"citation\": \"Am J EEG Technol Cicchetti 11 101 1971 10.1080/00029238.1971.11080840 A new procedure for assessing reliability of scoring EEG sleep recordings\"}, {\"doi\": \"10.2214/AJR.05.0027\", \"citation\": \"AJR Am J Roentgenol Valentino 186 1361 2006 10.2214/AJR.05.0027 Blunt abdominal trauma: emergency contrast-enhanced sonography for detection of solid organ injuries\"}, {\"doi\": \"10.1016/j.ultrasmedbio.2007.11.006\", \"citation\": \"Ultrasound Med Biol Sontum 34 824 2008 10.1016/j.ultrasmedbio.2007.11.006 Physicochemical characteristics of Sonazoid, a new contrast agent for ultrasound imaging\"}, {\"doi\": \"10.1016/j.ultrasmedbio.2006.05.031\", \"citation\": \"Ultrasound Med Biol Piscaglia 32 1369 2006 10.1016/j.ultrasmedbio.2006.05.031 The safety of Sonovue in abdominal applications: retrospective analysis of 23188 investigations\"}, {\"doi\": \"10.1007/s11547-009-0406-6\", \"citation\": \"Radiol Med Manetta 114 771 2009 10.1007/s11547-009-0406-6 Ultrasound enhanced with sulphur-hexafluoride\\u2013filled microbubbles agent (SonoVue) in the follow-up of mild liver and spleen trauma\"}, {\"doi\": \"10.2214/ajr.183.5.1831293\", \"citation\": \"AJR Am J Roentgenol Poletti 183 1293 2004 10.2214/ajr.183.5.1831293 Blunt abdominal trauma: does the use of a second-generation sonographic contrast agent help to detect solid organ injuries?\"}, {\"doi\": \"10.2214/AJR.05.0946\", \"citation\": \"AJR Am J Roentgenol McGahan 187 658 2006 10.2214/AJR.05.0946 Appearance of solid organ injury with contrast-enhanced sonography in blunt abdominal trauma: preliminary experience\"}, {\"doi\": \"10.1016/j.ultrasmedbio.2004.03.016\", \"citation\": \"Ultrasound Med Biol Bruce 30 735 2004 10.1016/j.ultrasmedbio.2004.03.016 Vascular flow and perfusion imaging with ultrasound contrast agents\"}]\n",
            "[{\"doi\": \"10.2214/ajr.160.1.8416623\", \"citation\": \"AJR Am J Roentgenol Goldberg 160 189 1993 10.2214/ajr.160.1.8416623 Early history of diagnostic ultrasound: the role of American radiologists\"}, {\"doi\": \"10.1097/00005373-199304000-00008\", \"citation\": \"J Trauma Rozycki 34 516 1993 10.1097/00005373-199304000-00008 Prospective evaluation of surgeons' use of ultrasound in the evaluation of trauma patients\"}, {\"doi\": \"10.1097/00005373-199509000-00016\", \"citation\": \"J Trauma Rozycki 39 492 1995 10.1097/00005373-199509000-00016 A prospective study of surgeon-performed ultrasound as the primary adjuvant modality for injured patient assessment\"}, {\"doi\": \"10.1097/00000658-199810000-00012\", \"citation\": \"Ann Surg Rozycki 228 557 1998 10.1097/00000658-199810000-00012 Surgeon-performed ultrasound for the assessment of truncal injuries: lessons learned from 1,540 patients\"}, {\"doi\": \"10.1148/96.1.15\", \"citation\": \"Radiology Goldberg 96 15 1970 10.1148/96.1.15 Evaluation of ascites by ultrasound\"}, {\"doi\": \"10.1001/archinte.1973.00320080053006\", \"citation\": \"Arch Intern Med Goldberg 131 217 1973 10.1001/archinte.1973.00320080053006 Ultrasonic determination of ascites\"}, {\"doi\": \"10.1097/00005373-199606000-00003\", \"citation\": \"J Trauma Boulanger 40 867 1996 10.1097/00005373-199606000-00003 Emergent abdominal sonography as a screening test in a new diagnostic algorithm for blunt trauma\"}, {\"doi\": \"10.1097/00005373-199611000-00008\", \"citation\": \"J Trauma Wherrett 41 815 1996 10.1097/00005373-199611000-00008 Hypotension after blunt abdominal trauma: the role of emergent abdominal sonography in surgical triage\"}, {\"doi\": \"10.1097/00005373-199301000-00005\", \"citation\": \"J Trauma Bode 34 27 1993 10.1097/00005373-199301000-00005 Abdominal ultrasound as a reliable indicator for conclusive laparotomy in blunt abdominal trauma [see comments]\"}, {\"doi\": \"10.1097/00005373-199207000-00009\", \"citation\": \"J Trauma Tso 33 39 1992 10.1097/00005373-199207000-00009 Sonography in blunt abdominal trauma: a preliminary progress report\"}, {\"doi\": \"10.1097/00005373-199304000-00003\", \"citation\": \"J Trauma Rothlin 34 488 1993 10.1097/00005373-199304000-00003 Ultrasound in blunt abdominal and thoracic trauma\"}, {\"doi\": \"10.1097/00005373-199511000-00014\", \"citation\": \"J Trauma Meyer 39 902 1995 10.1097/00005373-199511000-00014 Use of echocardiography to detect cardiac injury after penetrating thoracic trauma: a prospective study\"}, {\"doi\": \"10.1097/00000658-199606000-00012\", \"citation\": \"Ann Surg Rozycki 223 737 1996 10.1097/00000658-199606000-00012 The role of surgeon-performed ultrasound in patients with possible cardiac wounds\"}, {\"doi\": \"10.1097/00005373-199904000-00002\", \"citation\": \"J Trauma Rozycki 46 543 1999 10.1097/00005373-199904000-00002 The role of ultrasound in patients with possible penetrating cardiac wounds: a prospective multicenter study\"}, {\"doi\": \"10.1097/00005373-199704000-00006\", \"citation\": \"J Trauma Chiu 42 617 1997 10.1097/00005373-199704000-00006 Abdominal injuries without hemoperitoneum: a potential limitation of focused abdominal sonography for trauma (FAST)\"}, {\"doi\": \"10.1097/00005373-199604000-00015\", \"citation\": \"J Trauma McKenney 40 607 1996 10.1097/00005373-199604000-00015 1000 Consecutive ultrasounds for blunt abdominal trauma\"}, {\"doi\": \"10.1097/00005373-199402000-00003\", \"citation\": \"J Trauma Huang 36 173 1994 10.1097/00005373-199402000-00003 Ultrasonography for the evaluation of hemoperitoneum during resuscitation: a simple scoring system\"}, {\"doi\": \"10.1097/00005373-200104000-00009\", \"citation\": \"10.1097/00005373-200104000-00009 McKenney KL, McKenney M, Compton RP, et al. Hemoperitoneum score helps determine the need for therapeutic laparotomy. J Trauma. In press.\"}, {\"doi\": \"10.1007/BF02440030\", \"citation\": \"Emerg Radiol McKenney 113 1996 10.1007/BF02440030 Interpreting the trauma ultrasound: observations in 62 positive cases\"}, {\"doi\": \"10.1097/00005373-199802000-00009\", \"citation\": \"J Trauma Sisley 44 291 1998 10.1097/00005373-199802000-00009 Rapid detection of traumatic effusion using surgeon-performed ultrasound\"}, {\"doi\": \"10.1001/archsurg.1987.01400170111016\", \"citation\": \"Arch Surg Miller 122 605 1987 10.1001/archsurg.1987.01400170111016 Diagnostic pericardial window: a safe alternative to exploratory thoracotomy for suspected heart injuries\"}, {\"doi\": \"10.1002/bjs.1800740724\", \"citation\": \"Br J Surg Parys 74 611 1987 10.1002/bjs.1800740724 Use of ultrasound scan as a bedside diagnostic aid\"}, {\"doi\": \"10.1148/radiology.140.2.7255722\", \"citation\": \"Radiology Laing 140 449 1981 10.1148/radiology.140.2.7255722 Ultrasonic evaluation of patients with acute right upper quadrant pain\"}, {\"doi\": \"10.2214/ajr.131.2.227\", \"citation\": \"AJR Am J Roentgenol Crade 131 227 1978 10.2214/ajr.131.2.227 Surgical and pathologic correlation of cholecystosonography and cholecystography\"}, {\"doi\": \"10.2214/ajr.137.5.973\", \"citation\": \"AJR Am J Roentgenol Worthen 137 973 1981 10.2214/ajr.137.5.973 Cholecystitis: prospective evaluation of sonography and 99mTc-HIDA cholescintigraphy\"}, {\"doi\": \"10.1056/NEJM198006053022303\", \"citation\": \"N Engl J Med Cooperberg 302 1277 1980 10.1056/NEJM198006053022303 Real time ultrasonography: diagnostic technique of choice in calculous gallbladder disease\"}, {\"doi\": \"10.1002/jcu.1870170205\", \"citation\": \"J Clin Ultrasound Chang-Shien 17 95 1989 10.1002/jcu.1870170205 Sonographic demonstration of free air in perforated peptic ulcers: comparison of sonography with radiology\"}, {\"doi\": \"10.1148/radiology.140.2.7255723\", \"citation\": \"Radiology Madrazo 140 457 1981 10.1148/radiology.140.2.7255723 Sonographic findings in complicated peptic ulcer\"}, {\"doi\": \"10.1259/0007-1285-61-729-806\", \"citation\": \"Br J Radiol Belli 61 806 1988 10.1259/0007-1285-61-729-806 The renal rind sign: a new ultrasound indication of inflammatory disease in the abdomen\"}, {\"doi\": \"10.7863/jum.1983.2.7.303\", \"citation\": \"J Ultrasound Med Nyberg 2 303 1983 10.7863/jum.1983.2.7.303 Ultrasonographic findings in peptic ulcer disease and pancreatitis that simulate primary gallbladder disease\"}, {\"doi\": \"10.1001/archinte.1988.00380080049015\", \"citation\": \"Arch Intern Med Lederle 148 1753 1988 10.1001/archinte.1988.00380080049015 Selective screening for abdominal aortic aneurysms with physical examination and ultrasound\"}, {\"doi\": \"10.1001/archsurg.1971.01350040147028\", \"citation\": \"Arch Surg Nusbaum 102 385 1971 10.1001/archsurg.1971.01350040147028 Echography in the diagnosis of abdominal aortic aneurysm\"}, {\"doi\": \"10.1001/archsurg.1995.01430060043008\", \"citation\": \"Arch Surg Fry 130 605 1995 10.1001/archsurg.1995.01430060043008 Ultrasonographic examination of wound tracts\"}, {\"doi\": \"10.2214/ajr.147.3.567\", \"citation\": \"AJR Am J Roentgenol Fornage 147 567 1986 10.2214/ajr.147.3.567 Sonographic diagnosis of foreign bodies of the distal extremities\"}, {\"doi\": \"10.1259/0007-1285-64-758-107\", \"citation\": \"Br J Radiol Banerjee 64 107 1991 10.1259/0007-1285-64-758-107 Sonographic detection of foreign bodies of the extremities\"}, {\"doi\": \"10.1056/NEJM197705192962006\", \"citation\": \"N Engl J Med Teele 296 1149 1977 10.1056/NEJM197705192962006 Ultrasound in the diagnosis of idiopathic hypertrophic pyloric stenosis\"}, {\"doi\": \"10.1148/radiology.147.2.6836129\", \"citation\": \"Radiology Ball 147 499 1983 10.1148/radiology.147.2.6836129 Ultrasound diagnosis of hypertrophic pyloric stenosis: real-time application and the demonstration of a new sonographic sign\"}, {\"doi\": \"10.1148/radiology.161.2.3532185\", \"citation\": \"Radiology Haller 161 335 1986 10.1148/radiology.161.2.3532185 Hypertrophic pyloric stenosis; diagnosis using US\"}, {\"doi\": \"10.2214/ajr.150.6.1367\", \"citation\": \"AJR Am J Roentgenol Blumhagen 150 1367 1988 10.2214/ajr.150.6.1367 Sonographic diagnosis of hypertrophic pyloric stenosis\"}, {\"doi\": \"10.1259/0007-1285-61-721-19\", \"citation\": \"Br J Radiol Kofoed 61 19 1988 10.1259/0007-1285-61-721-19 Hypertrophic pyloric stenosis: determination of muscle dimensions by ultrasound\"}, {\"doi\": \"10.2214/ajr.140.2.221\", \"citation\": \"AJR Am J Roentgenol Blumhagen 140 221 1983 10.2214/ajr.140.2.221 Muscle thickness in hypertrophic pyloric stenosis: sonographic determination\"}, {\"doi\": \"10.1148/radiology.182.1.1727313\", \"citation\": \"Radiology Woo 182 77 1992 10.1148/radiology.182.1.1727313 Childhood intussusception: US-guided hydrostatic reduction\"}, {\"doi\": \"10.1148/radiology.199.3.8637988\", \"citation\": \"Radiology del Posso 199 688 1996 10.1148/radiology.199.3.8637988 Intussusception: ultrasound findings with pathologic correlation: the crescent-in-doughnut sign\"}, {\"doi\": \"10.2214/ajr.153.4.687\", \"citation\": \"AJR Am J Roentgenol Larson 153 687 1989 10.2214/ajr.153.4.687 The validity and utility of sonography in the diagnosis of appendicitis in the community setting\"}, {\"doi\": \"10.1148/radiology.163.1.3547490\", \"citation\": \"Radiology Jeffrey 163 11 1987 10.1148/radiology.163.1.3547490 Acute appendicitis: high-resolution real time ultrasound finding\"}, {\"doi\": \"10.1148/radiology.158.2.2934762\", \"citation\": \"Radiology Puylaert 158 355 1986 10.1148/radiology.158.2.2934762 Acute appendicitis: ultrasound evaluation using graded compression\"}, {\"doi\": \"10.1007/BF01694712\", \"citation\": \"Intensive Care Med Lichtenstein 19 353 1993 10.1007/BF01694712 Intensive use of general ultrasound in the intensive care unit: prospective study of 150 consecutive patients\"}, {\"doi\": \"10.1097/00003246-198303000-00002\", \"citation\": \"Crit Care Med Slasky 11 160 1983 10.1097/00003246-198303000-00002 Value of portable real-time ultrasound in the ICU\"}, {\"doi\": \"10.1001/jama.1967.03120180087013\", \"citation\": \"JAMA Joyner 200 399 1967 10.1001/jama.1967.03120180087013 Reflected ultrasound in the detection and localization of pleural effusion\"}, {\"doi\": \"10.1378/chest.70.1.33\", \"citation\": \"Chest Gryminski 70 33 1976 10.1378/chest.70.1.33 The diagnosis of pleural effusion by ultrasonic and radiologic techniques\"}, {\"doi\": \"10.1001/jama.1978.03280440045014\", \"citation\": \"JAMA Adams 239 1761 1978 10.1001/jama.1978.03280440045014 M-mode ultrasonic localization of pleural effusion\"}, {\"doi\": \"10.1056/NEJM199412293312602\", \"citation\": \"N Engl J Med Mansfield 331 1735 1994 10.1056/NEJM199412293312602 Complications and failures of subclavian-vein catheterization\"}, {\"doi\": \"10.1378/chest.98.1.157\", \"citation\": \"Chest Mallory 98 157 1990 10.1378/chest.98.1.157 Ultrasound guidance improves the success rate of internal jugular vein cannulation: a prospective, randomized trial\"}, {\"doi\": \"10.1097/00003246-199501000-00012\", \"citation\": \"Crit Care Med Gilbert 23 60 1995 10.1097/00003246-199501000-00012 Facilitation of internal jugular venous cannulation using an audio-guided Doppler ultrasound vascular access device: results from a prospective, dual-center, randomized, crossover clinical study\"}, {\"doi\": \"10.1007/BF02908859\", \"citation\": \"J Clin Monit Gratz 10 185 1994 10.1007/BF02908859 Doppler-guided cannulation of the internal jugular vein: a prospective, randomized trial\"}, {\"doi\": \"10.1097/00003246-199504000-00018\", \"citation\": \"Crit Care Med Gualtieri 23 692 1995 10.1097/00003246-199504000-00018 Subclavian venous catheterization: greater success rate for less experienced operators using ultrasound guidance\"}, {\"doi\": \"10.1097/00000542-198405000-00016\", \"citation\": \"Anesthesiology Leger 60 481 1984 10.1097/00000542-198405000-00016 Doppler localization of the internal jugular vein facilitates central venous cannulation\"}, {\"doi\": \"10.1001/archsurg.134.7.738\", \"citation\": \"Arch Surg Fry 134 738 1999 10.1001/archsurg.134.7.738 Ultrasound-guided central venous access\"}, {\"doi\": \"10.1097/00005373-199201000-00002\", \"citation\": \"J Trauma Knudson 32 2 1992 10.1097/00005373-199201000-00002 Thromboembolism following multiple trauma\"}, {\"doi\": \"10.1097/00005373-199409000-00025\", \"citation\": \"J Trauma Knudson 37 480 1994 10.1097/00005373-199409000-00025 Prevention of venous thromboembolism in trauma patients\"}, {\"doi\": \"10.1056/NEJM199412153312401\", \"citation\": \"N Engl J Med Geerts 331 1601 1994 10.1056/NEJM199412153312401 A prospective study of venous thromboembolism after major trauma\"}, {\"doi\": \"10.1097/00005373-199309000-00012\", \"citation\": \"J Trauma Burns 35 405 1993 10.1097/00005373-199309000-00012 Prospective ultrasound evaluation of venous thrombosis in high-risk trauma patients\"}, {\"doi\": \"10.1001/archsurg.1989.01410080031004\", \"citation\": \"Arch Surg Flinn 124 901 1989 10.1001/archsurg.1989.01410080031004 Duplex venous scanning for the prospective surveillance of perioperative venous thrombosis\"}, {\"doi\": \"10.1097/00005373-199609000-00010\", \"citation\": \"J Trauma Knudson 41 446 1996 10.1097/00005373-199609000-00010 Use of low molecular weight heparin in preventing thromboembolism in trauma patients\"}, {\"doi\": \"10.1001/archsurg.1987.01400170093013\", \"citation\": \"Arch Surg Langsfeld 122 587 1987 10.1001/archsurg.1987.01400170093013 Duplex B-mode imaging for the diagnosis of deep venous thrombosis\"}, {\"doi\": \"10.1056/NEJM198902093200602\", \"citation\": \"N Engl J Med Lensing 320 342 1989 10.1056/NEJM198902093200602 Detection of deep-vein thrombosis by real-time B-mode ultrasonography\"}, {\"doi\": \"10.1148/radiology.163.3.3554343\", \"citation\": \"Radiology Appleton 163 743 1987 10.1148/radiology.163.3.3554343 Deep venous thrombosis of the leg: US findings\"}, {\"doi\": \"10.1148/radiology.171.2.2649923\", \"citation\": \"Radiology Polak 171 481 1989 10.1148/radiology.171.2.2649923 Deep veins of the calf: assessment with color Doppler flow imaging\"}, {\"doi\": \"10.1148/radiology.163.3.3554344\", \"citation\": \"Radiology Vogel 163 747 1987 10.1148/radiology.163.3.3554344 Deep venous thrombosis of the lower extremity: US evaluation\"}, {\"doi\": \"10.1097/00005373-199508000-00022\", \"citation\": \"J Trauma Boulanger 39 325 1995 10.1097/00005373-199508000-00022 A prospective study of emergent abdominal sonography after blunt trauma\"}, {\"doi\": \"10.1148/radiology.150.3.6695081\", \"citation\": \"Radiology Effeney 150 787 1984 10.1148/radiology.150.3.6695081 Iliofemoral venous thrombosis: real-time ultrasound diagnosis, normal criteria, and clinical application\"}, {\"doi\": \"10.1097/00005373-199608000-00002\", \"citation\": \"J Trauma Han 41 208 1996 10.1097/00005373-199608000-00002 Ultrasound training during AILS: an early start for surgical interns\"}, {\"doi\": \"10.1097/00000658-199811000-00001\", \"citation\": \"Ann Surg Marescaux 228 627 1998 10.1097/00000658-199811000-00001 Virtual reality applied to hepatic surgery simulation: the next revolution\"}, {\"doi\": \"10.1097/00000658-199811000-00002\", \"citation\": \"Ann Surg Krummel 228 635 1998 10.1097/00000658-199811000-00002 Surgical simulation and virtual reality: the coming revolution\"}, {\"doi\": \"10.1097/00005373-200004000-00013\", \"citation\": \"J Trauma Knudson 48 659 2000 10.1097/00005373-200004000-00013 Training residents using simulation technology: experience with ultrasound for trauma\"}, {\"doi\": \"10.1097/00005373-199904000-00003\", \"citation\": \"J Trauma Shackford 46 553 1999 10.1097/00005373-199904000-00003 Focused abdominal sonogram for trauma: the learning curve of nonradiologist clinicians in detecting hemoperitoneum\"}]\n",
            "[{\"doi\": \"10.1002/jcu\", \"citation\": \"10.1002/jcu.1870210406\"}, {\"doi\": \"10.1378/chest.108.5\", \"citation\": \"10.1378/chest.108.5.1345\"}, {\"doi\": \"10.1148/radiol\", \"citation\": \"10.1148/radiol.2251011102\"}, {\"doi\": \"10.2214/ajr.141.5\", \"citation\": \"10.2214/ajr.141.5.919\"}, {\"doi\": \"10.1136/emj.13.3\", \"citation\": \"10.1136/emj.13.3.173\"}, {\"doi\": \"10.1177/000313489906500315\", \"citation\": \"Am. Surg. Hill SL 254 65 1999 10.1177/000313489906500315 The occult pneumothorax: an increasing diagnostic entity in trauma\"}, {\"doi\": \"10.2214/ajr.171.5\", \"citation\": \"10.2214/ajr.171.5.9798871\"}, {\"doi\": \"10.2214/ajr.166.2\", \"citation\": \"10.2214/ajr.166.2.8553938\"}]\n",
            "[{\"doi\": \"https://doi.org/10.1016/0002-9149(85)90397-2\", \"citation\": \"John A. Callahan, James B. Seward, Rick A. Nishimura, Fletcher A. Miller, Guy S. Reeder, Clarence Shub, Mark J. Callahan, Thomas T. Schattenberg, A.Jamil Tajik (1985) Two-dimensional echocardiographically guided pericardiocentesis: Experience in 117 consecutive patients https://doi.org/10.1016/0002-9149(85)90397-2\"}, {\"doi\": \"https://doi.org/10.1016/s0022-5223(19)37477-x\", \"citation\": \"John A. Callahan, James B. Seward, Abdul J. Tajik, David R. Holmes, Hugh C. Smith, Guy S. Reeder, Fletcher A. Miller (1983) Pericardiocentesis assisted by two-dimensional echocardiography https://doi.org/10.1016/s0022-5223(19)37477-x\"}, {\"doi\": null, \"citation\": \"Alex G. Little, Paul C. Kremser, James L. Wade, James M. Levett, Tom R. DeMeester, David B. Skinner (1984) Operation for diagnosis and treatment of pericardial effusions. None\"}, {\"doi\": \"https://doi.org/10.1016/0002-9149(83)90544-1\", \"citation\": \"P.Anthony N. Chandraratna, Cheryl L. Reid, Ananda Nimalasuriya, David Kawanishi, Shahbudin H. Rahimtoola (1983) Application of 2-dimensional contrast studies during pericardiocentesis https://doi.org/10.1016/0002-9149(83)90544-1\"}, {\"doi\": \"https://doi.org/10.1016/0003-4975(95)00950-7\", \"citation\": \"Shigefumi Suehiro, Koji Hattori, Toshihiko Shibata, Yasuyuki Sasaki, Hirokazu Minamimura, Hiroaki Kinoshita (1996) Echocardiography-guided pericardiocentesis with a needle attached to a probe https://doi.org/10.1016/0003-4975(95)00950-7\"}, {\"doi\": \"https://doi.org/10.1177/02841851960373p269\", \"citation\": \"O. Duvernoy, A. Magnusson (1996) CT-Guided Pericardiocentesis https://doi.org/10.1177/02841851960373p269\"}, {\"doi\": null, \"citation\": \"Sandring Kh, Müller C (1989) [CT-guided percutaneous puncture and drainage of pericardial effusion]. None\"}, {\"doi\": \"https://doi.org/10.1055/s-2008-1033218\", \"citation\": \"G. Mostbeck, M. Korn, G. Wittich, R. Walter, A. Gebauer, H. Schurawitzki, D. Tscholakoff (1991) Perkutane ultraschallgezielte und durchleuchtungs-kontrollierte Drainage perikardialer Flüssigkeiten https://doi.org/10.1055/s-2008-1033218\"}]\n",
            "[{\"doi\": \"10.1302/0301-620X.90B7\", \"citation\": \"10.1302/0301-620X.90B7.20481\"}, {\"doi\": \"10.1002/jcu\", \"citation\": \"10.1002/jcu.1870120806\"}, {\"doi\": \"10.2106/JBJS.D\", \"citation\": \"10.2106/JBJS.D.02100\"}, {\"doi\": \"10.7863/jum.1984.3.12\", \"citation\": \"10.7863/jum.1984.3.12.549\"}, {\"doi\": \"10.2214/ajr.183.5\", \"citation\": \"10.2214/ajr.183.5.1831465\"}, {\"doi\": \"10.1016/j.jse.2004.01\", \"citation\": \"10.1016/j.jse.2004.01.017\"}, {\"doi\": \"10.1136/bmj.331.7525\", \"citation\": \"10.1136/bmj.331.7525.1124\"}, {\"doi\": \"10.1097/BLO\", \"citation\": \"10.1097/BLO.0b013e31802fc175\"}, {\"doi\": \"10.1016/j.ejrad.2007.11\", \"citation\": \"10.1016/j.ejrad.2007.11.012\"}, {\"doi\": \"10.2214/ajr.184.6\", \"citation\": \"10.2214/ajr.184.6.01841768\"}]\n",
            "[{\"doi\": \"10.1097/00000542-200401000-00006\", \"citation\": \"Anesthesiology Lichtenstein 100 9 2004 10.1097/00000542-200401000-00006 Comparative diagnostic performances of auscultation, chest radiography, and lung ultrasonography in acute respiratory distress syndrome\"}, {\"doi\": \"10.1378/chest.124.6.2391\", \"citation\": \"Chest Barker 124 2391 2003 10.1378/chest.124.6.2391 Opacified hemithorax with ipsilateral mediastinal shift after transthoracic needle biopsy\"}, {\"doi\": \"10.1378/chest.115.1.293\", \"citation\": \"Chest Arney 115 293 1999 10.1378/chest.115.1.293 Airway obstruction arising from blood clot: three reports and a review of the literature\"}, {\"doi\": \"10.1378/chest.98.3.772\", \"citation\": \"Chest Meisel 98 772 1990 10.1378/chest.98.3.772 Another complication of thoracostomy\\u00e2\\u20ac\\u201dperforation of the right atrium\"}, {\"doi\": \"10.1213/00000539-199106000-00020\", \"citation\": \"Anesth Analg Troianos 72 823 1991 10.1213/00000539-199106000-00020 Ultrasound-guided cannulation of the internal jugular vein. A prospective, randomized study\"}, {\"doi\": \"10.1161/01.CIR.87.5.1557\", \"citation\": \"Circulation Denys 87 1557 1993 10.1161/01.CIR.87.5.1557 Ultrasound-assisted cannulation of the internal jugular vein. A prospective comparison to the external landmark-guided technique\"}, {\"doi\": \"10.1249\", \"citation\": \"J Ultrasound Med Greenbaum 23 1249 2004 10.7863/jum.2004.23.10.1249 Proceedings of the Compact Ultrasound Conference sponsored by the American Institute of Ultrasound in Medicine\"}]\n",
            "[]\n"
          ]
        }
      ]
    },
    {
      "cell_type": "code",
      "source": [
        "df = df.astype(str)\n",
        "df.to_csv(\"/content/drive/MyDrive/checkpoint_12_df.csv\", encoding='utf-8', index=False)"
      ],
      "metadata": {
        "id": "txDA70jVUsXz"
      },
      "execution_count": null,
      "outputs": []
    },
    {
      "cell_type": "code",
      "source": [
        "df = pd.read_csv(\"/content/drive/MyDrive/checkpoint_11_df.csv\")"
      ],
      "metadata": {
        "id": "c-xjtXXAll_K"
      },
      "execution_count": null,
      "outputs": []
    },
    {
      "cell_type": "code",
      "source": [
        "def see_old_pubmed(row):\n",
        "  clear_output(wait=True)\n",
        "  if ( \"article_id\" in row[\"references\"] ):\n",
        "    print(row[\"references\"])\n",
        "  # else:\n",
        "  #   print(\"no article_id\")\n",
        "\n",
        "df.apply(see_old_pubmed, axis=1)"
      ],
      "metadata": {
        "id": "s51M6C8Glp4N",
        "colab": {
          "base_uri": "https://localhost:8080/"
        },
        "outputId": "4ef389fc-895b-4888-bdf7-7a8d86eaabb8"
      },
      "execution_count": null,
      "outputs": [
        {
          "output_type": "stream",
          "name": "stdout",
          "text": [
            "[{\"citation\": \"Bertoglio K, Hendren RL. New developments in autism. The Psychiatric clinics of North America. 2009;32(1):1\\u201314.\", \"article_ids\": {\"pubmed\": \"19248913\"}}, {\"citation\": \"Ashwood P, Wills S, Van de Water J. The immune response in autism: a new frontier for autism research. Journal of leukocyte biology. 2006;80(1):1\\u201315.\", \"article_ids\": {\"pubmed\": \"16698940\"}}, {\"citation\": \"Vargas DL, Nascimbene C, Krishnan C, Zimmerman AW, Pardo CA. Neuroglial activation and neuroinflammation in the brain of patients with autism. Annals of neurology. 2005;57(1):67\\u201381.\", \"article_ids\": {\"pubmed\": \"15546155\"}}, {\"citation\": \"Cohly HH, Panja A. Immunological findings in autism. International review of neurobiology. 2005;71:317\\u201341.\", \"article_ids\": {\"pubmed\": \"16512356\"}}, {\"citation\": \"Gomes FC, Sousa Vde O, Romao L. Emerging roles for TGF-beta1 in nervous system development. International journal of developmental neuroscience : the official journal of the International Society for Developmental Neuroscience. 2005;23(5):413\\u201324.\", \"article_ids\": {\"pubmed\": \"15936920\"}}, {\"citation\": \"Zablocka A. [Cooperation between the immune and nervous systems] Postepy higieny i medycyny doswiadczalnej. 2001;55(1):3\\u201315.\", \"article_ids\": {\"pubmed\": \"11355532\"}}, {\"citation\": \"Ziemssen T, Kern S. Psychoneuroimmunology--cross-talk between the immune and nervous systems. Journal of neurology. 2007;254(Suppl 2):Ii8\\u201311.\", \"article_ids\": {\"pubmed\": \"17503136\"}}, {\"citation\": \"Wachs FP, Winner B, Couillard-Despres S, Schiller T, Aigner R, Winkler J, et al. Transforming growth factor-beta1 is a negative modulator of adult neurogenesis. Journal of neuropathology and experimental neurology. 2006;65(4):358\\u201370.\", \"article_ids\": {\"pubmed\": \"16691117\"}}, {\"citation\": \"Brionne TC, Tesseur I, Masliah E, Wyss-Coray T. Loss of TGF-beta 1 leads to increased neuronal cell death and microgliosis in mouse brain. Neuron. 2003;40(6):1133\\u201345.\", \"article_ids\": {\"pubmed\": \"14687548\"}}, {\"citation\": \"Ashwood P, Enstrom A, Krakowiak P, Hertz-Picciotto I, Hansen RL, Croen LA, et al. Decreased transforming growth factor beta1 in autism: a potential link between immune dysregulation and impairment in clinical behavioral outcomes. Journal of neuroimmunology. 2008;204(1-2):149\\u201353.\", \"article_ids\": {\"pmc\": \"PMC2615583\", \"pubmed\": \"18762342\"}}, {\"citation\": \"Okada K, Hashimoto K, Iwata Y, Nakamura K, Tsujii M, Tsuchiya KJ, et al. Decreased serum levels of transforming growth factor-beta1 in patients with autism. Progress in neuro-psychopharmacology & biological psychiatry. 2007;31(1):187\\u201390.\", \"article_ids\": {\"pubmed\": \"17030376\"}}, {\"citation\": \"Fujii D, Brissenden JE, Derynck R, Francke U. Transforming growth factor beta gene maps to human chromosome 19 long arm and to mouse chromosome 7. Somatic cell and molecular genetics. 1986;12(3):281\\u20138.\", \"article_ids\": {\"pubmed\": \"3459257\"}}, {\"citation\": \"Awad MR, El-Gamel A, Hasleton P, Turner DM, Sinnott PJ, Hutchinson IV. Genotypic variation in the transforming growth factor-beta1 gene: association with transforming growth factor-beta1 production, fibrotic lung disease, and graft fibrosis after lung transplantation. Transplantation. 1998;66(8):1014\\u201320.\", \"article_ids\": {\"pubmed\": \"9808485\"}}, {\"citation\": \"Hutchinson IV, Turner D, Sankaran D, Awad M, Pravica V, Sinnott P. Cytokine genotypes in allograft rejection: guidelines for immunosuppression. Transplantation proceedings. 1998;30(8):3991\\u20132.\", \"article_ids\": {\"pubmed\": \"9865272\"}}, {\"citation\": \"Suthanthiran M, Li B, Song JO, Ding R, Sharma VK, Schwartz JE, et al. Transforming growth factor-beta 1 hyperexpression in African-American hypertensives: A novel mediator of hypertension and/or target organ damage. Proceedings of the National Academy of Sciences of the United States of America. 2000;97(7):3479\\u201384.\", \"article_ids\": {\"pmc\": \"PMC16265\", \"pubmed\": \"10725360\"}}, {\"citation\": \"Yamada Y, Miyauchi A, Goto J, Takagi Y, Okuizumi H, Kanematsu M, et al. Association of a polymorphism of the transforming growth factor-beta1 gene with genetic susceptibility to osteoporosis in postmenopausal Japanese women. Journal of bone and mineral research : the official journal of the American Society for Bone and Mineral Research. 1998;13(10):1569\\u201376.\", \"article_ids\": {\"pubmed\": \"9783545\"}}, {\"citation\": \"Lindholm D, Castren E, Kiefer R, Zafra F, Thoenen H. Transforming growth factor-beta 1 in the rat brain: increase after injury and inhibition of astrocyte proliferation. The Journal of cell biology. 1992;117(2):395\\u2013400.\", \"article_ids\": {\"pmc\": \"PMC2289420\", \"pubmed\": \"1560032\"}}, {\"citation\": \"Logan A, Frautschy SA, Gonzalez AM, Sporn MB, Baird A. Enhanced expression of transforming growth factor beta 1 in the rat brain after a localized cerebral injury. Brain research. 1992;587(2):216\\u201325.\", \"article_ids\": {\"pmc\": \"PMC4310563\", \"pubmed\": \"1525658\"}}, {\"citation\": \"Prehn JH, Backhauss C, Krieglstein J. Transforming growth factor-beta 1 prevents glutamate neurotoxicity in rat neocortical cultures and protects mouse neocortex from ischemic injury in vivo. Journal of cerebral blood flow and metabolism : official journal of the International Society of Cerebral Blood Flow and Metabolism. 1993;13(3):521\\u20135.\", \"article_ids\": {\"pubmed\": \"8097519\"}}, {\"citation\": \"Schopler E, Reichler RJ, DeVellis RF, Daly K. Toward objective classification of childhood autism: Childhood Autism Rating Scale (CARS) Journal of autism and developmental disorders. 1980;10(1):91\\u2013103.\", \"article_ids\": {\"pubmed\": \"6927682\"}}, {\"citation\": \"Miller SA, Dykes DD, Polesky HF. A simple salting out procedure for extracting DNA from human nucleated cells. Nucleic acids research. 1988;16(3)\", \"article_ids\": {\"pmc\": \"PMC334765\", \"pubmed\": \"3344216\"}}, {\"citation\": \"Croonenberghs J, Bosmans E, Deboutte D, Kenis G, Maes M. Activation of the inflammatory response system in autism. Neuropsychobiology. 2002;45(1):1\\u20136.\", \"article_ids\": {\"pubmed\": \"11803234\"}}, {\"citation\": \"Jyonouchi H, Sun S, Le H. Proinflammatory and regulatory cytokine production associated with innate and adaptive immune responses in children with autism spectrum disorders and developmental regression. Journal of neuroimmunology. 2001;120(1-2):170\\u20139.\", \"article_ids\": {\"pubmed\": \"11694332\"}}, {\"citation\": \"Zimmerman AW, Jyonouchi H, Comi AM, Connors SL, Milstien S, Varsou A, et al. Cerebrospinal fluid and serum markers of inflammation in autism. Pediatric neurology. 2005;33(3):195\\u2013201.\", \"article_ids\": {\"pubmed\": \"16139734\"}}, {\"citation\": \"Khakzad MR, Javanbakht M, Shayegan MR, Kianoush S, Omid F, Hojati M, et al. The complementary role of high sensitivity C-reactive protein in the diagnosis and severity assessment of autism. Research in Autism Spectrum Disorders. 2012;6(3):1032\\u20137.\", \"article_ids\": {}}, {\"citation\": \"van Gent T, Heijnen CJ, Treffers PD. Autism and the immune system. Journal of child psychology and psychiatry, and allied disciplines. 1997;38(3):337\\u201349.\", \"article_ids\": {\"pubmed\": \"9232480\"}}, {\"citation\": \"Singer HS, Morris CM, Williams PN, Yoon DY, Hong JJ, Zimmerman AW. Antibrain antibodies in children with autism and their unaffected siblings. Journal of neuroimmunology. 2006;178(1-2):149\\u201355.\", \"article_ids\": {\"pubmed\": \"16842863\"}}, {\"citation\": \"Singh VK, Warren RP, Odell JD, Warren WL, Cole P. Antibodies to myelin basic protein in children with autistic behavior. Brain, behavior, and immunity. 1993;7(1):97\\u2013103.\", \"article_ids\": {\"pubmed\": \"7682457\"}}, {\"citation\": \"Heuer L, Ashwood P, Schauer J, Goines P, Krakowiak P, Hertz-Picciotto I, et al. Reduced levels of immunoglobulin in children with autism correlates with behavioral symptoms. Autism research: official Journal of the International Society for Autism Research. 2008;1(5):275\\u201383.\", \"article_ids\": {\"pmc\": \"PMC2663897\", \"pubmed\": \"19343198\"}}, {\"citation\": \"den Haan JM, Kraal G, Bevan MJ. Cutting edge: Lipopolysaccharide induces IL-10-producing regulatory CD4+ T cells that suppress the CD8+ T cell response. J Immunol. 2007;178(9):5429\\u201333.\", \"article_ids\": {\"pmc\": \"PMC2776046\", \"pubmed\": \"17442923\"}}, {\"citation\": \"Sonoda KH, Faunce DE, Taniguchi M, Exley M, Balk S, Stein-Streilein J. NK T cell-derived IL-10 is essential for the differentiation of antigen-specific T regulatory cells in systemic tolerance. J Immunol. 2001;166(1):42\\u201350.\", \"article_ids\": {\"pubmed\": \"11123275\"}}, {\"citation\": \"Marra LE, Zhang ZX, Joe B, Campbell J, Levy GA, Penninger J, et al. IL-10 induces regulatory T cell apoptosis by up-regulation of the membrane form of TNF-alpha. J Immunol. 2004;172(2):1028\\u201335.\", \"article_ids\": {\"pubmed\": \"14707076\"}}, {\"citation\": \"de Sampaio e Spohr TC, Martinez R, da Silva EF, Neto VM, Gomes FC. Neuro-glia interaction effects on GFAP gene: a novel role for transforming growth factor-beta1. The European journal of neuroscience. 2002;16(11):2059\\u201369.\", \"article_ids\": {\"pubmed\": \"12473073\"}}, {\"citation\": \"Sousa Vde O, Romao L, Neto VM, Gomes FC. Glial fibrillary acidic protein gene promoter is differently modulated by transforming growth factor-beta 1 in astrocytes from distinct brain regions. The European journal of neuroscience. 2004;19(7):1721\\u201330.\", \"article_ids\": {\"pubmed\": \"15078546\"}}, {\"citation\": \"Feng Z, Ko CP. Schwann cells promote synaptogenesis at the neuromuscular junction via transforming growth factor-beta1. The Journal of neuroscience : the official journal of the Society for Neuroscience. 2008;28(39):9599\\u2013609.\", \"article_ids\": {\"pmc\": \"PMC3844879\", \"pubmed\": \"18815246\"}}, {\"citation\": \"Siegenthaler JA, Miller MW. Transforming growth factor beta1 modulates cell migration in rat cortex: effects of ethanol. Cereb Cortex. 2004;14(7):791\\u2013802.\", \"article_ids\": {\"pubmed\": \"15084492\"}}, {\"citation\": \"Unsicker K, Krieglstein K. TGF-betas and their roles in the regulation of neuron survival. Advances in experimental medicine and biology. 2002;513:353\\u201374.\", \"article_ids\": {\"pubmed\": \"12575828\"}}, {\"citation\": \"Roussa E, Farkas LM, Krieglstein K. TGF-beta promotes survival on mesencephalic dopaminergic neurons in cooperation with Shh and FGF-8. Neurobiology of disease. 2004;16(2):300\\u201310.\", \"article_ids\": {\"pubmed\": \"15193287\"}}, {\"citation\": \"Pratt BM, McPherson JM. TGF-beta in the central nervous system: potential roles in ischemic injury and neurodegenerative diseases. Cytokine & growth factor reviews. 1997;8(4):267\\u201392.\", \"article_ids\": {\"pubmed\": \"9620642\"}}, {\"citation\": \"Atladottir HO, Pedersen MG, Thorsen P, Mortensen PB, Deleuran B, Eaton WW, et al. Association of family history of autoimmune diseases and autism spectrum disorders. Pediatrics. 2009;124(2):687\\u201394.\", \"article_ids\": {\"pubmed\": \"19581261\"}}]\n"
          ]
        }
      ]
    },
    {
      "cell_type": "code",
      "source": [
        "df[\"references\"].describe()"
      ],
      "metadata": {
        "id": "lkVvNlGdsUlU"
      },
      "execution_count": null,
      "outputs": []
    },
    {
      "cell_type": "code",
      "source": [
        "from google.colab import drive\n",
        "drive.mount('/content/drive', force_remount=True)\n",
        "import pandas as pd\n",
        "df = pd.read_csv(\"/content/drive/MyDrive/checkpoint_4_df.csv\")"
      ],
      "metadata": {
        "colab": {
          "base_uri": "https://localhost:8080/"
        },
        "id": "3Qhanfppf2RV",
        "outputId": "10f225ca-aec8-412e-9f74-5883a37a4c0f"
      },
      "execution_count": null,
      "outputs": [
        {
          "output_type": "stream",
          "name": "stdout",
          "text": [
            "Mounted at /content/drive\n"
          ]
        }
      ]
    },
    {
      "cell_type": "code",
      "source": [
        "import re\n",
        "import json\n",
        "from IPython.display import clear_output\n",
        "\n",
        "def get_doi( row ):\n",
        "  clear_output(wait=True)\n",
        "  try:\n",
        "    print( row[\"references\"] )\n",
        "    citations = json.loads(row[\"references\"])\n",
        "    # citations = ['Cheney Anesthesiology 2006 10.1097/00000542-200612000-00007 105 1081', 'Peterson Anesthesiology 2005 10.1097/00000542-200507000-00009 103 33', 'Mallampati Can Anaesth Soc J 1985 10.1007/BF03011357 32 429', 'Samsoon Anaesthesia 1987 10.1111/j.1365-2044.1987.tb04039.x 42 487', 'Wilson Br J Anaesth 1988 10.1093/bja/61.2.211 61 211', 'Shiga Anesthesiology 2005 10.1097/00000542-200508000-00027 103 429', 'Cormack Anaesthesia 1984 10.1111/j.1365-2044.1984.tb08932.x 39 1105', 'Adnet Anesthesiology 1997 10.1097/00000542-199712000-00005 87 1290']\n",
        "    citations_res = []\n",
        "    for citation in citations:\n",
        "      doi = re.search(\"^.*(10\\.[A-Za-z0-9.\\/-]+)(?<!\\.)(?=[ ]|\\.).*$\", citation)\n",
        "      if ( doi == None ):\n",
        "        continue\n",
        "      doi = doi.group(1)\n",
        "      citations_doi = {}\n",
        "      if ( doi != \"\" ):\n",
        "        citations_doi[\"doi\"]=doi\n",
        "      else:\n",
        "        citations_doi[\"doi\"]=\"no_doi\"\n",
        "\n",
        "      citations_doi[\"citation\"]=citation\n",
        "      citations_res.append( citations_doi )\n",
        "\n",
        "    # print(json.dumps(citations_res, indent=4))\n",
        "    citations_res = json.dumps(citations_res) # convert to string ...\n",
        "    print( citations_res )\n",
        "    return citations_res\n",
        "  except:\n",
        "    return \"[]\"\n",
        "\n",
        "df[\"references\"] = df.apply( get_doi, axis=1 )"
      ],
      "metadata": {
        "id": "5RkXPV7lGvjX",
        "colab": {
          "base_uri": "https://localhost:8080/"
        },
        "outputId": "90c08ae5-154a-43de-a3c4-fef97734fce6"
      },
      "execution_count": null,
      "outputs": [
        {
          "output_type": "stream",
          "name": "stdout",
          "text": [
            "nan\n"
          ]
        }
      ]
    },
    {
      "cell_type": "code",
      "source": [
        "df = df.astype(str)\n",
        "df.to_csv(\"/content/drive/MyDrive/checkpoint_5_df.csv\", encoding='utf-8', index=False)"
      ],
      "metadata": {
        "id": "Sd0N6TghTGSz"
      },
      "execution_count": null,
      "outputs": []
    },
    {
      "cell_type": "code",
      "source": [
        "df = pd.read_csv(\"/content/drive/MyDrive/checkpoint_5_df.csv\")"
      ],
      "metadata": {
        "id": "UJCidCRBh_iO"
      },
      "execution_count": null,
      "outputs": []
    },
    {
      "cell_type": "code",
      "source": [
        "df[\"references\"].describe()"
      ],
      "metadata": {
        "colab": {
          "base_uri": "https://localhost:8080/",
          "height": 209
        },
        "id": "Ra7H6OMPfeAb",
        "outputId": "3cdfbe4b-558d-482e-d0b2-08eb7d84988d"
      },
      "execution_count": null,
      "outputs": [
        {
          "output_type": "execute_result",
          "data": {
            "text/plain": [
              "count     26806\n",
              "unique    16745\n",
              "top          []\n",
              "freq      10055\n",
              "Name: references, dtype: object"
            ],
            "text/html": [
              "<div>\n",
              "<style scoped>\n",
              "    .dataframe tbody tr th:only-of-type {\n",
              "        vertical-align: middle;\n",
              "    }\n",
              "\n",
              "    .dataframe tbody tr th {\n",
              "        vertical-align: top;\n",
              "    }\n",
              "\n",
              "    .dataframe thead th {\n",
              "        text-align: right;\n",
              "    }\n",
              "</style>\n",
              "<table border=\"1\" class=\"dataframe\">\n",
              "  <thead>\n",
              "    <tr style=\"text-align: right;\">\n",
              "      <th></th>\n",
              "      <th>references</th>\n",
              "    </tr>\n",
              "  </thead>\n",
              "  <tbody>\n",
              "    <tr>\n",
              "      <th>count</th>\n",
              "      <td>26806</td>\n",
              "    </tr>\n",
              "    <tr>\n",
              "      <th>unique</th>\n",
              "      <td>16745</td>\n",
              "    </tr>\n",
              "    <tr>\n",
              "      <th>top</th>\n",
              "      <td>[]</td>\n",
              "    </tr>\n",
              "    <tr>\n",
              "      <th>freq</th>\n",
              "      <td>10055</td>\n",
              "    </tr>\n",
              "  </tbody>\n",
              "</table>\n",
              "</div><br><label><b>dtype:</b> object</label>"
            ]
          },
          "metadata": {},
          "execution_count": 5
        }
      ]
    },
    {
      "cell_type": "code",
      "source": [
        "df_1 = pd.read_csv(\"/content/drive/MyDrive/checkpoint_3_df.csv\")"
      ],
      "metadata": {
        "id": "rCWLQHn8gytE"
      },
      "execution_count": null,
      "outputs": []
    },
    {
      "cell_type": "code",
      "source": [
        "df_1[\"references\"].describe()"
      ],
      "metadata": {
        "colab": {
          "base_uri": "https://localhost:8080/",
          "height": 209
        },
        "id": "Rt8A5yiVg50y",
        "outputId": "9f3d798b-70af-4c38-a4f7-33fed123fdc2"
      },
      "execution_count": null,
      "outputs": [
        {
          "output_type": "execute_result",
          "data": {
            "text/plain": [
              "count     26806\n",
              "unique     6252\n",
              "top          []\n",
              "freq      20554\n",
              "Name: references, dtype: object"
            ],
            "text/html": [
              "<div>\n",
              "<style scoped>\n",
              "    .dataframe tbody tr th:only-of-type {\n",
              "        vertical-align: middle;\n",
              "    }\n",
              "\n",
              "    .dataframe tbody tr th {\n",
              "        vertical-align: top;\n",
              "    }\n",
              "\n",
              "    .dataframe thead th {\n",
              "        text-align: right;\n",
              "    }\n",
              "</style>\n",
              "<table border=\"1\" class=\"dataframe\">\n",
              "  <thead>\n",
              "    <tr style=\"text-align: right;\">\n",
              "      <th></th>\n",
              "      <th>references</th>\n",
              "    </tr>\n",
              "  </thead>\n",
              "  <tbody>\n",
              "    <tr>\n",
              "      <th>count</th>\n",
              "      <td>26806</td>\n",
              "    </tr>\n",
              "    <tr>\n",
              "      <th>unique</th>\n",
              "      <td>6252</td>\n",
              "    </tr>\n",
              "    <tr>\n",
              "      <th>top</th>\n",
              "      <td>[]</td>\n",
              "    </tr>\n",
              "    <tr>\n",
              "      <th>freq</th>\n",
              "      <td>20554</td>\n",
              "    </tr>\n",
              "  </tbody>\n",
              "</table>\n",
              "</div><br><label><b>dtype:</b> object</label>"
            ]
          },
          "metadata": {},
          "execution_count": 7
        }
      ]
    },
    {
      "cell_type": "code",
      "source": [
        "def change_empty(row):\n",
        "  if ( row[\"references\"] == \"[]\" ):\n",
        "    pmid=row[\"pmid\"]\n",
        "    row_iter = df_1.index[df_1['pmid'] == pmid].tolist()[0]\n",
        "    # print( df_1[\"references\"].iloc[[row_iter]].tolist()[0] )\n",
        "    return df_1[\"references\"].iloc[[row_iter]].tolist()[0]\n",
        "  return row[\"references\"]\n",
        "\n",
        "df[\"references\"] = df.apply( change_empty, axis=1 )"
      ],
      "metadata": {
        "id": "x32aXlXchA0p"
      },
      "execution_count": null,
      "outputs": []
    },
    {
      "cell_type": "code",
      "source": [
        "df[\"references\"].describe()"
      ],
      "metadata": {
        "colab": {
          "base_uri": "https://localhost:8080/",
          "height": 209
        },
        "id": "aMNZdJvIh5-V",
        "outputId": "92a20cd6-c5fb-4194-e961-f344edb1f652"
      },
      "execution_count": null,
      "outputs": [
        {
          "output_type": "execute_result",
          "data": {
            "text/plain": [
              "count     26806\n",
              "unique    17980\n",
              "top          []\n",
              "freq       8820\n",
              "Name: references, dtype: object"
            ],
            "text/html": [
              "<div>\n",
              "<style scoped>\n",
              "    .dataframe tbody tr th:only-of-type {\n",
              "        vertical-align: middle;\n",
              "    }\n",
              "\n",
              "    .dataframe tbody tr th {\n",
              "        vertical-align: top;\n",
              "    }\n",
              "\n",
              "    .dataframe thead th {\n",
              "        text-align: right;\n",
              "    }\n",
              "</style>\n",
              "<table border=\"1\" class=\"dataframe\">\n",
              "  <thead>\n",
              "    <tr style=\"text-align: right;\">\n",
              "      <th></th>\n",
              "      <th>references</th>\n",
              "    </tr>\n",
              "  </thead>\n",
              "  <tbody>\n",
              "    <tr>\n",
              "      <th>count</th>\n",
              "      <td>26806</td>\n",
              "    </tr>\n",
              "    <tr>\n",
              "      <th>unique</th>\n",
              "      <td>17980</td>\n",
              "    </tr>\n",
              "    <tr>\n",
              "      <th>top</th>\n",
              "      <td>[]</td>\n",
              "    </tr>\n",
              "    <tr>\n",
              "      <th>freq</th>\n",
              "      <td>8820</td>\n",
              "    </tr>\n",
              "  </tbody>\n",
              "</table>\n",
              "</div><br><label><b>dtype:</b> object</label>"
            ]
          },
          "metadata": {},
          "execution_count": 32
        }
      ]
    },
    {
      "cell_type": "code",
      "source": [
        "df[\"references\"].describe()\n",
        "df.to_csv(\"/content/drive/MyDrive/checkpoint_6_df.csv\", encoding='utf-8', index=False)"
      ],
      "metadata": {
        "id": "vqfHoCdmj4FO"
      },
      "execution_count": null,
      "outputs": []
    },
    {
      "cell_type": "code",
      "source": [
        "from google.colab import drive\n",
        "drive.mount('/content/drive', force_remount=True)\n",
        "import pandas as pd\n",
        "df = pd.read_csv(\"/content/drive/MyDrive/checkpoint_7_df.csv\")"
      ],
      "metadata": {
        "colab": {
          "base_uri": "https://localhost:8080/"
        },
        "id": "d5qgSkLi4sIQ",
        "outputId": "30cce1eb-c643-4a09-a621-ebaca72c05d7"
      },
      "execution_count": null,
      "outputs": [
        {
          "output_type": "stream",
          "name": "stdout",
          "text": [
            "Mounted at /content/drive\n"
          ]
        }
      ]
    },
    {
      "cell_type": "code",
      "source": [
        "import requests\n",
        "import re\n",
        "import json\n",
        "import time\n",
        "import datetime\n",
        "from IPython.display import clear_output\n",
        "!pip install demjson3\n",
        "from demjson3 import decode\n",
        "\n",
        "# https://github.com/eschares/OpenAlex-CitedReferences/blob/main/notebooks/1-Pull_the_data_OpenAlex-citedreferences.ipynb\n",
        "# https://groups.google.com/g/openalex-users/c/O4kidbDVFtI?pli=1\n",
        "\n",
        "# http://journals.plos.org/plosone/article/file?id=10.1371/journal.pone.0039966&type=manuscript\n",
        "# https://api.crossref.org/works/10.1371/journal.pone.0032774.xml\n",
        "\n",
        "def innertext(elt):\n",
        "    return (elt.text or '') +' '.join(innertext(e)+(e.tail or '') for e in elt)\n",
        "\n",
        "def alex_citation(paper_pmid):\n",
        "  # https://api.openalex.org/works/pmid:22815718&doi:10.1371/journal.pone.0039966\n",
        "  response = requests.get(f'https://api.openalex.org/works/pmid:{paper_pmid}')\n",
        "  # response = requests.get(f'https://api.openalex.org/works/mailto=apaluza3@gmail.com/https://doi.org/{paper_doi}')\n",
        "  # response = requests.get(f'https://api.openalex.org/works/mailto=apaluza3@gmail.com/doi:{paper_doi}')\n",
        "  print( f'Computing PMID: {paper_pmid} ... (status: {response.status_code})' )\n",
        "  decoded_json = decode(response.text)\n",
        "  # print(type(decoded_json))\n",
        "  # print(decoded_json)\n",
        "  # citations = response.json()[\"results\"][0][\"referenced_works\"]\n",
        "  citations = decoded_json[\"referenced_works\"]\n",
        "\n",
        "  citation_list = \"\"\n",
        "  if ( len(citations) == 0 ):\n",
        "    return \"[]\"\n",
        "\n",
        "  citation_iter = 0\n",
        "  for citation in citations:\n",
        "    citation_iter = citation_iter + 1\n",
        "    if ( citation_iter == 100 ):\n",
        "      break # maximum request limit ...\n",
        "    citation = citation.replace(\"https://openalex.org/\", \"\")\n",
        "    citation_list = citation_list + citation + '|'\n",
        "  citation_list = citation_list[: -1]\n",
        "\n",
        "  url = \"https://api.openalex.org/works?filter=openalex:\"+citation_list\n",
        "  print(url)\n",
        "  cit_json = decode(requests.get(url).text)\n",
        "\n",
        "  full_jsons = []\n",
        "  # print( len(cit_json[\"results\"]) )\n",
        "  for citation in cit_json[\"results\"]:\n",
        "    title = citation[\"title\"]\n",
        "    authors=\"\"\n",
        "    for author in citation[\"authorships\"]:\n",
        "      # print(author[\"raw_author_name\"])\n",
        "      authors = authors + author[\"raw_author_name\"] + \", \"\n",
        "    authors = authors[: -2]\n",
        "    year = citation[\"publication_year\"]\n",
        "    doi = citation[\"doi\"]\n",
        "    full_json = { \"doi\": doi, \"citation\": f'{authors} ({year}) {title} {doi}' }\n",
        "    full_jsons.append(full_json)\n",
        "  return json.dumps(full_jsons)\n",
        "\n",
        "# result_to_convert = alex_citation(\"10.1038/jhh.2011.8\")\n",
        "# final_result = str.encode(result_to_convert).decode(\"unicode_escape\")\n",
        "\n",
        "length=len(df[ df[\"references\"] == \"[]\" ])\n",
        "iter=0\n",
        "avg_time_taken=0\n",
        "remaining_hours=0\n",
        "remaining_minutes=0\n",
        "remaining_seconds=0\n",
        "def alex_citations(row):\n",
        "  if ( row[\"references\"] != \"[]\" ):\n",
        "    return row[\"references\"]\n",
        "\n",
        "  # if ( str(row[\"doi\"]) == \"nan\" ):\n",
        "  #   return row[\"references\"]\n",
        "\n",
        "  start = datetime.datetime.now()\n",
        "  global iter\n",
        "  global length\n",
        "  global avg_time_taken\n",
        "  global remaining_hours\n",
        "  global remaining_minutes\n",
        "  global remaining_seconds\n",
        "  iter=iter+1\n",
        "  try:\n",
        "    result_to_convert = alex_citation(row[\"pmid\"])\n",
        "    final_result = str.encode(result_to_convert).decode(\"unicode_escape\")\n",
        "  except:\n",
        "    clear_output(wait=True)\n",
        "    print( \"Some exception happened with the previous DOI ... \" )\n",
        "    return \"[]\"\n",
        "  clear_output(wait=True)\n",
        "\n",
        "  end = datetime.datetime.now()\n",
        "  time_length = end - start\n",
        "  time_length = int(time_length.total_seconds() * 1000) / 1000\n",
        "  avg_time_taken = (avg_time_taken * (iter-1) + time_length) / iter\n",
        "  remaining = ( length - iter ) * avg_time_taken\n",
        "  remaining_hours = int( remaining / 3600 )\n",
        "  remaining_minutes = int( ( remaining % 3600 ) / 60 )\n",
        "  remaining_seconds = int( remaining % 60 )\n",
        "  print( f'{iter}/{length} - DONE' )\n",
        "  print( f'Took {time_length} seconds ... {remaining_hours} hours, {remaining_minutes} minutes, {remaining_seconds} seconds remaining ... ' )\n",
        "  print( f'OLD: {row[\"references\"]}' )\n",
        "  print( f'NEW: {final_result}' )\n",
        "  print( f'\\n{iter+1}/{length} - now computing ...' )\n",
        "  time.sleep(0.1)\n",
        "  return final_result\n",
        "\n",
        "df[\"references\"] = df.apply( alex_citations, axis=1 )"
      ],
      "metadata": {
        "colab": {
          "base_uri": "https://localhost:8080/"
        },
        "id": "NB3kCTvrofzI",
        "outputId": "0808ec7d-efb3-4afd-b9ed-a518ee12b68d"
      },
      "execution_count": null,
      "outputs": [
        {
          "output_type": "stream",
          "name": "stdout",
          "text": [
            "6921/6921 - DONE\n",
            "Took 0.246 seconds ... 0 hours, 0 minutes, 0 seconds remaining ... \n",
            "OLD: []\n",
            "NEW: []\n",
            "\n",
            "6922/6921 - now computing ...\n"
          ]
        }
      ]
    },
    {
      "cell_type": "code",
      "source": [
        "df.to_csv(\"/content/drive/MyDrive/checkpoint_8_df.csv\", encoding='utf-8', index=False)"
      ],
      "metadata": {
        "id": "F2E6o1_rMopY"
      },
      "execution_count": null,
      "outputs": []
    },
    {
      "cell_type": "code",
      "source": [
        "df[\"references\"].describe()"
      ],
      "metadata": {
        "colab": {
          "base_uri": "https://localhost:8080/",
          "height": 209
        },
        "id": "z4kGhZQtg20f",
        "outputId": "919b22b4-911c-42d0-c379-efb35c3d7c93"
      },
      "execution_count": null,
      "outputs": [
        {
          "output_type": "execute_result",
          "data": {
            "text/plain": [
              "count     26806\n",
              "unique    20942\n",
              "top          []\n",
              "freq       5856\n",
              "Name: references, dtype: object"
            ],
            "text/html": [
              "<div>\n",
              "<style scoped>\n",
              "    .dataframe tbody tr th:only-of-type {\n",
              "        vertical-align: middle;\n",
              "    }\n",
              "\n",
              "    .dataframe tbody tr th {\n",
              "        vertical-align: top;\n",
              "    }\n",
              "\n",
              "    .dataframe thead th {\n",
              "        text-align: right;\n",
              "    }\n",
              "</style>\n",
              "<table border=\"1\" class=\"dataframe\">\n",
              "  <thead>\n",
              "    <tr style=\"text-align: right;\">\n",
              "      <th></th>\n",
              "      <th>references</th>\n",
              "    </tr>\n",
              "  </thead>\n",
              "  <tbody>\n",
              "    <tr>\n",
              "      <th>count</th>\n",
              "      <td>26806</td>\n",
              "    </tr>\n",
              "    <tr>\n",
              "      <th>unique</th>\n",
              "      <td>20942</td>\n",
              "    </tr>\n",
              "    <tr>\n",
              "      <th>top</th>\n",
              "      <td>[]</td>\n",
              "    </tr>\n",
              "    <tr>\n",
              "      <th>freq</th>\n",
              "      <td>5856</td>\n",
              "    </tr>\n",
              "  </tbody>\n",
              "</table>\n",
              "</div><br><label><b>dtype:</b> object</label>"
            ]
          },
          "metadata": {},
          "execution_count": 4
        }
      ]
    },
    {
      "cell_type": "code",
      "source": [
        "df[\"pmid\"]"
      ],
      "metadata": {
        "colab": {
          "base_uri": "https://localhost:8080/",
          "height": 458
        },
        "id": "M79oilUkiCwK",
        "outputId": "f699e777-1c9e-40b3-fdd2-2646a9e6e1fb"
      },
      "execution_count": null,
      "outputs": [
        {
          "output_type": "execute_result",
          "data": {
            "text/plain": [
              "0        22815718\n",
              "1        27286562\n",
              "2        22381459\n",
              "3        21396219\n",
              "4        24167451\n",
              "           ...   \n",
              "26801    16302942\n",
              "26802     9855106\n",
              "26803    22004635\n",
              "26804    17126784\n",
              "26805    21535973\n",
              "Name: pmid, Length: 26806, dtype: int64"
            ],
            "text/html": [
              "<div>\n",
              "<style scoped>\n",
              "    .dataframe tbody tr th:only-of-type {\n",
              "        vertical-align: middle;\n",
              "    }\n",
              "\n",
              "    .dataframe tbody tr th {\n",
              "        vertical-align: top;\n",
              "    }\n",
              "\n",
              "    .dataframe thead th {\n",
              "        text-align: right;\n",
              "    }\n",
              "</style>\n",
              "<table border=\"1\" class=\"dataframe\">\n",
              "  <thead>\n",
              "    <tr style=\"text-align: right;\">\n",
              "      <th></th>\n",
              "      <th>pmid</th>\n",
              "    </tr>\n",
              "  </thead>\n",
              "  <tbody>\n",
              "    <tr>\n",
              "      <th>0</th>\n",
              "      <td>22815718</td>\n",
              "    </tr>\n",
              "    <tr>\n",
              "      <th>1</th>\n",
              "      <td>27286562</td>\n",
              "    </tr>\n",
              "    <tr>\n",
              "      <th>2</th>\n",
              "      <td>22381459</td>\n",
              "    </tr>\n",
              "    <tr>\n",
              "      <th>3</th>\n",
              "      <td>21396219</td>\n",
              "    </tr>\n",
              "    <tr>\n",
              "      <th>4</th>\n",
              "      <td>24167451</td>\n",
              "    </tr>\n",
              "    <tr>\n",
              "      <th>...</th>\n",
              "      <td>...</td>\n",
              "    </tr>\n",
              "    <tr>\n",
              "      <th>26801</th>\n",
              "      <td>16302942</td>\n",
              "    </tr>\n",
              "    <tr>\n",
              "      <th>26802</th>\n",
              "      <td>9855106</td>\n",
              "    </tr>\n",
              "    <tr>\n",
              "      <th>26803</th>\n",
              "      <td>22004635</td>\n",
              "    </tr>\n",
              "    <tr>\n",
              "      <th>26804</th>\n",
              "      <td>17126784</td>\n",
              "    </tr>\n",
              "    <tr>\n",
              "      <th>26805</th>\n",
              "      <td>21535973</td>\n",
              "    </tr>\n",
              "  </tbody>\n",
              "</table>\n",
              "<p>26806 rows × 1 columns</p>\n",
              "</div><br><label><b>dtype:</b> int64</label>"
            ]
          },
          "metadata": {},
          "execution_count": 3
        }
      ]
    },
    {
      "cell_type": "code",
      "execution_count": null,
      "metadata": {
        "id": "kzgUBGSMLcl_"
      },
      "outputs": [],
      "source": [
        "# Here is code for SCOPUS ... it does NOT let me get citations by default, but I could email the API Support Team to let me get citations for free, but there's still a weekly quota ... so best not to use it ...\n",
        "\n",
        "# !pip install pyscopus==1.0.3a2\n",
        "# import pyscopus\n",
        "# scopus = pyscopus.Scopus(key)\n",
        "# response_json = json.loads(scopus.search(f'doi({doi})', view='STANDARD').to_json(orient=\"records\"))\n",
        "# response_json\n",
        "# import json\n",
        "# import httpx\n",
        "# import time\n",
        "# !pip install demjson3\n",
        "# from demjson3 import decode\n",
        "\n",
        "# key = 'aa8e9c8989580dd7fb3f805ea5d42d65' # for scopus api\n",
        "# doi = '10.1371/journal.pone.0039966'"
      ]
    },
    {
      "cell_type": "code",
      "execution_count": null,
      "metadata": {
        "id": "HtZOhslhaPUk"
      },
      "outputs": [],
      "source": [
        "# def get_eid(paper_doi, apikey):\n",
        "#     apikey=apikey\n",
        "#     headers={\n",
        "#         \"X-ELS-APIKey\":apikey,\n",
        "#         \"Accept\":'application/json'\n",
        "#          }\n",
        "#     timeout = httpx.Timeout(10.0, connect=60.0)\n",
        "#     client = httpx.Client(timeout=timeout,headers=headers)\n",
        "#     query=\"&view=FULL\"\n",
        "#     url=f'https://api.elsevier.com/content/search/scopus?query=doi({paper_doi})'\n",
        "#     r=client.get(url)\n",
        "#     return r\n",
        "\n",
        "# def get_citations(paper_eid, apikey):\n",
        "#     apikey=apikey\n",
        "#     headers={\n",
        "#         \"X-ELS-APIKey\":apikey,\n",
        "#         \"Accept\":'application/json'\n",
        "#          }\n",
        "#     timeout = httpx.Timeout(10.0, connect=60.0)\n",
        "#     client = httpx.Client(timeout=timeout,headers=headers)\n",
        "#     query=\"&view=FULL\"\n",
        "#     # url='https://api.elsevier.com/content/search/scopus?query=refeid('+paper_eid+')'\n",
        "#     # https://api.elsevier.com/content/abstract/citations?doi=10.1016%2FS0014-5793(01)03313-0&apiKey=7f59af901d2d86f78a1fd60c1bf9426a&httpAccept=application%2Fjson\n",
        "#     # url = \"https://api.elsevier.com/content/abstract/citations?doi=\"+paper_doi+\"&apiKey=\"+apikey+\"&httpAccept=application%2Fjson\"\n",
        "\n",
        "\n",
        "#     url = f'https://api.elsevier.com/content/abstract/EID:{paper_eid}?apiKey={apikey}&view=REF'\n",
        "#     r=client.get(url)\n",
        "#     print(url)\n",
        "#     return r\n",
        "\n",
        "\n",
        "# def get_full_text(paper_doi, apikey):\n",
        "#     apikey=apikey\n",
        "#     headers={\n",
        "#         \"X-ELS-APIKey\":apikey,\n",
        "#         \"Accept\":'application/json'\n",
        "#          }\n",
        "#     timeout = httpx.Timeout(10.0, connect=60.0)\n",
        "#     client = httpx.Client(timeout=timeout,headers=headers)\n",
        "#     query=\"&view=FULL\"\n",
        "#     url=\"https://api.elsevier.com/content/article/doi/\"+paper_doi\n",
        "#     r=client.get(url)\n",
        "#     return r\n",
        "\n",
        "\n",
        "# # Get document\n",
        "# eid_response = get_eid(doi, key)\n",
        "# eid = decode(eid_response.text)[\"search-results\"][\"entry\"][0][\"eid\"]\n",
        "\n",
        "# print(eid)\n",
        "# citations = get_citations( eid, key )\n",
        "# # Parse document\n",
        "# json_acceptable_string = citations.text\n",
        "# d = decode(json_acceptable_string)\n",
        "# # Print document\n",
        "# print(d)"
      ]
    },
    {
      "cell_type": "code",
      "execution_count": null,
      "metadata": {
        "id": "NRYVdzb_n_ol"
      },
      "outputs": [],
      "source": [
        "# !pip install pybliometrics\n",
        "# import pybliometrics\n",
        "# # Document-specific information\n",
        "# from pybliometrics.scopus import AbstractRetrieval, CitationOverview\n",
        "# pybliometrics.scopus.init(config_dir=\"/content/drive/MyDrive/config.txt\")\n",
        "# ab = CitationOverview([doi])"
      ]
    },
    {
      "cell_type": "code",
      "execution_count": null,
      "metadata": {
        "colab": {
          "base_uri": "https://localhost:8080/",
          "height": 205
        },
        "id": "2TNl4UWS2Gu5",
        "outputId": "fc23d9a1-2e76-41df-e0d8-614d26a690a9"
      },
      "outputs": [
        {
          "name": "stdout",
          "output_type": "stream",
          "text": [
            "Requirement already satisfied: pyscopus in /usr/local/lib/python3.11/dist-packages (1.0.3)\n"
          ]
        },
        {
          "data": {
            "application/vnd.google.colaboratory.intrinsic+json": {
              "repr_error": "Out of range float values are not JSON compliant: nan",
              "type": "dataframe",
              "variable_name": "response_json"
            },
            "text/html": [
              "\n",
              "  <div id=\"df-c99c8ab5-a958-4af1-b2d1-0352341f111f\" class=\"colab-df-container\">\n",
              "    <div>\n",
              "<style scoped>\n",
              "    .dataframe tbody tr th:only-of-type {\n",
              "        vertical-align: middle;\n",
              "    }\n",
              "\n",
              "    .dataframe tbody tr th {\n",
              "        vertical-align: top;\n",
              "    }\n",
              "\n",
              "    .dataframe thead th {\n",
              "        text-align: right;\n",
              "    }\n",
              "</style>\n",
              "<table border=\"1\" class=\"dataframe\">\n",
              "  <thead>\n",
              "    <tr style=\"text-align: right;\">\n",
              "      <th></th>\n",
              "      <th>scopus_id</th>\n",
              "      <th>title</th>\n",
              "      <th>publication_name</th>\n",
              "      <th>issn</th>\n",
              "      <th>isbn</th>\n",
              "      <th>eissn</th>\n",
              "      <th>volume</th>\n",
              "      <th>page_range</th>\n",
              "      <th>cover_date</th>\n",
              "      <th>doi</th>\n",
              "      <th>citation_count</th>\n",
              "      <th>affiliation</th>\n",
              "      <th>aggregation_type</th>\n",
              "      <th>subtype_description</th>\n",
              "      <th>authors</th>\n",
              "      <th>full_text</th>\n",
              "    </tr>\n",
              "  </thead>\n",
              "  <tbody>\n",
              "    <tr>\n",
              "      <th>0</th>\n",
              "      <td>84863614148</td>\n",
              "      <td>The diagnostic accuracy of urine-based Xpert M...</td>\n",
              "      <td>PLoS ONE</td>\n",
              "      <td>None</td>\n",
              "      <td>None</td>\n",
              "      <td>19326203</td>\n",
              "      <td>7</td>\n",
              "      <td>None</td>\n",
              "      <td>2012-07-09</td>\n",
              "      <td>10.1371/journal.pone.0039966</td>\n",
              "      <td>74</td>\n",
              "      <td>[{'name': 'University of Cape Town Lung Instit...</td>\n",
              "      <td>Journal</td>\n",
              "      <td>Article</td>\n",
              "      <td>[]</td>\n",
              "      <td>None</td>\n",
              "    </tr>\n",
              "  </tbody>\n",
              "</table>\n",
              "</div>\n",
              "    <div class=\"colab-df-buttons\">\n",
              "\n",
              "  <div class=\"colab-df-container\">\n",
              "    <button class=\"colab-df-convert\" onclick=\"convertToInteractive('df-c99c8ab5-a958-4af1-b2d1-0352341f111f')\"\n",
              "            title=\"Convert this dataframe to an interactive table.\"\n",
              "            style=\"display:none;\">\n",
              "\n",
              "  <svg xmlns=\"http://www.w3.org/2000/svg\" height=\"24px\" viewBox=\"0 -960 960 960\">\n",
              "    <path d=\"M120-120v-720h720v720H120Zm60-500h600v-160H180v160Zm220 220h160v-160H400v160Zm0 220h160v-160H400v160ZM180-400h160v-160H180v160Zm440 0h160v-160H620v160ZM180-180h160v-160H180v160Zm440 0h160v-160H620v160Z\"/>\n",
              "  </svg>\n",
              "    </button>\n",
              "\n",
              "  <style>\n",
              "    .colab-df-container {\n",
              "      display:flex;\n",
              "      gap: 12px;\n",
              "    }\n",
              "\n",
              "    .colab-df-convert {\n",
              "      background-color: #E8F0FE;\n",
              "      border: none;\n",
              "      border-radius: 50%;\n",
              "      cursor: pointer;\n",
              "      display: none;\n",
              "      fill: #1967D2;\n",
              "      height: 32px;\n",
              "      padding: 0 0 0 0;\n",
              "      width: 32px;\n",
              "    }\n",
              "\n",
              "    .colab-df-convert:hover {\n",
              "      background-color: #E2EBFA;\n",
              "      box-shadow: 0px 1px 2px rgba(60, 64, 67, 0.3), 0px 1px 3px 1px rgba(60, 64, 67, 0.15);\n",
              "      fill: #174EA6;\n",
              "    }\n",
              "\n",
              "    .colab-df-buttons div {\n",
              "      margin-bottom: 4px;\n",
              "    }\n",
              "\n",
              "    [theme=dark] .colab-df-convert {\n",
              "      background-color: #3B4455;\n",
              "      fill: #D2E3FC;\n",
              "    }\n",
              "\n",
              "    [theme=dark] .colab-df-convert:hover {\n",
              "      background-color: #434B5C;\n",
              "      box-shadow: 0px 1px 3px 1px rgba(0, 0, 0, 0.15);\n",
              "      filter: drop-shadow(0px 1px 2px rgba(0, 0, 0, 0.3));\n",
              "      fill: #FFFFFF;\n",
              "    }\n",
              "  </style>\n",
              "\n",
              "    <script>\n",
              "      const buttonEl =\n",
              "        document.querySelector('#df-c99c8ab5-a958-4af1-b2d1-0352341f111f button.colab-df-convert');\n",
              "      buttonEl.style.display =\n",
              "        google.colab.kernel.accessAllowed ? 'block' : 'none';\n",
              "\n",
              "      async function convertToInteractive(key) {\n",
              "        const element = document.querySelector('#df-c99c8ab5-a958-4af1-b2d1-0352341f111f');\n",
              "        const dataTable =\n",
              "          await google.colab.kernel.invokeFunction('convertToInteractive',\n",
              "                                                    [key], {});\n",
              "        if (!dataTable) return;\n",
              "\n",
              "        const docLinkHtml = 'Like what you see? Visit the ' +\n",
              "          '<a target=\"_blank\" href=https://colab.research.google.com/notebooks/data_table.ipynb>data table notebook</a>'\n",
              "          + ' to learn more about interactive tables.';\n",
              "        element.innerHTML = '';\n",
              "        dataTable['output_type'] = 'display_data';\n",
              "        await google.colab.output.renderOutput(dataTable, element);\n",
              "        const docLink = document.createElement('div');\n",
              "        docLink.innerHTML = docLinkHtml;\n",
              "        element.appendChild(docLink);\n",
              "      }\n",
              "    </script>\n",
              "  </div>\n",
              "\n",
              "\n",
              "  <div id=\"id_e9b8d036-ed3d-476b-848a-6692bd27c0ad\">\n",
              "    <style>\n",
              "      .colab-df-generate {\n",
              "        background-color: #E8F0FE;\n",
              "        border: none;\n",
              "        border-radius: 50%;\n",
              "        cursor: pointer;\n",
              "        display: none;\n",
              "        fill: #1967D2;\n",
              "        height: 32px;\n",
              "        padding: 0 0 0 0;\n",
              "        width: 32px;\n",
              "      }\n",
              "\n",
              "      .colab-df-generate:hover {\n",
              "        background-color: #E2EBFA;\n",
              "        box-shadow: 0px 1px 2px rgba(60, 64, 67, 0.3), 0px 1px 3px 1px rgba(60, 64, 67, 0.15);\n",
              "        fill: #174EA6;\n",
              "      }\n",
              "\n",
              "      [theme=dark] .colab-df-generate {\n",
              "        background-color: #3B4455;\n",
              "        fill: #D2E3FC;\n",
              "      }\n",
              "\n",
              "      [theme=dark] .colab-df-generate:hover {\n",
              "        background-color: #434B5C;\n",
              "        box-shadow: 0px 1px 3px 1px rgba(0, 0, 0, 0.15);\n",
              "        filter: drop-shadow(0px 1px 2px rgba(0, 0, 0, 0.3));\n",
              "        fill: #FFFFFF;\n",
              "      }\n",
              "    </style>\n",
              "    <button class=\"colab-df-generate\" onclick=\"generateWithVariable('response_json')\"\n",
              "            title=\"Generate code using this dataframe.\"\n",
              "            style=\"display:none;\">\n",
              "\n",
              "  <svg xmlns=\"http://www.w3.org/2000/svg\" height=\"24px\"viewBox=\"0 0 24 24\"\n",
              "       width=\"24px\">\n",
              "    <path d=\"M7,19H8.4L18.45,9,17,7.55,7,17.6ZM5,21V16.75L18.45,3.32a2,2,0,0,1,2.83,0l1.4,1.43a1.91,1.91,0,0,1,.58,1.4,1.91,1.91,0,0,1-.58,1.4L9.25,21ZM18.45,9,17,7.55Zm-12,3A5.31,5.31,0,0,0,4.9,8.1,5.31,5.31,0,0,0,1,6.5,5.31,5.31,0,0,0,4.9,4.9,5.31,5.31,0,0,0,6.5,1,5.31,5.31,0,0,0,8.1,4.9,5.31,5.31,0,0,0,12,6.5,5.46,5.46,0,0,0,6.5,12Z\"/>\n",
              "  </svg>\n",
              "    </button>\n",
              "    <script>\n",
              "      (() => {\n",
              "      const buttonEl =\n",
              "        document.querySelector('#id_e9b8d036-ed3d-476b-848a-6692bd27c0ad button.colab-df-generate');\n",
              "      buttonEl.style.display =\n",
              "        google.colab.kernel.accessAllowed ? 'block' : 'none';\n",
              "\n",
              "      buttonEl.onclick = () => {\n",
              "        google.colab.notebook.generateWithVariable('response_json');\n",
              "      }\n",
              "      })();\n",
              "    </script>\n",
              "  </div>\n",
              "\n",
              "    </div>\n",
              "  </div>\n"
            ],
            "text/plain": [
              "     scopus_id                                              title  \\\n",
              "0  84863614148  The diagnostic accuracy of urine-based Xpert M...   \n",
              "\n",
              "  publication_name  issn  isbn     eissn volume page_range  cover_date  \\\n",
              "0         PLoS ONE  None  None  19326203      7       None  2012-07-09   \n",
              "\n",
              "                            doi  citation_count  \\\n",
              "0  10.1371/journal.pone.0039966              74   \n",
              "\n",
              "                                         affiliation aggregation_type  \\\n",
              "0  [{'name': 'University of Cape Town Lung Instit...          Journal   \n",
              "\n",
              "  subtype_description authors full_text  \n",
              "0             Article      []      None  "
            ]
          },
          "execution_count": 8,
          "metadata": {},
          "output_type": "execute_result"
        }
      ],
      "source": [
        "# !pip install pyscopus\n",
        "# import pyscopus\n",
        "# scopus = pyscopus.Scopus(key)\n",
        "# response_json = scopus.search(f'doi({doi})', view='STANDARD')\n",
        "# response_json"
      ]
    }
  ],
  "metadata": {
    "colab": {
      "provenance": []
    },
    "kernelspec": {
      "display_name": "Python 3",
      "name": "python3"
    },
    "language_info": {
      "name": "python"
    }
  },
  "nbformat": 4,
  "nbformat_minor": 0
}
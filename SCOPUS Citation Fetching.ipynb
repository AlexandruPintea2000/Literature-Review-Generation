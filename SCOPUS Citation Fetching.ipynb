{
 "cells": [
  {
   "cell_type": "code",
   "execution_count": 1,
   "metadata": {
    "colab": {
     "base_uri": "https://localhost:8080/"
    },
    "id": "SCfQ8P3PPqfy",
    "outputId": "b3c3784a-c119-4087-ea09-5a98c383be0e"
   },
   "outputs": [],
   "source": [
    "# from google.colab import drive\n",
    "# drive.mount('/content/drive', force_remount=True)\n",
    "import pandas as pd\n",
    "# df = pd.read_csv(\"/content/drive/MyDrive/checkpoint_12_df.csv\")\n",
    "df = pd.read_csv(\"checkpoint_12_df.csv\")\n",
    "df = df.astype(str)"
   ]
  },
  {
   "cell_type": "code",
   "execution_count": 2,
   "metadata": {
    "colab": {
     "base_uri": "https://localhost:8080/",
     "height": 209
    },
    "id": "OP1_vCtuRGCi",
    "outputId": "babdcdbc-cb91-4cd5-aec3-f580da248dbf"
   },
   "outputs": [
    {
     "data": {
      "text/plain": [
       "count     26806\n",
       "unique    20942\n",
       "top          []\n",
       "freq       5856\n",
       "Name: references, dtype: object"
      ]
     },
     "execution_count": 2,
     "metadata": {},
     "output_type": "execute_result"
    }
   ],
   "source": [
    "df[ \"references\" ].describe()"
   ]
  },
  {
   "cell_type": "code",
   "execution_count": 3,
   "metadata": {
    "colab": {
     "base_uri": "https://localhost:8080/"
    },
    "id": "vmiZN2kcQeo0",
    "outputId": "a86678dd-6f3b-47c4-ad5f-579fefd82a75"
   },
   "outputs": [
    {
     "data": {
      "text/plain": [
       "5856"
      ]
     },
     "execution_count": 3,
     "metadata": {},
     "output_type": "execute_result"
    }
   ],
   "source": [
    "df_empty = df[ df[ \"references\" ] == \"[]\" ]\n",
    "len(df_empty)"
   ]
  },
  {
   "cell_type": "code",
   "execution_count": 4,
   "metadata": {
    "id": "Cwl-geCMVIic"
   },
   "outputs": [],
   "source": [
    "key = 'aa8e9c8989580dd7fb3f805ea5d42d65'"
   ]
  },
  {
   "cell_type": "code",
   "execution_count": 5,
   "metadata": {},
   "outputs": [
    {
     "name": "stdout",
     "output_type": "stream",
     "text": [
      "Defaulting to user installation because normal site-packages is not writeable\n",
      "Requirement already satisfied: httpx in c:\\users\\pinteaa\\appdata\\roaming\\python\\python39\\site-packages (0.28.1)\n",
      "Requirement already satisfied: certifi in c:\\program files\\arcgis\\pro\\bin\\python\\envs\\arcgispro-py3\\lib\\site-packages (from httpx) (2021.10.8)\n",
      "Requirement already satisfied: idna in c:\\program files\\arcgis\\pro\\bin\\python\\envs\\arcgispro-py3\\lib\\site-packages (from httpx) (3.3)\n",
      "Requirement already satisfied: anyio in c:\\users\\pinteaa\\appdata\\roaming\\python\\python39\\site-packages (from httpx) (4.9.0)\n",
      "Requirement already satisfied: httpcore==1.* in c:\\users\\pinteaa\\appdata\\roaming\\python\\python39\\site-packages (from httpx) (1.0.7)\n",
      "Requirement already satisfied: h11<0.15,>=0.13 in c:\\users\\pinteaa\\appdata\\roaming\\python\\python39\\site-packages (from httpcore==1.*->httpx) (0.14.0)\n",
      "Requirement already satisfied: exceptiongroup>=1.0.2 in c:\\users\\pinteaa\\appdata\\roaming\\python\\python39\\site-packages (from anyio->httpx) (1.2.2)\n",
      "Requirement already satisfied: sniffio>=1.1 in c:\\users\\pinteaa\\appdata\\roaming\\python\\python39\\site-packages (from anyio->httpx) (1.3.1)\n",
      "Requirement already satisfied: typing_extensions>=4.5 in c:\\users\\pinteaa\\appdata\\roaming\\python\\python39\\site-packages (from anyio->httpx) (4.12.2)\n",
      "Defaulting to user installation because normal site-packages is not writeable\n",
      "Requirement already satisfied: demjson3 in c:\\users\\pinteaa\\appdata\\roaming\\python\\python39\\site-packages (3.0.6)\n"
     ]
    }
   ],
   "source": [
    "!pip3 install httpx\n",
    "import httpx\n",
    "!pip3 install demjson3\n",
    "from demjson3 import decode\n",
    "import json\n",
    "from IPython.display import clear_output"
   ]
  },
  {
   "cell_type": "code",
   "execution_count": 31,
   "metadata": {
    "id": "uL59Y_nRSTsb"
   },
   "outputs": [],
   "source": [
    "current_http_code = -1\n",
    "def get_scopus_citations(paper_pmid, apikey):\n",
    "    headers={ \"X-ELS-APIKey\":apikey, \"Accept\":'application/json' }\n",
    "    timeout = httpx.Timeout(100000.0, connect=600000.0)\n",
    "    client = httpx.Client(timeout=timeout,headers=headers)\n",
    "    query=\"&view=FULL\"\n",
    "    # THIS FUNCTIONS: https://api.elsevier.com/content/abstract/pubmed_id:22381459?apiKey=aa8e9c8989580dd7fb3f805ea5d42d65&view=REF\n",
    "    url = f'https://api.elsevier.com/content/abstract/pubmed_id:{paper_pmid}?apiKey={apikey}&view=REF'\n",
    "    r=client.get(url)\n",
    "    global current_http_code\n",
    "    current_http_code = r.status_code\n",
    "    return r"
   ]
  },
  {
   "cell_type": "code",
   "execution_count": 33,
   "metadata": {},
   "outputs": [
    {
     "name": "stdout",
     "output_type": "stream",
     "text": [
      "Computing article 5856 / 5856 ...\n",
      "\n",
      "Just got this citation json:\n",
      "{'scopus-id': '70349257714', 'scopus-eid': '2-s2.0-70349257714', 'pubmed': '19732543', 'citation': 'Rognas L.K., Christensen E.F., Sloth E., Bendtsen T.F. (2009) Pre-hospital ultrasound, Ugeskrift for Laeger'}\n"
     ]
    },
    {
     "name": "stderr",
     "output_type": "stream",
     "text": [
      "<ipython-input-33-a8faeb01075d>:72: SettingWithCopyWarning: \n",
      "A value is trying to be set on a copy of a slice from a DataFrame.\n",
      "Try using .loc[row_indexer,col_indexer] = value instead\n",
      "\n",
      "See the caveats in the documentation: https://pandas.pydata.org/pandas-docs/stable/user_guide/indexing.html#returning-a-view-versus-a-copy\n",
      "  df_empty[\"references\"] = df_empty.apply( get_article_scopus_references, axis=1 )\n"
     ]
    }
   ],
   "source": [
    "row_iter = 0\n",
    "total_articles = len(df_empty)\n",
    "def get_article_scopus_references(row):\n",
    "    global row_iter\n",
    "    global total_articles\n",
    "    global current_http_code\n",
    "    row_iter = row_iter + 1\n",
    "    print( \"https://api.elsevier.com/content/abstract/pubmed_id:\"+row[\"pmid\"]+\"?apiKey=\"+key+\"&view=REF\" )\n",
    "    citations = get_scopus_citations( row[\"pmid\"], key )\n",
    "    json_acceptable_string = citations.text\n",
    "    d = decode(json_acceptable_string)\n",
    "    if ( str(current_http_code) != \"200\" ):\n",
    "        return []\n",
    "    \n",
    "    print( d )\n",
    "    if \"abstracts-retrieval-response\" not in d or d[\"abstracts-retrieval-response\"] == None:\n",
    "        return []\n",
    "    if \"references\" not in d[\"abstracts-retrieval-response\"]:\n",
    "        return []\n",
    "    if \"reference\" not in d[\"abstracts-retrieval-response\"][\"references\"]:\n",
    "        return []\n",
    "\n",
    "    d = d[\"abstracts-retrieval-response\"][\"references\"][\"reference\"]\n",
    "    if ( d == None ):\n",
    "        return []\n",
    "    \n",
    "    if type(d) is not list:\n",
    "        d = [d]\n",
    "        \n",
    "    citation_jsons = []\n",
    "    for citation in d:\n",
    "        citation_json = {}\n",
    "        if \"ce:doi\" in citation:\n",
    "            citation_json[\"doi\"] = citation[\"ce:doi\"]\n",
    "        if \"scopus-id\" in citation:\n",
    "            citation_json[\"scopus-id\"] = citation[\"scopus-id\"]\n",
    "        if \"scopus-eid\" in citation:\n",
    "            citation_json[\"scopus-eid\"] = citation[\"scopus-eid\"]\n",
    "        if \"pubmed-id\" in citation:\n",
    "            citation_json[\"pubmed\"] = citation[\"pubmed-id\"]\n",
    "\n",
    "        formulated_citation = \"\"\n",
    "        if \"title\" in citation:\n",
    "            if ( citation[\"title\"] == None ):\n",
    "                continue\n",
    "\n",
    "        if \"author-list\" in citation:\n",
    "            if ( citation[\"author-list\"] != None ):\n",
    "                if \"author\" in citation[\"author-list\"]:\n",
    "                    if type(citation[\"author-list\"][\"author\"]) is list:\n",
    "                        for author in citation[\"author-list\"][\"author\"]:\n",
    "                            formulated_citation = formulated_citation + author[\"ce:indexed-name\"] + \", \"\n",
    "        formulated_citation = formulated_citation[:-2]\n",
    "        if \"prism:coverDate\" in citation:\n",
    "            if citation[\"prism:coverDate\"] != None:\n",
    "                formulated_citation = formulated_citation + \" (\" + citation[\"prism:coverDate\"][:4] + \") \"\n",
    "        if \"title\" in citation:\n",
    "            if citation[\"title\"] != None:\n",
    "                formulated_citation = formulated_citation + citation[\"title\"]\n",
    "        if \"sourcetitle\" in citation:\n",
    "            if citation[\"sourcetitle\"] != None:\n",
    "                formulated_citation = formulated_citation + \", \" + citation[\"sourcetitle\"]\n",
    "        if \"ce:doi\" in citation:\n",
    "            if citation[\"ce:doi\"] != None:\n",
    "                formulated_citation = formulated_citation + \" \" + str(citation[\"ce:doi\"])\n",
    "        citation_json[\"citation\"] = formulated_citation\n",
    "        clear_output(wait=True)\n",
    "        print( f'Computing article {row_iter} / {total_articles} ...\\n\\nJust got this citation json:\\n{citation_json}' )\n",
    "        citation_jsons.append( citation_json )\n",
    "    return citation_jsons\n",
    "\n",
    "df_empty[\"references\"] = df_empty.apply( get_article_scopus_references, axis=1 )"
   ]
  },
  {
   "cell_type": "code",
   "execution_count": 34,
   "metadata": {
    "id": "g41izUEfR1ay"
   },
   "outputs": [],
   "source": [
    "df_empty.to_csv(\"checkpoint_scopus_citations.csv\", index=False)"
   ]
  },
  {
   "cell_type": "code",
   "execution_count": 35,
   "metadata": {},
   "outputs": [
    {
     "data": {
      "text/html": [
       "<div>\n",
       "<style scoped>\n",
       "    .dataframe tbody tr th:only-of-type {\n",
       "        vertical-align: middle;\n",
       "    }\n",
       "\n",
       "    .dataframe tbody tr th {\n",
       "        vertical-align: top;\n",
       "    }\n",
       "\n",
       "    .dataframe thead th {\n",
       "        text-align: right;\n",
       "    }\n",
       "</style>\n",
       "<table border=\"1\" class=\"dataframe\">\n",
       "  <thead>\n",
       "    <tr style=\"text-align: right;\">\n",
       "      <th></th>\n",
       "      <th>abstract</th>\n",
       "      <th>authors</th>\n",
       "      <th>chemicals</th>\n",
       "      <th>citation</th>\n",
       "      <th>doi</th>\n",
       "      <th>history</th>\n",
       "      <th>issn</th>\n",
       "      <th>issue</th>\n",
       "      <th>journal</th>\n",
       "      <th>keywords</th>\n",
       "      <th>...</th>\n",
       "      <th>publication_types</th>\n",
       "      <th>title</th>\n",
       "      <th>url</th>\n",
       "      <th>volume</th>\n",
       "      <th>volume_issue</th>\n",
       "      <th>xml</th>\n",
       "      <th>year</th>\n",
       "      <th>author_first</th>\n",
       "      <th>references</th>\n",
       "      <th>issn_data</th>\n",
       "    </tr>\n",
       "  </thead>\n",
       "  <tbody>\n",
       "    <tr>\n",
       "      <th>count</th>\n",
       "      <td>5856</td>\n",
       "      <td>5856</td>\n",
       "      <td>5856</td>\n",
       "      <td>5856</td>\n",
       "      <td>5856</td>\n",
       "      <td>5856</td>\n",
       "      <td>5856</td>\n",
       "      <td>5856</td>\n",
       "      <td>5856</td>\n",
       "      <td>5856</td>\n",
       "      <td>...</td>\n",
       "      <td>5856</td>\n",
       "      <td>5856</td>\n",
       "      <td>5856</td>\n",
       "      <td>5856</td>\n",
       "      <td>5856</td>\n",
       "      <td>5856</td>\n",
       "      <td>5856</td>\n",
       "      <td>5856</td>\n",
       "      <td>5856</td>\n",
       "      <td>5856</td>\n",
       "    </tr>\n",
       "    <tr>\n",
       "      <th>unique</th>\n",
       "      <td>5854</td>\n",
       "      <td>5803</td>\n",
       "      <td>1244</td>\n",
       "      <td>5856</td>\n",
       "      <td>1896</td>\n",
       "      <td>3043</td>\n",
       "      <td>1105</td>\n",
       "      <td>241</td>\n",
       "      <td>1051</td>\n",
       "      <td>5708</td>\n",
       "      <td>...</td>\n",
       "      <td>170</td>\n",
       "      <td>5837</td>\n",
       "      <td>5856</td>\n",
       "      <td>292</td>\n",
       "      <td>2069</td>\n",
       "      <td>5856</td>\n",
       "      <td>43</td>\n",
       "      <td>5146</td>\n",
       "      <td>2855</td>\n",
       "      <td>1107</td>\n",
       "    </tr>\n",
       "    <tr>\n",
       "      <th>top</th>\n",
       "      <td>CURRENT DIAGNOSTIC METHODS: Helicobacter pylor...</td>\n",
       "      <td>[]</td>\n",
       "      <td>{}</td>\n",
       "      <td>Malbruny B, et al. Rapid and efficient detecti...</td>\n",
       "      <td>nan</td>\n",
       "      <td>{'pubmed': datetime.datetime(1995, 1, 1, 0, 0)...</td>\n",
       "      <td>0385-0684</td>\n",
       "      <td>3</td>\n",
       "      <td>Gan To Kagaku Ryoho</td>\n",
       "      <td>['injury']</td>\n",
       "      <td>...</td>\n",
       "      <td>{'D016428': 'Journal Article'}</td>\n",
       "      <td>[Diagnosis of Helicobacter pylori infection].</td>\n",
       "      <td>https://ncbi.nlm.nih.gov/pubmed/21396219</td>\n",
       "      <td>nan</td>\n",
       "      <td>nan</td>\n",
       "      <td>b'&lt;?xml version=\"1.0\" ?&gt;\\n&lt;!DOCTYPE PubmedArti...</td>\n",
       "      <td>1995</td>\n",
       "      <td>Gisbert JP</td>\n",
       "      <td>[]</td>\n",
       "      <td>{\"title proper\": \"gan to kagaku ry\\u014dh\\u014...</td>\n",
       "    </tr>\n",
       "    <tr>\n",
       "      <th>freq</th>\n",
       "      <td>2</td>\n",
       "      <td>8</td>\n",
       "      <td>3812</td>\n",
       "      <td>1</td>\n",
       "      <td>3961</td>\n",
       "      <td>58</td>\n",
       "      <td>235</td>\n",
       "      <td>725</td>\n",
       "      <td>235</td>\n",
       "      <td>10</td>\n",
       "      <td>...</td>\n",
       "      <td>1699</td>\n",
       "      <td>6</td>\n",
       "      <td>1</td>\n",
       "      <td>171</td>\n",
       "      <td>171</td>\n",
       "      <td>1</td>\n",
       "      <td>271</td>\n",
       "      <td>18</td>\n",
       "      <td>3001</td>\n",
       "      <td>235</td>\n",
       "    </tr>\n",
       "  </tbody>\n",
       "</table>\n",
       "<p>4 rows × 23 columns</p>\n",
       "</div>"
      ],
      "text/plain": [
       "                                                 abstract authors chemicals  \\\n",
       "count                                                5856    5856      5856   \n",
       "unique                                               5854    5803      1244   \n",
       "top     CURRENT DIAGNOSTIC METHODS: Helicobacter pylor...      []        {}   \n",
       "freq                                                    2       8      3812   \n",
       "\n",
       "                                                 citation   doi  \\\n",
       "count                                                5856  5856   \n",
       "unique                                               5856  1896   \n",
       "top     Malbruny B, et al. Rapid and efficient detecti...   nan   \n",
       "freq                                                    1  3961   \n",
       "\n",
       "                                                  history       issn issue  \\\n",
       "count                                                5856       5856  5856   \n",
       "unique                                               3043       1105   241   \n",
       "top     {'pubmed': datetime.datetime(1995, 1, 1, 0, 0)...  0385-0684     3   \n",
       "freq                                                   58        235   725   \n",
       "\n",
       "                    journal    keywords  ...               publication_types  \\\n",
       "count                  5856        5856  ...                            5856   \n",
       "unique                 1051        5708  ...                             170   \n",
       "top     Gan To Kagaku Ryoho  ['injury']  ...  {'D016428': 'Journal Article'}   \n",
       "freq                    235          10  ...                            1699   \n",
       "\n",
       "                                                title  \\\n",
       "count                                            5856   \n",
       "unique                                           5837   \n",
       "top     [Diagnosis of Helicobacter pylori infection].   \n",
       "freq                                                6   \n",
       "\n",
       "                                             url volume volume_issue  \\\n",
       "count                                       5856   5856         5856   \n",
       "unique                                      5856    292         2069   \n",
       "top     https://ncbi.nlm.nih.gov/pubmed/21396219    nan          nan   \n",
       "freq                                           1    171          171   \n",
       "\n",
       "                                                      xml  year author_first  \\\n",
       "count                                                5856  5856         5856   \n",
       "unique                                               5856    43         5146   \n",
       "top     b'<?xml version=\"1.0\" ?>\\n<!DOCTYPE PubmedArti...  1995   Gisbert JP   \n",
       "freq                                                    1   271           18   \n",
       "\n",
       "       references                                          issn_data  \n",
       "count        5856                                               5856  \n",
       "unique       2855                                               1107  \n",
       "top            []  {\"title proper\": \"gan to kagaku ry\\u014dh\\u014...  \n",
       "freq         3001                                                235  \n",
       "\n",
       "[4 rows x 23 columns]"
      ]
     },
     "execution_count": 35,
     "metadata": {},
     "output_type": "execute_result"
    }
   ],
   "source": [
    "df_empty.describe()"
   ]
  },
  {
   "cell_type": "code",
   "execution_count": null,
   "metadata": {},
   "outputs": [],
   "source": []
  }
 ],
 "metadata": {
  "colab": {
   "provenance": []
  },
  "kernelspec": {
   "display_name": "Python 3",
   "language": "python",
   "name": "python3"
  },
  "language_info": {
   "codemirror_mode": {
    "name": "ipython",
    "version": 3
   },
   "file_extension": ".py",
   "mimetype": "text/x-python",
   "name": "python",
   "nbconvert_exporter": "python",
   "pygments_lexer": "ipython3",
   "version": "3.12.3"
  }
 },
 "nbformat": 4,
 "nbformat_minor": 4
}
